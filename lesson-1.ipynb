{
 "cells": [
  {
   "cell_type": "markdown",
   "id": "07280c7d-fc5c-433a-a5e2-91c1ae0f1551",
   "metadata": {
    "slideshow": {
     "slide_type": "slide"
    },
    "tags": []
   },
   "source": [
    "# Lesson 1: Python"
   ]
  },
  {
   "cell_type": "markdown",
   "id": "df048f3e-5433-4264-ae95-d9009fd1c46a",
   "metadata": {
    "slideshow": {
     "slide_type": "slide"
    },
    "tags": []
   },
   "source": [
    "Python is a nice programming language. A lot of people are using it.\n",
    "\n",
    "<br><br><br>"
   ]
  },
  {
   "cell_type": "markdown",
   "id": "574c4cc9-be42-4f71-bf27-2fa67f11fe71",
   "metadata": {
    "slideshow": {
     "slide_type": "fragment"
    },
    "tags": []
   },
   "source": [
    "Of those two sentences, the second is the most important.\n",
    "\n",
    "<br><br><br>"
   ]
  },
  {
   "cell_type": "markdown",
   "id": "af6fc413-e1fe-4ebf-ab47-594500e0a343",
   "metadata": {
    "slideshow": {
     "slide_type": "fragment"
    },
    "tags": []
   },
   "source": [
    "Not only is Python the most popular programming language overall...\n",
    "\n",
    "<br><br><br>"
   ]
  },
  {
   "cell_type": "markdown",
   "id": "477bbdf2-cffd-4196-8477-1e63fdd5d461",
   "metadata": {
    "@deathbeds/jupyterlab-fonts": {
     "styles": {
      "": {
       "body[data-jp-deck-mode='presenting'] &": {
        "height": "37.97752808988764%",
        "left": "38.09070732416154%",
        "position": "fixed",
        "top": "9.907537738928635%",
        "width": "29.40221695992146%"
       }
      }
     }
    },
    "slideshow": {
     "slide_type": "fragment"
    },
    "tags": []
   },
   "source": [
    "<img src=\"img/python-rankings-tiobe-2022.png\" style=\"height: 200pt;\">"
   ]
  },
  {
   "cell_type": "markdown",
   "id": "04a9c1cf-9bf9-4c17-95b1-67a7d097631b",
   "metadata": {
    "@deathbeds/jupyterlab-fonts": {
     "styles": {
      "": {
       "body[data-jp-deck-mode='presenting'] &": {
        "height": "37.0774824163887%",
        "left": "69.28700925875073%",
        "position": "fixed",
        "top": "10.628511235955056%",
        "width": "30.09055908060102%"
       }
      }
     }
    },
    "tags": []
   },
   "source": [
    "<img src=\"img/python-rankings-stackoverflow-2022.png\" style=\"height: 200pt;\">"
   ]
  },
  {
   "cell_type": "markdown",
   "id": "d72902f0-63d0-4734-b812-cb7316649349",
   "metadata": {
    "@deathbeds/jupyterlab-fonts": {
     "styles": {
      "": {
       "body[data-jp-deck-mode='presenting'] &": {
        "height": "43.258426966292134%",
        "left": "37.21441124780316%",
        "position": "fixed",
        "top": "44.95435393258427%",
        "width": "30.432901231601495%"
       }
      }
     }
    },
    "tags": []
   },
   "source": [
    "<img src=\"img/python-rankings-pypl-2022.png\" style=\"height: 200pt;\">"
   ]
  },
  {
   "cell_type": "markdown",
   "id": "55b5e32b-0495-4b85-97b8-8c90238bbe9d",
   "metadata": {
    "@deathbeds/jupyterlab-fonts": {
     "styles": {
      "": {
       "body[data-jp-deck-mode='presenting'] &": {
        "height": "42.13483146067416%",
        "left": "69.28273286467487%",
        "position": "fixed",
        "top": "44.89817415730337%",
        "width": "27.73811326923605%"
       }
      }
     }
    },
    "tags": []
   },
   "source": [
    "<img src=\"img/python-rankings-githut-2022.png\" style=\"height: 200pt;\">"
   ]
  },
  {
   "cell_type": "markdown",
   "id": "3cbab25c-f728-4eee-b3a5-3e7d8b3bdf61",
   "metadata": {
    "slideshow": {
     "slide_type": "slide"
    },
    "tags": []
   },
   "source": [
    "...but it's also the most widely used for data analysis and machine learning.\n",
    "\n",
    "<br><br><br>"
   ]
  },
  {
   "cell_type": "markdown",
   "id": "0d7ab0b9-0bcc-418b-b00d-e7318657a662",
   "metadata": {
    "@deathbeds/jupyterlab-fonts": {
     "styles": {
      "": {
       "body[data-jp-deck-mode='presenting'] &": {
        "height": "66.14232438333919%",
        "left": "45.891915641476274%",
        "position": "fixed",
        "top": "13.857678188366837%",
        "width": "48.4347539543058%"
       }
      }
     }
    },
    "tags": []
   },
   "source": [
    "<img src=\"img/analytics-by-language.svg\" style=\"height: 400pt;\">"
   ]
  },
  {
   "cell_type": "markdown",
   "id": "9a738a0f-59da-4a74-a7cd-d8e2223312dc",
   "metadata": {
    "slideshow": {
     "slide_type": "slide"
    },
    "tags": []
   },
   "source": [
    "Being popular means that a lot of common tasks have already been automated. Many useful tools already work together.\n",
    "\n",
    "<br><br><br>"
   ]
  },
  {
   "cell_type": "markdown",
   "id": "077e7127-1193-430d-a0a7-8263cbd99091",
   "metadata": {
    "slideshow": {
     "slide_type": "fragment"
    },
    "tags": []
   },
   "source": [
    "In these lessons, we'll be using Python a lot, so the first part is an overview/review of Python syntax.\n",
    "\n",
    "<br><br><br>"
   ]
  },
  {
   "cell_type": "markdown",
   "id": "99b6dd7e-7bee-4bf5-bc03-dfdbb8e38702",
   "metadata": {
    "slideshow": {
     "slide_type": "fragment"
    },
    "tags": []
   },
   "source": [
    "For fun, I'll incorporate data analysis examples.\n",
    "\n",
    "<br><br><br>"
   ]
  },
  {
   "cell_type": "markdown",
   "id": "cbbda232-d870-4a0c-8779-48279473a7d9",
   "metadata": {
    "slideshow": {
     "slide_type": "slide"
    },
    "tags": []
   },
   "source": [
    "## Navigation in Jupyter"
   ]
  },
  {
   "cell_type": "markdown",
   "id": "b9bc8f1b-fc10-4db5-b321-7b7a9dec82c5",
   "metadata": {
    "slideshow": {
     "slide_type": "fragment"
    },
    "tags": []
   },
   "source": [
    "You don't need to use this \"slide mode\" that I'm using.\n",
    "\n",
    "<br><br><br>"
   ]
  },
  {
   "cell_type": "markdown",
   "id": "0cda0a7e-41ce-4712-94a6-a05e497f9071",
   "metadata": {
    "slideshow": {
     "slide_type": "fragment"
    },
    "tags": []
   },
   "source": [
    "In the ordinary notebook view,\n",
    "\n",
    " 1. Click on a code cell to edit it.\n",
    " 2. Control-enter to run it.\n",
    " 3. Shift-enter to run it and move on to the next cell.\n",
    "\n",
    "But be sure to evaluate all code cells so that you're not missing any data.\n",
    "\n",
    "If you need to refresh your notebook's state, use Kernel → Restart Kernel and Run up to Selected Cell."
   ]
  },
  {
   "cell_type": "markdown",
   "id": "71ebeb21-52d4-4055-8db4-dbb05237b925",
   "metadata": {
    "slideshow": {
     "slide_type": "slide"
    },
    "tags": []
   },
   "source": [
    "## Tour of Python syntax"
   ]
  },
  {
   "cell_type": "markdown",
   "id": "32e9c93b-2150-476e-9c0a-71fa8501d4b8",
   "metadata": {},
   "source": []
  }
 ],
 "metadata": {
  "kernelspec": {
   "display_name": "Python 3 (ipykernel)",
   "language": "python",
   "name": "python3"
  },
  "language_info": {
   "codemirror_mode": {
    "name": "ipython",
    "version": 3
   },
   "file_extension": ".py",
   "mimetype": "text/x-python",
   "name": "python",
   "nbconvert_exporter": "python",
   "pygments_lexer": "ipython3",
   "version": "3.9.15"
  }
 },
 "nbformat": 4,
 "nbformat_minor": 5
}
