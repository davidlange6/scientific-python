{
 "cells": [
  {
   "cell_type": "markdown",
   "id": "07280c7d-fc5c-433a-a5e2-91c1ae0f1551",
   "metadata": {
    "slideshow": {
     "slide_type": "slide"
    },
    "tags": []
   },
   "source": [
    "# Lesson 1: Python"
   ]
  },
  {
   "cell_type": "markdown",
   "id": "cae0a23c-b244-42b3-8e40-d5ba4c8f8214",
   "metadata": {
    "slideshow": {
     "slide_type": "slide"
    },
    "tags": []
   },
   "source": [
    "<br><br><br>\n",
    "\n",
    "Welcome to the HSF-India training event!\n",
    "\n",
    "<br><br><br>"
   ]
  },
  {
   "cell_type": "markdown",
   "id": "5b1d964e-25e1-4fe8-9f19-b74b2dd48296",
   "metadata": {
    "slideshow": {
     "slide_type": "fragment"
    },
    "tags": []
   },
   "source": [
    "<br><br><br>\n",
    "\n",
    "I'm Jim; I'll be presenting the first lessons today and tomorrow on Scientific Python.\n",
    "\n",
    "<br><br><br>"
   ]
  },
  {
   "cell_type": "markdown",
   "id": "cba68344-71fd-4b79-8418-30275c9bef2f",
   "metadata": {
    "slideshow": {
     "slide_type": "slide"
    },
    "tags": []
   },
   "source": [
    "In many ways of measuring it, Python is now the most popular programming language.\n",
    "\n",
    "<br><br><br>"
   ]
  },
  {
   "cell_type": "markdown",
   "id": "4557314f-19a9-4640-b275-852afaf3fb10",
   "metadata": {},
   "source": [
    "<table width=\"75%\">\n",
    "    <tr style=\"background: white;\">\n",
    "        <td width=\"100%\"><img src=\"img/python-rankings-tiobe-2022.png\" width=\"100%\"></td>\n",
    "        <td width=\"100%\"><img src=\"img/python-rankings-pypl-2022.png\" width=\"100%\"></td>\n",
    "    </tr>\n",
    "    <tr style=\"background: white;\">\n",
    "        <td width=\"100%\"><img src=\"img/python-rankings-stackoverflow-2022.png\" width=\"100%\"></td>\n",
    "        <td width=\"100%\"><img src=\"img/python-rankings-githut-2022.png\" width=\"100%\"></td>\n",
    "    </tr>\n",
    "</table>"
   ]
  },
  {
   "cell_type": "markdown",
   "id": "a8d53120-0d82-4a45-b803-8ade760ba9ff",
   "metadata": {
    "slideshow": {
     "slide_type": "slide"
    },
    "tags": []
   },
   "source": [
    "Most importantly, it is the most widely used language for data analysis and machine learning.\n",
    "\n",
    "<br><br><br>"
   ]
  },
  {
   "cell_type": "markdown",
   "id": "ccac56b6-1875-474d-978e-b8accc0f741e",
   "metadata": {},
   "source": [
    "<center>\n",
    "<img src=\"img/analytics-by-language.svg\" width=\"50%\">\n",
    "</center>"
   ]
  },
  {
   "cell_type": "markdown",
   "id": "2abf9fb7-a9d2-46ea-8166-76c60290d17b",
   "metadata": {
    "slideshow": {
     "slide_type": "slide"
    },
    "tags": []
   },
   "source": [
    "\"Popularity\" means more tools are available, more attention has been drawn to their shortcomings, and you can find more information about how to use them online.\n",
    "\n",
    "<br><br><br>"
   ]
  },
  {
   "cell_type": "markdown",
   "id": "e05f1c19-1941-4e26-aad9-6e025349c742",
   "metadata": {
    "slideshow": {
     "slide_type": "fragment"
    },
    "tags": []
   },
   "source": [
    "It also means that Python skills are transferable skills.\n",
    "\n",
    "<br><br><br>"
   ]
  },
  {
   "cell_type": "markdown",
   "id": "4b0878c0-7ffb-465e-97b3-acd316411902",
   "metadata": {
    "slideshow": {
     "slide_type": "fragment"
    },
    "tags": []
   },
   "source": [
    "This first lesson is a tour (possibly review) of Python syntax, using physics data analysis as examples."
   ]
  },
  {
   "cell_type": "markdown",
   "id": "cbbda232-d870-4a0c-8779-48279473a7d9",
   "metadata": {
    "slideshow": {
     "slide_type": "slide"
    },
    "tags": []
   },
   "source": [
    "## Navigation in Jupyter"
   ]
  },
  {
   "cell_type": "markdown",
   "id": "b9bc8f1b-fc10-4db5-b321-7b7a9dec82c5",
   "metadata": {
    "slideshow": {
     "slide_type": "fragment"
    },
    "tags": []
   },
   "source": [
    "<br><br>\n",
    "\n",
    "You don't need to use this \"slide mode\" that I'm using.\n",
    "\n",
    "<br><br>"
   ]
  },
  {
   "cell_type": "markdown",
   "id": "328b1c82-5c3c-47ed-a06c-3cdb66fd2d6c",
   "metadata": {
    "slideshow": {
     "slide_type": "fragment"
    },
    "tags": []
   },
   "source": [
    "In the ordinary notebook view,\n",
    "\n",
    " 1. Click on a code cell to edit it.\n",
    " 2. Control-enter to run it.\n",
    " 3. Shift-enter to run it and move on to the next cell.\n",
    "\n",
    "But be sure to evaluate all code cells so that you're not missing any data.\n",
    "\n",
    "<br><br><br>"
   ]
  },
  {
   "cell_type": "markdown",
   "id": "7816cd37-250f-4b5f-85e6-52dd730d410c",
   "metadata": {
    "slideshow": {
     "slide_type": "fragment"
    },
    "tags": []
   },
   "source": [
    "If you need to refresh your notebook's state, use the **Kernel → Restart Kernel and Run up to Selected Cell** menu item."
   ]
  },
  {
   "cell_type": "markdown",
   "id": "71ebeb21-52d4-4055-8db4-dbb05237b925",
   "metadata": {
    "slideshow": {
     "slide_type": "slide"
    },
    "tags": []
   },
   "source": [
    "## Tour of Python syntax"
   ]
  },
  {
   "cell_type": "markdown",
   "id": "32e9c93b-2150-476e-9c0a-71fa8501d4b8",
   "metadata": {
    "slideshow": {
     "slide_type": "slide"
    },
    "tags": []
   },
   "source": [
    "### Using Python as a desk calculator"
   ]
  },
  {
   "cell_type": "code",
   "execution_count": 1,
   "id": "876ded45-d1b3-4351-b561-fe2d806de75f",
   "metadata": {
    "slideshow": {
     "slide_type": "fragment"
    },
    "tags": []
   },
   "outputs": [
    {
     "data": {
      "text/plain": [
       "4"
      ]
     },
     "execution_count": 1,
     "metadata": {},
     "output_type": "execute_result"
    }
   ],
   "source": [
    "2 + 2"
   ]
  },
  {
   "cell_type": "markdown",
   "id": "d65208ec-8f36-4c7d-a0e7-54f9e7382ac1",
   "metadata": {
    "slideshow": {
     "slide_type": "fragment"
    },
    "tags": []
   },
   "source": [
    "<br><br><br>\n",
    "\n",
    "Defining variables"
   ]
  },
  {
   "cell_type": "code",
   "execution_count": 2,
   "id": "d8e54b6a-5700-43a4-89fb-0ae1783b1341",
   "metadata": {
    "tags": []
   },
   "outputs": [],
   "source": [
    "E = 68.1289790\n",
    "px = -17.945541\n",
    "py = 13.1652603\n",
    "pz = 64.3908386"
   ]
  },
  {
   "cell_type": "markdown",
   "id": "e7684a6d-c704-48e2-ade9-3b8b2d58f23e",
   "metadata": {
    "slideshow": {
     "slide_type": "fragment"
    },
    "tags": []
   },
   "source": [
    "<br><br><br>\n",
    "\n",
    "Now we can use `E`, `px`, `py`, `pz`:"
   ]
  },
  {
   "cell_type": "code",
   "execution_count": 3,
   "id": "632ffc80-9fdc-404c-bee7-5bc533e3e343",
   "metadata": {
    "tags": []
   },
   "outputs": [
    {
     "data": {
      "text/plain": [
       "-17.945541"
      ]
     },
     "execution_count": 3,
     "metadata": {},
     "output_type": "execute_result"
    }
   ],
   "source": [
    "px"
   ]
  },
  {
   "cell_type": "markdown",
   "id": "25d46f7a-54fd-42d1-9e7d-c66464cbacee",
   "metadata": {
    "slideshow": {
     "slide_type": "slide"
    },
    "tags": []
   },
   "source": [
    "<br><br><br>\n",
    "\n",
    "Calculate ${p_x}^2 + {p_y}^2$:"
   ]
  },
  {
   "cell_type": "code",
   "execution_count": 4,
   "id": "68fef62a-f2c3-458e-83ef-75c8831c7980",
   "metadata": {
    "tags": []
   },
   "outputs": [
    {
     "data": {
      "text/plain": [
       "495.36652054943704"
      ]
     },
     "execution_count": 4,
     "metadata": {},
     "output_type": "execute_result"
    }
   ],
   "source": [
    "px**2 + py**2"
   ]
  },
  {
   "cell_type": "markdown",
   "id": "a5f6a379-9b2a-4e56-8371-564ddae06cd6",
   "metadata": {
    "slideshow": {
     "slide_type": "fragment"
    },
    "tags": []
   },
   "source": [
    "<br><br><br>\n",
    "\n",
    "Now $\\displaystyle \\sqrt{{p_x}^2 + {p_y}^2 + {p_z}^2}$:"
   ]
  },
  {
   "cell_type": "code",
   "execution_count": 5,
   "id": "c76ea7f5-d813-44c9-ba91-5e332cb27da0",
   "metadata": {
    "tags": []
   },
   "outputs": [
    {
     "data": {
      "text/plain": [
       "68.12889707136529"
      ]
     },
     "execution_count": 5,
     "metadata": {},
     "output_type": "execute_result"
    }
   ],
   "source": [
    "(px**2 + py**2 + pz**2)**(1/2)"
   ]
  },
  {
   "cell_type": "markdown",
   "id": "086d7d54-52d1-49cd-a1d0-998a8fffda98",
   "metadata": {
    "slideshow": {
     "slide_type": "slide"
    },
    "tags": []
   },
   "source": [
    "We'll be using these equations a lot:"
   ]
  },
  {
   "cell_type": "markdown",
   "id": "c4f0e003-333b-455d-b6e4-d5265a4d249d",
   "metadata": {},
   "source": [
    "$\\displaystyle p = \\sqrt{{p_x}^2 + {p_y}^2 + {p_z}^2}$"
   ]
  },
  {
   "cell_type": "markdown",
   "id": "29b88c4a-8ee7-4a9f-a695-bf90c10cac2b",
   "metadata": {},
   "source": [
    "$\\displaystyle m = \\sqrt{E^2 - p^2}$"
   ]
  },
  {
   "cell_type": "markdown",
   "id": "c92537f0-ea9e-464c-bebc-c92aa6ef7c1b",
   "metadata": {
    "slideshow": {
     "slide_type": "fragment"
    },
    "tags": []
   },
   "source": [
    "**Quizlet:** fix the mistake!"
   ]
  },
  {
   "cell_type": "code",
   "execution_count": 6,
   "id": "11628019-a8e5-4dca-a55c-77c9fdc01ba9",
   "metadata": {
    "tags": []
   },
   "outputs": [
    {
     "data": {
      "text/plain": [
       "92.94632597460625"
      ]
     },
     "execution_count": 6,
     "metadata": {},
     "output_type": "execute_result"
    }
   ],
   "source": [
    "m = (E**2 - px**2 + py**2 + pz**2)**(1/2)\n",
    "m"
   ]
  },
  {
   "cell_type": "markdown",
   "id": "daedb9b8-bcd3-4a6c-a367-2c410624178e",
   "metadata": {
    "slideshow": {
     "slide_type": "slide"
    },
    "tags": []
   },
   "source": [
    "### Functions"
   ]
  },
  {
   "cell_type": "code",
   "execution_count": null,
   "id": "d1995d5a-0d50-48f2-9bba-543ada83536f",
   "metadata": {},
   "outputs": [],
   "source": []
  }
 ],
 "metadata": {
  "kernelspec": {
   "display_name": "Python 3 (ipykernel)",
   "language": "python",
   "name": "python3"
  },
  "language_info": {
   "codemirror_mode": {
    "name": "ipython",
    "version": 3
   },
   "file_extension": ".py",
   "mimetype": "text/x-python",
   "name": "python",
   "nbconvert_exporter": "python",
   "pygments_lexer": "ipython3",
   "version": "3.10.8"
  }
 },
 "nbformat": 4,
 "nbformat_minor": 5
}
