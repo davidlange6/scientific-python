{
 "cells": [
  {
   "cell_type": "markdown",
   "id": "843b6c39-4cd8-4249-b51c-f77bea855ae4",
   "metadata": {},
   "source": [
    "# Exercise 3: Higgs → ZZ → 4 electrons with Awkward Arrays"
   ]
  },
  {
   "cell_type": "code",
   "execution_count": 1,
   "id": "3d3e9d3e-58d0-4117-a5f8-e9e416eaa051",
   "metadata": {
    "tags": []
   },
   "outputs": [],
   "source": [
    "import matplotlib.pyplot as plt\n",
    "import numpy as np\n",
    "import awkward as ak\n",
    "import vector\n",
    "vector.register_awkward()"
   ]
  },
  {
   "cell_type": "code",
   "execution_count": 3,
   "id": "bb869bad-eab3-4573-8801-47f88d459987",
   "metadata": {
    "tags": []
   },
   "outputs": [],
   "source": [
    "events = ak.from_parquet(\"data/SMHiggsToZZTo4L.parquet\")"
   ]
  },
  {
   "cell_type": "code",
   "execution_count": null,
   "id": "7913e169-bb8b-4956-941b-72b542af32c4",
   "metadata": {},
   "outputs": [],
   "source": []
  }
 ],
 "metadata": {
  "kernelspec": {
   "display_name": "Python 3 (ipykernel)",
   "language": "python",
   "name": "python3"
  },
  "language_info": {
   "codemirror_mode": {
    "name": "ipython",
    "version": 3
   },
   "file_extension": ".py",
   "mimetype": "text/x-python",
   "name": "python",
   "nbconvert_exporter": "python",
   "pygments_lexer": "ipython3",
   "version": "3.9.15"
  }
 },
 "nbformat": 4,
 "nbformat_minor": 5
}
