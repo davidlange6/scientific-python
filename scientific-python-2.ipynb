{
 "cells": [
  {
   "cell_type": "markdown",
   "id": "e961e81e-cce9-43f5-b63d-c57c110676f6",
   "metadata": {},
   "source": [
    "# Scientific Python: part 2"
   ]
  },
  {
   "cell_type": "markdown",
   "id": "861f096f-a28f-46e0-99d9-326fe0005b50",
   "metadata": {},
   "source": [
    "<br><br><br>\n",
    "\n",
    "**The cost of convenience**\n",
    "\n",
    "<br><br><br>"
   ]
  },
  {
   "cell_type": "markdown",
   "id": "85961295-de9b-409c-b8e0-89e62e775c5a",
   "metadata": {},
   "source": [
    "The main performance distinction among languages is compiled versus dynamic, and Python is one of the dynamic languages.\n",
    "\n",
    "<center>\n",
    "<img src=\"img/benchmark-games-2023.svg\" width=\"1000pt\">\n",
    "</center>"
   ]
  },
  {
   "cell_type": "markdown",
   "id": "09c730d3-d5fd-49e2-93c7-cfd31018a270",
   "metadata": {},
   "source": [
    "## Performance characteristics of Python"
   ]
  },
  {
   "cell_type": "markdown",
   "id": "4970323a-6383-48f6-920f-f3de4b96b051",
   "metadata": {},
   "source": [
    "Reload the Higgs dataset and get one list of numbers."
   ]
  },
  {
   "cell_type": "code",
   "execution_count": 1,
   "id": "0417856f-7e41-4639-ab63-ddffb45f5696",
   "metadata": {
    "tags": []
   },
   "outputs": [],
   "source": [
    "import json"
   ]
  },
  {
   "cell_type": "code",
   "execution_count": 3,
   "id": "d8c37903-ed46-4258-a455-05849b534dca",
   "metadata": {
    "tags": []
   },
   "outputs": [],
   "source": [
    "dataset_python = json.load(open(\"data/SMHiggsToZZTo4L.json\"))"
   ]
  },
  {
   "cell_type": "code",
   "execution_count": 4,
   "id": "1b45fa5e-33b9-4cb2-a82f-12d9b0b9c1e5",
   "metadata": {
    "tags": []
   },
   "outputs": [],
   "source": [
    "pt_python = []\n",
    "for event in dataset_python:\n",
    "    for electron in event[\"electron\"]:\n",
    "        pt_python.append(electron[\"pt\"])\n",
    "    for muon in event[\"muon\"]:\n",
    "        pt_python.append(muon[\"pt\"])"
   ]
  },
  {
   "cell_type": "code",
   "execution_count": 10,
   "id": "d4d8f718-615d-44b0-9818-783aeba6c111",
   "metadata": {
    "tags": []
   },
   "outputs": [
    {
     "data": {
      "text/plain": [
       "[63.04386901855469, 38.12034606933594, 4.04868745803833, 21.902679443359375]"
      ]
     },
     "execution_count": 10,
     "metadata": {},
     "output_type": "execute_result"
    }
   ],
   "source": [
    "pt_python[:4]"
   ]
  },
  {
   "cell_type": "code",
   "execution_count": 5,
   "id": "019a0031-3480-4c8f-b37c-e5cc7a02f476",
   "metadata": {
    "tags": []
   },
   "outputs": [
    {
     "data": {
      "text/plain": [
       "28809"
      ]
     },
     "execution_count": 5,
     "metadata": {},
     "output_type": "execute_result"
    }
   ],
   "source": [
    "len(pt_python)"
   ]
  },
  {
   "cell_type": "markdown",
   "id": "bd6eedbc-8309-4440-8e5e-55133c71b0a4",
   "metadata": {},
   "source": [
    "How much memory is it using?"
   ]
  },
  {
   "cell_type": "code",
   "execution_count": 6,
   "id": "803ccd50-95e2-4ed2-825d-f8e7cdb22718",
   "metadata": {
    "tags": []
   },
   "outputs": [],
   "source": [
    "import sys"
   ]
  },
  {
   "cell_type": "code",
   "execution_count": 18,
   "id": "7712d7dd-c05f-447b-ac90-71fe2ea67d0d",
   "metadata": {
    "tags": []
   },
   "outputs": [
    {
     "data": {
      "text/plain": [
       "937904"
      ]
     },
     "execution_count": 18,
     "metadata": {},
     "output_type": "execute_result"
    }
   ],
   "source": [
    "num_bytes = 0\n",
    "\n",
    "num_bytes += sys.getsizeof(pt_python)\n",
    "\n",
    "for x in pt_python:\n",
    "    num_bytes += sys.getsizeof(x)\n",
    "    \n",
    "num_bytes"
   ]
  },
  {
   "cell_type": "markdown",
   "id": "48c6a182-a9e4-4704-a20f-889997070a7c",
   "metadata": {},
   "source": [
    "How many bytes per value? More than 8?"
   ]
  },
  {
   "cell_type": "code",
   "execution_count": 19,
   "id": "4affa30f-8faf-4862-a997-14f3be9f4f50",
   "metadata": {
    "tags": []
   },
   "outputs": [
    {
     "data": {
      "text/plain": [
       "32.55593738067965"
      ]
     },
     "execution_count": 19,
     "metadata": {},
     "output_type": "execute_result"
    }
   ],
   "source": [
    "num_bytes / len(pt_python)"
   ]
  },
  {
   "cell_type": "markdown",
   "id": "32799d1d-37ef-47eb-ae63-428cd6fac22f",
   "metadata": {},
   "source": [
    "Get the same data as an array."
   ]
  },
  {
   "cell_type": "code",
   "execution_count": 20,
   "id": "5cfa086d-ab89-4952-b638-467a5d6d2814",
   "metadata": {
    "tags": []
   },
   "outputs": [],
   "source": [
    "import h5py"
   ]
  },
  {
   "cell_type": "code",
   "execution_count": 21,
   "id": "76f91f53-0530-4731-a5ac-ddbf44b29b4d",
   "metadata": {
    "tags": []
   },
   "outputs": [],
   "source": [
    "dataset_hdf5 = h5py.File(\"data/SMHiggsToZZTo4L.h5\")"
   ]
  },
  {
   "cell_type": "code",
   "execution_count": 22,
   "id": "eda61a28-2005-49d6-a131-b3c969b02977",
   "metadata": {
    "tags": []
   },
   "outputs": [],
   "source": [
    "pt_numpy = dataset_hdf5[\"particles\"][\"pt\"][:]"
   ]
  },
  {
   "cell_type": "code",
   "execution_count": 23,
   "id": "bacbf7fa-1b7d-46e9-8bb4-e77d15b84c96",
   "metadata": {
    "tags": []
   },
   "outputs": [
    {
     "data": {
      "text/plain": [
       "array([63.04387  , 38.120346 ,  4.0486875, ..., 60.098644 ,  3.7663147,\n",
       "       21.205685 ], dtype=float32)"
      ]
     },
     "execution_count": 23,
     "metadata": {},
     "output_type": "execute_result"
    }
   ],
   "source": [
    "pt_numpy"
   ]
  },
  {
   "cell_type": "code",
   "execution_count": 27,
   "id": "e1d4a9a8-2577-4aae-b0f8-1b0147b47c6e",
   "metadata": {
    "tags": []
   },
   "outputs": [
    {
     "data": {
      "text/plain": [
       "4.003887673990767"
      ]
     },
     "execution_count": 27,
     "metadata": {},
     "output_type": "execute_result"
    }
   ],
   "source": [
    "sys.getsizeof(pt_numpy) / len(pt_numpy)"
   ]
  },
  {
   "cell_type": "markdown",
   "id": "b7b92bca-5f8b-4be7-b155-f5b6463be15f",
   "metadata": {},
   "source": [
    "<center>\n",
    "<img src=\"img/python-list-layout.svg\" width=\"800pt\">\n",
    "</center>"
   ]
  },
  {
   "cell_type": "markdown",
   "id": "4338958c-77ec-4dd0-b34e-55b973ca2ef0",
   "metadata": {},
   "source": [
    "<center>\n",
    "<img src=\"img/python-array-layout.svg\" width=\"800pt\">\n",
    "</center>"
   ]
  },
  {
   "cell_type": "code",
   "execution_count": null,
   "id": "470f3976-3800-4d5e-b09a-0dc35ef5bd36",
   "metadata": {},
   "outputs": [],
   "source": []
  }
 ],
 "metadata": {
  "kernelspec": {
   "display_name": "Python 3 (ipykernel)",
   "language": "python",
   "name": "python3"
  },
  "language_info": {
   "codemirror_mode": {
    "name": "ipython",
    "version": 3
   },
   "file_extension": ".py",
   "mimetype": "text/x-python",
   "name": "python",
   "nbconvert_exporter": "python",
   "pygments_lexer": "ipython3",
   "version": "3.9.15"
  }
 },
 "nbformat": 4,
 "nbformat_minor": 5
}
