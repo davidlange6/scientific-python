{
 "cells": [
  {
   "cell_type": "markdown",
   "id": "e961e81e-cce9-43f5-b63d-c57c110676f6",
   "metadata": {},
   "source": [
    "# Scientific Python: part 2"
   ]
  },
  {
   "cell_type": "markdown",
   "id": "861f096f-a28f-46e0-99d9-326fe0005b50",
   "metadata": {},
   "source": []
  }
 ],
 "metadata": {
  "kernelspec": {
   "display_name": "Python 3 (ipykernel)",
   "language": "python",
   "name": "python3"
  },
  "language_info": {
   "codemirror_mode": {
    "name": "ipython",
    "version": 3
   },
   "file_extension": ".py",
   "mimetype": "text/x-python",
   "name": "python",
   "nbconvert_exporter": "python",
   "pygments_lexer": "ipython3",
   "version": "3.9.15"
  }
 },
 "nbformat": 4,
 "nbformat_minor": 5
}
