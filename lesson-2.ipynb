{
 "cells": [
  {
   "cell_type": "markdown",
   "id": "e961e81e-cce9-43f5-b63d-c57c110676f6",
   "metadata": {
    "slideshow": {
     "slide_type": "slide"
    },
    "tags": []
   },
   "source": [
    "# Lesson 2: Number Crunching in Python"
   ]
  },
  {
   "cell_type": "markdown",
   "id": "05b0b9a5-ee8c-4f34-901e-7912086b854c",
   "metadata": {
    "slideshow": {
     "slide_type": "slide"
    },
    "tags": []
   },
   "source": [
    "There are two types of languages, and Python is one of the slow ones.\n",
    "\n",
    "<br>"
   ]
  },
  {
   "cell_type": "markdown",
   "id": "fba14376-48e9-459d-a632-fd812a051986",
   "metadata": {},
   "source": [
    "<center>\n",
    "<img src=\"img/benchmark-games-2023.svg\" width=\"75%\">\n",
    "</center>"
   ]
  },
  {
   "cell_type": "markdown",
   "id": "634a653e-4f48-46e5-a43f-7f6ab95034e7",
   "metadata": {
    "slideshow": {
     "slide_type": "slide"
    },
    "tags": []
   },
   "source": [
    "That is, it was designed with convenience in mind, rather than speed."
   ]
  },
  {
   "cell_type": "markdown",
   "id": "b5cbeb2e-f8aa-48e1-a5a2-794708e14fa2",
   "metadata": {
    "slideshow": {
     "slide_type": "fragment"
    },
    "tags": []
   },
   "source": [
    "<br><br>\n",
    "\n",
    "Data analysis frequently involves calculations on large datasets. Speed (and memory use) are important!"
   ]
  },
  {
   "cell_type": "markdown",
   "id": "b5a81db7-352e-4dbe-a6cd-4705b0626e73",
   "metadata": {
    "slideshow": {
     "slide_type": "fragment"
    },
    "tags": []
   },
   "source": [
    "<br><br>\n",
    "\n",
    "How did Python come to be such a popular data analysis language with this against it?"
   ]
  },
  {
   "cell_type": "markdown",
   "id": "5b963616-1054-4949-8d0f-8b1669d04c37",
   "metadata": {
    "slideshow": {
     "slide_type": "slide"
    },
    "tags": []
   },
   "source": [
    "## The why and the how"
   ]
  },
  {
   "cell_type": "markdown",
   "id": "ad08bb47-a201-47aa-8827-4b10dbe5b360",
   "metadata": {
    "slideshow": {
     "slide_type": "fragment"
    },
    "tags": []
   },
   "source": [
    "Let's reload the Higgs dataset to get a single list of numbers."
   ]
  },
  {
   "cell_type": "code",
   "execution_count": 30,
   "id": "50e87bc9-e56f-4430-b0b7-ecd882a03e27",
   "metadata": {
    "tags": []
   },
   "outputs": [],
   "source": [
    "import json\n",
    "dataset_python = json.load(open(\"data/SMHiggsToZZTo4L.json\"))"
   ]
  },
  {
   "cell_type": "markdown",
   "id": "7fb4ca60-918b-4364-b063-1906ee3fbad4",
   "metadata": {},
   "source": [
    "<br>"
   ]
  },
  {
   "cell_type": "code",
   "execution_count": 31,
   "id": "2fa9b697-9981-4a2c-bb1b-9f5d6c6e2f88",
   "metadata": {
    "slideshow": {
     "slide_type": "fragment"
    },
    "tags": []
   },
   "outputs": [],
   "source": [
    "pt_python = []\n",
    "for event in dataset_python:\n",
    "    for electron in event[\"electron\"]:\n",
    "        pt_python.append(electron[\"pt\"])\n",
    "    for muon in event[\"muon\"]:\n",
    "        pt_python.append(muon[\"pt\"])"
   ]
  },
  {
   "cell_type": "markdown",
   "id": "95add8d8-ac50-452a-bbb5-e69b76809f1b",
   "metadata": {},
   "source": [
    "<br>"
   ]
  },
  {
   "cell_type": "code",
   "execution_count": 32,
   "id": "b781959a-bf9d-4b7b-ad3c-37beb6438757",
   "metadata": {
    "slideshow": {
     "slide_type": "fragment"
    },
    "tags": []
   },
   "outputs": [
    {
     "data": {
      "text/plain": [
       "28809"
      ]
     },
     "execution_count": 32,
     "metadata": {},
     "output_type": "execute_result"
    }
   ],
   "source": [
    "len(pt_python)"
   ]
  },
  {
   "cell_type": "markdown",
   "id": "ff02905e-2fca-44b0-b0f4-4af9796ba495",
   "metadata": {
    "slideshow": {
     "slide_type": "fragment"
    },
    "tags": []
   },
   "source": [
    "<br>\n",
    "\n",
    "Look at the first few by slicing it."
   ]
  },
  {
   "cell_type": "code",
   "execution_count": 33,
   "id": "e2cf8393-7d7b-4172-af8e-c46fcdfb75a1",
   "metadata": {
    "tags": []
   },
   "outputs": [
    {
     "data": {
      "text/plain": [
       "[63.04386901855469, 38.12034606933594, 4.04868745803833, 21.902679443359375]"
      ]
     },
     "execution_count": 33,
     "metadata": {},
     "output_type": "execute_result"
    }
   ],
   "source": [
    "pt_python[0:4]"
   ]
  },
  {
   "cell_type": "markdown",
   "id": "665728ed-c4d0-436c-9dd5-7bd752bdd168",
   "metadata": {
    "slideshow": {
     "slide_type": "slide"
    },
    "tags": []
   },
   "source": [
    "How much memory is this list using?\n",
    "\n",
    "<br>"
   ]
  },
  {
   "cell_type": "code",
   "execution_count": 34,
   "id": "0dc3833e-8e37-4a29-b253-80ae1acc2645",
   "metadata": {
    "slideshow": {
     "slide_type": "fragment"
    },
    "tags": []
   },
   "outputs": [
    {
     "data": {
      "text/plain": [
       "937904"
      ]
     },
     "execution_count": 34,
     "metadata": {},
     "output_type": "execute_result"
    }
   ],
   "source": [
    "import sys\n",
    "\n",
    "num_bytes_python = 0\n",
    "num_bytes_python += sys.getsizeof(pt_python)   # size of the list, not including the numbers\n",
    "\n",
    "for x in pt_python:\n",
    "    num_bytes_python += sys.getsizeof(x)       # size of each number\n",
    "    \n",
    "num_bytes_python"
   ]
  },
  {
   "cell_type": "markdown",
   "id": "65555d5d-6ee9-4515-91e6-17a223960c7a",
   "metadata": {
    "slideshow": {
     "slide_type": "fragment"
    },
    "tags": []
   },
   "source": [
    "<br>\n",
    "\n",
    "How many bytes per value? More than 8?\n",
    "\n",
    "<br>"
   ]
  },
  {
   "cell_type": "code",
   "execution_count": 35,
   "id": "159ce62c-85d7-4133-a979-344c489aea9c",
   "metadata": {
    "tags": []
   },
   "outputs": [
    {
     "data": {
      "text/plain": [
       "32.55593738067965"
      ]
     },
     "execution_count": 35,
     "metadata": {},
     "output_type": "execute_result"
    }
   ],
   "source": [
    "num_bytes_python / len(pt_python)"
   ]
  },
  {
   "cell_type": "markdown",
   "id": "c8db9cb9-b6ad-43ef-b8b7-4300aa21a6aa",
   "metadata": {
    "slideshow": {
     "slide_type": "slide"
    },
    "tags": []
   },
   "source": [
    "Get the same data as an array (from an HDF5 file).\n",
    "\n",
    "<br>"
   ]
  },
  {
   "cell_type": "code",
   "execution_count": 36,
   "id": "c93a1d03-b2f4-4fcd-8c6a-7eb2be57762e",
   "metadata": {
    "slideshow": {
     "slide_type": "fragment"
    },
    "tags": []
   },
   "outputs": [
    {
     "data": {
      "text/plain": [
       "array([63.04387  , 38.120346 ,  4.0486875, ..., 60.098644 ,  3.7663147,\n",
       "       21.205685 ], dtype=float32)"
      ]
     },
     "execution_count": 36,
     "metadata": {},
     "output_type": "execute_result"
    }
   ],
   "source": [
    "import h5py\n",
    "\n",
    "dataset_hdf5 = h5py.File(\"data/SMHiggsToZZTo4L.h5\")\n",
    "\n",
    "pt_numpy = dataset_hdf5[\"particles\"][\"pt\"][:]\n",
    "pt_numpy"
   ]
  },
  {
   "cell_type": "markdown",
   "id": "951ac1a1-7fbe-4aca-b11a-0429d19c97fb",
   "metadata": {
    "slideshow": {
     "slide_type": "fragment"
    },
    "tags": []
   },
   "source": [
    "<br>\n",
    "\n",
    "Are they all the same?"
   ]
  },
  {
   "cell_type": "code",
   "execution_count": 37,
   "id": "cb291133-ecba-463b-b418-71422d763a55",
   "metadata": {
    "tags": []
   },
   "outputs": [],
   "source": [
    "assert len(pt_python) == len(pt_numpy)\n",
    "\n",
    "for list_x, array_x in zip(pt_python, pt_numpy):\n",
    "    assert list_x == array_x"
   ]
  },
  {
   "cell_type": "markdown",
   "id": "971272fd-3338-4a90-a3c4-23a11369b284",
   "metadata": {
    "slideshow": {
     "slide_type": "slide"
    },
    "tags": []
   },
   "source": [
    "How does their memory use compare?"
   ]
  },
  {
   "cell_type": "code",
   "execution_count": 38,
   "id": "f6f7ff10-8b2d-4f7d-9e8e-18f528248320",
   "metadata": {
    "tags": []
   },
   "outputs": [
    {
     "data": {
      "text/plain": [
       "4.003887673990767"
      ]
     },
     "execution_count": 38,
     "metadata": {},
     "output_type": "execute_result"
    }
   ],
   "source": [
    "sys.getsizeof(pt_numpy) / len(pt_numpy)"
   ]
  },
  {
   "cell_type": "markdown",
   "id": "392a7759-e9c1-44cc-9eef-0a919aea8831",
   "metadata": {},
   "source": [
    "<br>"
   ]
  },
  {
   "cell_type": "code",
   "execution_count": 39,
   "id": "c9d8272f-fd80-4d0c-bbd0-a2bb86bf0f42",
   "metadata": {
    "tags": []
   },
   "outputs": [
    {
     "data": {
      "text/plain": [
       "32.55593738067965"
      ]
     },
     "execution_count": 39,
     "metadata": {},
     "output_type": "execute_result"
    }
   ],
   "source": [
    "num_bytes_python / len(pt_python)"
   ]
  },
  {
   "cell_type": "markdown",
   "id": "228f9284-2d39-424f-86e7-3d22f15aea14",
   "metadata": {
    "slideshow": {
     "slide_type": "fragment"
    },
    "tags": []
   },
   "source": [
    "<br>\n",
    "\n",
    "How does speed of computation compare? (Note the units.)"
   ]
  },
  {
   "cell_type": "code",
   "execution_count": 40,
   "id": "99ad4ec3-f523-40b0-9a2b-e46edb0597f1",
   "metadata": {
    "tags": []
   },
   "outputs": [
    {
     "name": "stdout",
     "output_type": "stream",
     "text": [
      "1.56 ms ± 14.1 µs per loop (mean ± std. dev. of 7 runs, 1,000 loops each)\n"
     ]
    }
   ],
   "source": [
    "%%timeit\n",
    "\n",
    "pt2_python = []\n",
    "for x in pt_python:\n",
    "    pt2_python.append(x**2)"
   ]
  },
  {
   "cell_type": "markdown",
   "id": "1e3d9db2-c068-4a7c-af9d-df9508e9af9f",
   "metadata": {},
   "source": [
    "<br>"
   ]
  },
  {
   "cell_type": "code",
   "execution_count": 41,
   "id": "92a62a48-5213-4d05-9f9a-2f6b7f9c67ec",
   "metadata": {
    "tags": []
   },
   "outputs": [
    {
     "name": "stdout",
     "output_type": "stream",
     "text": [
      "1.67 µs ± 11.5 ns per loop (mean ± std. dev. of 7 runs, 1,000,000 loops each)\n"
     ]
    }
   ],
   "source": [
    "%%timeit\n",
    "\n",
    "pt2_numpy = pt_numpy**2"
   ]
  },
  {
   "cell_type": "markdown",
   "id": "32e7ceca-53d6-4050-a13a-086864497058",
   "metadata": {
    "slideshow": {
     "slide_type": "slide"
    },
    "tags": []
   },
   "source": [
    "Memory layout of a Python list.\n",
    "\n",
    "<br>"
   ]
  },
  {
   "cell_type": "markdown",
   "id": "2580462a-2342-40c0-a36e-a6889079a6e0",
   "metadata": {},
   "source": [
    "<center>\n",
    "<img src=\"img/python-list-layout.svg\" width=\"75%\">\n",
    "</center>"
   ]
  },
  {
   "cell_type": "markdown",
   "id": "6ea10c75-3e32-483e-8272-53ef6bfc77cf",
   "metadata": {
    "slideshow": {
     "slide_type": "slide"
    },
    "tags": []
   },
   "source": [
    "Memory layout of a NumPy array.\n",
    "\n",
    "<br>"
   ]
  },
  {
   "cell_type": "markdown",
   "id": "c00cc839-fe81-427d-8288-31f010381adf",
   "metadata": {},
   "source": [
    "<center>\n",
    "<img src=\"img/python-array-layout.svg\" width=\"75%\">\n",
    "</center>"
   ]
  },
  {
   "cell_type": "markdown",
   "id": "f71299e4-2cbd-4ecc-b97c-6150c1d121e7",
   "metadata": {
    "slideshow": {
     "slide_type": "slide"
    },
    "tags": []
   },
   "source": [
    "This also hints at a limitation of NumPy: it can't hold values of different types."
   ]
  },
  {
   "cell_type": "markdown",
   "id": "ab3a2965-1597-4b3e-b933-8e56b85ea775",
   "metadata": {
    "slideshow": {
     "slide_type": "fragment"
    },
    "tags": []
   },
   "source": [
    "<br>\n",
    "\n",
    "Python list: data type is a property of each element."
   ]
  },
  {
   "cell_type": "code",
   "execution_count": 43,
   "id": "470f3976-3800-4d5e-b09a-0dc35ef5bd36",
   "metadata": {},
   "outputs": [
    {
     "data": {
      "text/plain": [
       "float"
      ]
     },
     "execution_count": 43,
     "metadata": {},
     "output_type": "execute_result"
    }
   ],
   "source": [
    "type(pt_python[0])"
   ]
  },
  {
   "cell_type": "markdown",
   "id": "df19c57f-940e-42d2-a45a-fb8f68874cec",
   "metadata": {
    "slideshow": {
     "slide_type": "fragment"
    },
    "tags": []
   },
   "source": [
    "<br>\n",
    "\n",
    "NumPy array: data type is a property of the whole array."
   ]
  },
  {
   "cell_type": "code",
   "execution_count": 44,
   "id": "e7808faf-9985-4891-84d2-10531b1d9787",
   "metadata": {
    "tags": []
   },
   "outputs": [
    {
     "data": {
      "text/plain": [
       "dtype('float32')"
      ]
     },
     "execution_count": 44,
     "metadata": {},
     "output_type": "execute_result"
    }
   ],
   "source": [
    "pt_numpy.dtype"
   ]
  },
  {
   "cell_type": "code",
   "execution_count": 45,
   "id": "adc95bb9-2bdf-49b8-9a44-25a49657a353",
   "metadata": {
    "tags": []
   },
   "outputs": [
    {
     "data": {
      "text/plain": [
       "numpy.float32"
      ]
     },
     "execution_count": 45,
     "metadata": {},
     "output_type": "execute_result"
    }
   ],
   "source": [
    "pt_numpy.dtype.type"
   ]
  },
  {
   "cell_type": "markdown",
   "id": "ef3180f5-8cd5-4177-b017-39da36a72510",
   "metadata": {
    "slideshow": {
     "slide_type": "fragment"
    },
    "tags": []
   },
   "source": [
    "<br>\n",
    "\n",
    "(Caveat: actually, NumPy has a `dtype('object')` to store Python objects, but that has no advantage over Python lists.)"
   ]
  },
  {
   "cell_type": "markdown",
   "id": "f132680c-f302-4db8-b344-47b58ae48d2b",
   "metadata": {
    "slideshow": {
     "slide_type": "slide"
    },
    "tags": []
   },
   "source": [
    "## NumPy"
   ]
  },
  {
   "cell_type": "markdown",
   "id": "40cb8789-5124-4467-8a87-8af54345bd06",
   "metadata": {
    "slideshow": {
     "slide_type": "slide"
    },
    "tags": []
   },
   "source": [
    "NumPy is a third-party (but central!) library for data and computations _in_ C, _from_ Python.\n",
    "\n",
    "<center>\n",
    "<img src=\"img/Numpy_Python_Cheat_Sheet.svg\" width=\"75%\">\n",
    "</center>"
   ]
  }
 ],
 "metadata": {
  "kernelspec": {
   "display_name": "Python 3 (ipykernel)",
   "language": "python",
   "name": "python3"
  },
  "language_info": {
   "codemirror_mode": {
    "name": "ipython",
    "version": 3
   },
   "file_extension": ".py",
   "mimetype": "text/x-python",
   "name": "python",
   "nbconvert_exporter": "python",
   "pygments_lexer": "ipython3",
   "version": "3.10.8"
  }
 },
 "nbformat": 4,
 "nbformat_minor": 5
}
