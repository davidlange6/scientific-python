{
 "cells": [
  {
   "cell_type": "markdown",
   "id": "90f590de-0af1-4a9e-8066-e0725da7fcd0",
   "metadata": {
    "slideshow": {
     "slide_type": "slide"
    },
    "tags": []
   },
   "source": [
    "# Scientific Python: part 1"
   ]
  },
  {
   "cell_type": "markdown",
   "id": "9419771b-50d0-4d46-8bb1-12a85597f137",
   "metadata": {
    "slideshow": {
     "slide_type": "slide"
    },
    "tags": []
   },
   "source": [
    "<br><br><br>\n",
    "\n",
    "**Why Python?**\n",
    "\n",
    "<br><br><br>"
   ]
  },
  {
   "cell_type": "markdown",
   "id": "65216c98-b839-4e7d-937e-a3b37c62d3c7",
   "metadata": {
    "slideshow": {
     "slide_type": "fragment"
    },
    "tags": []
   },
   "source": [
    "Python's most useful feature is that **it is widely used** for data analysis and machine learning.\n",
    "\n",
    "<center>\n",
    "<img src=\"img/analytics-by-language.svg\" width=\"1000pt\">\n",
    "</center>"
   ]
  },
  {
   "cell_type": "markdown",
   "id": "b9d82b15-5962-460e-a70e-b894e512f81b",
   "metadata": {
    "slideshow": {
     "slide_type": "slide"
    },
    "tags": []
   },
   "source": [
    "<br><br><br>\n",
    "\n",
    "Being popular means that is is **well-connected**. Just about everything has a Python interface.\n",
    "\n",
    "<br><br><br>"
   ]
  },
  {
   "cell_type": "markdown",
   "id": "23a6436f-6cd8-49bf-99c7-8f2faa7d431d",
   "metadata": {
    "slideshow": {
     "slide_type": "fragment"
    },
    "tags": []
   },
   "source": [
    "<br><br><br>\n",
    "\n",
    "In these four tutorials, we'll look at the ways Python is used in particle physics and science in general.\n",
    "\n",
    "<br><br>\n",
    "\n",
    "But first, we should review Python syntax, since we'll be using it so much.\n",
    "\n",
    "<br><br>\n",
    "\n",
    "I'll do it in the context of analyzing particle data, for fun.\n",
    "\n",
    "<br><br><br>"
   ]
  },
  {
   "cell_type": "markdown",
   "id": "261a513f-4aac-47ec-b1ec-1ba710b63949",
   "metadata": {
    "slideshow": {
     "slide_type": "slide"
    },
    "tags": []
   },
   "source": [
    "## Navigation in Jupyter"
   ]
  },
  {
   "cell_type": "markdown",
   "id": "024cdc13-257b-400d-b749-6c1ef061d7f4",
   "metadata": {
    "tags": []
   },
   "source": [
    "<br><br><br>\n",
    "\n",
    "1. Click a code cell to edit it.\n",
    "2. Control-enter to run the cell.\n",
    "3. Shift-enter to run the cell and move to the next one.\n",
    "\n",
    "<br><br><br>"
   ]
  },
  {
   "cell_type": "markdown",
   "id": "1efa4644-5ccc-4a54-b6f0-cc5451a93e72",
   "metadata": {
    "slideshow": {
     "slide_type": "slide"
    },
    "tags": []
   },
   "source": [
    "## Tour of Python syntax"
   ]
  },
  {
   "cell_type": "markdown",
   "id": "af5c1f26-88f0-4d9e-94e2-d816dc1d38d5",
   "metadata": {
    "slideshow": {
     "slide_type": "slide"
    },
    "tags": []
   },
   "source": [
    "### Desk calculator: variables and expressions"
   ]
  },
  {
   "cell_type": "code",
   "execution_count": null,
   "id": "d904b574-9700-4f1c-a740-64574cf2af9b",
   "metadata": {
    "tags": []
   },
   "outputs": [],
   "source": [
    "2 + 2"
   ]
  },
  {
   "cell_type": "code",
   "execution_count": null,
   "id": "74a93e7f-9fa7-4f03-bdee-8ecba30b58f1",
   "metadata": {
    "tags": []
   },
   "outputs": [],
   "source": [
    "E = 68.1289790\n",
    "px = -17.945541\n",
    "py = 13.1652603\n",
    "pz = 64.3908386"
   ]
  },
  {
   "cell_type": "code",
   "execution_count": null,
   "id": "b2d179d1-ca23-4afc-85b5-f8823b79ccf7",
   "metadata": {
    "tags": []
   },
   "outputs": [],
   "source": [
    "px"
   ]
  },
  {
   "cell_type": "markdown",
   "id": "e9ed7c49-f55c-43f5-b3a6-1c906a8267dc",
   "metadata": {
    "tags": []
   },
   "source": [
    "${p_x}^2 + {p_y}^2$"
   ]
  },
  {
   "cell_type": "code",
   "execution_count": null,
   "id": "ae32ac79-beae-42bd-90d3-162521c7ea7e",
   "metadata": {
    "tags": []
   },
   "outputs": [],
   "source": [
    "px**2 + py**2"
   ]
  },
  {
   "cell_type": "markdown",
   "id": "9acf20ab-7181-46e8-9f23-2e771d154744",
   "metadata": {
    "tags": []
   },
   "source": [
    "$\\displaystyle \\sqrt{{p_x}^2 + {p_y}^2 + {p_z}^2}$"
   ]
  },
  {
   "cell_type": "code",
   "execution_count": null,
   "id": "ab6875ea-e813-4653-8230-1fbab0a5ddbd",
   "metadata": {
    "tags": []
   },
   "outputs": [],
   "source": [
    "(px**2 + py**2 + pz**2) ** (1 / 2)"
   ]
  },
  {
   "cell_type": "markdown",
   "id": "38e7e423-cfc1-4006-ab61-81eb7a36a074",
   "metadata": {
    "slideshow": {
     "slide_type": "slide"
    },
    "tags": []
   },
   "source": [
    "$\\displaystyle p = \\sqrt{{p_x}^2 + {p_y}^2 + {p_z}^2}$\n",
    "\n",
    "$\\displaystyle m = \\sqrt{E^2 - p^2}$"
   ]
  },
  {
   "cell_type": "markdown",
   "id": "9816e6f1-f064-4220-a2fa-bec0143c3f9a",
   "metadata": {
    "tags": []
   },
   "source": [
    "**Quizlet:** fix the mistake!"
   ]
  },
  {
   "cell_type": "code",
   "execution_count": null,
   "id": "139fb64d-a112-4728-b43e-6d6d1f59ab9c",
   "metadata": {
    "tags": []
   },
   "outputs": [],
   "source": [
    "m = (E**2 - px**2 + py**2 + pz**2) ** (1 / 2)\n",
    "m"
   ]
  },
  {
   "cell_type": "markdown",
   "id": "6b36ddd5-069e-492c-840a-2cf250279cd8",
   "metadata": {
    "slideshow": {
     "slide_type": "slide"
    },
    "tags": []
   },
   "source": [
    "### Functions"
   ]
  },
  {
   "cell_type": "code",
   "execution_count": null,
   "id": "1a09d5ef-c2d1-4d33-945f-060d51fd6050",
   "metadata": {
    "tags": []
   },
   "outputs": [],
   "source": [
    "def euclidean(x, y, z):\n",
    "    return (x**2 + y**2 + z**2) ** (1 / 2)"
   ]
  },
  {
   "cell_type": "code",
   "execution_count": null,
   "id": "ebf5024d-26a7-44c1-8b78-29cace9177f3",
   "metadata": {
    "tags": []
   },
   "outputs": [],
   "source": [
    "euclidean(px, py, pz)"
   ]
  },
  {
   "cell_type": "code",
   "execution_count": null,
   "id": "7109688d-89b8-4ae3-8bcd-910beb926ac8",
   "metadata": {
    "tags": []
   },
   "outputs": [],
   "source": [
    "def minkowski(time, space):\n",
    "    return (time**2 - space**2) ** (1 / 2)"
   ]
  },
  {
   "cell_type": "code",
   "execution_count": null,
   "id": "c2e22df2-eccc-4d9f-9419-dfc9b42e283f",
   "metadata": {
    "tags": []
   },
   "outputs": [],
   "source": [
    "minkowski(E, euclidean(px, py, pz))"
   ]
  },
  {
   "cell_type": "markdown",
   "id": "f640e37c-a201-4922-90d1-36f1e041a07d",
   "metadata": {
    "slideshow": {
     "slide_type": "slide"
    },
    "tags": []
   },
   "source": [
    "How does indenting work?"
   ]
  },
  {
   "cell_type": "code",
   "execution_count": null,
   "id": "98a9e1b2-9b78-4e5f-b9ad-c15019733ff9",
   "metadata": {
    "tags": []
   },
   "outputs": [],
   "source": [
    "def mass(E, px, py, pz):\n",
    "    def euclidean(x, y, z):\n",
    "        return (x**2 + y**2 + z**2) ** (1 / 2)\n",
    "\n",
    "    def minkowski(time, space):\n",
    "        return (time**2 - space**2) ** (1 / 2)\n",
    "\n",
    "    return minkowski(E, euclidean(px, py, pz))\n",
    "\n",
    "\n",
    "mass(E, px, py, pz)"
   ]
  },
  {
   "cell_type": "markdown",
   "id": "5bd02520-e284-4117-b7f5-617c3328a9ae",
   "metadata": {
    "slideshow": {
     "slide_type": "slide"
    },
    "tags": []
   },
   "source": [
    "Note: functions are objects that can be assigned to variables, too."
   ]
  },
  {
   "cell_type": "code",
   "execution_count": null,
   "id": "964b8f13-f8ec-437e-8f24-f2539468a804",
   "metadata": {
    "tags": []
   },
   "outputs": [],
   "source": [
    "mag3d = euclidean"
   ]
  },
  {
   "cell_type": "code",
   "execution_count": null,
   "id": "0b84e07f-90c2-4240-b65a-576aeeb209d9",
   "metadata": {
    "tags": []
   },
   "outputs": [],
   "source": [
    "mag3d(px, py, pz)"
   ]
  },
  {
   "cell_type": "markdown",
   "id": "f0fe9095-46b4-4207-b12d-6c284da23b34",
   "metadata": {
    "slideshow": {
     "slide_type": "slide"
    },
    "tags": []
   },
   "source": [
    "### Importing functionality into Python"
   ]
  },
  {
   "cell_type": "code",
   "execution_count": null,
   "id": "2940c17b-1838-4bc7-91e0-a195805d3e5b",
   "metadata": {
    "tags": []
   },
   "outputs": [],
   "source": [
    "import math"
   ]
  },
  {
   "cell_type": "code",
   "execution_count": null,
   "id": "1b253100-f4fa-48b5-b708-7c132d64e08b",
   "metadata": {
    "tags": []
   },
   "outputs": [],
   "source": [
    "math"
   ]
  },
  {
   "cell_type": "markdown",
   "id": "51cc9dae-18ec-4f1f-8ca8-4a22507e6d24",
   "metadata": {
    "tags": []
   },
   "source": [
    "Objects inside the module are accessible through the dot-syntax."
   ]
  },
  {
   "cell_type": "code",
   "execution_count": null,
   "id": "65344095-3119-49a8-8814-dba47e2c6838",
   "metadata": {
    "tags": []
   },
   "outputs": [],
   "source": [
    "math.sqrt(E**2 - px**2 - py**2 - pz**2)"
   ]
  },
  {
   "cell_type": "markdown",
   "id": "d08a92a2-2a48-4eea-96e3-5c16052138be",
   "metadata": {
    "slideshow": {
     "slide_type": "slide"
    },
    "tags": []
   },
   "source": [
    "It prevents functions with the same names in different libraries from conflicting."
   ]
  },
  {
   "cell_type": "code",
   "execution_count": null,
   "id": "52fdfa87-92bb-4b95-9435-8a5427dad144",
   "metadata": {
    "tags": []
   },
   "outputs": [],
   "source": [
    "import numpy"
   ]
  },
  {
   "cell_type": "code",
   "execution_count": null,
   "id": "0082b1bf-ca4d-4772-a0af-d4a956ce5146",
   "metadata": {
    "tags": []
   },
   "outputs": [],
   "source": [
    "numpy.sqrt"
   ]
  },
  {
   "cell_type": "code",
   "execution_count": null,
   "id": "4131dee8-537c-4ad9-b2fa-3d57ab326678",
   "metadata": {
    "tags": []
   },
   "outputs": [],
   "source": [
    "math.sqrt"
   ]
  },
  {
   "cell_type": "code",
   "execution_count": null,
   "id": "76a21ba9-780f-4cd9-8020-28f7cff7645e",
   "metadata": {
    "tags": []
   },
   "outputs": [],
   "source": [
    "numpy.sqrt is math.sqrt"
   ]
  },
  {
   "cell_type": "markdown",
   "id": "8fa529cf-6f2b-48b7-96bb-69f1ac9781bd",
   "metadata": {
    "slideshow": {
     "slide_type": "slide"
    },
    "tags": []
   },
   "source": [
    "Some libraries have conventional \"short names.\""
   ]
  },
  {
   "cell_type": "code",
   "execution_count": null,
   "id": "6215ee13-4788-4b30-b0bc-7e49948f10d1",
   "metadata": {
    "tags": []
   },
   "outputs": [],
   "source": [
    "import numpy as np"
   ]
  },
  {
   "cell_type": "code",
   "execution_count": null,
   "id": "cd3b202a-2ce9-4b8e-9d67-5cac334f1209",
   "metadata": {
    "tags": []
   },
   "outputs": [],
   "source": [
    "np.sqrt(E**2 - px**2 - py**2 - pz**2)"
   ]
  },
  {
   "cell_type": "markdown",
   "id": "2128c325-bd51-4505-b84c-8d64b326aa83",
   "metadata": {
    "slideshow": {
     "slide_type": "slide"
    },
    "tags": []
   },
   "source": [
    "Sometimes, it's better to extract only one object from a library."
   ]
  },
  {
   "cell_type": "code",
   "execution_count": null,
   "id": "914b38b5-5d52-4dfa-b229-830bce7a5240",
   "metadata": {
    "tags": []
   },
   "outputs": [],
   "source": [
    "from hepunits import GeV\n",
    "from particle import Particle"
   ]
  },
  {
   "cell_type": "code",
   "execution_count": null,
   "id": "8f63d6a7-0baf-4bd2-ad7b-e423279cf450",
   "metadata": {
    "tags": []
   },
   "outputs": [],
   "source": [
    "muon = Particle.from_name(\"mu+\")\n",
    "muon"
   ]
  },
  {
   "cell_type": "code",
   "execution_count": null,
   "id": "90ee6739-0df5-4745-a189-261229f7f0f5",
   "metadata": {
    "tags": []
   },
   "outputs": [],
   "source": [
    "muon.mass / GeV"
   ]
  },
  {
   "cell_type": "code",
   "execution_count": null,
   "id": "57e579af-3237-4bb2-883a-a82395a6b9b7",
   "metadata": {
    "slideshow": {
     "slide_type": "slide"
    },
    "tags": []
   },
   "outputs": [],
   "source": [
    "?muon"
   ]
  },
  {
   "cell_type": "markdown",
   "id": "6017482c-3f38-4181-bd3b-526b16279e3a",
   "metadata": {
    "slideshow": {
     "slide_type": "slide"
    },
    "tags": []
   },
   "source": [
    "### Data types"
   ]
  },
  {
   "cell_type": "markdown",
   "id": "08a5d585-d5c0-4c3b-9b7e-ef7e9b2bbeea",
   "metadata": {
    "tags": []
   },
   "source": [
    "Python data have types, but unlike C++, type correctness is checked just before computation, not in a separate compilation phase."
   ]
  },
  {
   "cell_type": "code",
   "execution_count": null,
   "id": "3fda0d2d-e2fc-40a1-ba30-cb33dddea0af",
   "metadata": {
    "tags": [
     "raises-exception"
    ]
   },
   "outputs": [],
   "source": [
    "1 + \"2\""
   ]
  },
  {
   "cell_type": "code",
   "execution_count": null,
   "id": "56def9cd-e4e8-452e-9898-1494ff30856e",
   "metadata": {
    "tags": []
   },
   "outputs": [],
   "source": [
    "type(1)"
   ]
  },
  {
   "cell_type": "code",
   "execution_count": null,
   "id": "a447b24b-6e90-4f0b-bb56-95ff9194d53a",
   "metadata": {
    "tags": []
   },
   "outputs": [],
   "source": [
    "type(\"2\")"
   ]
  },
  {
   "cell_type": "markdown",
   "id": "8f960bb8-a20d-43d5-91a5-a0e9aba1099a",
   "metadata": {
    "slideshow": {
     "slide_type": "slide"
    },
    "tags": []
   },
   "source": [
    "_Therefore_, types are objects that you can inspect at runtime, unlike C++."
   ]
  },
  {
   "cell_type": "code",
   "execution_count": null,
   "id": "640c70dd-bd1c-4b6f-afd2-077e610a4376",
   "metadata": {
    "tags": []
   },
   "outputs": [],
   "source": [
    "t1 = type(1)\n",
    "t1"
   ]
  },
  {
   "cell_type": "code",
   "execution_count": null,
   "id": "5549ddbd-4eba-41b4-8a30-9b1fe3657944",
   "metadata": {
    "tags": []
   },
   "outputs": [],
   "source": [
    "t2 = type(\"2\")\n",
    "t2"
   ]
  },
  {
   "cell_type": "code",
   "execution_count": null,
   "id": "8e6e4715-9439-438d-b64e-b8ffa600abd3",
   "metadata": {
    "tags": []
   },
   "outputs": [],
   "source": [
    "t1 is t2"
   ]
  },
  {
   "cell_type": "markdown",
   "id": "fef486c0-66a0-4097-8c01-97711e074505",
   "metadata": {
    "slideshow": {
     "slide_type": "slide"
    },
    "tags": []
   },
   "source": [
    "Most type objects are functions that create or convert data to that type."
   ]
  },
  {
   "cell_type": "code",
   "execution_count": null,
   "id": "099b6159-e8a6-483d-9c2d-d45d666deb2c",
   "metadata": {
    "tags": []
   },
   "outputs": [],
   "source": [
    "int(\"2\")"
   ]
  },
  {
   "cell_type": "code",
   "execution_count": null,
   "id": "d75a303d-72c8-44e5-b68c-46afdcab99e7",
   "metadata": {
    "tags": []
   },
   "outputs": [],
   "source": [
    "t1(\"2\")"
   ]
  },
  {
   "cell_type": "markdown",
   "id": "53aea2da-dfe0-4728-b456-170219dae190",
   "metadata": {
    "slideshow": {
     "slide_type": "slide"
    },
    "tags": []
   },
   "source": [
    "**Quizlet:** before you run it, what will this do?"
   ]
  },
  {
   "cell_type": "code",
   "execution_count": null,
   "id": "05d63b5f-96da-444a-b10a-49449a7096a8",
   "metadata": {},
   "outputs": [],
   "source": []
  },
  {
   "cell_type": "code",
   "execution_count": null,
   "id": "300bd769-a363-455c-8f12-c39386f2c8c7",
   "metadata": {
    "tags": []
   },
   "outputs": [],
   "source": [
    "type(type(1)(\"2\"))"
   ]
  },
  {
   "cell_type": "markdown",
   "id": "d79f4eb1-875c-4486-a8ca-2167c70adfb1",
   "metadata": {
    "slideshow": {
     "slide_type": "slide"
    },
    "tags": []
   },
   "source": [
    "### Relationships among types"
   ]
  },
  {
   "cell_type": "markdown",
   "id": "1bb75987-1ce5-47a5-aaa1-5da4805d9f5f",
   "metadata": {
    "tags": []
   },
   "source": [
    "NumPy has some types that look like standard Python types, but they're not."
   ]
  },
  {
   "cell_type": "code",
   "execution_count": null,
   "id": "df8cda99-cd9b-4d0c-b9e6-40af86e0e83c",
   "metadata": {
    "tags": []
   },
   "outputs": [],
   "source": [
    "np_one = np.int32(1)\n",
    "np_one"
   ]
  },
  {
   "cell_type": "code",
   "execution_count": null,
   "id": "ee313cf8-f1bc-4881-84b3-987d961dc5d9",
   "metadata": {
    "tags": []
   },
   "outputs": [],
   "source": [
    "np_int = type(np_one)\n",
    "np_int"
   ]
  },
  {
   "cell_type": "markdown",
   "id": "69a78337-e8b2-4b33-a00d-d9886c2e001b",
   "metadata": {
    "tags": []
   },
   "source": [
    "`np.int32` is not Python `int`."
   ]
  },
  {
   "cell_type": "code",
   "execution_count": null,
   "id": "7fad5fc5-d2c5-4007-b574-c55346f17679",
   "metadata": {
    "tags": []
   },
   "outputs": [],
   "source": [
    "np_int == int"
   ]
  },
  {
   "cell_type": "markdown",
   "id": "363fd780-07dd-4f4a-960b-b98bf6938db1",
   "metadata": {
    "tags": []
   },
   "source": [
    "`np.int32` is also not `np.int64`."
   ]
  },
  {
   "cell_type": "code",
   "execution_count": null,
   "id": "ed5fe37c-c8f0-4d2d-9ec9-c50f1e7e571c",
   "metadata": {
    "tags": []
   },
   "outputs": [],
   "source": [
    "np_int == type(np.int64(1))"
   ]
  },
  {
   "cell_type": "markdown",
   "id": "843cabf3-4db9-4b0e-bf7b-51baf2c3f476",
   "metadata": {
    "slideshow": {
     "slide_type": "slide"
    },
    "tags": []
   },
   "source": [
    "`isinstance` is a better way to check the type of something.\n",
    "\n",
    "It doesn't ask, \"Is this type object the same object as that other one?\"\n",
    "\n",
    "It asks, \"Is this value an instance of that type?\""
   ]
  },
  {
   "cell_type": "code",
   "execution_count": null,
   "id": "edbcee7d-7d30-4e6b-880d-953936aa45d1",
   "metadata": {
    "tags": []
   },
   "outputs": [],
   "source": [
    "isinstance(np_one, np.int32)"
   ]
  },
  {
   "cell_type": "markdown",
   "id": "228dc2a1-2f84-4920-b0a3-a0bed1cdf7f1",
   "metadata": {
    "slideshow": {
     "slide_type": "slide"
    },
    "tags": []
   },
   "source": [
    "Because some types are _supertypes_ of others.\n",
    "\n",
    "`np.integer` is a supertype of `np.int32` because any `np.int32` instance is also an `np.integer` instance."
   ]
  },
  {
   "cell_type": "code",
   "execution_count": null,
   "id": "58bf737b-7fd2-4a86-8ebd-5f522fab3896",
   "metadata": {
    "tags": []
   },
   "outputs": [],
   "source": [
    "isinstance(np_one, np.integer)"
   ]
  },
  {
   "cell_type": "markdown",
   "id": "8eac8c67-2a86-49e2-9a0d-3757f9b3d866",
   "metadata": {
    "tags": []
   },
   "source": [
    "`np.integer` is a supertype of `np.int64` because any `np.int64` instance is also an `np.integer` instance."
   ]
  },
  {
   "cell_type": "code",
   "execution_count": null,
   "id": "bf72324a-8e30-461c-96ed-eeff45de8281",
   "metadata": {
    "tags": []
   },
   "outputs": [],
   "source": [
    "isinstance(np.int64(1), np.integer)"
   ]
  },
  {
   "cell_type": "markdown",
   "id": "6ca5c8cc-669a-4b1d-a644-7eac27cf7a42",
   "metadata": {
    "slideshow": {
     "slide_type": "slide"
    },
    "tags": []
   },
   "source": [
    "<center>\n",
    "<img src=\"img/dtype-hierarchy.png\" width=\"1000pt\">\n",
    "</center>"
   ]
  },
  {
   "cell_type": "code",
   "execution_count": null,
   "id": "dc3104dc-e778-4e5b-aac9-f1f3df8b41dc",
   "metadata": {
    "slideshow": {
     "slide_type": "slide"
    },
    "tags": []
   },
   "outputs": [],
   "source": [
    "np.int32.mro()  # returns a list of a type's supertypes"
   ]
  },
  {
   "cell_type": "code",
   "execution_count": null,
   "id": "b1577626-ff65-4eee-9034-18acd668a04c",
   "metadata": {
    "tags": []
   },
   "outputs": [],
   "source": [
    "int.mro()"
   ]
  },
  {
   "cell_type": "markdown",
   "id": "4de47d24-49d5-444d-9b68-72f9a2c867e5",
   "metadata": {
    "slideshow": {
     "slide_type": "fragment"
    },
    "tags": []
   },
   "source": [
    "The only supertypes `np.int32` and `int` have in common is `object`.\n",
    "\n",
    "(Everything in Python is an `object`.)"
   ]
  },
  {
   "cell_type": "code",
   "execution_count": null,
   "id": "e40e4cc4-b32e-42bb-a06b-a18fc4932113",
   "metadata": {
    "slideshow": {
     "slide_type": "slide"
    },
    "tags": []
   },
   "outputs": [],
   "source": [
    "import numbers"
   ]
  },
  {
   "cell_type": "code",
   "execution_count": null,
   "id": "821eb4c1-34e8-4fd5-b69b-bbfe8645dc2d",
   "metadata": {
    "tags": []
   },
   "outputs": [],
   "source": [
    "isinstance(np.int32(1), numbers.Integral)"
   ]
  },
  {
   "cell_type": "code",
   "execution_count": null,
   "id": "009c0874-3b13-4a25-a749-c1bed8ca96dd",
   "metadata": {
    "tags": []
   },
   "outputs": [],
   "source": [
    "isinstance(1, numbers.Integral)"
   ]
  },
  {
   "cell_type": "markdown",
   "id": "962c9d71-f666-4c93-83ec-d78e09a3b01c",
   "metadata": {
    "slideshow": {
     "slide_type": "slide"
    },
    "tags": []
   },
   "source": [
    "### Collection types"
   ]
  },
  {
   "cell_type": "markdown",
   "id": "67100256-d455-4a45-b77a-548457c3e504",
   "metadata": {
    "tags": []
   },
   "source": [
    "The two most basic collection types in Python are `list` and `dict`."
   ]
  },
  {
   "cell_type": "code",
   "execution_count": null,
   "id": "48151f8d-6947-4d7a-b402-b18769f0ca13",
   "metadata": {
    "tags": []
   },
   "outputs": [],
   "source": [
    "some_list = [0.0, 1.1, 2.2, 3.3, 4.4, 5.5, 6.6, 7.7, 8.8, 9.9]\n",
    "some_list"
   ]
  },
  {
   "cell_type": "code",
   "execution_count": null,
   "id": "38894dd2-08fc-465e-b267-d1f8fd27ec47",
   "metadata": {
    "tags": []
   },
   "outputs": [],
   "source": [
    "type(some_list)"
   ]
  },
  {
   "cell_type": "code",
   "execution_count": null,
   "id": "0e1a15d6-769c-4488-b1c0-49869023efe9",
   "metadata": {
    "tags": []
   },
   "outputs": [],
   "source": [
    "len(some_list)"
   ]
  },
  {
   "cell_type": "code",
   "execution_count": null,
   "id": "d4732a03-9746-4f24-bf92-2c4a1fd5733f",
   "metadata": {
    "tags": []
   },
   "outputs": [],
   "source": [
    "some_dict = {\"one\": 1.1, \"two\": 2.2, \"three\": 3.3}\n",
    "some_dict"
   ]
  },
  {
   "cell_type": "code",
   "execution_count": null,
   "id": "38801fb9-4049-466b-bf57-6c405decd962",
   "metadata": {
    "tags": []
   },
   "outputs": [],
   "source": [
    "type(some_dict)"
   ]
  },
  {
   "cell_type": "code",
   "execution_count": null,
   "id": "5bf871ba-7649-4113-89d7-fcb5fd03621e",
   "metadata": {
    "tags": []
   },
   "outputs": [],
   "source": [
    "len(some_dict)"
   ]
  },
  {
   "cell_type": "markdown",
   "id": "b1f192a9-eb56-4bc8-b8e4-5a22439ce70b",
   "metadata": {
    "slideshow": {
     "slide_type": "slide"
    },
    "tags": []
   },
   "source": [
    "You can pull data out of a collection with square brackets: `[` `]`."
   ]
  },
  {
   "cell_type": "code",
   "execution_count": null,
   "id": "a48fef2b-76e7-4ab5-ae72-fdabf1618fdf",
   "metadata": {},
   "outputs": [],
   "source": [
    "some_list"
   ]
  },
  {
   "cell_type": "code",
   "execution_count": null,
   "id": "5e8068dc-bdfd-4229-917d-2fb9d6ad7516",
   "metadata": {
    "tags": []
   },
   "outputs": [],
   "source": [
    "some_list[3]"
   ]
  },
  {
   "cell_type": "code",
   "execution_count": null,
   "id": "84650488-1a92-478a-a167-12de2f190814",
   "metadata": {},
   "outputs": [],
   "source": [
    "some_dict"
   ]
  },
  {
   "cell_type": "code",
   "execution_count": null,
   "id": "94a6607e-a42e-4e4b-8ab9-439216319d47",
   "metadata": {
    "tags": []
   },
   "outputs": [],
   "source": [
    "some_dict[\"two\"]"
   ]
  },
  {
   "cell_type": "markdown",
   "id": "0ce9392e-d511-405b-ba2b-26862c9da5fa",
   "metadata": {
    "slideshow": {
     "slide_type": "slide"
    },
    "tags": []
   },
   "source": [
    "You can also change the data in a collection with that syntax."
   ]
  },
  {
   "cell_type": "code",
   "execution_count": null,
   "id": "0cfd78f9-cd9e-4f5e-96b9-a3c2a46053d6",
   "metadata": {
    "tags": []
   },
   "outputs": [],
   "source": [
    "some_list[3] = 33333"
   ]
  },
  {
   "cell_type": "code",
   "execution_count": null,
   "id": "d740794a-1189-4b89-8ec3-2b093c6f02a3",
   "metadata": {
    "tags": []
   },
   "outputs": [],
   "source": [
    "some_list"
   ]
  },
  {
   "cell_type": "code",
   "execution_count": null,
   "id": "4b246ada-6e73-4e20-b9eb-901a53573381",
   "metadata": {
    "tags": []
   },
   "outputs": [],
   "source": [
    "some_dict[\"two\"] = 22222"
   ]
  },
  {
   "cell_type": "code",
   "execution_count": null,
   "id": "30ebfe7b-f31d-4bfd-b7dd-18692c9059d1",
   "metadata": {
    "tags": []
   },
   "outputs": [],
   "source": [
    "some_dict"
   ]
  },
  {
   "cell_type": "code",
   "execution_count": null,
   "id": "0914ddfa-f86c-4898-8668-17e05933b629",
   "metadata": {
    "slideshow": {
     "slide_type": "slide"
    },
    "tags": []
   },
   "outputs": [],
   "source": [
    "some_list.append(\"mixed types\")"
   ]
  },
  {
   "cell_type": "code",
   "execution_count": null,
   "id": "813a1f9f-de8d-491d-9b18-e00c638be634",
   "metadata": {
    "tags": []
   },
   "outputs": [],
   "source": [
    "some_list"
   ]
  },
  {
   "cell_type": "code",
   "execution_count": null,
   "id": "5c046e0b-5ff2-442c-a8df-d10a168284ce",
   "metadata": {
    "tags": []
   },
   "outputs": [],
   "source": [
    "some_dict[123] = \"mixed types\""
   ]
  },
  {
   "cell_type": "code",
   "execution_count": null,
   "id": "bb5cd97c-bc35-4e74-aeb8-7a750df8fdf0",
   "metadata": {
    "tags": []
   },
   "outputs": [],
   "source": [
    "some_dict"
   ]
  },
  {
   "cell_type": "markdown",
   "id": "97e90c90-512e-4666-87ed-ebe33098de39",
   "metadata": {
    "slideshow": {
     "slide_type": "slide"
    },
    "tags": []
   },
   "source": [
    "Ranges within a list can be \"sliced\" with `:`."
   ]
  },
  {
   "cell_type": "code",
   "execution_count": null,
   "id": "c3f85efe-2a56-444a-a692-de020511118b",
   "metadata": {},
   "outputs": [],
   "source": [
    "some_list"
   ]
  },
  {
   "cell_type": "code",
   "execution_count": null,
   "id": "faf50aec-efe3-4957-b05c-872aca00512f",
   "metadata": {
    "tags": []
   },
   "outputs": [],
   "source": [
    "some_list[2:8]"
   ]
  },
  {
   "cell_type": "markdown",
   "id": "9289cb79-a991-4400-93a6-e3b68de51fe2",
   "metadata": {
    "slideshow": {
     "slide_type": "slide"
    },
    "tags": []
   },
   "source": [
    "**Quizlet:** before you run it, what will this do?"
   ]
  },
  {
   "cell_type": "code",
   "execution_count": null,
   "id": "71aad8d9-b47b-4a4e-a539-ad2e5791d7aa",
   "metadata": {},
   "outputs": [],
   "source": [
    "some_list"
   ]
  },
  {
   "cell_type": "code",
   "execution_count": null,
   "id": "a8386a65-aa85-4e6b-a3e9-821006b1f8d8",
   "metadata": {},
   "outputs": [],
   "source": []
  },
  {
   "cell_type": "code",
   "execution_count": null,
   "id": "ccd43720-9e3f-4f4c-9aff-06136b2c2018",
   "metadata": {
    "tags": []
   },
   "outputs": [],
   "source": [
    "some_list[2:8][3]"
   ]
  },
  {
   "cell_type": "markdown",
   "id": "d4befbc9-66d9-4d7b-a9e0-c6b1bbbdff51",
   "metadata": {
    "slideshow": {
     "slide_type": "fragment"
    },
    "tags": []
   },
   "source": [
    "**Philosophical question:** why does indexing start with zero?"
   ]
  },
  {
   "cell_type": "markdown",
   "id": "e7212798-b9d8-49bc-ad68-0902ca03e4c0",
   "metadata": {
    "slideshow": {
     "slide_type": "slide"
    },
    "tags": []
   },
   "source": [
    "### A little data analysis"
   ]
  },
  {
   "cell_type": "code",
   "execution_count": null,
   "id": "5a7257b1-f52a-4543-8d6d-952fe4f38634",
   "metadata": {
    "tags": []
   },
   "outputs": [],
   "source": [
    "particles = [\n",
    "    {\n",
    "        \"type\": \"electron\",\n",
    "        \"E\": 171.848714,\n",
    "        \"px\": 38.4242935,\n",
    "        \"py\": -28.779644,\n",
    "        \"pz\": 165.006927,\n",
    "        \"charge\": 1,\n",
    "    },\n",
    "    {\n",
    "        \"type\": \"electron\",\n",
    "        \"E\": 138.501266,\n",
    "        \"px\": -34.431419,\n",
    "        \"py\": 24.6730384,\n",
    "        \"pz\": 131.864776,\n",
    "        \"charge\": -1,\n",
    "    },\n",
    "    {\n",
    "        \"type\": \"muon\",\n",
    "        \"E\": 68.1289790,\n",
    "        \"px\": -17.945541,\n",
    "        \"py\": 13.1652603,\n",
    "        \"pz\": 64.3908386,\n",
    "        \"charge\": 1,\n",
    "    },\n",
    "    {\n",
    "        \"type\": \"muon\",\n",
    "        \"E\": 18.8320473,\n",
    "        \"px\": -8.1843795,\n",
    "        \"py\": -7.6400470,\n",
    "        \"pz\": 15.1420097,\n",
    "        \"charge\": -1,\n",
    "    },\n",
    "]"
   ]
  },
  {
   "cell_type": "code",
   "execution_count": null,
   "id": "813039bf-78dc-40ca-ba11-f33859d59c65",
   "metadata": {
    "slideshow": {
     "slide_type": "slide"
    },
    "tags": []
   },
   "outputs": [],
   "source": [
    "def particle_decay(name, particle1, particle2):\n",
    "    return {\n",
    "        \"type\": name,\n",
    "        \"E\": particle1[\"E\"] + particle2[\"E\"],\n",
    "        \"px\": particle1[\"px\"] + particle2[\"px\"],\n",
    "        \"py\": particle1[\"py\"] + particle2[\"py\"],\n",
    "        \"pz\": particle1[\"pz\"] + particle2[\"pz\"],\n",
    "        \"charge\": particle1[\"charge\"] + particle2[\"charge\"],\n",
    "    }"
   ]
  },
  {
   "cell_type": "markdown",
   "id": "5b8431f2-17df-4f5e-b36d-6e1f322d1ea3",
   "metadata": {
    "tags": []
   },
   "source": [
    "Starting from the observed electrons and muons, we reconstruct the decays by adding energy and momentum.\n",
    "\n",
    "<center>\n",
    "<img src=\"img/higgs-to-four-leptons-diagram.png\" width=\"1000pt\">\n",
    "</center>"
   ]
  },
  {
   "cell_type": "code",
   "execution_count": null,
   "id": "05d5ea36-d84e-4ce9-91ed-7b9d11fe0638",
   "metadata": {
    "slideshow": {
     "slide_type": "slide"
    },
    "tags": []
   },
   "outputs": [],
   "source": [
    "z1 = particle_decay(\"Z boson\", particles[0], particles[1])\n",
    "z1"
   ]
  },
  {
   "cell_type": "code",
   "execution_count": null,
   "id": "6fb0626f-f051-4bd1-9d28-08fefe1c444c",
   "metadata": {},
   "outputs": [],
   "source": [
    "z2 = particle_decay(\"Z boson\", particles[2], particles[3])\n",
    "z2"
   ]
  },
  {
   "cell_type": "code",
   "execution_count": null,
   "id": "a805e35f-c728-4f19-89e9-127c88afabd2",
   "metadata": {},
   "outputs": [],
   "source": [
    "higgs = particle_decay(\"Higgs boson\", z1, z2)\n",
    "higgs"
   ]
  },
  {
   "cell_type": "markdown",
   "id": "42f3041d-4bdf-4335-9ab5-620250711357",
   "metadata": {
    "slideshow": {
     "slide_type": "slide"
    },
    "tags": []
   },
   "source": [
    "**Quizlet:** Define the `particle_mass` function (below) and compute all of the following:\n",
    "\n",
    "|          | mass (GeV/$c^2$) |\n",
    "|:---------|-----------------:|\n",
    "| $e^+$    |   0.0174851 |\n",
    "| $e^-$    |   0.0097893 |\n",
    "| $\\mu^+$  |   0.1056570 |\n",
    "| $\\mu^-$  |   0.1056493 |\n",
    "| $Z_1$    |  90.2856289 |\n",
    "| $Z_2$    |  22.8789293 |\n",
    "| $H$      | 125.2341336 |"
   ]
  },
  {
   "cell_type": "code",
   "execution_count": null,
   "id": "e20fdc1d-0c54-41ad-a64e-0a2701407199",
   "metadata": {},
   "outputs": [],
   "source": []
  },
  {
   "cell_type": "code",
   "execution_count": null,
   "id": "eb8e6fe2-7f80-4bc4-a44e-b8ab52ff7407",
   "metadata": {},
   "outputs": [],
   "source": [
    "def particle_mass(particle):\n",
    "    ..."
   ]
  },
  {
   "cell_type": "markdown",
   "id": "f03414ec-7197-4c73-ae3d-65914c56715c",
   "metadata": {
    "slideshow": {
     "slide_type": "slide"
    },
    "tags": []
   },
   "source": [
    "**Physics digression:** Are the measured masses wrong or is this okay?\n",
    "\n",
    "The `particle` library gives us expected values."
   ]
  },
  {
   "cell_type": "code",
   "execution_count": null,
   "id": "4471233d-96ff-46d9-b76a-e98af58e7133",
   "metadata": {
    "tags": []
   },
   "outputs": [],
   "source": [
    "Particle.from_name(\"e+\").mass / GeV"
   ]
  },
  {
   "cell_type": "code",
   "execution_count": null,
   "id": "825688e2-ef4a-4053-8271-9cd4d69d66ad",
   "metadata": {
    "tags": []
   },
   "outputs": [],
   "source": [
    "Particle.from_name(\"e-\").mass / GeV"
   ]
  },
  {
   "cell_type": "code",
   "execution_count": null,
   "id": "1426588a-5a95-4c57-8e5f-ff6bd828db52",
   "metadata": {
    "tags": []
   },
   "outputs": [],
   "source": [
    "Particle.from_name(\"mu+\").mass / GeV"
   ]
  },
  {
   "cell_type": "code",
   "execution_count": null,
   "id": "d6212d0a-a9a7-4a98-8352-0a37a2c5b5c6",
   "metadata": {
    "tags": []
   },
   "outputs": [],
   "source": [
    "Particle.from_name(\"mu-\").mass / GeV"
   ]
  },
  {
   "cell_type": "code",
   "execution_count": null,
   "id": "8ae9287e-d443-4994-b7f1-d9fcd2c173cb",
   "metadata": {
    "tags": []
   },
   "outputs": [],
   "source": [
    "Particle.from_name(\"Z0\").mass / GeV"
   ]
  },
  {
   "cell_type": "code",
   "execution_count": null,
   "id": "925bf2df-aad1-4852-9b2b-f72cd827df3b",
   "metadata": {
    "tags": []
   },
   "outputs": [],
   "source": [
    "Particle.from_name(\"H0\").mass / GeV"
   ]
  },
  {
   "cell_type": "markdown",
   "id": "562307ec-5b14-41ea-a589-18ce1a370a51",
   "metadata": {
    "slideshow": {
     "slide_type": "slide"
    },
    "tags": []
   },
   "source": [
    "### `for` loops and `if` branches"
   ]
  },
  {
   "cell_type": "markdown",
   "id": "31d05a76-82c3-4568-a28f-e92f808fdf03",
   "metadata": {
    "tags": []
   },
   "source": [
    "<br><br><br><br><br>\n",
    "\n",
    "Can you believe we got this far without `for` and `if`?\n",
    "\n",
    "<br><br>\n",
    "\n",
    "These are the fundamental building blocks of _imperative_ programming.\n",
    "\n",
    "<br><br><br><br><br>"
   ]
  },
  {
   "cell_type": "markdown",
   "id": "b1885612-76f2-4d65-aa23-2a0dd45bff72",
   "metadata": {
    "slideshow": {
     "slide_type": "slide"
    },
    "tags": []
   },
   "source": [
    "Python runs a program, one statement at a time, and `for` tells it to repeat an indented block for each value of a collection."
   ]
  },
  {
   "cell_type": "code",
   "execution_count": null,
   "id": "79205858-277c-4a97-85bf-90c4c8bca529",
   "metadata": {
    "tags": []
   },
   "outputs": [],
   "source": [
    "for particle in particles:\n",
    "    print(particle[\"type\"], particle[\"charge\"])"
   ]
  },
  {
   "cell_type": "markdown",
   "id": "fde97537-a0a8-4c1f-a6aa-700c93da5b62",
   "metadata": {
    "slideshow": {
     "slide_type": "slide"
    },
    "tags": []
   },
   "source": [
    "`if` tells it whether it should enter an indented block or not, depending on whether an expression is `True` or `False`."
   ]
  },
  {
   "cell_type": "code",
   "execution_count": null,
   "id": "669f07c9-1fa9-46d7-885a-5dd59024a9d4",
   "metadata": {
    "tags": []
   },
   "outputs": [],
   "source": [
    "for particle in particles:\n",
    "    if particle[\"type\"] == \"electron\":\n",
    "        print(particle)"
   ]
  },
  {
   "cell_type": "markdown",
   "id": "3ba88479-6060-4c03-ac14-e75018a86f02",
   "metadata": {
    "slideshow": {
     "slide_type": "slide"
    },
    "tags": []
   },
   "source": [
    "It can switch between two indented blocks if an `else` clause is given."
   ]
  },
  {
   "cell_type": "code",
   "execution_count": null,
   "id": "9205914d-d0e8-4bcc-894c-2c17421aabe1",
   "metadata": {
    "tags": []
   },
   "outputs": [],
   "source": [
    "for particle in particles:\n",
    "    if particle[\"type\"] == \"electron\":\n",
    "        print(particle)\n",
    "    else:\n",
    "        print(\"not an electron\")"
   ]
  },
  {
   "cell_type": "markdown",
   "id": "fca20a5b-5fa7-4d40-859c-10ac24e282e4",
   "metadata": {
    "slideshow": {
     "slide_type": "slide"
    },
    "tags": []
   },
   "source": [
    "`if` statements can be nested."
   ]
  },
  {
   "cell_type": "code",
   "execution_count": null,
   "id": "3b3c3ee8-6ea6-4240-b2e4-a70e79eb8d7e",
   "metadata": {
    "tags": []
   },
   "outputs": [],
   "source": [
    "for particle in particles:\n",
    "    if particle[\"type\"] == \"electron\":\n",
    "        if particle[\"charge\"] > 0:\n",
    "            print(\"e+\")\n",
    "        else:\n",
    "            print(\"e-\")\n",
    "    else:\n",
    "        if particle[\"charge\"] > 0:\n",
    "            print(\"mu+\")\n",
    "        else:\n",
    "            print(\"mu-\")"
   ]
  },
  {
   "cell_type": "markdown",
   "id": "02cb1d61-a3fe-4d9a-9fdf-9e79db5e4b5d",
   "metadata": {
    "slideshow": {
     "slide_type": "slide"
    },
    "tags": []
   },
   "source": [
    "And `elif` works as a contraction of `else if` (so that you don't have to indent as much)."
   ]
  },
  {
   "cell_type": "code",
   "execution_count": null,
   "id": "eaa05890-0cc9-4045-acfa-4000804284d3",
   "metadata": {
    "tags": []
   },
   "outputs": [],
   "source": [
    "for particle in particles:\n",
    "    if particle[\"type\"] == \"electron\" and particle[\"charge\"] > 0:\n",
    "        print(\"e+\")\n",
    "    elif particle[\"type\"] == \"electron\" and particle[\"charge\"] < 0:\n",
    "        print(\"e-\")\n",
    "    elif particle[\"type\"] == \"muon\" and particle[\"charge\"] > 0:\n",
    "        print(\"mu+\")\n",
    "    elif particle[\"type\"] == \"muon\" and particle[\"charge\"] < 0:\n",
    "        print(\"mu-\")"
   ]
  },
  {
   "cell_type": "markdown",
   "id": "13cd843a-0183-4b59-abf6-4bed74971cbe",
   "metadata": {
    "slideshow": {
     "slide_type": "slide"
    },
    "tags": []
   },
   "source": [
    "### From datum (singular) to data (plural)"
   ]
  },
  {
   "cell_type": "markdown",
   "id": "7c9c6d97-e66d-47bb-a126-c995d98d8643",
   "metadata": {},
   "source": [
    "_(Switch out of presentation view.)_"
   ]
  },
  {
   "cell_type": "code",
   "execution_count": null,
   "id": "6fdd7717-d726-4c0c-9e66-a9f790501814",
   "metadata": {
    "slideshow": {
     "slide_type": "slide"
    },
    "tags": []
   },
   "outputs": [],
   "source": [
    "import json"
   ]
  },
  {
   "cell_type": "code",
   "execution_count": null,
   "id": "1970f1fe-ae3d-4d80-a158-50986ffa89b9",
   "metadata": {
    "tags": []
   },
   "outputs": [],
   "source": [
    "dataset = json.load(open(\"data/SMHiggsToZZTo4L.json\"))"
   ]
  },
  {
   "cell_type": "code",
   "execution_count": null,
   "id": "069992ff-8242-4256-981a-391d63df31b3",
   "metadata": {
    "tags": []
   },
   "outputs": [],
   "source": [
    "type(dataset)"
   ]
  },
  {
   "cell_type": "code",
   "execution_count": null,
   "id": "fbae590b-3f5a-4a8a-ad44-bd3add264cce",
   "metadata": {
    "tags": []
   },
   "outputs": [],
   "source": [
    "len(dataset)"
   ]
  },
  {
   "cell_type": "markdown",
   "id": "859aaee1-01dc-4315-982b-0db4127c5bae",
   "metadata": {
    "tags": []
   },
   "source": [
    "Show just the first 3 collision events using a slice, `0:3`."
   ]
  },
  {
   "cell_type": "code",
   "execution_count": null,
   "id": "87aaaaab-47cc-466a-adec-814b8bf98ec9",
   "metadata": {
    "tags": []
   },
   "outputs": [],
   "source": [
    "dataset[0:3]"
   ]
  },
  {
   "cell_type": "markdown",
   "id": "12fccb81-c134-4f46-bc7a-f2e02e03fb59",
   "metadata": {
    "tags": []
   },
   "source": [
    "<br><br>\n",
    "\n",
    "**Meaning of each field.** (We will only use a few of these.)\n",
    "\n",
    " * **run** (int): unique identifier for a data-taking period of the LHC. This is simulated data, so the run number is 1.\n",
    " * **luminosityBlock** (int): unique identifier for a period of relatively stable conditions within a run.\n",
    " * **event** (int): unique identifier for one crossing of LHC bunches.\n",
    " * **PV** (dict): primary vertex of the collision.\n",
    "   - **x** (float): $x$-position in cm.\n",
    "   - **y** (float): $y$-position in cm.\n",
    "   - **z** (float): $z$-position (along the beamline) in cm.\n",
    " * **electron** (list of dict): list of electrons (may be empty).\n",
    "   - **pt** (float): $p_T$ component of momentum transverse to the beamline in GeV/$c$.\n",
    "   - **eta** (float): $\\eta$ pseudorapidity (roughly, polar angle with respect to the beamline), unitless.\n",
    "   - **phi** (float): $\\phi$ azimuthal angle (in the plane that is perpendicular to the beamline), unitless.\n",
    "   - **mass** (float): measured mass of the particle in GeV/$c^2$.\n",
    "   - **charge** (int): either `+1` or `-1`, unitless.\n",
    "   - **pfRelIso03_all** (float): quantity that specifies how isolated this electron is from the rest of the particles in the event, unitless.\n",
    "   - **dxy** (float): distance of closest approach to the primary vertex in the plane that is perpendicular to the beamline, in cm.\n",
    "   - **dxyErr** (float): uncertainty in the **dxy** measurement.\n",
    "   - **dz** (float): distance of closest approach to the primary vertex in $z$, along the beamline, in cm.\n",
    "   - **dzErr** (float): uncertainty in the **dz** measurement.\n",
    " * **muon** (list of dict): list of muons (may be empty) with the same dict fields as **electron**.\n",
    " * **MET** (dict): missing transverse energy (in the plane perpendicular to the beamline).\n",
    "   - **pt** (float): $p_T$ magnitude, in GeV/$c$.\n",
    "   - **phi** (float): $\\phi$ aximuthal angle, unitless.\n",
    "\n",
    "<br><br>"
   ]
  },
  {
   "cell_type": "markdown",
   "id": "57b1b843-ba28-4316-a245-ff8bebef034c",
   "metadata": {
    "tags": []
   },
   "source": [
    "<br><br>\n",
    "\n",
    "**Coordinate transformations:**\n",
    "\n",
    "  * $p_x = p_T \\cos\\phi \\cosh\\eta$\n",
    "  * $p_y = p_T \\sin\\phi \\cosh\\eta$\n",
    "  * $p_z = p_T \\sinh\\eta$\n",
    "\n",
    "  * $\\displaystyle E = \\sqrt{{p_x}^2 + {p_y}^2 + {p_z}^2 + m^2}$\n",
    "\n",
    "<br><br>"
   ]
  },
  {
   "cell_type": "markdown",
   "id": "a59fe9ca-b2ae-49d4-bdd3-8bd445f52b3f",
   "metadata": {
    "tags": []
   },
   "source": [
    "But there's a library for that."
   ]
  },
  {
   "cell_type": "code",
   "execution_count": null,
   "id": "93a49e44-bc5f-4d81-a42d-2f482e82eeb6",
   "metadata": {
    "tags": []
   },
   "outputs": [],
   "source": [
    "import vector"
   ]
  },
  {
   "cell_type": "code",
   "execution_count": null,
   "id": "becf93f8-765f-4cb3-9db0-08599dc0c3e8",
   "metadata": {
    "tags": []
   },
   "outputs": [],
   "source": [
    "def to_vector(particle):\n",
    "    return vector.obj(\n",
    "        pt=particle[\"pt\"],\n",
    "        eta=particle[\"eta\"],\n",
    "        phi=particle[\"phi\"],\n",
    "        mass=particle[\"mass\"],\n",
    "    )"
   ]
  },
  {
   "cell_type": "code",
   "execution_count": null,
   "id": "f5dd2748-2c4a-4fbb-8c11-61fe7d3209d8",
   "metadata": {
    "tags": []
   },
   "outputs": [],
   "source": [
    "for particle in dataset[0][\"muon\"]:\n",
    "    v = to_vector(particle)\n",
    "    print(v.E, v.px, v.py, v.pz)"
   ]
  },
  {
   "cell_type": "markdown",
   "id": "452f42a8-c64d-4d7a-8040-5dd8b929c83b",
   "metadata": {
    "tags": []
   },
   "source": [
    "### Mini-project: let's make an event display"
   ]
  },
  {
   "cell_type": "markdown",
   "id": "c8c4dcee-935f-4984-a10d-3c7023f4048d",
   "metadata": {
    "tags": []
   },
   "source": [
    "There are lots, and lots, and lots of libraries for visualizing data in Python.\n",
    "\n",
    "Matplotlib is the oldest and most popular."
   ]
  },
  {
   "cell_type": "code",
   "execution_count": null,
   "id": "bdc4cc8a-fe67-43ad-a26b-3c7b19e445b6",
   "metadata": {
    "tags": []
   },
   "outputs": [],
   "source": [
    "import matplotlib.pyplot as plt  # conventional short name for Matplotlib\n",
    "from mpl_toolkits.mplot3d import Axes3D"
   ]
  },
  {
   "cell_type": "code",
   "execution_count": null,
   "id": "32486e7f-bc32-4bbe-bd75-e38f0a4deb80",
   "metadata": {
    "tags": []
   },
   "outputs": [],
   "source": [
    "%matplotlib widget\n",
    "\n",
    "fig = plt.figure()"
   ]
  },
  {
   "cell_type": "code",
   "execution_count": null,
   "id": "28139ec2-2a5b-475f-a529-427442efd7b0",
   "metadata": {
    "tags": []
   },
   "outputs": [],
   "source": [
    "fig.clf()  # clear figure\n",
    "ax = fig.add_subplot(111, projection=\"3d\")\n",
    "\n",
    "# 25 Gaussian-distributed (x, y, z) triplets\n",
    "for x, y, z in np.random.normal(0, 1, (25, 3)):\n",
    "    # make a black line from (0, 0, 0) to (x, y, z)\n",
    "    ax.plot([0, x], [0, y], [0, z], c=\"black\")"
   ]
  },
  {
   "cell_type": "code",
   "execution_count": null,
   "id": "f8f10718-0217-4a23-8edf-de015e316dc5",
   "metadata": {
    "tags": []
   },
   "outputs": [],
   "source": [
    "def draw_particle(ax, particle, color):\n",
    "    v = to_vector(particle)\n",
    "    ax.plot([0, v.px], [0, v.py], [0, v.pz], c=color)"
   ]
  },
  {
   "cell_type": "code",
   "execution_count": null,
   "id": "8699a6e6-0719-42de-bd6b-bd4c6da46da6",
   "metadata": {
    "tags": []
   },
   "outputs": [],
   "source": [
    "def draw_event(ax, event):\n",
    "    for particle in event[\"electron\"]:\n",
    "        draw_particle(ax, particle, \"blue\")\n",
    "    for particle in event[\"muon\"]:\n",
    "        draw_particle(ax, particle, \"green\")"
   ]
  },
  {
   "cell_type": "code",
   "execution_count": null,
   "id": "0b17bc0b-48ea-49bc-b711-8bf36b116b34",
   "metadata": {
    "tags": []
   },
   "outputs": [],
   "source": [
    "fig.clf()\n",
    "ax = fig.add_subplot(111, projection=\"3d\")\n",
    "\n",
    "draw_event(ax, dataset[0])"
   ]
  },
  {
   "cell_type": "code",
   "execution_count": null,
   "id": "563cc4be-5bf9-44b1-bb8d-48a29169552f",
   "metadata": {
    "tags": []
   },
   "outputs": [],
   "source": [
    "fig.clf()\n",
    "ax = fig.add_subplot(111, projection=\"3d\")\n",
    "\n",
    "for event in dataset[0:10]:\n",
    "    draw_event(ax, event)"
   ]
  },
  {
   "cell_type": "markdown",
   "id": "258bbccd-c8db-4137-9e1f-308f9cc6200b",
   "metadata": {
    "tags": []
   },
   "source": [
    "Add more to the event display, for context."
   ]
  },
  {
   "cell_type": "code",
   "execution_count": null,
   "id": "b5e5a266-86b6-480d-8e81-34f37360e4a6",
   "metadata": {
    "tags": []
   },
   "outputs": [],
   "source": [
    "def beamline(ax):\n",
    "    ax.plot([0, 0], [0, 0], [-100, 100], c=\"black\", ls=\":\")"
   ]
  },
  {
   "cell_type": "code",
   "execution_count": null,
   "id": "f0e6e9e1-1d4c-4a88-966b-db6f40c81bc4",
   "metadata": {
    "tags": []
   },
   "outputs": [],
   "source": [
    "def cms_outline(ax):\n",
    "    z = np.linspace(-100, 100, 50)\n",
    "    theta = np.linspace(0, 2 * np.pi, 12)\n",
    "    theta_grid, z_grid = np.meshgrid(theta, z)\n",
    "    x_grid = 100 * np.cos(theta_grid)\n",
    "    y_grid = 100 * np.sin(theta_grid)\n",
    "    ax.plot_surface(x_grid, y_grid, z_grid, alpha=0.2, color=\"red\")"
   ]
  },
  {
   "cell_type": "code",
   "execution_count": null,
   "id": "312e68ed-6d35-40e3-afe1-3b0bed3ff339",
   "metadata": {
    "tags": []
   },
   "outputs": [],
   "source": [
    "fig.clf()\n",
    "ax = fig.add_subplot(111, projection=\"3d\")\n",
    "\n",
    "beamline(ax)\n",
    "cms_outline(ax)\n",
    "draw_event(ax, dataset[6417])  # has lots of electrons and muons\n",
    "\n",
    "ax.set_xlim(-100, 100)\n",
    "ax.set_ylim(-100, 100)\n",
    "ax.set_zlim(-100, 100)\n",
    "ax.set_xlabel(\"x\")\n",
    "ax.set_ylabel(\"y\")\n",
    "ax.set_zlabel(\"z\")"
   ]
  },
  {
   "cell_type": "code",
   "execution_count": null,
   "id": "2ccca8bf-d460-404e-90d5-a8361172e1d5",
   "metadata": {
    "tags": []
   },
   "outputs": [],
   "source": [
    "def draw_position_and_momentum(ax, event, particle, color):\n",
    "    # 1 unit is 1 cm\n",
    "    x0 = event[\"PV\"][\"x\"] - particle[\"dxy\"] * np.cos(particle[\"phi\"])\n",
    "    y0 = event[\"PV\"][\"y\"] - particle[\"dxy\"] * np.sin(particle[\"phi\"])\n",
    "    z0 = event[\"PV\"][\"z\"] - particle[\"dz\"]\n",
    "\n",
    "    # 1 unit is 1 GeV/c\n",
    "    v = to_vector(particle)\n",
    "    ax.plot([x0, x0 + v.px], [y0, y0 + v.py], [z0, z0 + v.pz], c=color)"
   ]
  },
  {
   "cell_type": "code",
   "execution_count": null,
   "id": "65269d7d-089a-4c3b-92d2-1dd9928c9a08",
   "metadata": {
    "tags": []
   },
   "outputs": [],
   "source": [
    "fig.clf()\n",
    "ax = fig.add_subplot(111, projection=\"3d\")\n",
    "\n",
    "beamline(ax)\n",
    "\n",
    "event = dataset[6417]  # has lots of electrons and muons\n",
    "\n",
    "for particle in event[\"electron\"]:\n",
    "    draw_position_and_momentum(ax, event, particle, \"blue\")\n",
    "for particle in event[\"muon\"]:\n",
    "    draw_position_and_momentum(ax, event, particle, \"green\")\n",
    "\n",
    "ax.set_xlim(-100, 100)\n",
    "ax.set_ylim(-100, 100)\n",
    "ax.set_zlim(-100, 100)\n",
    "ax.set_xlabel(\"x\")\n",
    "ax.set_ylabel(\"y\")\n",
    "ax.set_zlabel(\"z\")"
   ]
  },
  {
   "cell_type": "markdown",
   "id": "a73a80d8-c340-46dc-a3ec-58a59ab5cd34",
   "metadata": {},
   "source": [
    "### Classes and object-oriented programming"
   ]
  },
  {
   "cell_type": "markdown",
   "id": "1c2e0175-4229-4428-9400-35f4d1ecf55a",
   "metadata": {
    "tags": []
   },
   "source": [
    "So far, we have only been using a few Python types:\n",
    "\n",
    "  * int\n",
    "  * float\n",
    "  * string\n",
    "  * list\n",
    "  * dict\n",
    "  * whatever the libraries provide"
   ]
  },
  {
   "cell_type": "code",
   "execution_count": null,
   "id": "454b6460-0c1b-4e84-abfe-6adf8a2f83ba",
   "metadata": {},
   "outputs": [],
   "source": [
    "type(muon)"
   ]
  },
  {
   "cell_type": "code",
   "execution_count": null,
   "id": "d69201a0-c554-4841-9a36-a99180e8619e",
   "metadata": {},
   "outputs": [],
   "source": [
    "type(fig)"
   ]
  },
  {
   "cell_type": "code",
   "execution_count": null,
   "id": "0b1636f4-be01-415d-ba94-a8be70ab50f7",
   "metadata": {},
   "outputs": [],
   "source": [
    "type(ax)"
   ]
  },
  {
   "cell_type": "code",
   "execution_count": null,
   "id": "290fd58d-bff2-4f8e-8273-55df6cf900da",
   "metadata": {
    "tags": []
   },
   "outputs": [],
   "source": [
    "type(v)"
   ]
  },
  {
   "cell_type": "markdown",
   "id": "fab07751-7645-4162-bc9b-9a2535557d7c",
   "metadata": {
    "tags": []
   },
   "source": [
    "<br><br><br><br><br>\n",
    "\n",
    "The electrons, muons, and events in our dataset really want to be classes.\n",
    "\n",
    "<br><br>\n",
    "\n",
    "A class is a new type with **attributes** (variables) and **methods** (functions) that can be accessed by the dot-syntax.\n",
    "\n",
    "<br><br>\n",
    "\n",
    "The biggest difference between a **method** and a **function** is that it always takes `self` (the object) as its first argument.\n",
    "\n",
    "<br><br>\n",
    "\n",
    "Methods with names like `__xyz__` give the object special abilities.\n",
    "\n",
    "<br><br><br><br><br>"
   ]
  },
  {
   "cell_type": "code",
   "execution_count": null,
   "id": "73b3ebbb-1f74-44a5-8e72-7058b5fbe46d",
   "metadata": {},
   "outputs": [],
   "source": [
    "class Electron:\n",
    "    def __init__(self, E, px, py, pz):\n",
    "        self.E = E\n",
    "        self.px = px\n",
    "        self.py = py\n",
    "        self.pz = pz\n",
    "\n",
    "    def __repr__(self):\n",
    "        return f\"<Electron E={self.E} px={self.px} py={self.py} pz={self.pz}>\"\n",
    "\n",
    "    def draw(self, ax):\n",
    "        ax.plot([0, self.px], [0, self.py], [0, self.pz], c=\"blue\")"
   ]
  },
  {
   "cell_type": "code",
   "execution_count": null,
   "id": "89412980-adb1-4e36-a7c8-c36c88273463",
   "metadata": {
    "tags": []
   },
   "outputs": [],
   "source": [
    "event = dataset[96]  # a nice event with 3 electrons and 3 muons\n",
    "\n",
    "electron_objects = []\n",
    "for particle in event[\"electron\"]:\n",
    "    v = to_vector(particle)\n",
    "    electron_objects.append(Electron(v.E, v.px, v.py, v.pz))\n",
    "\n",
    "electron_objects"
   ]
  },
  {
   "cell_type": "code",
   "execution_count": null,
   "id": "5558b522-2de6-40b7-96a2-adee0b83b5f9",
   "metadata": {},
   "outputs": [],
   "source": [
    "class Muon:\n",
    "    def __init__(self, E, px, py, pz):\n",
    "        self.E = E\n",
    "        self.px = px\n",
    "        self.py = py\n",
    "        self.pz = pz\n",
    "\n",
    "    def __repr__(self):\n",
    "        return f\"<Muon E={self.E} px={self.px} py={self.py} pz={self.pz}>\"\n",
    "\n",
    "    def draw(self, ax):\n",
    "        ax.plot([0, self.px], [0, self.py], [0, self.pz], c=\"green\")"
   ]
  },
  {
   "cell_type": "code",
   "execution_count": null,
   "id": "c745613a-7882-4ccc-adff-a8ae7b87d1f7",
   "metadata": {
    "tags": []
   },
   "outputs": [],
   "source": [
    "event = dataset[96]  # a nice event with 3 electrons and 3 muons\n",
    "\n",
    "muon_objects = []\n",
    "for particle in event[\"muon\"]:\n",
    "    v = to_vector(particle)\n",
    "    muon_objects.append(Muon(v.E, v.px, v.py, v.pz))\n",
    "\n",
    "muon_objects"
   ]
  },
  {
   "cell_type": "code",
   "execution_count": null,
   "id": "1917eebc-ef1c-4f90-9b65-3cc0945d0786",
   "metadata": {},
   "outputs": [],
   "source": [
    "fig.clf()\n",
    "ax = fig.add_subplot(111, projection=\"3d\")\n",
    "\n",
    "beamline(ax)\n",
    "cms_outline(ax)\n",
    "\n",
    "for electron in electron_objects:\n",
    "    electron.draw(ax)\n",
    "\n",
    "for muon in muon_objects:\n",
    "    muon.draw(ax)"
   ]
  },
  {
   "cell_type": "markdown",
   "id": "13709d80-3a66-4a36-8a0e-c6dbaa426239",
   "metadata": {
    "tags": []
   },
   "source": [
    "<br><br><br><br><br>\n",
    "\n",
    "The above works, but there's some redundancy: the implementation of `Muon` is almost the same as that of `Electron`.\n",
    "\n",
    "<br><br>\n",
    "\n",
    "Classes also let us share code among similar types by defining some as _subclasses_ of others.\n",
    "\n",
    "<br><br><br><br><br>"
   ]
  },
  {
   "cell_type": "code",
   "execution_count": null,
   "id": "e9cecbfe-fb69-41e9-b905-5ec628f9c41c",
   "metadata": {},
   "outputs": [],
   "source": [
    "class Particle:\n",
    "    def __init__(self, E, px, py, pz):\n",
    "        self.E = E\n",
    "        self.px = px\n",
    "        self.py = py\n",
    "        self.pz = pz\n",
    "\n",
    "    def __repr__(self):\n",
    "        return (\n",
    "            f\"<{type(self).__name__} E={self.E} px={self.px} py={self.py} pz={self.pz}>\"\n",
    "        )\n",
    "\n",
    "    def draw(self, ax):\n",
    "        raise NotImplementedError(f\"{type(self).__name__} has not been implemented yet\")"
   ]
  },
  {
   "cell_type": "code",
   "execution_count": null,
   "id": "1c86f181-e3dc-43be-bc49-3c565507cfe3",
   "metadata": {
    "tags": []
   },
   "outputs": [],
   "source": [
    "class Electron(Particle):\n",
    "    def draw(self, ax):\n",
    "        ax.plot([0, self.px], [0, self.py], [0, self.pz], c=\"blue\")"
   ]
  },
  {
   "cell_type": "code",
   "execution_count": null,
   "id": "93c10cf3-00ed-430c-bb82-ac18496775c2",
   "metadata": {
    "tags": []
   },
   "outputs": [],
   "source": [
    "class Muon(Particle):\n",
    "    def draw(self, ax):\n",
    "        ax.plot([0, self.px], [0, self.py], [0, self.pz], c=\"green\")"
   ]
  },
  {
   "cell_type": "code",
   "execution_count": null,
   "id": "a7d584f0-3566-4062-86fc-f1045f6eb2af",
   "metadata": {},
   "outputs": [],
   "source": [
    "event = dataset[96]  # a nice event with 3 electrons and 3 muons\n",
    "\n",
    "electron_objects = []\n",
    "for particle in event[\"electron\"]:\n",
    "    v = to_vector(particle)\n",
    "    electron_objects.append(Electron(v.E, v.px, v.py, v.pz))\n",
    "\n",
    "muon_objects = []\n",
    "for particle in event[\"muon\"]:\n",
    "    v = to_vector(particle)\n",
    "    muon_objects.append(Muon(v.E, v.px, v.py, v.pz))\n",
    "\n",
    "fig.clf()\n",
    "ax = fig.add_subplot(111, projection=\"3d\")\n",
    "\n",
    "beamline(ax)\n",
    "cms_outline(ax)\n",
    "\n",
    "for electron in electron_objects:\n",
    "    electron.draw(ax)\n",
    "\n",
    "for muon in muon_objects:\n",
    "    muon.draw(ax)"
   ]
  },
  {
   "cell_type": "markdown",
   "id": "464f0953-1b6b-486a-b980-cec16f05df7c",
   "metadata": {
    "tags": []
   },
   "source": [
    "<br><br><br><br><br>\n",
    "\n",
    "This is the end of the \"Tour of Python syntax\" section.\n",
    "\n",
    "<br><br>\n",
    "\n",
    "A few more Python features may be introduced as we go along, but it won't be the main focus anymore.\n",
    "\n",
    "<br><br><br><br><br>"
   ]
  },
  {
   "cell_type": "markdown",
   "id": "a6cc426a-3eb5-4b80-81b7-c67e131a0316",
   "metadata": {},
   "source": [
    "## Exercise: find all Higgs candidates in one event"
   ]
  },
  {
   "cell_type": "markdown",
   "id": "102f9d54-27d3-4b13-a45b-c38de7caa165",
   "metadata": {
    "tags": []
   },
   "source": [
    "Take the generic `Particle` class one step further and define"
   ]
  },
  {
   "cell_type": "code",
   "execution_count": null,
   "id": "b62fb9df-5144-4048-9a93-0dee6a4d2d9c",
   "metadata": {},
   "outputs": [],
   "source": [
    "class Particle:\n",
    "    def __init__(self, E, px, py, pz, charge, flavor):\n",
    "        self.E = E\n",
    "        self.px = px\n",
    "        self.py = py\n",
    "        self.pz = pz\n",
    "        self.charge = charge\n",
    "        self.flavor = flavor\n",
    "\n",
    "    def __repr__(self):\n",
    "        return f\"<{type(self).__name__} E={self.E} px={self.px} py={self.py} pz={self.pz} charge={self.charge} flavor={self.flavor!r}>\"\n",
    "\n",
    "    # the '__add__' method gives meaning to 'particle + particle'\n",
    "    def __add__(self, other):\n",
    "        return Particle(\n",
    "            self.E + other.E,\n",
    "            self.px + other.px,\n",
    "            self.py + other.py,\n",
    "            self.pz + other.pz,\n",
    "            self.charge + other.charge,\n",
    "            \"none\"\n",
    "            if self.charge + other.charge == 0\n",
    "            else f\"{self.flavor}-{other.flavor}\",\n",
    "        )\n",
    "\n",
    "    # '@property' means we can call this method without parentheses, as though it were an attribute\n",
    "    @property\n",
    "    def mass(self):\n",
    "        return vector.obj(E=self.E, px=self.px, py=self.py, pz=self.pz).mass"
   ]
  },
  {
   "cell_type": "code",
   "execution_count": null,
   "id": "42f2f255-e69f-4e1b-af3e-ce9a17f1332a",
   "metadata": {
    "tags": []
   },
   "outputs": [],
   "source": [
    "# Lepton is a generic word for electrons, muons, and tau particles; the three types are called \"flavors\".\n",
    "leptons = []\n",
    "\n",
    "event = dataset[96]  # a nice event with 3 electrons and 3 muons\n",
    "\n",
    "for particle in event[\"electron\"]:\n",
    "    v = to_vector(particle)\n",
    "    leptons.append(Particle(v.E, v.px, v.py, v.pz, particle[\"charge\"], \"electron\"))\n",
    "\n",
    "for particle in event[\"muon\"]:\n",
    "    v = to_vector(particle)\n",
    "    leptons.append(Particle(v.E, v.px, v.py, v.pz, particle[\"charge\"], \"muon\"))\n",
    "\n",
    "leptons"
   ]
  },
  {
   "cell_type": "markdown",
   "id": "eb5dd130-4fc5-4c70-bb2a-145b28bb9197",
   "metadata": {
    "tags": []
   },
   "source": [
    "The `__add__` function lets us combine two particles to get what their parent `Particle` would be _if_ those particles come from the same decay."
   ]
  },
  {
   "cell_type": "code",
   "execution_count": null,
   "id": "bdf0d6a9-c5a1-470f-8262-96153b42879d",
   "metadata": {
    "tags": []
   },
   "outputs": [],
   "source": [
    "z_boson = leptons[0] + leptons[2]\n",
    "z_boson"
   ]
  },
  {
   "cell_type": "code",
   "execution_count": null,
   "id": "01004538-1b57-4721-8d44-c65b02e5356e",
   "metadata": {
    "tags": []
   },
   "outputs": [],
   "source": [
    "z_boson.mass"
   ]
  },
  {
   "cell_type": "markdown",
   "id": "4da9a368-5ac9-456a-bbf4-9885a310919a",
   "metadata": {
    "tags": []
   },
   "source": [
    "We don't know, with certainty, which particles are from the same decay and which particles are from different decays, so these are only \"candidates\".\n",
    "\n",
    "In the following, we use `enumerate`:\n",
    "\n",
    "```python\n",
    "list(enumerate([\"a\", \"b\", \"c\"])) == [(0, \"a\"), (1, \"b\"), (2, \"c\")]\n",
    "```\n",
    "\n",
    "and `i < j` to ensure that if we include lepton pair $(i, j)$, we don't also include $(j, i)$."
   ]
  },
  {
   "cell_type": "code",
   "execution_count": null,
   "id": "c7a8227a-5362-4523-b6b4-baaa11f4a0f1",
   "metadata": {
    "tags": []
   },
   "outputs": [],
   "source": [
    "z_candidates_step0 = []\n",
    "for i, lepton_i in enumerate(leptons):\n",
    "    for j, lepton_j in enumerate(leptons):\n",
    "        if i < j:\n",
    "            z_candidates_step0.append({\"index\": [i, j], \"Z boson\": lepton_i + lepton_j})"
   ]
  },
  {
   "cell_type": "markdown",
   "id": "2a573809-7b4a-4b44-b00e-569b1de8f9a9",
   "metadata": {
    "tags": []
   },
   "source": [
    "There are 15 unique lepton pairs in this event."
   ]
  },
  {
   "cell_type": "code",
   "execution_count": null,
   "id": "52df8184-1f6e-473a-af88-8909f11322cf",
   "metadata": {
    "tags": []
   },
   "outputs": [],
   "source": [
    "len(z_candidates_step0)"
   ]
  },
  {
   "cell_type": "markdown",
   "id": "c0a397fe-02cc-4ecb-b61d-dff4763889fb",
   "metadata": {
    "tags": []
   },
   "source": [
    "<img src=\"img/higgs-to-four-leptons-diagram.png\" width=\"600\">\n",
    "\n",
    "**Exercise part 1:** Z bosons have zero charge and no flavor. Reduce the set of candidates by excluding ones with the wrong properties."
   ]
  },
  {
   "cell_type": "code",
   "execution_count": null,
   "id": "3009c7fd-b1d7-4ef2-a35a-e2d96e0c1099",
   "metadata": {
    "tags": []
   },
   "outputs": [],
   "source": [
    "z_candidates_step1 = []\n",
    "for candidate in z_candidates_step0:\n",
    "    i, j = candidate[\"index\"]\n",
    "    z_boson = candidate[\"Z boson\"]\n",
    "    if ...:\n",
    "        z_candidates_step1.append(candidate)"
   ]
  },
  {
   "cell_type": "markdown",
   "id": "455727a9-d136-4c08-a26a-066eddccb373",
   "metadata": {
    "tags": []
   },
   "source": [
    "The number of Z boson candidates you have left should be 8."
   ]
  },
  {
   "cell_type": "code",
   "execution_count": null,
   "id": "ea889ce6-0578-45dd-a603-5aa948774261",
   "metadata": {
    "tags": []
   },
   "outputs": [],
   "source": [
    "len(z_candidates_step1)"
   ]
  },
  {
   "cell_type": "markdown",
   "id": "3105bafa-08e2-45ba-bcf2-c769a065eef4",
   "metadata": {
    "tags": []
   },
   "source": [
    "Print the masses of these Z boson candidates. They should be\n",
    "\n",
    "| Z mass (GeV/$c^2$) |\n",
    "|-----------------:|\n",
    "| 94.65200565609616 |\n",
    "| 62.03397488944119 |\n",
    "|  3.41705043610203 |\n",
    "|  3.08773290949845 |\n",
    "| 45.69023328291948 |\n",
    "|  3.66225837801406 |\n",
    "| 26.45024522236556 |\n",
    "|  3.27373703909123 |"
   ]
  },
  {
   "cell_type": "code",
   "execution_count": null,
   "id": "1a9e499a-15a1-43bd-90a9-de83547cfe9e",
   "metadata": {
    "tags": []
   },
   "outputs": [],
   "source": [
    "for candidate in z_candidates_step1:\n",
    "    i, j = candidate[\"index\"]\n",
    "    z_boson = candidate[\"Z boson\"]\n",
    "    print(z_boson.mass)"
   ]
  },
  {
   "cell_type": "markdown",
   "id": "19e15435-e8a4-4504-a431-49d6aa115e81",
   "metadata": {
    "tags": []
   },
   "source": [
    "**Exercise part 2:** The Higgs boson decays into two Z bosons. The only constraint here is that the two Z bosons can't be \"made of\" the same leptons."
   ]
  },
  {
   "cell_type": "code",
   "execution_count": null,
   "id": "5c06a882-b1b8-4490-95cb-19eabfe40ab2",
   "metadata": {
    "tags": []
   },
   "outputs": [],
   "source": [
    "higgs_candidates_step1 = []\n",
    "\n",
    "for z_index1, z_candidate1 in enumerate(z_candidates_step1):\n",
    "    for z_index2, z_candidate2 in enumerate(z_candidates_step1):\n",
    "        if z_index1 < z_index2:\n",
    "            lepton_i1, lepton_j1 = z_candidate1[\"index\"]\n",
    "            lepton_i2, lepton_j2 = z_candidate2[\"index\"]\n",
    "            z_boson1 = z_candidate1[\"Z boson\"]\n",
    "            z_boson2 = z_candidate2[\"Z boson\"]\n",
    "\n",
    "            if ...:\n",
    "                higgs_candidates_step1.append(\n",
    "                    {\n",
    "                        \"index\": [lepton_i1, lepton_j1, lepton_i2, lepton_j2],\n",
    "                        \"H boson\": z_boson1 + z_boson2,\n",
    "                        \"Z bosons\": [z_boson1, z_boson2],\n",
    "                    }\n",
    "                )"
   ]
  },
  {
   "cell_type": "markdown",
   "id": "13474ff6-8f68-4efa-bfed-06ae6d355f8e",
   "metadata": {
    "tags": []
   },
   "source": [
    "The number of Higgs candidates should be 12."
   ]
  },
  {
   "cell_type": "code",
   "execution_count": null,
   "id": "5460d077-6712-4343-8373-58ed1e6f22b3",
   "metadata": {
    "tags": []
   },
   "outputs": [],
   "source": [
    "len(higgs_candidates_step1)"
   ]
  },
  {
   "cell_type": "markdown",
   "id": "8c4840a1-27bd-4418-a54c-5c9661e4cd81",
   "metadata": {
    "tags": []
   },
   "source": [
    "That's still too many. Each of these events were simulated with exactly one Higgs boson.\n",
    "\n",
    "To see what the matter might be, print out the indexes and the masses of these candidates. It should be\n",
    "\n",
    "| index | H mass (GeV/$c^2$) |\n",
    "|:-----:|------------------:|\n",
    "| [0, 2, 1, 3] | 118.2598039063236 |\n",
    "| [0, 2, 3, 4] | 129.0346159691587 |\n",
    "| [0, 2, 3, 5] | 118.8311777089632 |\n",
    "| [0, 3, 1, 2] | 118.2598039063236 |\n",
    "| [0, 3, 2, 4] | 129.0346159691587 |\n",
    "| [0, 3, 2, 5] | 118.8311777089631 |\n",
    "| [1, 2, 3, 4] |  56.1098916972126 |\n",
    "| [1, 2, 3, 5] |  12.7507340718563 |\n",
    "| [1, 3, 2, 4] |  56.1098916972126 |\n",
    "| [1, 3, 2, 5] |  12.7507340718557 |\n",
    "| [2, 4, 3, 5] |  56.3856286987971 |\n",
    "| [2, 5, 3, 4] |  56.3856286987971 |"
   ]
  },
  {
   "cell_type": "code",
   "execution_count": null,
   "id": "75807415-4e70-4e27-bb23-aedb7e8f09e5",
   "metadata": {
    "tags": []
   },
   "outputs": [],
   "source": [
    "for higgs_candidate in higgs_candidates_step1:\n",
    "    print(higgs_candidate[\"index\"], higgs_candidate[\"H boson\"].mass)"
   ]
  },
  {
   "cell_type": "markdown",
   "id": "695a7e8f-ab34-4904-987e-cf656ba9f0b7",
   "metadata": {
    "tags": []
   },
   "source": [
    "Even though each candidate avoids double-counting within itself, the same combination of four indexes can be found among the candidates. We want only one of each.\n",
    "\n",
    "Let's collect these Higgs candidates by unique sets of indexes. The `sorted` function sorts a list, and `tuple` makes it possible to use them as keys in a dict."
   ]
  },
  {
   "cell_type": "code",
   "execution_count": null,
   "id": "7f6d9ed4-8464-41ae-b45e-01b3c56b0725",
   "metadata": {
    "tags": []
   },
   "outputs": [],
   "source": [
    "higgs_candidates_step2 = {}\n",
    "\n",
    "for higgs_candidate in higgs_candidates_step1:\n",
    "    combination = tuple(sorted(higgs_candidate[\"index\"]))\n",
    "\n",
    "    if combination not in higgs_candidates_step2:\n",
    "        higgs_candidates_step2[combination] = []\n",
    "\n",
    "    higgs_candidates_step2[combination].append(higgs_candidate)"
   ]
  },
  {
   "cell_type": "markdown",
   "id": "62ba2f15-a4a5-4d82-a885-cbda38bac3ec",
   "metadata": {
    "tags": []
   },
   "source": [
    "This `higgs_candidates_step2` has deep structure:\n",
    "\n",
    "  * Keys are sets combinations of lepton indexes, without regard for their original order.\n",
    "  * Values are a list of decay trees.\n",
    "    - Each element of that list has a candidate Higgs mass and two candidate Z masses."
   ]
  },
  {
   "cell_type": "code",
   "execution_count": null,
   "id": "3620dc5f-f7fa-41bc-8322-df7e1affbdf1",
   "metadata": {
    "tags": []
   },
   "outputs": [],
   "source": [
    "for combination in higgs_candidates_step2:\n",
    "    print(combination)\n",
    "    for higgs_candidate in higgs_candidates_step2[combination]:\n",
    "        z_boson1, z_boson2 = higgs_candidate[\"Z bosons\"]\n",
    "        print(\n",
    "            \"    Higgs:\",\n",
    "            higgs_candidate[\"H boson\"].mass,\n",
    "            \"Z:\",\n",
    "            z_boson1.mass,\n",
    "            z_boson2.mass,\n",
    "        )"
   ]
  },
  {
   "cell_type": "markdown",
   "id": "88a7de7d-8808-4cd7-b3de-b1ded8d30c35",
   "metadata": {
    "tags": []
   },
   "source": [
    "One of the selections that the 2012 Higgs discovery analysis applied was:\n",
    "\n",
    "  * 12 GeV/$c^2$ < smallest Z mass < 120 GeV/$c^2$\n",
    "  * 40 GeV/$c^2$ < largest Z mass < 120 GeV/$c^2$\n",
    "\n",
    "because this is expected of real Higgs decays.\n",
    "\n",
    "**Exercise part 3:** Apply the Z mass constraint to these Higgs candidates."
   ]
  },
  {
   "cell_type": "code",
   "execution_count": null,
   "id": "b09a1766-e597-4432-b09d-8e25987fd251",
   "metadata": {
    "tags": []
   },
   "outputs": [],
   "source": [
    "higgs_candidates_step3 = {}\n",
    "\n",
    "for combination in higgs_candidates_step2:\n",
    "    higgs_candidates_step3[combination] = []\n",
    "\n",
    "    for higgs_candidate in higgs_candidates_step2[combination]:\n",
    "        z_boson1, z_boson2 = higgs_candidate[\"Z bosons\"]\n",
    "        z_masses = ...\n",
    "\n",
    "        if ...:\n",
    "            higgs_candidates_step3[combination].append(higgs_candidate)"
   ]
  },
  {
   "cell_type": "markdown",
   "id": "6dff777d-7afe-4705-9caf-e187a3dc9e46",
   "metadata": {
    "tags": []
   },
   "source": [
    "In the end,"
   ]
  },
  {
   "cell_type": "code",
   "execution_count": null,
   "id": "9528e137-3980-4063-a571-f20b4f58047b",
   "metadata": {
    "tags": []
   },
   "outputs": [],
   "source": [
    "for combination in higgs_candidates_step3:\n",
    "    print(combination)\n",
    "    for higgs_candidate in higgs_candidates_step3[combination]:\n",
    "        z_boson1, z_boson2 = higgs_candidate[\"Z bosons\"]\n",
    "        print(\n",
    "            \"    Higgs:\",\n",
    "            higgs_candidate[\"H boson\"].mass,\n",
    "            \"Z:\",\n",
    "            z_boson1.mass,\n",
    "            z_boson2.mass,\n",
    "        )"
   ]
  },
  {
   "cell_type": "markdown",
   "id": "e01c685d-7676-4860-8a7d-03b388ed677d",
   "metadata": {
    "tags": []
   },
   "source": [
    "should be\n",
    "\n",
    "```\n",
    "(0, 1, 2, 3)\n",
    "(0, 2, 3, 4)\n",
    "    Higgs: 129.03461596915875 Z: 94.65200565609616 26.45024522236556\n",
    "    Higgs: 129.03461596915875 Z: 62.03397488944119 45.69023328291948\n",
    "(0, 2, 3, 5)\n",
    "(1, 2, 3, 4)\n",
    "(1, 2, 3, 5)\n",
    "(2, 3, 4, 5)\n",
    "```\n",
    "\n",
    "In other words, there's only one combination of 4 leptons for this event, but that one Higgs might be divided up among Z bosons in two different ways."
   ]
  },
  {
   "cell_type": "markdown",
   "id": "623f1d10-4033-4c1d-98cc-4bb770310423",
   "metadata": {
    "tags": []
   },
   "source": [
    "<br><br><br><br><br>\n",
    "\n",
    "This aspect of particle physics—the fact that observed particles can be associated with a decay tree in multiple ways—is known as \"combinatorics.\"\n",
    "\n",
    "<br><br>\n",
    "\n",
    "Complex, nested data structures and combinatorics are essential aspects of particle physics analysis.\n",
    "\n",
    "<br><br><br><br><br>"
   ]
  }
 ],
 "metadata": {
  "kernelspec": {
   "display_name": "Python 3 (ipykernel)",
   "language": "python",
   "name": "python3"
  },
  "language_info": {
   "codemirror_mode": {
    "name": "ipython",
    "version": 3
   },
   "file_extension": ".py",
   "mimetype": "text/x-python",
   "name": "python",
   "nbconvert_exporter": "python",
   "pygments_lexer": "ipython3",
   "version": "3.9.15"
  }
 },
 "nbformat": 4,
 "nbformat_minor": 5
}
