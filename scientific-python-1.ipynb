{
 "cells": [
  {
   "cell_type": "markdown",
   "id": "90f590de-0af1-4a9e-8066-e0725da7fcd0",
   "metadata": {},
   "source": [
    "# Scientific Python: 1"
   ]
  },
  {
   "cell_type": "markdown",
   "id": "9419771b-50d0-4d46-8bb1-12a85597f137",
   "metadata": {
    "tags": []
   },
   "source": [
    "<br><br><br>\n",
    "\n",
    "<span style=\"font-size: 24pt; font-weight: bold\">Why Python?</span>\n",
    "\n",
    "<br><br><br>"
   ]
  },
  {
   "cell_type": "markdown",
   "id": "65216c98-b839-4e7d-937e-a3b37c62d3c7",
   "metadata": {
    "tags": []
   },
   "source": [
    "<br><br><br>\n",
    "\n",
    "Python's most useful feature is that **it is widely used** for data analysis and machine learning.\n",
    "\n",
    "<img src=\"img/analytics-by-language.svg\">\n",
    "\n",
    "<br><br><br>"
   ]
  },
  {
   "cell_type": "markdown",
   "id": "b9d82b15-5962-460e-a70e-b894e512f81b",
   "metadata": {
    "tags": []
   },
   "source": [
    "<br><br><br>\n",
    "\n",
    "Being popular means that is is **well-connected**. Just about everything has a Python interface.\n",
    "\n",
    "<br><br>\n",
    "\n",
    "(And being popular makes it well-connected... Round and round we go!)\n",
    "\n",
    "<br><br><br>"
   ]
  },
  {
   "cell_type": "markdown",
   "id": "23a6436f-6cd8-49bf-99c7-8f2faa7d431d",
   "metadata": {
    "tags": []
   },
   "source": [
    "<br><br><br>\n",
    "\n",
    "In these four tutorials, we'll look at the ways Python is used in particle physics and science in general.\n",
    "\n",
    "<br><br>\n",
    "\n",
    "But first, we should review Python syntax, since we'll be using it so much.\n",
    "\n",
    "<br><br>\n",
    "\n",
    "I'll do it in the context of analyzing particle data, for fun.\n",
    "\n",
    "<br><br><br>"
   ]
  },
  {
   "cell_type": "markdown",
   "id": "261a513f-4aac-47ec-b1ec-1ba710b63949",
   "metadata": {},
   "source": [
    "## Navigation in Jupyter"
   ]
  },
  {
   "cell_type": "markdown",
   "id": "024cdc13-257b-400d-b749-6c1ef061d7f4",
   "metadata": {},
   "source": [
    "<br><br><br>\n",
    "\n",
    "1. Click the \"...\" to make a cell visible, but don't go ahead of me: follow along!\n",
    "2. Click a code cell to edit it.\n",
    "3. Control-enter to run the cell.\n",
    "4. Shift-enter to run the cell and move to the next one.\n",
    "\n",
    "<br><br><br>"
   ]
  },
  {
   "cell_type": "markdown",
   "id": "1efa4644-5ccc-4a54-b6f0-cc5451a93e72",
   "metadata": {},
   "source": [
    "## Review of Python syntax"
   ]
  },
  {
   "cell_type": "markdown",
   "id": "af5c1f26-88f0-4d9e-94e2-d816dc1d38d5",
   "metadata": {},
   "source": [
    "### Desk calculator: variables and expressions"
   ]
  },
  {
   "cell_type": "code",
   "execution_count": 1,
   "id": "d904b574-9700-4f1c-a740-64574cf2af9b",
   "metadata": {
    "tags": []
   },
   "outputs": [
    {
     "data": {
      "text/plain": [
       "4"
      ]
     },
     "execution_count": 1,
     "metadata": {},
     "output_type": "execute_result"
    }
   ],
   "source": [
    "2 + 2"
   ]
  },
  {
   "cell_type": "code",
   "execution_count": 80,
   "id": "74a93e7f-9fa7-4f03-bdee-8ecba30b58f1",
   "metadata": {
    "tags": []
   },
   "outputs": [],
   "source": [
    "E = 68.1289790\n",
    "px = -17.945541\n",
    "py = 13.1652603\n",
    "pz = 64.3908386"
   ]
  },
  {
   "cell_type": "code",
   "execution_count": 3,
   "id": "b2d179d1-ca23-4afc-85b5-f8823b79ccf7",
   "metadata": {
    "tags": []
   },
   "outputs": [
    {
     "data": {
      "text/plain": [
       "-17.945541"
      ]
     },
     "execution_count": 3,
     "metadata": {},
     "output_type": "execute_result"
    }
   ],
   "source": [
    "px"
   ]
  },
  {
   "cell_type": "markdown",
   "id": "e9ed7c49-f55c-43f5-b3a6-1c906a8267dc",
   "metadata": {},
   "source": [
    "${p_x}^2 + {p_y}^2$"
   ]
  },
  {
   "cell_type": "code",
   "execution_count": 4,
   "id": "ae32ac79-beae-42bd-90d3-162521c7ea7e",
   "metadata": {
    "tags": []
   },
   "outputs": [
    {
     "data": {
      "text/plain": [
       "495.36652054943704"
      ]
     },
     "execution_count": 4,
     "metadata": {},
     "output_type": "execute_result"
    }
   ],
   "source": [
    "px**2 + py**2"
   ]
  },
  {
   "cell_type": "markdown",
   "id": "9acf20ab-7181-46e8-9f23-2e771d154744",
   "metadata": {},
   "source": [
    "$\\displaystyle \\sqrt{{p_x}^2 + {p_y}^2 + {p_z}^2}$"
   ]
  },
  {
   "cell_type": "code",
   "execution_count": 5,
   "id": "ab6875ea-e813-4653-8230-1fbab0a5ddbd",
   "metadata": {
    "tags": []
   },
   "outputs": [
    {
     "data": {
      "text/plain": [
       "68.12889707136529"
      ]
     },
     "execution_count": 5,
     "metadata": {},
     "output_type": "execute_result"
    }
   ],
   "source": [
    "(px**2 + py**2 + pz**2) ** (1 / 2)"
   ]
  },
  {
   "cell_type": "markdown",
   "id": "38e7e423-cfc1-4006-ab61-81eb7a36a074",
   "metadata": {},
   "source": [
    "$\\displaystyle p = \\sqrt{{p_x}^2 + {p_y}^2 + {p_z}^2}$\n",
    "\n",
    "$\\displaystyle m = \\sqrt{E^2 - p^2}$"
   ]
  },
  {
   "cell_type": "markdown",
   "id": "9816e6f1-f064-4220-a2fa-bec0143c3f9a",
   "metadata": {},
   "source": [
    "**Quizlet:** fix the mistake!"
   ]
  },
  {
   "cell_type": "code",
   "execution_count": 6,
   "id": "139fb64d-a112-4728-b43e-6d6d1f59ab9c",
   "metadata": {
    "tags": []
   },
   "outputs": [
    {
     "data": {
      "text/plain": [
       "92.94632597460625"
      ]
     },
     "execution_count": 6,
     "metadata": {},
     "output_type": "execute_result"
    }
   ],
   "source": [
    "m = (E**2 - px**2 + py**2 + pz**2) ** (1 / 2)\n",
    "m"
   ]
  },
  {
   "cell_type": "markdown",
   "id": "6b36ddd5-069e-492c-840a-2cf250279cd8",
   "metadata": {},
   "source": [
    "### Functions"
   ]
  },
  {
   "cell_type": "code",
   "execution_count": 7,
   "id": "1a09d5ef-c2d1-4d33-945f-060d51fd6050",
   "metadata": {
    "tags": []
   },
   "outputs": [],
   "source": [
    "def euclidean(x, y, z):\n",
    "    return (x**2 + y**2 + z**2) ** (1 / 2)"
   ]
  },
  {
   "cell_type": "code",
   "execution_count": 8,
   "id": "ebf5024d-26a7-44c1-8b78-29cace9177f3",
   "metadata": {
    "tags": []
   },
   "outputs": [
    {
     "data": {
      "text/plain": [
       "68.12889707136529"
      ]
     },
     "execution_count": 8,
     "metadata": {},
     "output_type": "execute_result"
    }
   ],
   "source": [
    "euclidean(px, py, pz)"
   ]
  },
  {
   "cell_type": "code",
   "execution_count": 9,
   "id": "7109688d-89b8-4ae3-8bcd-910beb926ac8",
   "metadata": {
    "tags": []
   },
   "outputs": [],
   "source": [
    "def minkowski(time, space):\n",
    "    return (time**2 - space**2) ** (1 / 2)"
   ]
  },
  {
   "cell_type": "code",
   "execution_count": 10,
   "id": "c2e22df2-eccc-4d9f-9419-dfc9b42e283f",
   "metadata": {
    "tags": []
   },
   "outputs": [
    {
     "data": {
      "text/plain": [
       "0.10565709515008793"
      ]
     },
     "execution_count": 10,
     "metadata": {},
     "output_type": "execute_result"
    }
   ],
   "source": [
    "minkowski(E, euclidean(px, py, pz))"
   ]
  },
  {
   "cell_type": "markdown",
   "id": "f640e37c-a201-4922-90d1-36f1e041a07d",
   "metadata": {},
   "source": [
    "How does indenting work?"
   ]
  },
  {
   "cell_type": "code",
   "execution_count": 11,
   "id": "98a9e1b2-9b78-4e5f-b9ad-c15019733ff9",
   "metadata": {
    "tags": []
   },
   "outputs": [
    {
     "data": {
      "text/plain": [
       "0.10565709515008793"
      ]
     },
     "execution_count": 11,
     "metadata": {},
     "output_type": "execute_result"
    }
   ],
   "source": [
    "def mass(E, px, py, pz):\n",
    "    def euclidean(x, y, z):\n",
    "        return (x**2 + y**2 + z**2) ** (1 / 2)\n",
    "\n",
    "    def minkowski(time, space):\n",
    "        return (time**2 - space**2) ** (1 / 2)\n",
    "\n",
    "    return minkowski(E, euclidean(px, py, pz))\n",
    "\n",
    "\n",
    "mass(E, px, py, pz)"
   ]
  },
  {
   "cell_type": "markdown",
   "id": "5bd02520-e284-4117-b7f5-617c3328a9ae",
   "metadata": {},
   "source": [
    "Note: functions are objects that can be assigned to variables, too."
   ]
  },
  {
   "cell_type": "code",
   "execution_count": 12,
   "id": "964b8f13-f8ec-437e-8f24-f2539468a804",
   "metadata": {
    "tags": []
   },
   "outputs": [],
   "source": [
    "mag3d = euclidean"
   ]
  },
  {
   "cell_type": "code",
   "execution_count": 13,
   "id": "0b84e07f-90c2-4240-b65a-576aeeb209d9",
   "metadata": {
    "tags": []
   },
   "outputs": [
    {
     "data": {
      "text/plain": [
       "68.12889707136529"
      ]
     },
     "execution_count": 13,
     "metadata": {},
     "output_type": "execute_result"
    }
   ],
   "source": [
    "mag3d(px, py, pz)"
   ]
  },
  {
   "cell_type": "markdown",
   "id": "f0fe9095-46b4-4207-b12d-6c284da23b34",
   "metadata": {},
   "source": [
    "### Importing functionality into Python"
   ]
  },
  {
   "cell_type": "code",
   "execution_count": 14,
   "id": "2940c17b-1838-4bc7-91e0-a195805d3e5b",
   "metadata": {
    "tags": []
   },
   "outputs": [],
   "source": [
    "import math"
   ]
  },
  {
   "cell_type": "code",
   "execution_count": 15,
   "id": "1b253100-f4fa-48b5-b708-7c132d64e08b",
   "metadata": {
    "tags": []
   },
   "outputs": [
    {
     "data": {
      "text/plain": [
       "<module 'math' from '/home/jpivarski/mambaforge/lib/python3.9/lib-dynload/math.cpython-39-x86_64-linux-gnu.so'>"
      ]
     },
     "execution_count": 15,
     "metadata": {},
     "output_type": "execute_result"
    }
   ],
   "source": [
    "math"
   ]
  },
  {
   "cell_type": "markdown",
   "id": "51cc9dae-18ec-4f1f-8ca8-4a22507e6d24",
   "metadata": {},
   "source": [
    "Objects inside the module are accessible through the dot-syntax."
   ]
  },
  {
   "cell_type": "code",
   "execution_count": 16,
   "id": "65344095-3119-49a8-8814-dba47e2c6838",
   "metadata": {
    "tags": []
   },
   "outputs": [
    {
     "data": {
      "text/plain": [
       "0.10565709514578395"
      ]
     },
     "execution_count": 16,
     "metadata": {},
     "output_type": "execute_result"
    }
   ],
   "source": [
    "math.sqrt(E**2 - px**2 - py**2 - pz**2)"
   ]
  },
  {
   "cell_type": "markdown",
   "id": "d08a92a2-2a48-4eea-96e3-5c16052138be",
   "metadata": {},
   "source": [
    "It prevents functions with the same names in different libraries from conflicting."
   ]
  },
  {
   "cell_type": "code",
   "execution_count": 17,
   "id": "52fdfa87-92bb-4b95-9435-8a5427dad144",
   "metadata": {
    "tags": []
   },
   "outputs": [],
   "source": [
    "import numpy"
   ]
  },
  {
   "cell_type": "code",
   "execution_count": 18,
   "id": "0082b1bf-ca4d-4772-a0af-d4a956ce5146",
   "metadata": {
    "tags": []
   },
   "outputs": [
    {
     "data": {
      "text/plain": [
       "<ufunc 'sqrt'>"
      ]
     },
     "execution_count": 18,
     "metadata": {},
     "output_type": "execute_result"
    }
   ],
   "source": [
    "numpy.sqrt"
   ]
  },
  {
   "cell_type": "code",
   "execution_count": 19,
   "id": "4131dee8-537c-4ad9-b2fa-3d57ab326678",
   "metadata": {
    "tags": []
   },
   "outputs": [
    {
     "data": {
      "text/plain": [
       "<function math.sqrt(x, /)>"
      ]
     },
     "execution_count": 19,
     "metadata": {},
     "output_type": "execute_result"
    }
   ],
   "source": [
    "math.sqrt"
   ]
  },
  {
   "cell_type": "code",
   "execution_count": 20,
   "id": "76a21ba9-780f-4cd9-8020-28f7cff7645e",
   "metadata": {
    "tags": []
   },
   "outputs": [
    {
     "data": {
      "text/plain": [
       "False"
      ]
     },
     "execution_count": 20,
     "metadata": {},
     "output_type": "execute_result"
    }
   ],
   "source": [
    "numpy.sqrt is math.sqrt"
   ]
  },
  {
   "cell_type": "markdown",
   "id": "8fa529cf-6f2b-48b7-96bb-69f1ac9781bd",
   "metadata": {},
   "source": [
    "Some libraries have conventional \"short names.\""
   ]
  },
  {
   "cell_type": "code",
   "execution_count": 21,
   "id": "6215ee13-4788-4b30-b0bc-7e49948f10d1",
   "metadata": {
    "tags": []
   },
   "outputs": [],
   "source": [
    "import numpy as np"
   ]
  },
  {
   "cell_type": "code",
   "execution_count": 22,
   "id": "cd3b202a-2ce9-4b8e-9d67-5cac334f1209",
   "metadata": {
    "tags": []
   },
   "outputs": [
    {
     "data": {
      "text/plain": [
       "0.10565709514578395"
      ]
     },
     "execution_count": 22,
     "metadata": {},
     "output_type": "execute_result"
    }
   ],
   "source": [
    "np.sqrt(E**2 - px**2 - py**2 - pz**2)"
   ]
  },
  {
   "cell_type": "markdown",
   "id": "2128c325-bd51-4505-b84c-8d64b326aa83",
   "metadata": {},
   "source": [
    "Sometimes, it's better to extract only one object from a library."
   ]
  },
  {
   "cell_type": "code",
   "execution_count": 23,
   "id": "914b38b5-5d52-4dfa-b229-830bce7a5240",
   "metadata": {
    "tags": []
   },
   "outputs": [],
   "source": [
    "from hepunits import GeV\n",
    "from particle import Particle"
   ]
  },
  {
   "cell_type": "code",
   "execution_count": 24,
   "id": "8f63d6a7-0baf-4bd2-ad7b-e423279cf450",
   "metadata": {
    "tags": []
   },
   "outputs": [
    {
     "data": {
      "text/latex": [
       "$\\mu^{+}$"
      ],
      "text/plain": [
       "<Particle: name=\"mu+\", pdgid=-13, mass=105.6583755 ± 0.0000023 MeV>"
      ]
     },
     "execution_count": 24,
     "metadata": {},
     "output_type": "execute_result"
    }
   ],
   "source": [
    "muon = Particle.from_name(\"mu+\")\n",
    "muon"
   ]
  },
  {
   "cell_type": "code",
   "execution_count": 25,
   "id": "90ee6739-0df5-4745-a189-261229f7f0f5",
   "metadata": {
    "tags": []
   },
   "outputs": [
    {
     "data": {
      "text/plain": [
       "0.1056583755"
      ]
     },
     "execution_count": 25,
     "metadata": {},
     "output_type": "execute_result"
    }
   ],
   "source": [
    "muon.mass / GeV"
   ]
  },
  {
   "cell_type": "code",
   "execution_count": 26,
   "id": "57e579af-3237-4bb2-883a-a82395a6b9b7",
   "metadata": {
    "tags": []
   },
   "outputs": [
    {
     "data": {
      "text/plain": [
       "\u001b[0;31mType:\u001b[0m           Particle\n",
       "\u001b[0;31mString form:\u001b[0m    mu+\n",
       "\u001b[0;31mFile:\u001b[0m           ~/mambaforge/lib/python3.9/site-packages/particle/particle/particle.py\n",
       "\u001b[0;31mDocstring:\u001b[0m     \n",
       "The Particle object class. Hold a series of properties for a particle.\n",
       "\n",
       "Class properties:\n",
       "\n",
       "C\n",
       "    The charge conjugation parity quantum number, if relevant.\n",
       "    It is C = (-1)^(L+S) for self-conjugate mesons.\n",
       "    Mesons with PDG IDs of the kind 9XXXXXX (N=9) are not experimentally well-known particles\n",
       "    and None is returned.\n",
       "\n",
       "G\n",
       "    The G-parity quantum number, if relevant.\n",
       "\n",
       "I\n",
       "    The isospin quantum number, if relevant.\n",
       "\n",
       "P\n",
       "    The parity quantum number, if relevant.\n",
       "    It is P = (-1)^(L+1) for self-conjugate mesons and -1 for the photon.\n",
       "    Mesons with PDG IDs of the kind 9XXXXXX (N=9) are not experimentally well-known particles\n",
       "    and None is returned.\n",
       "\n",
       "anti_flag\n",
       "    The particle-antiparticle flag.\n",
       "\n",
       "    A = B     - particle that has anti-particle partner different from particle\n",
       "                with ASCII name formed by concatenation of the name shown below with charge\n",
       "                ( e- <--> e+, pi+ <--> pi-, K+ <--> K-, W+ <--> W- ).\n",
       "    A = F     - particle that has anti-particle partner different from particle\n",
       "                with ascii name formed by concatenation of the name shown below with string \"bar\" and charge\n",
       "                by the rule (nu(e) <--> nubar(e), p <--> pbar, Delta++ <--> Deltabar--)\n",
       "    A = blank - particle that coincides with its antiparticle (gamma, pi0, eta).\n",
       "\n",
       "charge\n",
       "    The particle charge, in units of the positron charge.\n",
       "\n",
       "latex_name\n",
       "    The particle name in LaTeX.\n",
       "\n",
       "mass\n",
       "    The particle mass, in MeV.\n",
       "\n",
       "mass_lower\n",
       "    The lower uncertainty on the particle mass, in MeV.\n",
       "\n",
       "mass_upper\n",
       "    The upper uncertainty on the particle mass, in MeV.\n",
       "\n",
       "pdgid\n",
       "    The PDG ID.\n",
       "\n",
       "pdg_name\n",
       "    The particle name as in the PDG data file.\n",
       "\n",
       "    Note:\n",
       "    This name does not contain the charge. See alternative `name`.\n",
       "\n",
       "quarks\n",
       "    The quark content of the particle. Empty string if not relevant.\n",
       "\n",
       "    Note:\n",
       "    Capital letters represent anti-quarks, 'qQ' stands for light quark,\n",
       "    light anti-quark pair with unknown wave functions.\n",
       "    x, y stand for wave function coefficients, see the Review of Particle Physics (RPP) 'Quark Model' Review.\n",
       "    p, q stand for CP violation parameters, see the RPP 'CP violation in KL Decays' review.\n",
       "\n",
       "rank\n",
       "    The particle rank as specified by the PDG, i.e. the number of baryon stars - used only on baryons.\n",
       "\n",
       "    Possible values are:\n",
       "    4 - Existence is certain, and properties are at least fairly well explored.\n",
       "    3 - Existence ranges from very likely to certain, but further confirmation\n",
       "         is desirable and/or quantum numbers, branching fractions, etc. are not well determined.\n",
       "    2 - Evidence of existence is only fair.\n",
       "    1 - Evidence of existence is poor.\n",
       "\n",
       "status\n",
       "    The particle status as specified by the PDG.\n",
       "\n",
       "    Possible values are:\n",
       "    R - Established particles in the Review of Particle Physics (RPP) Summary Table\n",
       "        in Particle Physics Booklet\n",
       "        (established quarks, gauge bosons, leptons, mesons and baryons, except those in D below).\n",
       "    D - The particle is omitted from the Summary Tables in the Particle Physics Booklet,\n",
       "        but not from the Review. These entries are omitted only to save space\n",
       "        even though they are well established.\n",
       "    S - The particle is omitted from the particle properties Summary Tables\n",
       "        because it is not well established.\n",
       "    F - Special case: \"Further mesons\", see RPP, these states are in the RPP database\n",
       "        but are poorly established or observed by a single group and thus need confirmation.\n",
       "        If used, these should be referred to the original publication.\n",
       "\n",
       "width\n",
       "    The particle decay width, in MeV.\n",
       "\n",
       "width_lower\n",
       "    The lower uncertainty on the particle decay width, in MeV.\n",
       "\n",
       "width_upper\n",
       "    The upper uncertainty on the particle decay width, in MeV.\n",
       "\u001b[0;31mInit docstring:\u001b[0m Method generated by attrs for class Particle.\n"
      ]
     },
     "metadata": {},
     "output_type": "display_data"
    }
   ],
   "source": [
    "?muon"
   ]
  },
  {
   "cell_type": "markdown",
   "id": "6017482c-3f38-4181-bd3b-526b16279e3a",
   "metadata": {},
   "source": [
    "### Data types"
   ]
  },
  {
   "cell_type": "markdown",
   "id": "08a5d585-d5c0-4c3b-9b7e-ef7e9b2bbeea",
   "metadata": {},
   "source": [
    "Python data have types, but unlike C++, type correctness is checked just before computation, not in a separate compilation phase."
   ]
  },
  {
   "cell_type": "code",
   "execution_count": 27,
   "id": "3fda0d2d-e2fc-40a1-ba30-cb33dddea0af",
   "metadata": {
    "tags": [
     "raises-exception"
    ]
   },
   "outputs": [
    {
     "ename": "TypeError",
     "evalue": "unsupported operand type(s) for +: 'int' and 'str'",
     "output_type": "error",
     "traceback": [
      "\u001b[0;31m---------------------------------------------------------------------------\u001b[0m",
      "\u001b[0;31mTypeError\u001b[0m                                 Traceback (most recent call last)",
      "Cell \u001b[0;32mIn[27], line 1\u001b[0m\n\u001b[0;32m----> 1\u001b[0m \u001b[38;5;241;43m1\u001b[39;49m\u001b[43m \u001b[49m\u001b[38;5;241;43m+\u001b[39;49m\u001b[43m \u001b[49m\u001b[38;5;124;43m\"\u001b[39;49m\u001b[38;5;124;43m2\u001b[39;49m\u001b[38;5;124;43m\"\u001b[39;49m\n",
      "\u001b[0;31mTypeError\u001b[0m: unsupported operand type(s) for +: 'int' and 'str'"
     ]
    }
   ],
   "source": [
    "1 + \"2\""
   ]
  },
  {
   "cell_type": "code",
   "execution_count": 28,
   "id": "56def9cd-e4e8-452e-9898-1494ff30856e",
   "metadata": {
    "tags": []
   },
   "outputs": [
    {
     "data": {
      "text/plain": [
       "int"
      ]
     },
     "execution_count": 28,
     "metadata": {},
     "output_type": "execute_result"
    }
   ],
   "source": [
    "type(1)"
   ]
  },
  {
   "cell_type": "code",
   "execution_count": 29,
   "id": "a447b24b-6e90-4f0b-bb56-95ff9194d53a",
   "metadata": {
    "tags": []
   },
   "outputs": [
    {
     "data": {
      "text/plain": [
       "str"
      ]
     },
     "execution_count": 29,
     "metadata": {},
     "output_type": "execute_result"
    }
   ],
   "source": [
    "type(\"2\")"
   ]
  },
  {
   "cell_type": "markdown",
   "id": "8f960bb8-a20d-43d5-91a5-a0e9aba1099a",
   "metadata": {},
   "source": [
    "_Therefore_, types are objects that you can inspect at runtime, unlike C++."
   ]
  },
  {
   "cell_type": "code",
   "execution_count": 30,
   "id": "640c70dd-bd1c-4b6f-afd2-077e610a4376",
   "metadata": {
    "tags": []
   },
   "outputs": [
    {
     "data": {
      "text/plain": [
       "int"
      ]
     },
     "execution_count": 30,
     "metadata": {},
     "output_type": "execute_result"
    }
   ],
   "source": [
    "t1 = type(1)\n",
    "t1"
   ]
  },
  {
   "cell_type": "code",
   "execution_count": 31,
   "id": "5549ddbd-4eba-41b4-8a30-9b1fe3657944",
   "metadata": {
    "tags": []
   },
   "outputs": [
    {
     "data": {
      "text/plain": [
       "str"
      ]
     },
     "execution_count": 31,
     "metadata": {},
     "output_type": "execute_result"
    }
   ],
   "source": [
    "t2 = type(\"2\")\n",
    "t2"
   ]
  },
  {
   "cell_type": "code",
   "execution_count": 32,
   "id": "8e6e4715-9439-438d-b64e-b8ffa600abd3",
   "metadata": {
    "tags": []
   },
   "outputs": [
    {
     "data": {
      "text/plain": [
       "False"
      ]
     },
     "execution_count": 32,
     "metadata": {},
     "output_type": "execute_result"
    }
   ],
   "source": [
    "t1 is t2"
   ]
  },
  {
   "cell_type": "markdown",
   "id": "fef486c0-66a0-4097-8c01-97711e074505",
   "metadata": {},
   "source": [
    "Most type objects are functions that create or convert data to that type."
   ]
  },
  {
   "cell_type": "code",
   "execution_count": 33,
   "id": "099b6159-e8a6-483d-9c2d-d45d666deb2c",
   "metadata": {
    "tags": []
   },
   "outputs": [
    {
     "data": {
      "text/plain": [
       "2"
      ]
     },
     "execution_count": 33,
     "metadata": {},
     "output_type": "execute_result"
    }
   ],
   "source": [
    "int(\"2\")"
   ]
  },
  {
   "cell_type": "code",
   "execution_count": 34,
   "id": "d75a303d-72c8-44e5-b68c-46afdcab99e7",
   "metadata": {
    "tags": []
   },
   "outputs": [
    {
     "data": {
      "text/plain": [
       "2"
      ]
     },
     "execution_count": 34,
     "metadata": {},
     "output_type": "execute_result"
    }
   ],
   "source": [
    "t1(\"2\")"
   ]
  },
  {
   "cell_type": "markdown",
   "id": "53aea2da-dfe0-4728-b456-170219dae190",
   "metadata": {},
   "source": [
    "**Quizlet:** before you run it, what will this do?"
   ]
  },
  {
   "cell_type": "code",
   "execution_count": 35,
   "id": "300bd769-a363-455c-8f12-c39386f2c8c7",
   "metadata": {
    "tags": []
   },
   "outputs": [
    {
     "data": {
      "text/plain": [
       "int"
      ]
     },
     "execution_count": 35,
     "metadata": {},
     "output_type": "execute_result"
    }
   ],
   "source": [
    "type(type(1)(\"2\"))"
   ]
  },
  {
   "cell_type": "markdown",
   "id": "d79f4eb1-875c-4486-a8ca-2167c70adfb1",
   "metadata": {},
   "source": [
    "### Relationships among types"
   ]
  },
  {
   "cell_type": "markdown",
   "id": "1bb75987-1ce5-47a5-aaa1-5da4805d9f5f",
   "metadata": {},
   "source": [
    "NumPy has some types that look like standard Python types, but they're not."
   ]
  },
  {
   "cell_type": "code",
   "execution_count": 36,
   "id": "df8cda99-cd9b-4d0c-b9e6-40af86e0e83c",
   "metadata": {
    "tags": []
   },
   "outputs": [
    {
     "data": {
      "text/plain": [
       "1"
      ]
     },
     "execution_count": 36,
     "metadata": {},
     "output_type": "execute_result"
    }
   ],
   "source": [
    "np_one = np.int32(1)\n",
    "np_one"
   ]
  },
  {
   "cell_type": "code",
   "execution_count": 37,
   "id": "ee313cf8-f1bc-4881-84b3-987d961dc5d9",
   "metadata": {
    "tags": []
   },
   "outputs": [
    {
     "data": {
      "text/plain": [
       "numpy.int32"
      ]
     },
     "execution_count": 37,
     "metadata": {},
     "output_type": "execute_result"
    }
   ],
   "source": [
    "np_int = type(np_one)\n",
    "np_int"
   ]
  },
  {
   "cell_type": "markdown",
   "id": "69a78337-e8b2-4b33-a00d-d9886c2e001b",
   "metadata": {},
   "source": [
    "`np.int32` is not Python `int`."
   ]
  },
  {
   "cell_type": "code",
   "execution_count": 38,
   "id": "7fad5fc5-d2c5-4007-b574-c55346f17679",
   "metadata": {
    "tags": []
   },
   "outputs": [
    {
     "data": {
      "text/plain": [
       "False"
      ]
     },
     "execution_count": 38,
     "metadata": {},
     "output_type": "execute_result"
    }
   ],
   "source": [
    "np_int == int"
   ]
  },
  {
   "cell_type": "markdown",
   "id": "363fd780-07dd-4f4a-960b-b98bf6938db1",
   "metadata": {},
   "source": [
    "`np.int32` is also not `np.int64`."
   ]
  },
  {
   "cell_type": "code",
   "execution_count": 39,
   "id": "ed5fe37c-c8f0-4d2d-9ec9-c50f1e7e571c",
   "metadata": {
    "tags": []
   },
   "outputs": [
    {
     "data": {
      "text/plain": [
       "False"
      ]
     },
     "execution_count": 39,
     "metadata": {},
     "output_type": "execute_result"
    }
   ],
   "source": [
    "np_int == type(np.int64(1))"
   ]
  },
  {
   "cell_type": "markdown",
   "id": "843cabf3-4db9-4b0e-bf7b-51baf2c3f476",
   "metadata": {},
   "source": [
    "`isinstance` is a better way to check the type of something.\n",
    "\n",
    "It doesn't ask, \"Is this type object the same object as that other one?\"\n",
    "\n",
    "It asks, \"Is this value an instance of that type?\""
   ]
  },
  {
   "cell_type": "code",
   "execution_count": 40,
   "id": "edbcee7d-7d30-4e6b-880d-953936aa45d1",
   "metadata": {
    "tags": []
   },
   "outputs": [
    {
     "data": {
      "text/plain": [
       "True"
      ]
     },
     "execution_count": 40,
     "metadata": {},
     "output_type": "execute_result"
    }
   ],
   "source": [
    "isinstance(np_one, np.int32)"
   ]
  },
  {
   "cell_type": "markdown",
   "id": "228dc2a1-2f84-4920-b0a3-a0bed1cdf7f1",
   "metadata": {},
   "source": [
    "Because some types are _supertypes_ of others.\n",
    "\n",
    "`np.integer` is a supertype of `np.int32` because any `np.int32` instance is also an `np.integer` instance."
   ]
  },
  {
   "cell_type": "code",
   "execution_count": 41,
   "id": "58bf737b-7fd2-4a86-8ebd-5f522fab3896",
   "metadata": {
    "tags": []
   },
   "outputs": [
    {
     "data": {
      "text/plain": [
       "True"
      ]
     },
     "execution_count": 41,
     "metadata": {},
     "output_type": "execute_result"
    }
   ],
   "source": [
    "isinstance(np_one, np.integer)"
   ]
  },
  {
   "cell_type": "markdown",
   "id": "8eac8c67-2a86-49e2-9a0d-3757f9b3d866",
   "metadata": {},
   "source": [
    "`np.integer` is a supertype of `np.int64` because any `np.int64` instance is also an `np.integer` instance."
   ]
  },
  {
   "cell_type": "code",
   "execution_count": 42,
   "id": "bf72324a-8e30-461c-96ed-eeff45de8281",
   "metadata": {
    "tags": []
   },
   "outputs": [
    {
     "data": {
      "text/plain": [
       "True"
      ]
     },
     "execution_count": 42,
     "metadata": {},
     "output_type": "execute_result"
    }
   ],
   "source": [
    "isinstance(np.int64(1), np.integer)"
   ]
  },
  {
   "cell_type": "markdown",
   "id": "6ca5c8cc-669a-4b1d-a644-7eac27cf7a42",
   "metadata": {},
   "source": [
    "<img src=\"img/dtype-hierarchy.png\">"
   ]
  },
  {
   "cell_type": "code",
   "execution_count": 73,
   "id": "dc3104dc-e778-4e5b-aac9-f1f3df8b41dc",
   "metadata": {
    "tags": []
   },
   "outputs": [
    {
     "data": {
      "text/plain": [
       "[numpy.int32,\n",
       " numpy.signedinteger,\n",
       " numpy.integer,\n",
       " numpy.number,\n",
       " numpy.generic,\n",
       " object]"
      ]
     },
     "execution_count": 73,
     "metadata": {},
     "output_type": "execute_result"
    }
   ],
   "source": [
    "np.int32.mro()  # returns a list of a type's supertypes"
   ]
  },
  {
   "cell_type": "markdown",
   "id": "4de47d24-49d5-444d-9b68-72f9a2c867e5",
   "metadata": {},
   "source": [
    "The only supertypes `np.int32` and `int` have in common is `object`.\n",
    "\n",
    "(Everything in Python is an `object`.)"
   ]
  },
  {
   "cell_type": "code",
   "execution_count": 44,
   "id": "b1577626-ff65-4eee-9034-18acd668a04c",
   "metadata": {
    "tags": []
   },
   "outputs": [
    {
     "data": {
      "text/plain": [
       "[int, object]"
      ]
     },
     "execution_count": 44,
     "metadata": {},
     "output_type": "execute_result"
    }
   ],
   "source": [
    "int.mro()"
   ]
  },
  {
   "cell_type": "code",
   "execution_count": 45,
   "id": "e40e4cc4-b32e-42bb-a06b-a18fc4932113",
   "metadata": {
    "tags": []
   },
   "outputs": [],
   "source": [
    "import numbers"
   ]
  },
  {
   "cell_type": "code",
   "execution_count": 46,
   "id": "821eb4c1-34e8-4fd5-b69b-bbfe8645dc2d",
   "metadata": {
    "tags": []
   },
   "outputs": [
    {
     "data": {
      "text/plain": [
       "True"
      ]
     },
     "execution_count": 46,
     "metadata": {},
     "output_type": "execute_result"
    }
   ],
   "source": [
    "isinstance(np.int32(1), numbers.Integral)"
   ]
  },
  {
   "cell_type": "code",
   "execution_count": 47,
   "id": "009c0874-3b13-4a25-a749-c1bed8ca96dd",
   "metadata": {
    "tags": []
   },
   "outputs": [
    {
     "data": {
      "text/plain": [
       "True"
      ]
     },
     "execution_count": 47,
     "metadata": {},
     "output_type": "execute_result"
    }
   ],
   "source": [
    "isinstance(1, numbers.Integral)"
   ]
  },
  {
   "cell_type": "markdown",
   "id": "962c9d71-f666-4c93-83ec-d78e09a3b01c",
   "metadata": {},
   "source": [
    "### Collection types"
   ]
  },
  {
   "cell_type": "markdown",
   "id": "67100256-d455-4a45-b77a-548457c3e504",
   "metadata": {},
   "source": [
    "The two most basic collection types in Python are `list` and `dict`."
   ]
  },
  {
   "cell_type": "code",
   "execution_count": 48,
   "id": "48151f8d-6947-4d7a-b402-b18769f0ca13",
   "metadata": {
    "tags": []
   },
   "outputs": [
    {
     "data": {
      "text/plain": [
       "[0.0, 1.1, 2.2, 3.3, 4.4, 5.5, 6.6, 7.7, 8.8, 9.9]"
      ]
     },
     "execution_count": 48,
     "metadata": {},
     "output_type": "execute_result"
    }
   ],
   "source": [
    "some_list = [0.0, 1.1, 2.2, 3.3, 4.4, 5.5, 6.6, 7.7, 8.8, 9.9]\n",
    "some_list"
   ]
  },
  {
   "cell_type": "code",
   "execution_count": 49,
   "id": "38894dd2-08fc-465e-b267-d1f8fd27ec47",
   "metadata": {
    "tags": []
   },
   "outputs": [
    {
     "data": {
      "text/plain": [
       "list"
      ]
     },
     "execution_count": 49,
     "metadata": {},
     "output_type": "execute_result"
    }
   ],
   "source": [
    "type(some_list)"
   ]
  },
  {
   "cell_type": "code",
   "execution_count": 50,
   "id": "0e1a15d6-769c-4488-b1c0-49869023efe9",
   "metadata": {
    "tags": []
   },
   "outputs": [
    {
     "data": {
      "text/plain": [
       "10"
      ]
     },
     "execution_count": 50,
     "metadata": {},
     "output_type": "execute_result"
    }
   ],
   "source": [
    "len(some_list)"
   ]
  },
  {
   "cell_type": "code",
   "execution_count": 51,
   "id": "d4732a03-9746-4f24-bf92-2c4a1fd5733f",
   "metadata": {
    "tags": []
   },
   "outputs": [
    {
     "data": {
      "text/plain": [
       "{'one': 1.1, 'two': 2.2, 'three': 3.3}"
      ]
     },
     "execution_count": 51,
     "metadata": {},
     "output_type": "execute_result"
    }
   ],
   "source": [
    "some_dict = {\"one\": 1.1, \"two\": 2.2, \"three\": 3.3}\n",
    "some_dict"
   ]
  },
  {
   "cell_type": "code",
   "execution_count": 52,
   "id": "38801fb9-4049-466b-bf57-6c405decd962",
   "metadata": {
    "tags": []
   },
   "outputs": [
    {
     "data": {
      "text/plain": [
       "dict"
      ]
     },
     "execution_count": 52,
     "metadata": {},
     "output_type": "execute_result"
    }
   ],
   "source": [
    "type(some_dict)"
   ]
  },
  {
   "cell_type": "code",
   "execution_count": 53,
   "id": "5bf871ba-7649-4113-89d7-fcb5fd03621e",
   "metadata": {
    "tags": []
   },
   "outputs": [
    {
     "data": {
      "text/plain": [
       "3"
      ]
     },
     "execution_count": 53,
     "metadata": {},
     "output_type": "execute_result"
    }
   ],
   "source": [
    "len(some_dict)"
   ]
  },
  {
   "cell_type": "markdown",
   "id": "b1f192a9-eb56-4bc8-b8e4-5a22439ce70b",
   "metadata": {},
   "source": [
    "You can pull data out of a collection with square brackets: `[` `]`."
   ]
  },
  {
   "cell_type": "code",
   "execution_count": 54,
   "id": "5e8068dc-bdfd-4229-917d-2fb9d6ad7516",
   "metadata": {
    "tags": []
   },
   "outputs": [
    {
     "data": {
      "text/plain": [
       "3.3"
      ]
     },
     "execution_count": 54,
     "metadata": {},
     "output_type": "execute_result"
    }
   ],
   "source": [
    "some_list[3]"
   ]
  },
  {
   "cell_type": "code",
   "execution_count": 55,
   "id": "94a6607e-a42e-4e4b-8ab9-439216319d47",
   "metadata": {
    "tags": []
   },
   "outputs": [
    {
     "data": {
      "text/plain": [
       "2.2"
      ]
     },
     "execution_count": 55,
     "metadata": {},
     "output_type": "execute_result"
    }
   ],
   "source": [
    "some_dict[\"two\"]"
   ]
  },
  {
   "cell_type": "markdown",
   "id": "0ce9392e-d511-405b-ba2b-26862c9da5fa",
   "metadata": {},
   "source": [
    "You can also change the data in a collection with that syntax."
   ]
  },
  {
   "cell_type": "code",
   "execution_count": 56,
   "id": "0cfd78f9-cd9e-4f5e-96b9-a3c2a46053d6",
   "metadata": {
    "tags": []
   },
   "outputs": [],
   "source": [
    "some_list[3] = 33333"
   ]
  },
  {
   "cell_type": "code",
   "execution_count": 57,
   "id": "d740794a-1189-4b89-8ec3-2b093c6f02a3",
   "metadata": {
    "tags": []
   },
   "outputs": [
    {
     "data": {
      "text/plain": [
       "[0.0, 1.1, 2.2, 33333, 4.4, 5.5, 6.6, 7.7, 8.8, 9.9]"
      ]
     },
     "execution_count": 57,
     "metadata": {},
     "output_type": "execute_result"
    }
   ],
   "source": [
    "some_list"
   ]
  },
  {
   "cell_type": "code",
   "execution_count": 58,
   "id": "4b246ada-6e73-4e20-b9eb-901a53573381",
   "metadata": {
    "tags": []
   },
   "outputs": [],
   "source": [
    "some_dict[\"two\"] = 22222"
   ]
  },
  {
   "cell_type": "code",
   "execution_count": 59,
   "id": "30ebfe7b-f31d-4bfd-b7dd-18692c9059d1",
   "metadata": {
    "tags": []
   },
   "outputs": [
    {
     "data": {
      "text/plain": [
       "{'one': 1.1, 'two': 22222, 'three': 3.3}"
      ]
     },
     "execution_count": 59,
     "metadata": {},
     "output_type": "execute_result"
    }
   ],
   "source": [
    "some_dict"
   ]
  },
  {
   "cell_type": "code",
   "execution_count": 60,
   "id": "0914ddfa-f86c-4898-8668-17e05933b629",
   "metadata": {
    "tags": []
   },
   "outputs": [],
   "source": [
    "some_list.append(\"mixed types\")"
   ]
  },
  {
   "cell_type": "code",
   "execution_count": 61,
   "id": "813a1f9f-de8d-491d-9b18-e00c638be634",
   "metadata": {
    "tags": []
   },
   "outputs": [
    {
     "data": {
      "text/plain": [
       "[0.0, 1.1, 2.2, 33333, 4.4, 5.5, 6.6, 7.7, 8.8, 9.9, 'mixed types']"
      ]
     },
     "execution_count": 61,
     "metadata": {},
     "output_type": "execute_result"
    }
   ],
   "source": [
    "some_list"
   ]
  },
  {
   "cell_type": "code",
   "execution_count": 62,
   "id": "5c046e0b-5ff2-442c-a8df-d10a168284ce",
   "metadata": {
    "tags": []
   },
   "outputs": [],
   "source": [
    "some_dict[123] = \"mixed types\""
   ]
  },
  {
   "cell_type": "code",
   "execution_count": 63,
   "id": "bb5cd97c-bc35-4e74-aeb8-7a750df8fdf0",
   "metadata": {
    "tags": []
   },
   "outputs": [
    {
     "data": {
      "text/plain": [
       "{'one': 1.1, 'two': 22222, 'three': 3.3, 123: 'mixed types'}"
      ]
     },
     "execution_count": 63,
     "metadata": {},
     "output_type": "execute_result"
    }
   ],
   "source": [
    "some_dict"
   ]
  },
  {
   "cell_type": "markdown",
   "id": "97e90c90-512e-4666-87ed-ebe33098de39",
   "metadata": {},
   "source": [
    "Ranges within a list can be \"sliced\" with `:`."
   ]
  },
  {
   "cell_type": "code",
   "execution_count": 64,
   "id": "faf50aec-efe3-4957-b05c-872aca00512f",
   "metadata": {
    "tags": []
   },
   "outputs": [
    {
     "data": {
      "text/plain": [
       "[2.2, 33333, 4.4, 5.5, 6.6, 7.7]"
      ]
     },
     "execution_count": 64,
     "metadata": {},
     "output_type": "execute_result"
    }
   ],
   "source": [
    "some_list[2:8]"
   ]
  },
  {
   "cell_type": "markdown",
   "id": "9289cb79-a991-4400-93a6-e3b68de51fe2",
   "metadata": {},
   "source": [
    "**Quizlet:** before you run it, what will this do?"
   ]
  },
  {
   "cell_type": "code",
   "execution_count": 65,
   "id": "ccd43720-9e3f-4f4c-9aff-06136b2c2018",
   "metadata": {
    "tags": []
   },
   "outputs": [
    {
     "data": {
      "text/plain": [
       "5.5"
      ]
     },
     "execution_count": 65,
     "metadata": {},
     "output_type": "execute_result"
    }
   ],
   "source": [
    "some_list[2:8][3]"
   ]
  },
  {
   "cell_type": "markdown",
   "id": "d4befbc9-66d9-4d7b-a9e0-c6b1bbbdff51",
   "metadata": {},
   "source": [
    "**Philosophical question:** why does indexing start with zero?"
   ]
  },
  {
   "cell_type": "markdown",
   "id": "e7212798-b9d8-49bc-ad68-0902ca03e4c0",
   "metadata": {},
   "source": [
    "### A little data analysis"
   ]
  },
  {
   "cell_type": "code",
   "execution_count": 81,
   "id": "5a7257b1-f52a-4543-8d6d-952fe4f38634",
   "metadata": {
    "tags": []
   },
   "outputs": [],
   "source": [
    "particles = [\n",
    "    {\n",
    "        \"type\": \"electron\",\n",
    "        \"E\": 171.848714,\n",
    "        \"px\": 38.4242935,\n",
    "        \"py\": -28.779644,\n",
    "        \"pz\": 165.006927,\n",
    "        \"charge\": 1,\n",
    "    },\n",
    "    {\n",
    "        \"type\": \"electron\",\n",
    "        \"E\": 138.501266,\n",
    "        \"px\": -34.431419,\n",
    "        \"py\": 24.6730384,\n",
    "        \"pz\": 131.864776,\n",
    "        \"charge\": -1,\n",
    "    },\n",
    "    {\n",
    "        \"type\": \"muon\",\n",
    "        \"E\": 68.1289790,\n",
    "        \"px\": -17.945541,\n",
    "        \"py\": 13.1652603,\n",
    "        \"pz\": 64.3908386,\n",
    "        \"charge\": 1,\n",
    "    },\n",
    "    {\n",
    "        \"type\": \"muon\",\n",
    "        \"E\": 18.8320473,\n",
    "        \"px\": -8.1843795,\n",
    "        \"py\": -7.6400470,\n",
    "        \"pz\": 15.1420097,\n",
    "        \"charge\": -1,\n",
    "    },\n",
    "]"
   ]
  },
  {
   "cell_type": "code",
   "execution_count": 86,
   "id": "813039bf-78dc-40ca-ba11-f33859d59c65",
   "metadata": {
    "tags": []
   },
   "outputs": [],
   "source": [
    "def particle_decay(name, particle1, particle2):\n",
    "    return {\n",
    "        \"type\": name,\n",
    "        \"E\": particle1[\"E\"] + particle2[\"E\"],\n",
    "        \"px\": particle1[\"px\"] + particle2[\"px\"],\n",
    "        \"py\": particle1[\"py\"] + particle2[\"py\"],\n",
    "        \"pz\": particle1[\"pz\"] + particle2[\"pz\"],\n",
    "        \"charge\": particle1[\"charge\"] + particle2[\"charge\"],\n",
    "    }"
   ]
  },
  {
   "cell_type": "markdown",
   "id": "5b8431f2-17df-4f5e-b36d-6e1f322d1ea3",
   "metadata": {},
   "source": [
    "Starting from the observed electrons and muons, we reconstruct the decays by adding energy and momentum.\n",
    "\n",
    "<img src=\"img/higgs-to-four-leptons-diagram.png\" width=\"600px\">"
   ]
  },
  {
   "cell_type": "code",
   "execution_count": 87,
   "id": "05d5ea36-d84e-4ce9-91ed-7b9d11fe0638",
   "metadata": {},
   "outputs": [
    {
     "data": {
      "text/plain": [
       "{'type': 'Z boson',\n",
       " 'E': 310.34997999999996,\n",
       " 'px': 3.992874499999999,\n",
       " 'py': -4.106605600000002,\n",
       " 'pz': 296.871703,\n",
       " 'charge': 0}"
      ]
     },
     "execution_count": 87,
     "metadata": {},
     "output_type": "execute_result"
    }
   ],
   "source": [
    "z1 = particle_decay(\"Z boson\", particles[0], particles[1])\n",
    "z1"
   ]
  },
  {
   "cell_type": "code",
   "execution_count": 88,
   "id": "6fb0626f-f051-4bd1-9d28-08fefe1c444c",
   "metadata": {},
   "outputs": [
    {
     "data": {
      "text/plain": [
       "{'type': 'Z boson',\n",
       " 'E': 86.9610263,\n",
       " 'px': -26.129920499999997,\n",
       " 'py': 5.5252133,\n",
       " 'pz': 79.5328483,\n",
       " 'charge': 0}"
      ]
     },
     "execution_count": 88,
     "metadata": {},
     "output_type": "execute_result"
    }
   ],
   "source": [
    "z2 = particle_decay(\"Z boson\", particles[2], particles[3])\n",
    "z2"
   ]
  },
  {
   "cell_type": "code",
   "execution_count": 89,
   "id": "a805e35f-c728-4f19-89e9-127c88afabd2",
   "metadata": {},
   "outputs": [
    {
     "data": {
      "text/plain": [
       "{'type': 'Higgs boson',\n",
       " 'E': 397.3110063,\n",
       " 'px': -22.137045999999998,\n",
       " 'py': 1.4186076999999981,\n",
       " 'pz': 376.40455130000004,\n",
       " 'charge': 0}"
      ]
     },
     "execution_count": 89,
     "metadata": {},
     "output_type": "execute_result"
    }
   ],
   "source": [
    "higgs = particle_decay(\"Higgs boson\", z1, z2)\n",
    "higgs"
   ]
  },
  {
   "cell_type": "markdown",
   "id": "42f3041d-4bdf-4335-9ab5-620250711357",
   "metadata": {},
   "source": [
    "**Quizlet:** define the `particle_mass` function and compute all of the following:\n",
    "\n",
    "|          | mass (GeV/$c^2$) |\n",
    "|:---------|-----------------:|\n",
    "| $e^+$    |   0.0174851 |\n",
    "| $e^-$    |   0.0097893 |\n",
    "| $\\mu^+$  |   0.1056570 |\n",
    "| $\\mu^-$  |   0.1056493 |\n",
    "| $Z_1$    |  90.2856289 |\n",
    "| $Z_2$    |  22.8789293 |\n",
    "| $H$      | 125.2341336 |"
   ]
  },
  {
   "cell_type": "code",
   "execution_count": 100,
   "id": "eb8e6fe2-7f80-4bc4-a44e-b8ab52ff7407",
   "metadata": {},
   "outputs": [],
   "source": [
    "def particle_mass(particle):\n",
    "    ..."
   ]
  },
  {
   "cell_type": "markdown",
   "id": "f03414ec-7197-4c73-ae3d-65914c56715c",
   "metadata": {},
   "source": [
    "**Physics digression:** are the measured masses wrong?\n",
    "\n",
    "The `particle` library gives us expected values."
   ]
  },
  {
   "cell_type": "code",
   "execution_count": 103,
   "id": "4471233d-96ff-46d9-b76a-e98af58e7133",
   "metadata": {
    "tags": []
   },
   "outputs": [
    {
     "data": {
      "text/plain": [
       "0.0005109989499999999"
      ]
     },
     "execution_count": 103,
     "metadata": {},
     "output_type": "execute_result"
    }
   ],
   "source": [
    "Particle.from_name(\"e+\").mass / GeV"
   ]
  },
  {
   "cell_type": "code",
   "execution_count": 104,
   "id": "825688e2-ef4a-4053-8271-9cd4d69d66ad",
   "metadata": {
    "tags": []
   },
   "outputs": [
    {
     "data": {
      "text/plain": [
       "0.0005109989499999999"
      ]
     },
     "execution_count": 104,
     "metadata": {},
     "output_type": "execute_result"
    }
   ],
   "source": [
    "Particle.from_name(\"e-\").mass / GeV"
   ]
  },
  {
   "cell_type": "code",
   "execution_count": 105,
   "id": "1426588a-5a95-4c57-8e5f-ff6bd828db52",
   "metadata": {
    "tags": []
   },
   "outputs": [
    {
     "data": {
      "text/plain": [
       "0.1056583755"
      ]
     },
     "execution_count": 105,
     "metadata": {},
     "output_type": "execute_result"
    }
   ],
   "source": [
    "Particle.from_name(\"mu+\").mass / GeV"
   ]
  },
  {
   "cell_type": "code",
   "execution_count": 106,
   "id": "d6212d0a-a9a7-4a98-8352-0a37a2c5b5c6",
   "metadata": {
    "tags": []
   },
   "outputs": [
    {
     "data": {
      "text/plain": [
       "0.1056583755"
      ]
     },
     "execution_count": 106,
     "metadata": {},
     "output_type": "execute_result"
    }
   ],
   "source": [
    "Particle.from_name(\"mu-\").mass / GeV"
   ]
  },
  {
   "cell_type": "code",
   "execution_count": 107,
   "id": "8ae9287e-d443-4994-b7f1-d9fcd2c173cb",
   "metadata": {
    "tags": []
   },
   "outputs": [
    {
     "data": {
      "text/plain": [
       "91.1876"
      ]
     },
     "execution_count": 107,
     "metadata": {},
     "output_type": "execute_result"
    }
   ],
   "source": [
    "Particle.from_name(\"Z0\").mass / GeV"
   ]
  },
  {
   "cell_type": "code",
   "execution_count": 109,
   "id": "925bf2df-aad1-4852-9b2b-f72cd827df3b",
   "metadata": {
    "tags": []
   },
   "outputs": [
    {
     "data": {
      "text/plain": [
       "125.25"
      ]
     },
     "execution_count": 109,
     "metadata": {},
     "output_type": "execute_result"
    }
   ],
   "source": [
    "Particle.from_name(\"H0\").mass / GeV"
   ]
  },
  {
   "cell_type": "markdown",
   "id": "562307ec-5b14-41ea-a589-18ce1a370a51",
   "metadata": {},
   "source": [
    "### `for` loops and `if` branches"
   ]
  },
  {
   "cell_type": "markdown",
   "id": "31d05a76-82c3-4568-a28f-e92f808fdf03",
   "metadata": {},
   "source": [
    "<br><br><br><br><br>\n",
    "\n",
    "Can you believe we got this far without `for` and `if`?\n",
    "\n",
    "<br><br>\n",
    "\n",
    "These are the fundamental building blocks of _imperative_ programming.\n",
    "\n",
    "<br><br><br><br><br>"
   ]
  },
  {
   "cell_type": "markdown",
   "id": "b1885612-76f2-4d65-aa23-2a0dd45bff72",
   "metadata": {},
   "source": [
    "Python runs a program, one statement at a time, and `for` tells it to repeat an indented block for each value of a collection."
   ]
  },
  {
   "cell_type": "code",
   "execution_count": 114,
   "id": "79205858-277c-4a97-85bf-90c4c8bca529",
   "metadata": {
    "tags": []
   },
   "outputs": [
    {
     "name": "stdout",
     "output_type": "stream",
     "text": [
      "electron 1\n",
      "electron -1\n",
      "muon 1\n",
      "muon -1\n"
     ]
    }
   ],
   "source": [
    "for particle in particles:\n",
    "    print(particle[\"type\"], particle[\"charge\"])"
   ]
  },
  {
   "cell_type": "markdown",
   "id": "fde97537-a0a8-4c1f-a6aa-700c93da5b62",
   "metadata": {},
   "source": [
    "`if` tells it whether it should enter an indented block or not, depending on whether an expression is `True` or `False`."
   ]
  },
  {
   "cell_type": "code",
   "execution_count": 112,
   "id": "669f07c9-1fa9-46d7-885a-5dd59024a9d4",
   "metadata": {
    "tags": []
   },
   "outputs": [
    {
     "name": "stdout",
     "output_type": "stream",
     "text": [
      "{'type': 'electron', 'E': 171.848714, 'px': 38.4242935, 'py': -28.779644, 'pz': 165.006927, 'charge': 1}\n",
      "{'type': 'electron', 'E': 138.501266, 'px': -34.431419, 'py': 24.6730384, 'pz': 131.864776, 'charge': -1}\n"
     ]
    }
   ],
   "source": [
    "for particle in particles:\n",
    "    if particle[\"type\"] == \"electron\":\n",
    "        print(particle)"
   ]
  },
  {
   "cell_type": "markdown",
   "id": "3ba88479-6060-4c03-ac14-e75018a86f02",
   "metadata": {},
   "source": [
    "It can switch between two indented blocks if an `else` clause is given."
   ]
  },
  {
   "cell_type": "code",
   "execution_count": 115,
   "id": "9205914d-d0e8-4bcc-894c-2c17421aabe1",
   "metadata": {
    "tags": []
   },
   "outputs": [
    {
     "name": "stdout",
     "output_type": "stream",
     "text": [
      "{'type': 'electron', 'E': 171.848714, 'px': 38.4242935, 'py': -28.779644, 'pz': 165.006927, 'charge': 1}\n",
      "{'type': 'electron', 'E': 138.501266, 'px': -34.431419, 'py': 24.6730384, 'pz': 131.864776, 'charge': -1}\n",
      "not an electron\n",
      "not an electron\n"
     ]
    }
   ],
   "source": [
    "for particle in particles:\n",
    "    if particle[\"type\"] == \"electron\":\n",
    "        print(particle)\n",
    "    else:\n",
    "        print(\"not an electron\")"
   ]
  },
  {
   "cell_type": "markdown",
   "id": "fca20a5b-5fa7-4d40-859c-10ac24e282e4",
   "metadata": {},
   "source": [
    "`if` statements can be nested."
   ]
  },
  {
   "cell_type": "code",
   "execution_count": 117,
   "id": "3b3c3ee8-6ea6-4240-b2e4-a70e79eb8d7e",
   "metadata": {
    "tags": []
   },
   "outputs": [
    {
     "name": "stdout",
     "output_type": "stream",
     "text": [
      "e+\n",
      "e-\n",
      "mu+\n",
      "mu-\n"
     ]
    }
   ],
   "source": [
    "for particle in particles:\n",
    "    if particle[\"type\"] == \"electron\":\n",
    "        if particle[\"charge\"] > 0:\n",
    "            print(\"e+\")\n",
    "        else:\n",
    "            print(\"e-\")\n",
    "    else:\n",
    "        if particle[\"charge\"] > 0:\n",
    "            print(\"mu+\")\n",
    "        else:\n",
    "            print(\"mu-\")"
   ]
  },
  {
   "cell_type": "markdown",
   "id": "02cb1d61-a3fe-4d9a-9fdf-9e79db5e4b5d",
   "metadata": {},
   "source": [
    "and `elif` works as a contraction of `else if` (so that you don't have to indent as much)."
   ]
  },
  {
   "cell_type": "code",
   "execution_count": 118,
   "id": "eaa05890-0cc9-4045-acfa-4000804284d3",
   "metadata": {
    "tags": []
   },
   "outputs": [
    {
     "name": "stdout",
     "output_type": "stream",
     "text": [
      "e+\n",
      "e-\n",
      "mu+\n",
      "mu-\n"
     ]
    }
   ],
   "source": [
    "for particle in particles:\n",
    "    if particle[\"type\"] == \"electron\" and particle[\"charge\"] > 0:\n",
    "        print(\"e+\")\n",
    "    elif particle[\"type\"] == \"electron\" and particle[\"charge\"] < 0:\n",
    "        print(\"e-\")\n",
    "    elif particle[\"type\"] == \"muon\" and particle[\"charge\"] > 0:\n",
    "        print(\"mu+\")\n",
    "    elif particle[\"type\"] == \"muon\" and particle[\"charge\"] < 0:\n",
    "        print(\"mu-\")"
   ]
  },
  {
   "cell_type": "markdown",
   "id": "13cd843a-0183-4b59-abf6-4bed74971cbe",
   "metadata": {},
   "source": [
    "### From datum (singular) to data (plural)"
   ]
  },
  {
   "cell_type": "code",
   "execution_count": 121,
   "id": "6fdd7717-d726-4c0c-9e66-a9f790501814",
   "metadata": {
    "tags": []
   },
   "outputs": [],
   "source": [
    "import json"
   ]
  },
  {
   "cell_type": "code",
   "execution_count": 122,
   "id": "1970f1fe-ae3d-4d80-a158-50986ffa89b9",
   "metadata": {
    "tags": []
   },
   "outputs": [],
   "source": [
    "dataset = json.load(open(\"data/SMHiggsToZZTo4L.json\"))"
   ]
  },
  {
   "cell_type": "code",
   "execution_count": 124,
   "id": "069992ff-8242-4256-981a-391d63df31b3",
   "metadata": {
    "tags": []
   },
   "outputs": [
    {
     "data": {
      "text/plain": [
       "list"
      ]
     },
     "execution_count": 124,
     "metadata": {},
     "output_type": "execute_result"
    }
   ],
   "source": [
    "type(dataset)"
   ]
  },
  {
   "cell_type": "code",
   "execution_count": 125,
   "id": "fbae590b-3f5a-4a8a-ad44-bd3add264cce",
   "metadata": {
    "tags": []
   },
   "outputs": [
    {
     "data": {
      "text/plain": [
       "10000"
      ]
     },
     "execution_count": 125,
     "metadata": {},
     "output_type": "execute_result"
    }
   ],
   "source": [
    "len(dataset)"
   ]
  },
  {
   "cell_type": "markdown",
   "id": "859aaee1-01dc-4315-982b-0db4127c5bae",
   "metadata": {},
   "source": [
    "Show just the first 3 collision events using a slice, `0:3`."
   ]
  },
  {
   "cell_type": "code",
   "execution_count": 123,
   "id": "87aaaaab-47cc-466a-adec-814b8bf98ec9",
   "metadata": {
    "tags": []
   },
   "outputs": [
    {
     "data": {
      "text/plain": [
       "[{'run': 1,\n",
       "  'luminosityBlock': 156,\n",
       "  'event': 46501,\n",
       "  'PV': {'x': 0.24369880557060242,\n",
       "   'y': 0.3936990201473236,\n",
       "   'z': 1.451307773590088},\n",
       "  'electron': [],\n",
       "  'muon': [{'pt': 63.04386901855469,\n",
       "    'eta': -0.7186822295188904,\n",
       "    'phi': 2.968005895614624,\n",
       "    'mass': 0.10565836727619171,\n",
       "    'charge': 1,\n",
       "    'pfRelIso03_all': 0.0,\n",
       "    'pfRelIso04_all': 0.0,\n",
       "    'dxy': -0.004785160068422556,\n",
       "    'dxyErr': 0.0060764215886592865,\n",
       "    'dz': 0.09005985409021378,\n",
       "    'dzErr': 0.044572051614522934},\n",
       "   {'pt': 38.12034606933594,\n",
       "    'eta': -0.8794569969177246,\n",
       "    'phi': -1.0324749946594238,\n",
       "    'mass': 0.10565836727619171,\n",
       "    'charge': -1,\n",
       "    'pfRelIso03_all': 0.0,\n",
       "    'pfRelIso04_all': 0.0,\n",
       "    'dxy': 0.0005746808601543307,\n",
       "    'dxyErr': 0.0013040687190368772,\n",
       "    'dz': -0.0032290113158524036,\n",
       "    'dzErr': 0.003023269586265087},\n",
       "   {'pt': 4.04868745803833,\n",
       "    'eta': -0.320764422416687,\n",
       "    'phi': 1.0385035276412964,\n",
       "    'mass': 0.10565836727619171,\n",
       "    'charge': 1,\n",
       "    'pfRelIso03_all': 0.0,\n",
       "    'pfRelIso04_all': 0.17997965216636658,\n",
       "    'dxy': -0.00232272082939744,\n",
       "    'dxyErr': 0.004343290813267231,\n",
       "    'dz': -0.005162843037396669,\n",
       "    'dzErr': 0.004190043080598116}],\n",
       "  'MET': {'pt': 21.929929733276367, 'phi': -2.7301223278045654}},\n",
       " {'run': 1,\n",
       "  'luminosityBlock': 156,\n",
       "  'event': 46502,\n",
       "  'PV': {'x': 0.24427825212478638,\n",
       "   'y': 0.3952622413635254,\n",
       "   'z': -2.879779100418091},\n",
       "  'electron': [{'pt': 21.902679443359375,\n",
       "    'eta': -0.7021886706352234,\n",
       "    'phi': 0.1339961737394333,\n",
       "    'mass': 0.00543835386633873,\n",
       "    'charge': 1,\n",
       "    'pfRelIso03_all': 0.15310849249362946,\n",
       "    'dxy': -0.0005134913371875882,\n",
       "    'dxyErr': 0.002374568721279502,\n",
       "    'dz': -0.003061089664697647,\n",
       "    'dzErr': 0.0025612758472561836},\n",
       "   {'pt': 42.63296890258789,\n",
       "    'eta': -0.9796805381774902,\n",
       "    'phi': -1.8634047508239746,\n",
       "    'mass': 0.008667422458529472,\n",
       "    'charge': 1,\n",
       "    'pfRelIso03_all': 0.07332895696163177,\n",
       "    'dxy': 0.0016475901938974857,\n",
       "    'dxyErr': 0.0029195048846304417,\n",
       "    'dz': 0.0027775841299444437,\n",
       "    'dzErr': 0.003392990678548813},\n",
       "   {'pt': 78.01239013671875,\n",
       "    'eta': -0.9338527917861938,\n",
       "    'phi': -2.2078325748443604,\n",
       "    'mass': 0.018527036532759666,\n",
       "    'charge': -1,\n",
       "    'pfRelIso03_all': 0.02972797304391861,\n",
       "    'dxy': -0.0011600104626268148,\n",
       "    'dxyErr': 0.0025206799618899822,\n",
       "    'dz': 0.002125623868778348,\n",
       "    'dzErr': 0.003055028384551406},\n",
       "   {'pt': 23.835430145263672,\n",
       "    'eta': -1.362490177154541,\n",
       "    'phi': -0.6215649247169495,\n",
       "    'mass': 0.008162532933056355,\n",
       "    'charge': -1,\n",
       "    'pfRelIso03_all': 0.074398934841156,\n",
       "    'dxy': -0.0017699336167424917,\n",
       "    'dxyErr': 0.005515107419341803,\n",
       "    'dz': 0.0029383390210568905,\n",
       "    'dzErr': 0.004372752271592617}],\n",
       "  'muon': [],\n",
       "  'MET': {'pt': 16.97213363647461, 'phi': 2.866946220397949}},\n",
       " {'run': 1,\n",
       "  'luminosityBlock': 156,\n",
       "  'event': 46503,\n",
       "  'PV': {'x': 0.24243676662445068,\n",
       "   'y': 0.39509689807891846,\n",
       "   'z': 1.8682630062103271},\n",
       "  'electron': [{'pt': 11.5711669921875,\n",
       "    'eta': -0.8493275046348572,\n",
       "    'phi': 2.180452585220337,\n",
       "    'mass': -0.00608546519652009,\n",
       "    'charge': -1,\n",
       "    'pfRelIso03_all': -999.0,\n",
       "    'dxy': -0.001959428656846285,\n",
       "    'dxyErr': 0.002926760585978627,\n",
       "    'dz': -0.0060557774268090725,\n",
       "    'dzErr': 0.003230293281376362},\n",
       "   {'pt': 6.690738201141357,\n",
       "    'eta': 2.065934658050537,\n",
       "    'phi': 1.6866998672485352,\n",
       "    'mass': -0.005329584237188101,\n",
       "    'charge': 1,\n",
       "    'pfRelIso03_all': 0.5880627036094666,\n",
       "    'dxy': 0.000966764404438436,\n",
       "    'dxyErr': 0.014851272106170654,\n",
       "    'dz': 2.7469565868377686,\n",
       "    'dzErr': 0.027287257835268974}],\n",
       "  'muon': [],\n",
       "  'MET': {'pt': 19.061464309692383, 'phi': -2.1664631366729736}}]"
      ]
     },
     "execution_count": 123,
     "metadata": {},
     "output_type": "execute_result"
    }
   ],
   "source": [
    "dataset[0:3]"
   ]
  },
  {
   "cell_type": "markdown",
   "id": "12fccb81-c134-4f46-bc7a-f2e02e03fb59",
   "metadata": {},
   "source": [
    "<br><br>\n",
    "\n",
    "**Meaning of each field.** (We will only use a few of these.)\n",
    "\n",
    " * **run** (int): unique identifier for a data-taking period of the LHC. This is simulated data, so the run number is 1.\n",
    " * **luminosityBlock** (int): unique identifier for a period of relatively stable conditions within a run.\n",
    " * **event** (int): unique identifier for one crossing of LHC bunches.\n",
    " * **PV** (dict): primary vertex of the collision.\n",
    "   - **x** (float): $x$-position in cm.\n",
    "   - **y** (float): $y$-position in cm.\n",
    "   - **z** (float): $z$-position (along the beamline) in cm.\n",
    " * **electron** (list of dict): list of electrons (may be empty).\n",
    "   - **pt** (float): $p_T$ component of momentum transverse to the beamline in GeV/$c$.\n",
    "   - **eta** (float): $\\eta$ pseudorapidity (roughly, polar angle with respect to the beamline), unitless.\n",
    "   - **phi** (float): $\\phi$ azimuthal angle (in the plane that is perpendicular to the beamline), unitless.\n",
    "   - **mass** (float): measured mass of the particle in GeV/$c^2$.\n",
    "   - **charge** (int): either `+1` or `-1`, unitless.\n",
    "   - **pfRelIso03_all** (float): quantity that specifies how isolated this electron is from the rest of the particles in the event, unitless.\n",
    "   - **dxy** (float): distance of closest approach to the primary vertex in the plane that is perpendicular to the beamline, in cm.\n",
    "   - **dxyErr** (float): uncertainty in the **dxy** measurement.\n",
    "   - **dz** (float): distance of closest approach to the primary vertex in $z$, along the beamline, in cm.\n",
    "   - **dzErr** (float): uncertainty in the **dz** measurement.\n",
    " * **muon** (list of dict): list of muons (may be empty) with the same dict fields as **electron**.\n",
    " * **MET** (dict): missing transverse energy (in the plane perpendicular to the beamline).\n",
    "   - **pt** (float): $p_T$ magnitude, in GeV/$c$.\n",
    "   - **phi** (float): $\\phi$ aximuthal angle, unitless.\n",
    "\n",
    "<br><br>"
   ]
  },
  {
   "cell_type": "markdown",
   "id": "57b1b843-ba28-4316-a245-ff8bebef034c",
   "metadata": {},
   "source": [
    "<br><br>\n",
    "\n",
    "**Coordinate transformations:**\n",
    "\n",
    "  * $p_x = p_T \\cos\\phi \\cosh\\eta$\n",
    "  * $p_y = p_T \\sin\\phi \\cosh\\eta$\n",
    "  * $p_z = p_T \\sinh\\eta$\n",
    "\n",
    "  * $\\displaystyle E = \\sqrt{{p_x}^2 + {p_y}^2 + {p_z}^2 + m^2}$\n",
    "\n",
    "<br><br>"
   ]
  },
  {
   "cell_type": "markdown",
   "id": "a59fe9ca-b2ae-49d4-bdd3-8bd445f52b3f",
   "metadata": {},
   "source": [
    "But there's a library for that."
   ]
  },
  {
   "cell_type": "code",
   "execution_count": 127,
   "id": "93a49e44-bc5f-4d81-a42d-2f482e82eeb6",
   "metadata": {
    "tags": []
   },
   "outputs": [],
   "source": [
    "import vector"
   ]
  },
  {
   "cell_type": "code",
   "execution_count": 133,
   "id": "becf93f8-765f-4cb3-9db0-08599dc0c3e8",
   "metadata": {
    "tags": []
   },
   "outputs": [],
   "source": [
    "def to_vector(particle):\n",
    "    return vector.obj(\n",
    "        pt=particle[\"pt\"],\n",
    "        eta=particle[\"eta\"],\n",
    "        phi=particle[\"phi\"],\n",
    "        mass=particle[\"mass\"],\n",
    "    )"
   ]
  },
  {
   "cell_type": "code",
   "execution_count": 135,
   "id": "f5dd2748-2c4a-4fbb-8c11-61fe7d3209d8",
   "metadata": {
    "tags": []
   },
   "outputs": [
    {
     "name": "stdout",
     "output_type": "stream",
     "text": [
      "80.03810173614954 -62.09642131826239 10.888704252275756 -49.31082178393471\n",
      "53.837451985499946 19.5441283607252 -32.729005959017954 -38.01709205284513\n",
      "4.260074277908423 2.05475040026448 3.4885342087314886 -1.3210598131215057\n"
     ]
    }
   ],
   "source": [
    "for particle in dataset[0][\"muon\"]:\n",
    "    v = to_vector(particle)\n",
    "    print(v.E, v.px, v.py, v.pz)"
   ]
  },
  {
   "cell_type": "markdown",
   "id": "452f42a8-c64d-4d7a-8040-5dd8b929c83b",
   "metadata": {},
   "source": [
    "### Mini-project: let's make an event display"
   ]
  },
  {
   "cell_type": "markdown",
   "id": "c8c4dcee-935f-4984-a10d-3c7023f4048d",
   "metadata": {},
   "source": [
    "There are lots, and lots, and lots of libraries for visualizing data in Python.\n",
    "\n",
    "Matplotlib is the oldest and most popular."
   ]
  },
  {
   "cell_type": "code",
   "execution_count": 142,
   "id": "bdc4cc8a-fe67-43ad-a26b-3c7b19e445b6",
   "metadata": {
    "tags": []
   },
   "outputs": [],
   "source": [
    "import matplotlib.pyplot as plt  # conventional short name for Matplotlib\n",
    "from mpl_toolkits.mplot3d import Axes3D"
   ]
  },
  {
   "cell_type": "code",
   "execution_count": 137,
   "id": "32486e7f-bc32-4bbe-bd75-e38f0a4deb80",
   "metadata": {
    "tags": []
   },
   "outputs": [
    {
     "data": {
      "application/vnd.jupyter.widget-view+json": {
       "model_id": "f7c2c132e1324156b03c64802e45641e",
       "version_major": 2,
       "version_minor": 0
      },
      "image/png": "[encoded data removed]",
      "text/html": [
       "\n",
       "            <div style=\"display: inline-block;\">\n",
       "                <div class=\"jupyter-widgets widget-label\" style=\"text-align: center;\">\n",
       "                    Figure\n",
       "                </div>\n",
       "                <img src='data:image/png;base64,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' width=640.0/>\n",
       "            </div>\n",
       "        "
      ],
      "text/plain": [
       "Canvas(toolbar=Toolbar(toolitems=[('Home', 'Reset original view', 'home', 'home'), ('Back', 'Back to previous …"
      ]
     },
     "metadata": {},
     "output_type": "display_data"
    }
   ],
   "source": [
    "%matplotlib widget\n",
    "\n",
    "fig = plt.figure()"
   ]
  },
  {
   "cell_type": "code",
   "execution_count": 141,
   "id": "28139ec2-2a5b-475f-a529-427442efd7b0",
   "metadata": {
    "tags": []
   },
   "outputs": [],
   "source": [
    "fig.clf()  # clear figure\n",
    "ax = fig.add_subplot(111, projection=\"3d\")\n",
    "\n",
    "# 25 Gaussian-distributed (x, y, z) triplets\n",
    "for x, y, z in np.random.normal(0, 1, (25, 3)):\n",
    "    # make a black line from (0, 0, 0) to (x, y, z)\n",
    "    ax.plot([0, x], [0, y], [0, z], c=\"black\")"
   ]
  },
  {
   "cell_type": "code",
   "execution_count": 143,
   "id": "f8f10718-0217-4a23-8edf-de015e316dc5",
   "metadata": {
    "tags": []
   },
   "outputs": [],
   "source": [
    "def draw_particle(ax, particle, color):\n",
    "    v = to_vector(particle)\n",
    "    ax.plot([0, v.px], [0, v.py], [0, v.pz], c=color)"
   ]
  },
  {
   "cell_type": "code",
   "execution_count": 144,
   "id": "8699a6e6-0719-42de-bd6b-bd4c6da46da6",
   "metadata": {
    "tags": []
   },
   "outputs": [],
   "source": [
    "def draw_event(ax, event):\n",
    "    for particle in event[\"electron\"]:\n",
    "        draw_particle(ax, particle, \"blue\")\n",
    "    for particle in event[\"muon\"]:\n",
    "        draw_particle(ax, particle, \"green\")"
   ]
  },
  {
   "cell_type": "code",
   "execution_count": 152,
   "id": "0b17bc0b-48ea-49bc-b711-8bf36b116b34",
   "metadata": {
    "tags": []
   },
   "outputs": [],
   "source": [
    "fig.clf()\n",
    "ax = fig.add_subplot(111, projection=\"3d\")\n",
    "\n",
    "draw_event(ax, dataset[0])"
   ]
  },
  {
   "cell_type": "code",
   "execution_count": 153,
   "id": "563cc4be-5bf9-44b1-bb8d-48a29169552f",
   "metadata": {
    "tags": []
   },
   "outputs": [],
   "source": [
    "fig.clf()\n",
    "ax = fig.add_subplot(111, projection=\"3d\")\n",
    "\n",
    "for event in dataset[0:10]:\n",
    "    draw_event(ax, event)"
   ]
  },
  {
   "cell_type": "markdown",
   "id": "258bbccd-c8db-4137-9e1f-308f9cc6200b",
   "metadata": {},
   "source": [
    "Add more to the event display, for context."
   ]
  },
  {
   "cell_type": "code",
   "execution_count": 154,
   "id": "b5e5a266-86b6-480d-8e81-34f37360e4a6",
   "metadata": {
    "tags": []
   },
   "outputs": [],
   "source": [
    "def beamline(ax):\n",
    "    ax.plot([0, 0], [0, 0], [-100, 100], c=\"black\", ls=\":\")"
   ]
  },
  {
   "cell_type": "code",
   "execution_count": 155,
   "id": "f0e6e9e1-1d4c-4a88-966b-db6f40c81bc4",
   "metadata": {
    "tags": []
   },
   "outputs": [],
   "source": [
    "def cms_outline(ax):\n",
    "    z = np.linspace(-100, 100, 50)\n",
    "    theta = np.linspace(0, 2 * np.pi, 12)\n",
    "    theta_grid, z_grid = np.meshgrid(theta, z)\n",
    "    x_grid = 100 * np.cos(theta_grid)\n",
    "    y_grid = 100 * np.sin(theta_grid)\n",
    "    ax.plot_surface(x_grid, y_grid, z_grid, alpha=0.2, color=\"red\")"
   ]
  },
  {
   "cell_type": "code",
   "execution_count": 157,
   "id": "312e68ed-6d35-40e3-afe1-3b0bed3ff339",
   "metadata": {
    "tags": []
   },
   "outputs": [
    {
     "data": {
      "text/plain": [
       "Text(0.5, 0, 'z')"
      ]
     },
     "execution_count": 157,
     "metadata": {},
     "output_type": "execute_result"
    }
   ],
   "source": [
    "fig.clf()\n",
    "ax = fig.add_subplot(111, projection=\"3d\")\n",
    "\n",
    "beamline(ax)\n",
    "cms_outline(ax)\n",
    "draw_event(ax, dataset[6417])  # has electrons and muons\n",
    "\n",
    "ax.set_xlim(-100, 100)\n",
    "ax.set_ylim(-100, 100)\n",
    "ax.set_zlim(-100, 100)\n",
    "ax.set_xlabel(\"x\")\n",
    "ax.set_ylabel(\"y\")\n",
    "ax.set_zlabel(\"z\")"
   ]
  },
  {
   "cell_type": "code",
   "execution_count": 161,
   "id": "2ccca8bf-d460-404e-90d5-a8361172e1d5",
   "metadata": {
    "tags": []
   },
   "outputs": [],
   "source": [
    "def draw_position_and_momentum(ax, event, particle, color):\n",
    "    # 1 unit is 1 cm\n",
    "    x0 = event[\"PV\"][\"x\"] - particle[\"dxy\"] * np.cos(particle[\"phi\"])\n",
    "    y0 = event[\"PV\"][\"y\"] - particle[\"dxy\"] * np.sin(particle[\"phi\"])\n",
    "    z0 = event[\"PV\"][\"z\"] - particle[\"dz\"]\n",
    "    \n",
    "    # 1 unit is 1 GeV/c\n",
    "    v = to_vector(particle)\n",
    "    ax.plot([x0, x0 + v.px], [y0, y0 + v.py], [z0, z0 + v.pz], c=color)"
   ]
  },
  {
   "cell_type": "code",
   "execution_count": 162,
   "id": "65269d7d-089a-4c3b-92d2-1dd9928c9a08",
   "metadata": {
    "tags": []
   },
   "outputs": [
    {
     "data": {
      "text/plain": [
       "Text(0.5, 0, 'z')"
      ]
     },
     "execution_count": 162,
     "metadata": {},
     "output_type": "execute_result"
    }
   ],
   "source": [
    "fig.clf()\n",
    "ax = fig.add_subplot(111, projection=\"3d\")\n",
    "\n",
    "beamline(ax)\n",
    "\n",
    "event = dataset[6417]\n",
    "for particle in event[\"electron\"]:\n",
    "    draw_position_and_momentum(ax, event, particle, \"blue\")\n",
    "for particle in event[\"muon\"]:\n",
    "    draw_position_and_momentum(ax, event, particle, \"green\")\n",
    "\n",
    "ax.set_xlim(-100, 100)\n",
    "ax.set_ylim(-100, 100)\n",
    "ax.set_zlim(-100, 100)\n",
    "ax.set_xlabel(\"x\")\n",
    "ax.set_ylabel(\"y\")\n",
    "ax.set_zlabel(\"z\")"
   ]
  },
  {
   "cell_type": "markdown",
   "id": "a73a80d8-c340-46dc-a3ec-58a59ab5cd34",
   "metadata": {},
   "source": [
    "### Classes and object-oriented programming"
   ]
  },
  {
   "cell_type": "markdown",
   "id": "1c2e0175-4229-4428-9400-35f4d1ecf55a",
   "metadata": {},
   "source": [
    "So far, we have only been using a few Python types:\n",
    "\n",
    "  * int\n",
    "  * float\n",
    "  * string\n",
    "  * list\n",
    "  * dict\n",
    "  * whatever the libraries provide"
   ]
  },
  {
   "cell_type": "code",
   "execution_count": 163,
   "id": "454b6460-0c1b-4e84-abfe-6adf8a2f83ba",
   "metadata": {},
   "outputs": [
    {
     "data": {
      "text/plain": [
       "particle.particle.particle.Particle"
      ]
     },
     "execution_count": 163,
     "metadata": {},
     "output_type": "execute_result"
    }
   ],
   "source": [
    "type(muon)"
   ]
  },
  {
   "cell_type": "code",
   "execution_count": 164,
   "id": "d69201a0-c554-4841-9a36-a99180e8619e",
   "metadata": {},
   "outputs": [
    {
     "data": {
      "text/plain": [
       "matplotlib.figure.Figure"
      ]
     },
     "execution_count": 164,
     "metadata": {},
     "output_type": "execute_result"
    }
   ],
   "source": [
    "type(fig)"
   ]
  },
  {
   "cell_type": "code",
   "execution_count": 165,
   "id": "0b1636f4-be01-415d-ba94-a8be70ab50f7",
   "metadata": {},
   "outputs": [
    {
     "data": {
      "text/plain": [
       "mpl_toolkits.mplot3d.axes3d.Axes3D"
      ]
     },
     "execution_count": 165,
     "metadata": {},
     "output_type": "execute_result"
    }
   ],
   "source": [
    "type(ax)"
   ]
  },
  {
   "cell_type": "code",
   "execution_count": 166,
   "id": "290fd58d-bff2-4f8e-8273-55df6cf900da",
   "metadata": {
    "tags": []
   },
   "outputs": [
    {
     "data": {
      "text/plain": [
       "vector.backends.object.MomentumObject4D"
      ]
     },
     "execution_count": 166,
     "metadata": {},
     "output_type": "execute_result"
    }
   ],
   "source": [
    "type(v)"
   ]
  },
  {
   "cell_type": "markdown",
   "id": "fab07751-7645-4162-bc9b-9a2535557d7c",
   "metadata": {},
   "source": [
    "<br><br><br><br><br>\n",
    "\n",
    "The electrons, muons, and events in our dataset really want to be classes.\n",
    "\n",
    "<br><br>\n",
    "\n",
    "A class is a new type with **attributes** (variables) and **methods** (functions) that can be accessed by the dot-syntax.\n",
    "\n",
    "<br><br>\n",
    "\n",
    "The biggest difference between a **method** and a **function** is that it always takes `self` (the object) as its first argument.\n",
    "\n",
    "<br><br>\n",
    "\n",
    "Methods with names like `__xyz__` give the object special abilities.\n",
    "\n",
    "<br><br><br><br><br>"
   ]
  },
  {
   "cell_type": "code",
   "execution_count": 167,
   "id": "73b3ebbb-1f74-44a5-8e72-7058b5fbe46d",
   "metadata": {},
   "outputs": [],
   "source": [
    "class Electron:\n",
    "    def __init__(self, particle_as_dict):\n",
    "        v = to_vector(particle_as_dict)\n",
    "        self.E = v.E\n",
    "        self.px = v.px\n",
    "        self.py = v.py\n",
    "        self.pz = v.pz\n",
    "    \n",
    "    def __repr__(self):\n",
    "        return f\"<Electron E={self.E} px={self.px} py={self.py} pz={self.pz}>\"\n",
    "    \n",
    "    def draw(self, ax):\n",
    "        ax.plot([0, self.px], [0, self.py], [0, self.pz], c=\"blue\")"
   ]
  },
  {
   "cell_type": "code",
   "execution_count": 169,
   "id": "89412980-adb1-4e36-a7c8-c36c88273463",
   "metadata": {
    "tags": []
   },
   "outputs": [],
   "source": [
    "electron_objects = []\n",
    "for particle in dataset[6417][\"electron\"]:\n",
    "    electron_objects.append(Electron(particle))"
   ]
  },
  {
   "cell_type": "code",
   "execution_count": 168,
   "id": "8eff5f79-9235-4aa3-af56-420fff5341d4",
   "metadata": {},
   "outputs": [],
   "source": [
    "class Muon:\n",
    "    def __init__(self, particle_as_dict):\n",
    "        v = to_vector(particle_as_dict)\n",
    "        self.E = v.E\n",
    "        self.px = v.px\n",
    "        self.py = v.py\n",
    "        self.pz = v.pz\n",
    "    \n",
    "    def __repr__(self):\n",
    "        return f\"<Muon E={self.E} px={self.px} py={self.py} pz={self.pz}>\"\n",
    "    \n",
    "    def draw(self, ax):\n",
    "        ax.plot([0, self.px], [0, self.py], [0, self.pz], c=\"green\")"
   ]
  },
  {
   "cell_type": "code",
   "execution_count": 170,
   "id": "519386e3-3562-4773-8633-432cb34e09c3",
   "metadata": {
    "tags": []
   },
   "outputs": [],
   "source": [
    "muon_objects = []\n",
    "for particle in dataset[6417][\"muon\"]:\n",
    "    muon_objects.append(Muon(particle))"
   ]
  },
  {
   "cell_type": "code",
   "execution_count": 171,
   "id": "1917eebc-ef1c-4f90-9b65-3cc0945d0786",
   "metadata": {},
   "outputs": [],
   "source": [
    "fig.clf()\n",
    "ax = fig.add_subplot(111, projection=\"3d\")\n",
    "\n",
    "beamline(ax)\n",
    "cms_outline(ax)\n",
    "\n",
    "for electron in electron_objects:\n",
    "    electron.draw(ax)\n",
    "\n",
    "for muon in muon_objects:\n",
    "    muon.draw(ax)"
   ]
  },
  {
   "cell_type": "code",
   "execution_count": null,
   "id": "9857c8c3-9217-4bdc-bcc5-411dd1f0af2c",
   "metadata": {},
   "outputs": [],
   "source": []
  },
  {
   "cell_type": "code",
   "execution_count": null,
   "id": "e9cecbfe-fb69-41e9-b905-5ec628f9c41c",
   "metadata": {},
   "outputs": [],
   "source": []
  },
  {
   "cell_type": "code",
   "execution_count": null,
   "id": "a7d584f0-3566-4062-86fc-f1045f6eb2af",
   "metadata": {},
   "outputs": [],
   "source": []
  },
  {
   "cell_type": "code",
   "execution_count": null,
   "id": "7fbd4876-42c1-4b36-883d-77c8d0243d9a",
   "metadata": {},
   "outputs": [],
   "source": []
  },
  {
   "cell_type": "code",
   "execution_count": null,
   "id": "b62fb9df-5144-4048-9a93-0dee6a4d2d9c",
   "metadata": {},
   "outputs": [],
   "source": []
  }
 ],
 "metadata": {
  "kernelspec": {
   "display_name": "Python 3 (ipykernel)",
   "language": "python",
   "name": "python3"
  },
  "language_info": {
   "codemirror_mode": {
    "name": "ipython",
    "version": 3
   },
   "file_extension": ".py",
   "mimetype": "text/x-python",
   "name": "python",
   "nbconvert_exporter": "python",
   "pygments_lexer": "ipython3",
   "version": "3.9.15"
  }
 },
 "nbformat": 4,
 "nbformat_minor": 5
}
