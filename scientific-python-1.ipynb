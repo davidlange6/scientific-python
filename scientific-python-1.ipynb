{
 "cells": [
  {
   "cell_type": "markdown",
   "id": "90f590de-0af1-4a9e-8066-e0725da7fcd0",
   "metadata": {},
   "source": [
    "# Scientific Python: 1"
   ]
  },
  {
   "cell_type": "markdown",
   "id": "9419771b-50d0-4d46-8bb1-12a85597f137",
   "metadata": {
    "tags": []
   },
   "source": [
    "<br><br><br>\n",
    "\n",
    "<span style=\"font-size: 24pt; font-weight: bold\">Why Python?</span>\n",
    "\n",
    "<br><br><br>"
   ]
  },
  {
   "cell_type": "markdown",
   "id": "65216c98-b839-4e7d-937e-a3b37c62d3c7",
   "metadata": {
    "tags": []
   },
   "source": [
    "<br><br><br>\n",
    "\n",
    "It's the most commonly used language for data analysis and machine learning:\n",
    "\n",
    "<img src=\"img/analytics-by-language.svg\">\n",
    "\n",
    "<br><br><br>"
   ]
  },
  {
   "cell_type": "markdown",
   "id": "b9d82b15-5962-460e-a70e-b894e512f81b",
   "metadata": {
    "tags": []
   },
   "source": [
    "<br><br><br>\n",
    "\n",
    "It's a rather nice language, but I don't think that's the whole reason.\n",
    "\n",
    "<br><br>\n",
    "\n",
    "It's **well-connected**. Just about everything has a Python interface, which is due (again) to its popularity.\n",
    "\n",
    "<br><br>\n",
    "\n",
    "But being connected is especially good for data analysis: if you need a library that does X, you'll rarely have trouble finding one.\n",
    "\n",
    "<br><br><br>"
   ]
  },
  {
   "cell_type": "markdown",
   "id": "23a6436f-6cd8-49bf-99c7-8f2faa7d431d",
   "metadata": {
    "tags": []
   },
   "source": [
    "<br><br><br>\n",
    "\n",
    "In these four tutorials, we'll look at the ways Python is used in particle physics and science in general.\n",
    "\n",
    "<br><br>\n",
    "\n",
    "First, we should review Python basics, since we'll be using it so much.\n",
    "\n",
    "<br><br>\n",
    "\n",
    "I'll do it in the context of analyzing particle data.\n",
    "\n",
    "<br><br><br>"
   ]
  },
  {
   "cell_type": "markdown",
   "id": "261a513f-4aac-47ec-b1ec-1ba710b63949",
   "metadata": {},
   "source": [
    "## Navigation in Jupyter"
   ]
  },
  {
   "cell_type": "markdown",
   "id": "024cdc13-257b-400d-b749-6c1ef061d7f4",
   "metadata": {},
   "source": [
    "<br><br><br>\n",
    "\n",
    "1. Click the \"...\" to make a cell visible, but don't go ahead of me: follow along!\n",
    "2. Click a code cell to edit it.\n",
    "3. Control-enter to run the cell.\n",
    "4. Shift-enter to run the cell and move to the next one.\n",
    "\n",
    "<br><br><br>"
   ]
  },
  {
   "cell_type": "markdown",
   "id": "1efa4644-5ccc-4a54-b6f0-cc5451a93e72",
   "metadata": {},
   "source": [
    "## Python basics"
   ]
  },
  {
   "cell_type": "markdown",
   "id": "af5c1f26-88f0-4d9e-94e2-d816dc1d38d5",
   "metadata": {},
   "source": [
    "### Python as a desk calculator"
   ]
  },
  {
   "cell_type": "code",
   "execution_count": 76,
   "id": "d904b574-9700-4f1c-a740-64574cf2af9b",
   "metadata": {
    "tags": []
   },
   "outputs": [
    {
     "data": {
      "text/plain": [
       "4"
      ]
     },
     "execution_count": 76,
     "metadata": {},
     "output_type": "execute_result"
    }
   ],
   "source": [
    "2 + 2"
   ]
  },
  {
   "cell_type": "code",
   "execution_count": 77,
   "id": "74a93e7f-9fa7-4f03-bdee-8ecba30b58f1",
   "metadata": {
    "tags": []
   },
   "outputs": [],
   "source": [
    "px = -17.945541\n",
    "py = 13.1652603\n",
    "pz = 64.3908386\n",
    "E = 68.1289790"
   ]
  },
  {
   "cell_type": "code",
   "execution_count": 78,
   "id": "b2d179d1-ca23-4afc-85b5-f8823b79ccf7",
   "metadata": {
    "tags": []
   },
   "outputs": [
    {
     "data": {
      "text/plain": [
       "-17.945541"
      ]
     },
     "execution_count": 78,
     "metadata": {},
     "output_type": "execute_result"
    }
   ],
   "source": [
    "px"
   ]
  },
  {
   "cell_type": "markdown",
   "id": "e9ed7c49-f55c-43f5-b3a6-1c906a8267dc",
   "metadata": {},
   "source": [
    "${p_x}^2 + {p_y}^2$"
   ]
  },
  {
   "cell_type": "code",
   "execution_count": 79,
   "id": "ae32ac79-beae-42bd-90d3-162521c7ea7e",
   "metadata": {
    "tags": []
   },
   "outputs": [
    {
     "data": {
      "text/plain": [
       "495.36652054943704"
      ]
     },
     "execution_count": 79,
     "metadata": {},
     "output_type": "execute_result"
    }
   ],
   "source": [
    "px**2 + py**2"
   ]
  },
  {
   "cell_type": "markdown",
   "id": "9acf20ab-7181-46e8-9f23-2e771d154744",
   "metadata": {},
   "source": [
    "$\\displaystyle \\sqrt{{p_x}^2 + {p_y}^2 + {p_z}^2}$"
   ]
  },
  {
   "cell_type": "code",
   "execution_count": 126,
   "id": "ab6875ea-e813-4653-8230-1fbab0a5ddbd",
   "metadata": {
    "tags": []
   },
   "outputs": [
    {
     "data": {
      "text/plain": [
       "68.12889707136529"
      ]
     },
     "execution_count": 126,
     "metadata": {},
     "output_type": "execute_result"
    }
   ],
   "source": [
    "(px**2 + py**2 + pz**2)**(1/2)"
   ]
  },
  {
   "cell_type": "markdown",
   "id": "38e7e423-cfc1-4006-ab61-81eb7a36a074",
   "metadata": {},
   "source": [
    "$\\displaystyle p = \\sqrt{{p_x}^2 + {p_y}^2 + {p_z}^2}$\n",
    "\n",
    "$\\displaystyle m = \\sqrt{E^2 - p^2}$"
   ]
  },
  {
   "cell_type": "markdown",
   "id": "9816e6f1-f064-4220-a2fa-bec0143c3f9a",
   "metadata": {},
   "source": [
    "**Quizlet:** fix the mistake!"
   ]
  },
  {
   "cell_type": "code",
   "execution_count": 127,
   "id": "139fb64d-a112-4728-b43e-6d6d1f59ab9c",
   "metadata": {
    "tags": []
   },
   "outputs": [
    {
     "data": {
      "text/plain": [
       "92.94632597460625"
      ]
     },
     "execution_count": 127,
     "metadata": {},
     "output_type": "execute_result"
    }
   ],
   "source": [
    "m = (E**2 - px**2 + py**2 + pz**2)**(1/2)\n",
    "m"
   ]
  },
  {
   "cell_type": "markdown",
   "id": "6b36ddd5-069e-492c-840a-2cf250279cd8",
   "metadata": {},
   "source": [
    "## Functions"
   ]
  },
  {
   "cell_type": "code",
   "execution_count": 133,
   "id": "1a09d5ef-c2d1-4d33-945f-060d51fd6050",
   "metadata": {
    "tags": []
   },
   "outputs": [],
   "source": [
    "def euclidean(x, y, z):\n",
    "    return (x**2 + y**2 + z**2)**(1/2)"
   ]
  },
  {
   "cell_type": "code",
   "execution_count": 134,
   "id": "ebf5024d-26a7-44c1-8b78-29cace9177f3",
   "metadata": {
    "tags": []
   },
   "outputs": [
    {
     "data": {
      "text/plain": [
       "68.12889707136529"
      ]
     },
     "execution_count": 134,
     "metadata": {},
     "output_type": "execute_result"
    }
   ],
   "source": [
    "euclidean(px, py, pz)"
   ]
  },
  {
   "cell_type": "code",
   "execution_count": 136,
   "id": "7109688d-89b8-4ae3-8bcd-910beb926ac8",
   "metadata": {
    "tags": []
   },
   "outputs": [],
   "source": [
    "def minkowski(time, space):\n",
    "    return (time**2 - space**2)**(1/2)"
   ]
  },
  {
   "cell_type": "code",
   "execution_count": 137,
   "id": "c2e22df2-eccc-4d9f-9419-dfc9b42e283f",
   "metadata": {
    "tags": []
   },
   "outputs": [
    {
     "data": {
      "text/plain": [
       "0.10565709515008793"
      ]
     },
     "execution_count": 137,
     "metadata": {},
     "output_type": "execute_result"
    }
   ],
   "source": [
    "minkowski(E, euclidean(px, py, pz))"
   ]
  },
  {
   "cell_type": "markdown",
   "id": "f640e37c-a201-4922-90d1-36f1e041a07d",
   "metadata": {},
   "source": [
    "Indenting?"
   ]
  },
  {
   "cell_type": "code",
   "execution_count": 139,
   "id": "98a9e1b2-9b78-4e5f-b9ad-c15019733ff9",
   "metadata": {
    "tags": []
   },
   "outputs": [
    {
     "data": {
      "text/plain": [
       "0.10565709515008793"
      ]
     },
     "execution_count": 139,
     "metadata": {},
     "output_type": "execute_result"
    }
   ],
   "source": [
    "def mass(E, px, py, pz):\n",
    "    def euclidean(x, y, z):\n",
    "        return (x**2 + y**2 + z**2)**(1/2)\n",
    "    \n",
    "    def minkowski(time, space):\n",
    "        return (time**2 - space**2)**(1/2)\n",
    "    \n",
    "    return minkowski(E, euclidean(px, py, pz))\n",
    "\n",
    "mass(E, px, py, pz)"
   ]
  },
  {
   "cell_type": "markdown",
   "id": "5bd02520-e284-4117-b7f5-617c3328a9ae",
   "metadata": {},
   "source": [
    "Note: functions are objects that can be assigned to variables, too."
   ]
  },
  {
   "cell_type": "code",
   "execution_count": 140,
   "id": "964b8f13-f8ec-437e-8f24-f2539468a804",
   "metadata": {
    "tags": []
   },
   "outputs": [],
   "source": [
    "mag3d = euclidean"
   ]
  },
  {
   "cell_type": "code",
   "execution_count": 141,
   "id": "0b84e07f-90c2-4240-b65a-576aeeb209d9",
   "metadata": {
    "tags": []
   },
   "outputs": [
    {
     "data": {
      "text/plain": [
       "68.12889707136529"
      ]
     },
     "execution_count": 141,
     "metadata": {},
     "output_type": "execute_result"
    }
   ],
   "source": [
    "mag3d(px, py, pz)"
   ]
  },
  {
   "cell_type": "markdown",
   "id": "f0fe9095-46b4-4207-b12d-6c284da23b34",
   "metadata": {},
   "source": [
    "## Importing functionality into Python"
   ]
  },
  {
   "cell_type": "code",
   "execution_count": 117,
   "id": "2940c17b-1838-4bc7-91e0-a195805d3e5b",
   "metadata": {
    "tags": []
   },
   "outputs": [],
   "source": [
    "import math"
   ]
  },
  {
   "cell_type": "code",
   "execution_count": 119,
   "id": "1b253100-f4fa-48b5-b708-7c132d64e08b",
   "metadata": {
    "tags": []
   },
   "outputs": [
    {
     "data": {
      "text/plain": [
       "<module 'math' from '/home/jpivarski/mambaforge/lib/python3.9/lib-dynload/math.cpython-39-x86_64-linux-gnu.so'>"
      ]
     },
     "execution_count": 119,
     "metadata": {},
     "output_type": "execute_result"
    }
   ],
   "source": [
    "math"
   ]
  },
  {
   "cell_type": "markdown",
   "id": "51cc9dae-18ec-4f1f-8ca8-4a22507e6d24",
   "metadata": {},
   "source": [
    "Usually, you want to access named functions within the module with a dot."
   ]
  },
  {
   "cell_type": "code",
   "execution_count": 118,
   "id": "65344095-3119-49a8-8814-dba47e2c6838",
   "metadata": {
    "tags": []
   },
   "outputs": [
    {
     "data": {
      "text/plain": [
       "0.10565709514578395"
      ]
     },
     "execution_count": 118,
     "metadata": {},
     "output_type": "execute_result"
    }
   ],
   "source": [
    "math.sqrt(E**2 - px**2 - py**2 - pz**2)"
   ]
  },
  {
   "cell_type": "markdown",
   "id": "d08a92a2-2a48-4eea-96e3-5c16052138be",
   "metadata": {},
   "source": [
    "It prevents functions with the same names in different libraries from conflicting."
   ]
  },
  {
   "cell_type": "code",
   "execution_count": 120,
   "id": "52fdfa87-92bb-4b95-9435-8a5427dad144",
   "metadata": {
    "tags": []
   },
   "outputs": [],
   "source": [
    "import numpy"
   ]
  },
  {
   "cell_type": "code",
   "execution_count": 121,
   "id": "0082b1bf-ca4d-4772-a0af-d4a956ce5146",
   "metadata": {
    "tags": []
   },
   "outputs": [
    {
     "data": {
      "text/plain": [
       "<ufunc 'sqrt'>"
      ]
     },
     "execution_count": 121,
     "metadata": {},
     "output_type": "execute_result"
    }
   ],
   "source": [
    "numpy.sqrt"
   ]
  },
  {
   "cell_type": "code",
   "execution_count": 122,
   "id": "4131dee8-537c-4ad9-b2fa-3d57ab326678",
   "metadata": {
    "tags": []
   },
   "outputs": [
    {
     "data": {
      "text/plain": [
       "<function math.sqrt(x, /)>"
      ]
     },
     "execution_count": 122,
     "metadata": {},
     "output_type": "execute_result"
    }
   ],
   "source": [
    "math.sqrt"
   ]
  },
  {
   "cell_type": "code",
   "execution_count": 124,
   "id": "76a21ba9-780f-4cd9-8020-28f7cff7645e",
   "metadata": {
    "tags": []
   },
   "outputs": [
    {
     "data": {
      "text/plain": [
       "False"
      ]
     },
     "execution_count": 124,
     "metadata": {},
     "output_type": "execute_result"
    }
   ],
   "source": [
    "numpy.sqrt is math.sqrt"
   ]
  },
  {
   "cell_type": "markdown",
   "id": "8fa529cf-6f2b-48b7-96bb-69f1ac9781bd",
   "metadata": {},
   "source": [
    "Some libraries have conventional \"short names.\""
   ]
  },
  {
   "cell_type": "code",
   "execution_count": 86,
   "id": "6215ee13-4788-4b30-b0bc-7e49948f10d1",
   "metadata": {
    "tags": []
   },
   "outputs": [],
   "source": [
    "import numpy as np"
   ]
  },
  {
   "cell_type": "code",
   "execution_count": 87,
   "id": "cd3b202a-2ce9-4b8e-9d67-5cac334f1209",
   "metadata": {
    "tags": []
   },
   "outputs": [
    {
     "data": {
      "text/plain": [
       "0.10565709514578395"
      ]
     },
     "execution_count": 87,
     "metadata": {},
     "output_type": "execute_result"
    }
   ],
   "source": [
    "np.sqrt(E**2 - px**2 - py**2 - pz**2)"
   ]
  },
  {
   "cell_type": "markdown",
   "id": "2128c325-bd51-4505-b84c-8d64b326aa83",
   "metadata": {},
   "source": [
    "Sometimes, it's better to extract only one object from a library."
   ]
  },
  {
   "cell_type": "code",
   "execution_count": 99,
   "id": "914b38b5-5d52-4dfa-b229-830bce7a5240",
   "metadata": {
    "tags": []
   },
   "outputs": [],
   "source": [
    "from hepunits import GeV\n",
    "from particle import Particle"
   ]
  },
  {
   "cell_type": "code",
   "execution_count": 100,
   "id": "8f63d6a7-0baf-4bd2-ad7b-e423279cf450",
   "metadata": {
    "tags": []
   },
   "outputs": [
    {
     "data": {
      "text/latex": [
       "$\\mu^{+}$"
      ],
      "text/plain": [
       "<Particle: name=\"mu+\", pdgid=-13, mass=105.6583755 ± 0.0000023 MeV>"
      ]
     },
     "execution_count": 100,
     "metadata": {},
     "output_type": "execute_result"
    }
   ],
   "source": [
    "muon = Particle.from_name(\"mu+\")\n",
    "muon"
   ]
  },
  {
   "cell_type": "code",
   "execution_count": 102,
   "id": "90ee6739-0df5-4745-a189-261229f7f0f5",
   "metadata": {
    "tags": []
   },
   "outputs": [
    {
     "data": {
      "text/plain": [
       "0.1056583755"
      ]
     },
     "execution_count": 102,
     "metadata": {},
     "output_type": "execute_result"
    }
   ],
   "source": [
    "muon.mass / GeV"
   ]
  },
  {
   "cell_type": "code",
   "execution_count": 104,
   "id": "57e579af-3237-4bb2-883a-a82395a6b9b7",
   "metadata": {
    "tags": []
   },
   "outputs": [
    {
     "data": {
      "text/plain": [
       "\u001b[0;31mType:\u001b[0m           Particle\n",
       "\u001b[0;31mString form:\u001b[0m    mu+\n",
       "\u001b[0;31mFile:\u001b[0m           ~/mambaforge/lib/python3.9/site-packages/particle/particle/particle.py\n",
       "\u001b[0;31mDocstring:\u001b[0m     \n",
       "The Particle object class. Hold a series of properties for a particle.\n",
       "\n",
       "Class properties:\n",
       "\n",
       "C\n",
       "    The charge conjugation parity quantum number, if relevant.\n",
       "    It is C = (-1)^(L+S) for self-conjugate mesons.\n",
       "    Mesons with PDG IDs of the kind 9XXXXXX (N=9) are not experimentally well-known particles\n",
       "    and None is returned.\n",
       "\n",
       "G\n",
       "    The G-parity quantum number, if relevant.\n",
       "\n",
       "I\n",
       "    The isospin quantum number, if relevant.\n",
       "\n",
       "P\n",
       "    The parity quantum number, if relevant.\n",
       "    It is P = (-1)^(L+1) for self-conjugate mesons and -1 for the photon.\n",
       "    Mesons with PDG IDs of the kind 9XXXXXX (N=9) are not experimentally well-known particles\n",
       "    and None is returned.\n",
       "\n",
       "anti_flag\n",
       "    The particle-antiparticle flag.\n",
       "\n",
       "    A = B     - particle that has anti-particle partner different from particle\n",
       "                with ASCII name formed by concatenation of the name shown below with charge\n",
       "                ( e- <--> e+, pi+ <--> pi-, K+ <--> K-, W+ <--> W- ).\n",
       "    A = F     - particle that has anti-particle partner different from particle\n",
       "                with ascii name formed by concatenation of the name shown below with string \"bar\" and charge\n",
       "                by the rule (nu(e) <--> nubar(e), p <--> pbar, Delta++ <--> Deltabar--)\n",
       "    A = blank - particle that coincides with its antiparticle (gamma, pi0, eta).\n",
       "\n",
       "charge\n",
       "    The particle charge, in units of the positron charge.\n",
       "\n",
       "latex_name\n",
       "    The particle name in LaTeX.\n",
       "\n",
       "mass\n",
       "    The particle mass, in MeV.\n",
       "\n",
       "mass_lower\n",
       "    The lower uncertainty on the particle mass, in MeV.\n",
       "\n",
       "mass_upper\n",
       "    The upper uncertainty on the particle mass, in MeV.\n",
       "\n",
       "pdgid\n",
       "    The PDG ID.\n",
       "\n",
       "pdg_name\n",
       "    The particle name as in the PDG data file.\n",
       "\n",
       "    Note:\n",
       "    This name does not contain the charge. See alternative `name`.\n",
       "\n",
       "quarks\n",
       "    The quark content of the particle. Empty string if not relevant.\n",
       "\n",
       "    Note:\n",
       "    Capital letters represent anti-quarks, 'qQ' stands for light quark,\n",
       "    light anti-quark pair with unknown wave functions.\n",
       "    x, y stand for wave function coefficients, see the Review of Particle Physics (RPP) 'Quark Model' Review.\n",
       "    p, q stand for CP violation parameters, see the RPP 'CP violation in KL Decays' review.\n",
       "\n",
       "rank\n",
       "    The particle rank as specified by the PDG, i.e. the number of baryon stars - used only on baryons.\n",
       "\n",
       "    Possible values are:\n",
       "    4 - Existence is certain, and properties are at least fairly well explored.\n",
       "    3 - Existence ranges from very likely to certain, but further confirmation\n",
       "         is desirable and/or quantum numbers, branching fractions, etc. are not well determined.\n",
       "    2 - Evidence of existence is only fair.\n",
       "    1 - Evidence of existence is poor.\n",
       "\n",
       "status\n",
       "    The particle status as specified by the PDG.\n",
       "\n",
       "    Possible values are:\n",
       "    R - Established particles in the Review of Particle Physics (RPP) Summary Table\n",
       "        in Particle Physics Booklet\n",
       "        (established quarks, gauge bosons, leptons, mesons and baryons, except those in D below).\n",
       "    D - The particle is omitted from the Summary Tables in the Particle Physics Booklet,\n",
       "        but not from the Review. These entries are omitted only to save space\n",
       "        even though they are well established.\n",
       "    S - The particle is omitted from the particle properties Summary Tables\n",
       "        because it is not well established.\n",
       "    F - Special case: \"Further mesons\", see RPP, these states are in the RPP database\n",
       "        but are poorly established or observed by a single group and thus need confirmation.\n",
       "        If used, these should be referred to the original publication.\n",
       "\n",
       "width\n",
       "    The particle decay width, in MeV.\n",
       "\n",
       "width_lower\n",
       "    The lower uncertainty on the particle decay width, in MeV.\n",
       "\n",
       "width_upper\n",
       "    The upper uncertainty on the particle decay width, in MeV.\n",
       "\u001b[0;31mInit docstring:\u001b[0m Method generated by attrs for class Particle.\n"
      ]
     },
     "metadata": {},
     "output_type": "display_data"
    }
   ],
   "source": [
    "?muon"
   ]
  },
  {
   "cell_type": "markdown",
   "id": "6017482c-3f38-4181-bd3b-526b16279e3a",
   "metadata": {},
   "source": [
    "## Data types"
   ]
  },
  {
   "cell_type": "markdown",
   "id": "08a5d585-d5c0-4c3b-9b7e-ef7e9b2bbeea",
   "metadata": {},
   "source": [
    "Python data have types, but unlike C++, type correctness is checked just before computation, not in a separate compilation phase."
   ]
  },
  {
   "cell_type": "code",
   "execution_count": 105,
   "id": "3fda0d2d-e2fc-40a1-ba30-cb33dddea0af",
   "metadata": {
    "tags": []
   },
   "outputs": [
    {
     "ename": "TypeError",
     "evalue": "unsupported operand type(s) for +: 'int' and 'str'",
     "output_type": "error",
     "traceback": [
      "\u001b[0;31m---------------------------------------------------------------------------\u001b[0m",
      "\u001b[0;31mTypeError\u001b[0m                                 Traceback (most recent call last)",
      "Cell \u001b[0;32mIn[105], line 1\u001b[0m\n\u001b[0;32m----> 1\u001b[0m \u001b[38;5;241;43m1\u001b[39;49m\u001b[43m \u001b[49m\u001b[38;5;241;43m+\u001b[39;49m\u001b[43m \u001b[49m\u001b[38;5;124;43m\"\u001b[39;49m\u001b[38;5;124;43m2\u001b[39;49m\u001b[38;5;124;43m\"\u001b[39;49m\n",
      "\u001b[0;31mTypeError\u001b[0m: unsupported operand type(s) for +: 'int' and 'str'"
     ]
    }
   ],
   "source": [
    "1 + \"2\""
   ]
  },
  {
   "cell_type": "code",
   "execution_count": 106,
   "id": "56def9cd-e4e8-452e-9898-1494ff30856e",
   "metadata": {
    "tags": []
   },
   "outputs": [
    {
     "data": {
      "text/plain": [
       "int"
      ]
     },
     "execution_count": 106,
     "metadata": {},
     "output_type": "execute_result"
    }
   ],
   "source": [
    "type(1)"
   ]
  },
  {
   "cell_type": "code",
   "execution_count": 107,
   "id": "a447b24b-6e90-4f0b-bb56-95ff9194d53a",
   "metadata": {
    "tags": []
   },
   "outputs": [
    {
     "data": {
      "text/plain": [
       "str"
      ]
     },
     "execution_count": 107,
     "metadata": {},
     "output_type": "execute_result"
    }
   ],
   "source": [
    "type(\"2\")"
   ]
  },
  {
   "cell_type": "markdown",
   "id": "8f960bb8-a20d-43d5-91a5-a0e9aba1099a",
   "metadata": {},
   "source": [
    "_Therefore_, types are objects that you can use at runtime, unlike C++."
   ]
  },
  {
   "cell_type": "code",
   "execution_count": 110,
   "id": "640c70dd-bd1c-4b6f-afd2-077e610a4376",
   "metadata": {
    "tags": []
   },
   "outputs": [
    {
     "data": {
      "text/plain": [
       "int"
      ]
     },
     "execution_count": 110,
     "metadata": {},
     "output_type": "execute_result"
    }
   ],
   "source": [
    "t1 = type(1)\n",
    "t1"
   ]
  },
  {
   "cell_type": "code",
   "execution_count": 111,
   "id": "5549ddbd-4eba-41b4-8a30-9b1fe3657944",
   "metadata": {
    "tags": []
   },
   "outputs": [
    {
     "data": {
      "text/plain": [
       "str"
      ]
     },
     "execution_count": 111,
     "metadata": {},
     "output_type": "execute_result"
    }
   ],
   "source": [
    "t2 = type(\"2\")\n",
    "t2"
   ]
  },
  {
   "cell_type": "code",
   "execution_count": 125,
   "id": "8e6e4715-9439-438d-b64e-b8ffa600abd3",
   "metadata": {
    "tags": []
   },
   "outputs": [
    {
     "data": {
      "text/plain": [
       "False"
      ]
     },
     "execution_count": 125,
     "metadata": {},
     "output_type": "execute_result"
    }
   ],
   "source": [
    "t1 is t2"
   ]
  },
  {
   "cell_type": "markdown",
   "id": "fef486c0-66a0-4097-8c01-97711e074505",
   "metadata": {},
   "source": [
    "Most type objects are functions that create or convert data to that type."
   ]
  },
  {
   "cell_type": "code",
   "execution_count": 113,
   "id": "099b6159-e8a6-483d-9c2d-d45d666deb2c",
   "metadata": {
    "tags": []
   },
   "outputs": [
    {
     "data": {
      "text/plain": [
       "2"
      ]
     },
     "execution_count": 113,
     "metadata": {},
     "output_type": "execute_result"
    }
   ],
   "source": [
    "int(\"2\")"
   ]
  },
  {
   "cell_type": "code",
   "execution_count": 114,
   "id": "d75a303d-72c8-44e5-b68c-46afdcab99e7",
   "metadata": {
    "tags": []
   },
   "outputs": [
    {
     "data": {
      "text/plain": [
       "2"
      ]
     },
     "execution_count": 114,
     "metadata": {},
     "output_type": "execute_result"
    }
   ],
   "source": [
    "t1(\"2\")"
   ]
  },
  {
   "cell_type": "markdown",
   "id": "53aea2da-dfe0-4728-b456-170219dae190",
   "metadata": {},
   "source": [
    "**Quizlet:** before you run it, what will this do?"
   ]
  },
  {
   "cell_type": "code",
   "execution_count": 116,
   "id": "300bd769-a363-455c-8f12-c39386f2c8c7",
   "metadata": {
    "tags": []
   },
   "outputs": [
    {
     "data": {
      "text/plain": [
       "int"
      ]
     },
     "execution_count": 116,
     "metadata": {},
     "output_type": "execute_result"
    }
   ],
   "source": [
    "type(type(1)(\"2\"))"
   ]
  },
  {
   "cell_type": "markdown",
   "id": "d79f4eb1-875c-4486-a8ca-2167c70adfb1",
   "metadata": {},
   "source": [
    "### Type hierarchies"
   ]
  },
  {
   "cell_type": "markdown",
   "id": "1bb75987-1ce5-47a5-aaa1-5da4805d9f5f",
   "metadata": {},
   "source": [
    "NumPy has some types that look like standard Python types, but they're not."
   ]
  },
  {
   "cell_type": "code",
   "execution_count": 161,
   "id": "df8cda99-cd9b-4d0c-b9e6-40af86e0e83c",
   "metadata": {
    "tags": []
   },
   "outputs": [
    {
     "data": {
      "text/plain": [
       "1"
      ]
     },
     "execution_count": 161,
     "metadata": {},
     "output_type": "execute_result"
    }
   ],
   "source": [
    "np_one = np.int32(1)\n",
    "np_one"
   ]
  },
  {
   "cell_type": "code",
   "execution_count": 162,
   "id": "ee313cf8-f1bc-4881-84b3-987d961dc5d9",
   "metadata": {
    "tags": []
   },
   "outputs": [
    {
     "data": {
      "text/plain": [
       "numpy.int32"
      ]
     },
     "execution_count": 162,
     "metadata": {},
     "output_type": "execute_result"
    }
   ],
   "source": [
    "np_int = type(np_one)\n",
    "np_int"
   ]
  },
  {
   "cell_type": "markdown",
   "id": "69a78337-e8b2-4b33-a00d-d9886c2e001b",
   "metadata": {},
   "source": [
    "`np.int32` is not Python `int`."
   ]
  },
  {
   "cell_type": "code",
   "execution_count": 163,
   "id": "7fad5fc5-d2c5-4007-b574-c55346f17679",
   "metadata": {
    "tags": []
   },
   "outputs": [
    {
     "data": {
      "text/plain": [
       "False"
      ]
     },
     "execution_count": 163,
     "metadata": {},
     "output_type": "execute_result"
    }
   ],
   "source": [
    "np_int == int"
   ]
  },
  {
   "cell_type": "markdown",
   "id": "363fd780-07dd-4f4a-960b-b98bf6938db1",
   "metadata": {},
   "source": [
    "`np.int32` is also not `np.int64`."
   ]
  },
  {
   "cell_type": "code",
   "execution_count": 150,
   "id": "ed5fe37c-c8f0-4d2d-9ec9-c50f1e7e571c",
   "metadata": {
    "tags": []
   },
   "outputs": [
    {
     "data": {
      "text/plain": [
       "False"
      ]
     },
     "execution_count": 150,
     "metadata": {},
     "output_type": "execute_result"
    }
   ],
   "source": [
    "np_int == type(np.int64(1))"
   ]
  },
  {
   "cell_type": "markdown",
   "id": "843cabf3-4db9-4b0e-bf7b-51baf2c3f476",
   "metadata": {},
   "source": [
    "`isinstance` is a better way to check the type of something.\n",
    "\n",
    "It doesn't ask, \"Is this type object the same object as this other one?\"\n",
    "\n",
    "It asks, \"Is this value an instance of this type?\""
   ]
  },
  {
   "cell_type": "code",
   "execution_count": 164,
   "id": "edbcee7d-7d30-4e6b-880d-953936aa45d1",
   "metadata": {
    "tags": []
   },
   "outputs": [
    {
     "data": {
      "text/plain": [
       "True"
      ]
     },
     "execution_count": 164,
     "metadata": {},
     "output_type": "execute_result"
    }
   ],
   "source": [
    "isinstance(np_one, np.int32)"
   ]
  },
  {
   "cell_type": "markdown",
   "id": "228dc2a1-2f84-4920-b0a3-a0bed1cdf7f1",
   "metadata": {},
   "source": [
    "Because some types are _supertypes_ of others.\n",
    "\n",
    "`np.integer` is a supertype of `np.int32` because any `np.int32` instance is also an `np.integer` instance."
   ]
  },
  {
   "cell_type": "code",
   "execution_count": 165,
   "id": "58bf737b-7fd2-4a86-8ebd-5f522fab3896",
   "metadata": {
    "tags": []
   },
   "outputs": [
    {
     "data": {
      "text/plain": [
       "True"
      ]
     },
     "execution_count": 165,
     "metadata": {},
     "output_type": "execute_result"
    }
   ],
   "source": [
    "isinstance(np_one, np.integer)"
   ]
  },
  {
   "cell_type": "markdown",
   "id": "8eac8c67-2a86-49e2-9a0d-3757f9b3d866",
   "metadata": {},
   "source": [
    "`np.integer` is a supertype of `np.int64` because any `np.int64` instance is also an `np.integer` instance."
   ]
  },
  {
   "cell_type": "code",
   "execution_count": 166,
   "id": "bf72324a-8e30-461c-96ed-eeff45de8281",
   "metadata": {
    "tags": []
   },
   "outputs": [
    {
     "data": {
      "text/plain": [
       "True"
      ]
     },
     "execution_count": 166,
     "metadata": {},
     "output_type": "execute_result"
    }
   ],
   "source": [
    "isinstance(np.int64(1), np.integer)"
   ]
  },
  {
   "cell_type": "markdown",
   "id": "6ca5c8cc-669a-4b1d-a644-7eac27cf7a42",
   "metadata": {},
   "source": [
    "<img src=\"img/dtype-hierarchy.png\">"
   ]
  },
  {
   "cell_type": "markdown",
   "id": "e73580f2-0905-4d01-994f-f203d8b2499b",
   "metadata": {},
   "source": [
    "`mro` (method resolution order) gives a list of all of a type's supertypes."
   ]
  },
  {
   "cell_type": "code",
   "execution_count": 159,
   "id": "dc3104dc-e778-4e5b-aac9-f1f3df8b41dc",
   "metadata": {
    "tags": []
   },
   "outputs": [
    {
     "data": {
      "text/plain": [
       "[numpy.int32,\n",
       " numpy.signedinteger,\n",
       " numpy.integer,\n",
       " numpy.number,\n",
       " numpy.generic,\n",
       " object]"
      ]
     },
     "execution_count": 159,
     "metadata": {},
     "output_type": "execute_result"
    }
   ],
   "source": [
    "np.int32.mro()"
   ]
  },
  {
   "cell_type": "markdown",
   "id": "4de47d24-49d5-444d-9b68-72f9a2c867e5",
   "metadata": {},
   "source": [
    "We see that the only supertypes `np.int32` and `int` have in common is `object`.\n",
    "\n",
    "(Everything in Python is an `object`.)"
   ]
  },
  {
   "cell_type": "code",
   "execution_count": 160,
   "id": "b1577626-ff65-4eee-9034-18acd668a04c",
   "metadata": {
    "tags": []
   },
   "outputs": [
    {
     "data": {
      "text/plain": [
       "[int, object]"
      ]
     },
     "execution_count": 160,
     "metadata": {},
     "output_type": "execute_result"
    }
   ],
   "source": [
    "int.mro()"
   ]
  },
  {
   "cell_type": "code",
   "execution_count": 155,
   "id": "e40e4cc4-b32e-42bb-a06b-a18fc4932113",
   "metadata": {
    "tags": []
   },
   "outputs": [],
   "source": [
    "import numbers"
   ]
  },
  {
   "cell_type": "code",
   "execution_count": 157,
   "id": "821eb4c1-34e8-4fd5-b69b-bbfe8645dc2d",
   "metadata": {
    "tags": []
   },
   "outputs": [
    {
     "data": {
      "text/plain": [
       "True"
      ]
     },
     "execution_count": 157,
     "metadata": {},
     "output_type": "execute_result"
    }
   ],
   "source": [
    "isinstance(np.int32(1), numbers.Integral)"
   ]
  },
  {
   "cell_type": "code",
   "execution_count": 158,
   "id": "009c0874-3b13-4a25-a749-c1bed8ca96dd",
   "metadata": {
    "tags": []
   },
   "outputs": [
    {
     "data": {
      "text/plain": [
       "True"
      ]
     },
     "execution_count": 158,
     "metadata": {},
     "output_type": "execute_result"
    }
   ],
   "source": [
    "isinstance(1, numbers.Integral)"
   ]
  },
  {
   "cell_type": "markdown",
   "id": "962c9d71-f666-4c93-83ec-d78e09a3b01c",
   "metadata": {},
   "source": [
    "## Collection types"
   ]
  },
  {
   "cell_type": "markdown",
   "id": "67100256-d455-4a45-b77a-548457c3e504",
   "metadata": {},
   "source": [
    "The two most basic collection types in Python are `list` and `dict`."
   ]
  },
  {
   "cell_type": "code",
   "execution_count": 201,
   "id": "48151f8d-6947-4d7a-b402-b18769f0ca13",
   "metadata": {
    "tags": []
   },
   "outputs": [
    {
     "data": {
      "text/plain": [
       "[0.0, 1.1, 2.2, 3.3, 4.4, 5.5, 6.6, 7.7, 8.8, 9.9]"
      ]
     },
     "execution_count": 201,
     "metadata": {},
     "output_type": "execute_result"
    }
   ],
   "source": [
    "some_list = [0.0, 1.1, 2.2, 3.3, 4.4, 5.5, 6.6, 7.7, 8.8, 9.9]\n",
    "some_list"
   ]
  },
  {
   "cell_type": "code",
   "execution_count": 202,
   "id": "38894dd2-08fc-465e-b267-d1f8fd27ec47",
   "metadata": {
    "tags": []
   },
   "outputs": [
    {
     "data": {
      "text/plain": [
       "list"
      ]
     },
     "execution_count": 202,
     "metadata": {},
     "output_type": "execute_result"
    }
   ],
   "source": [
    "type(some_list)"
   ]
  },
  {
   "cell_type": "code",
   "execution_count": 203,
   "id": "0e1a15d6-769c-4488-b1c0-49869023efe9",
   "metadata": {
    "tags": []
   },
   "outputs": [
    {
     "data": {
      "text/plain": [
       "10"
      ]
     },
     "execution_count": 203,
     "metadata": {},
     "output_type": "execute_result"
    }
   ],
   "source": [
    "len(some_list)"
   ]
  },
  {
   "cell_type": "code",
   "execution_count": 204,
   "id": "d4732a03-9746-4f24-bf92-2c4a1fd5733f",
   "metadata": {
    "tags": []
   },
   "outputs": [
    {
     "data": {
      "text/plain": [
       "{'one': 1.1, 'two': 2.2, 'three': 3.3}"
      ]
     },
     "execution_count": 204,
     "metadata": {},
     "output_type": "execute_result"
    }
   ],
   "source": [
    "some_dict = {\"one\": 1.1, \"two\": 2.2, \"three\": 3.3}\n",
    "some_dict"
   ]
  },
  {
   "cell_type": "code",
   "execution_count": 205,
   "id": "38801fb9-4049-466b-bf57-6c405decd962",
   "metadata": {
    "tags": []
   },
   "outputs": [
    {
     "data": {
      "text/plain": [
       "dict"
      ]
     },
     "execution_count": 205,
     "metadata": {},
     "output_type": "execute_result"
    }
   ],
   "source": [
    "type(some_dict)"
   ]
  },
  {
   "cell_type": "code",
   "execution_count": 206,
   "id": "5bf871ba-7649-4113-89d7-fcb5fd03621e",
   "metadata": {
    "tags": []
   },
   "outputs": [
    {
     "data": {
      "text/plain": [
       "3"
      ]
     },
     "execution_count": 206,
     "metadata": {},
     "output_type": "execute_result"
    }
   ],
   "source": [
    "len(some_dict)"
   ]
  },
  {
   "cell_type": "markdown",
   "id": "b1f192a9-eb56-4bc8-b8e4-5a22439ce70b",
   "metadata": {},
   "source": [
    "You can take data out of a collection with square brackets: `[` `]`."
   ]
  },
  {
   "cell_type": "code",
   "execution_count": 207,
   "id": "5e8068dc-bdfd-4229-917d-2fb9d6ad7516",
   "metadata": {
    "tags": []
   },
   "outputs": [
    {
     "data": {
      "text/plain": [
       "3.3"
      ]
     },
     "execution_count": 207,
     "metadata": {},
     "output_type": "execute_result"
    }
   ],
   "source": [
    "some_list[3]"
   ]
  },
  {
   "cell_type": "code",
   "execution_count": 208,
   "id": "94a6607e-a42e-4e4b-8ab9-439216319d47",
   "metadata": {
    "tags": []
   },
   "outputs": [
    {
     "data": {
      "text/plain": [
       "2.2"
      ]
     },
     "execution_count": 208,
     "metadata": {},
     "output_type": "execute_result"
    }
   ],
   "source": [
    "some_dict[\"two\"]"
   ]
  },
  {
   "cell_type": "markdown",
   "id": "0ce9392e-d511-405b-ba2b-26862c9da5fa",
   "metadata": {},
   "source": [
    "You can also change the data in a collection that way."
   ]
  },
  {
   "cell_type": "code",
   "execution_count": 209,
   "id": "0cfd78f9-cd9e-4f5e-96b9-a3c2a46053d6",
   "metadata": {
    "tags": []
   },
   "outputs": [],
   "source": [
    "some_list[3] = 33333"
   ]
  },
  {
   "cell_type": "code",
   "execution_count": 210,
   "id": "d740794a-1189-4b89-8ec3-2b093c6f02a3",
   "metadata": {
    "tags": []
   },
   "outputs": [
    {
     "data": {
      "text/plain": [
       "[0.0, 1.1, 2.2, 33333, 4.4, 5.5, 6.6, 7.7, 8.8, 9.9]"
      ]
     },
     "execution_count": 210,
     "metadata": {},
     "output_type": "execute_result"
    }
   ],
   "source": [
    "some_list"
   ]
  },
  {
   "cell_type": "code",
   "execution_count": 211,
   "id": "4b246ada-6e73-4e20-b9eb-901a53573381",
   "metadata": {
    "tags": []
   },
   "outputs": [],
   "source": [
    "some_dict[\"two\"] = 22222"
   ]
  },
  {
   "cell_type": "code",
   "execution_count": 212,
   "id": "30ebfe7b-f31d-4bfd-b7dd-18692c9059d1",
   "metadata": {
    "tags": []
   },
   "outputs": [
    {
     "data": {
      "text/plain": [
       "{'one': 1.1, 'two': 22222, 'three': 3.3}"
      ]
     },
     "execution_count": 212,
     "metadata": {},
     "output_type": "execute_result"
    }
   ],
   "source": [
    "some_dict"
   ]
  },
  {
   "cell_type": "code",
   "execution_count": 215,
   "id": "0914ddfa-f86c-4898-8668-17e05933b629",
   "metadata": {
    "tags": []
   },
   "outputs": [],
   "source": [
    "some_list.append(\"mixed types\")"
   ]
  },
  {
   "cell_type": "code",
   "execution_count": 216,
   "id": "813a1f9f-de8d-491d-9b18-e00c638be634",
   "metadata": {
    "tags": []
   },
   "outputs": [
    {
     "data": {
      "text/plain": [
       "[0.0, 1.1, 2.2, 33333, 4.4, 5.5, 6.6, 7.7, 8.8, 9.9, 'mixed types']"
      ]
     },
     "execution_count": 216,
     "metadata": {},
     "output_type": "execute_result"
    }
   ],
   "source": [
    "some_list"
   ]
  },
  {
   "cell_type": "code",
   "execution_count": 213,
   "id": "5c046e0b-5ff2-442c-a8df-d10a168284ce",
   "metadata": {
    "tags": []
   },
   "outputs": [],
   "source": [
    "some_dict[123] = \"mixed types\""
   ]
  },
  {
   "cell_type": "code",
   "execution_count": 214,
   "id": "bb5cd97c-bc35-4e74-aeb8-7a750df8fdf0",
   "metadata": {
    "tags": []
   },
   "outputs": [
    {
     "data": {
      "text/plain": [
       "{'one': 1.1, 'two': 22222, 'three': 3.3, 123: 'mixed types'}"
      ]
     },
     "execution_count": 214,
     "metadata": {},
     "output_type": "execute_result"
    }
   ],
   "source": [
    "some_dict"
   ]
  },
  {
   "cell_type": "markdown",
   "id": "97e90c90-512e-4666-87ed-ebe33098de39",
   "metadata": {},
   "source": [
    "Ranges within a list can be \"sliced\" with `:`."
   ]
  },
  {
   "cell_type": "code",
   "execution_count": 219,
   "id": "faf50aec-efe3-4957-b05c-872aca00512f",
   "metadata": {
    "tags": []
   },
   "outputs": [
    {
     "data": {
      "text/plain": [
       "[2.2, 33333, 4.4, 5.5, 6.6, 7.7]"
      ]
     },
     "execution_count": 219,
     "metadata": {},
     "output_type": "execute_result"
    }
   ],
   "source": [
    "some_list[2:8]"
   ]
  },
  {
   "cell_type": "markdown",
   "id": "9289cb79-a991-4400-93a6-e3b68de51fe2",
   "metadata": {},
   "source": [
    "**Quizlet:** before you run it, what will this do?"
   ]
  },
  {
   "cell_type": "code",
   "execution_count": 221,
   "id": "ccd43720-9e3f-4f4c-9aff-06136b2c2018",
   "metadata": {
    "tags": []
   },
   "outputs": [
    {
     "data": {
      "text/plain": [
       "5.5"
      ]
     },
     "execution_count": 221,
     "metadata": {},
     "output_type": "execute_result"
    }
   ],
   "source": [
    "some_list[2:8][3]"
   ]
  },
  {
   "cell_type": "markdown",
   "id": "d4befbc9-66d9-4d7b-a9e0-c6b1bbbdff51",
   "metadata": {},
   "source": [
    "**Philosophical question:** why does indexing start with zero?"
   ]
  },
  {
   "cell_type": "markdown",
   "id": "e7212798-b9d8-49bc-ad68-0902ca03e4c0",
   "metadata": {},
   "source": [
    "## A little data analysis"
   ]
  },
  {
   "cell_type": "code",
   "execution_count": 222,
   "id": "5a7257b1-f52a-4543-8d6d-952fe4f38634",
   "metadata": {
    "tags": []
   },
   "outputs": [],
   "source": [
    "particles = [\n",
    "    {\"type\": \"electron\", \"px\": 38.4242935, \"py\": -28.779644, \"pz\": 165.006927, \"E\": 171.848714, \"charge\": 1},\n",
    "    {\"type\": \"electron\", \"px\": -34.431419, \"py\": 24.6730384, \"pz\": 131.864776, \"E\": 138.501266, \"charge\": -1},\n",
    "    {\"type\": \"muon\", \"px\": -17.945541, \"py\": 13.1652603, \"pz\": 64.3908386, \"E\": 68.1289790, \"charge\": 1},\n",
    "    {\"type\": \"muon\", \"px\": -8.1843795, \"py\": -7.6400470, \"pz\": 15.1420097, \"E\": 18.8320473, \"charge\": -1},    \n",
    "]"
   ]
  },
  {
   "cell_type": "code",
   "execution_count": 223,
   "id": "813039bf-78dc-40ca-ba11-f33859d59c65",
   "metadata": {
    "tags": []
   },
   "outputs": [],
   "source": [
    "def parent(particle1, particle2):\n",
    "    ..."
   ]
  },
  {
   "cell_type": "code",
   "execution_count": null,
   "id": "05d5ea36-d84e-4ce9-91ed-7b9d11fe0638",
   "metadata": {},
   "outputs": [],
   "source": []
  },
  {
   "cell_type": "code",
   "execution_count": null,
   "id": "6fb0626f-f051-4bd1-9d28-08fefe1c444c",
   "metadata": {},
   "outputs": [],
   "source": []
  },
  {
   "cell_type": "code",
   "execution_count": null,
   "id": "a805e35f-c728-4f19-89e9-127c88afabd2",
   "metadata": {},
   "outputs": [],
   "source": []
  },
  {
   "cell_type": "code",
   "execution_count": null,
   "id": "eb8e6fe2-7f80-4bc4-a44e-b8ab52ff7407",
   "metadata": {},
   "outputs": [],
   "source": []
  },
  {
   "cell_type": "code",
   "execution_count": null,
   "id": "b4db1321-3ab8-4dfb-92a9-95fac77779f8",
   "metadata": {},
   "outputs": [],
   "source": []
  },
  {
   "cell_type": "code",
   "execution_count": null,
   "id": "12f68f29-0f4d-45e2-ad35-3231f2d5f86e",
   "metadata": {},
   "outputs": [],
   "source": []
  },
  {
   "cell_type": "code",
   "execution_count": null,
   "id": "62feee53-b155-411d-b2d1-698427150dd4",
   "metadata": {},
   "outputs": [],
   "source": []
  },
  {
   "cell_type": "code",
   "execution_count": null,
   "id": "454b6460-0c1b-4e84-abfe-6adf8a2f83ba",
   "metadata": {},
   "outputs": [],
   "source": []
  },
  {
   "cell_type": "code",
   "execution_count": null,
   "id": "d69201a0-c554-4841-9a36-a99180e8619e",
   "metadata": {},
   "outputs": [],
   "source": []
  },
  {
   "cell_type": "code",
   "execution_count": null,
   "id": "0b1636f4-be01-415d-ba94-a8be70ab50f7",
   "metadata": {},
   "outputs": [],
   "source": []
  },
  {
   "cell_type": "code",
   "execution_count": null,
   "id": "e149820e-2d5f-4435-ab2c-cb195058c9c5",
   "metadata": {},
   "outputs": [],
   "source": []
  },
  {
   "cell_type": "code",
   "execution_count": null,
   "id": "73b3ebbb-1f74-44a5-8e72-7058b5fbe46d",
   "metadata": {},
   "outputs": [],
   "source": []
  },
  {
   "cell_type": "code",
   "execution_count": 72,
   "id": "9d4d46ef-abfa-43ec-addf-313c158cde07",
   "metadata": {
    "tags": []
   },
   "outputs": [
    {
     "data": {
      "text/plain": [
       "125.23413366311769"
      ]
     },
     "execution_count": 72,
     "metadata": {},
     "output_type": "execute_result"
    }
   ],
   "source": [
    "total_px = particles[0][\"px\"] + particles[1][\"px\"] + particles[2][\"px\"] + particles[3][\"px\"]\n",
    "total_py = particles[0][\"py\"] + particles[1][\"py\"] + particles[2][\"py\"] + particles[3][\"py\"]\n",
    "total_pz = particles[0][\"pz\"] + particles[1][\"pz\"] + particles[2][\"pz\"] + particles[3][\"pz\"]\n",
    "total_E = particles[0][\"E\"] + particles[1][\"E\"] + particles[2][\"E\"] + particles[3][\"E\"]\n",
    "\n",
    "np.sqrt(total_E**2 - (total_px**2 + total_py**2 + total_pz**2))"
   ]
  },
  {
   "cell_type": "code",
   "execution_count": 73,
   "id": "72ee0032-598a-43fe-a797-296ace43bfec",
   "metadata": {
    "tags": []
   },
   "outputs": [
    {
     "data": {
      "text/plain": [
       "90.28562890933117"
      ]
     },
     "execution_count": 73,
     "metadata": {},
     "output_type": "execute_result"
    }
   ],
   "source": [
    "total_px = particles[0][\"px\"] + particles[1][\"px\"]\n",
    "total_py = particles[0][\"py\"] + particles[1][\"py\"]\n",
    "total_pz = particles[0][\"pz\"] + particles[1][\"pz\"]\n",
    "total_E = particles[0][\"E\"] + particles[1][\"E\"]\n",
    "\n",
    "np.sqrt(total_E**2 - (total_px**2 + total_py**2 + total_pz**2))"
   ]
  },
  {
   "cell_type": "code",
   "execution_count": 75,
   "id": "8545a3fc-74f6-4b84-b845-001d1838ce66",
   "metadata": {
    "tags": []
   },
   "outputs": [
    {
     "data": {
      "text/plain": [
       "0.10565709514578395"
      ]
     },
     "execution_count": 75,
     "metadata": {},
     "output_type": "execute_result"
    }
   ],
   "source": [
    "total_px = particles[2][\"px\"]\n",
    "total_py = particles[2][\"py\"]\n",
    "total_pz = particles[2][\"pz\"]\n",
    "total_E = particles[2][\"E\"]\n",
    "\n",
    "np.sqrt(total_E**2 - (total_px**2 + total_py**2 + total_pz**2))"
   ]
  },
  {
   "cell_type": "code",
   "execution_count": null,
   "id": "7a79fdf1-e27e-4529-ba3c-b84854e4b4f0",
   "metadata": {},
   "outputs": [],
   "source": []
  },
  {
   "cell_type": "code",
   "execution_count": null,
   "id": "9b1df304-2fdc-4caa-b3e6-874f8c0150e8",
   "metadata": {},
   "outputs": [],
   "source": []
  },
  {
   "cell_type": "code",
   "execution_count": null,
   "id": "8eff5f79-9235-4aa3-af56-420fff5341d4",
   "metadata": {},
   "outputs": [],
   "source": []
  },
  {
   "cell_type": "code",
   "execution_count": null,
   "id": "1917eebc-ef1c-4f90-9b65-3cc0945d0786",
   "metadata": {},
   "outputs": [],
   "source": []
  },
  {
   "cell_type": "code",
   "execution_count": null,
   "id": "9857c8c3-9217-4bdc-bcc5-411dd1f0af2c",
   "metadata": {},
   "outputs": [],
   "source": []
  },
  {
   "cell_type": "code",
   "execution_count": null,
   "id": "e9cecbfe-fb69-41e9-b905-5ec628f9c41c",
   "metadata": {},
   "outputs": [],
   "source": []
  },
  {
   "cell_type": "code",
   "execution_count": null,
   "id": "a7d584f0-3566-4062-86fc-f1045f6eb2af",
   "metadata": {},
   "outputs": [],
   "source": []
  },
  {
   "cell_type": "code",
   "execution_count": null,
   "id": "7fbd4876-42c1-4b36-883d-77c8d0243d9a",
   "metadata": {},
   "outputs": [],
   "source": []
  },
  {
   "cell_type": "code",
   "execution_count": 52,
   "id": "440cf90e-f313-4abd-80ce-fb2b8749f041",
   "metadata": {
    "tags": []
   },
   "outputs": [
    {
     "data": {
      "text/html": [
       "<pre>[[0.0433, -0.0279]]\n",
       "-----------------------\n",
       "type: 1 * var * float32</pre>"
      ],
      "text/plain": [
       "<Array [[0.0433, -0.0279]] type='1 * var * float32'>"
      ]
     },
     "execution_count": 52,
     "metadata": {},
     "output_type": "execute_result"
    }
   ],
   "source": [
    "events[ak.any(abs(events.electron.px - 38.4242935) < 0.00001, axis=-1)].electron.mass"
   ]
  },
  {
   "cell_type": "code",
   "execution_count": null,
   "id": "b62fb9df-5144-4048-9a93-0dee6a4d2d9c",
   "metadata": {},
   "outputs": [],
   "source": []
  },
  {
   "cell_type": "code",
   "execution_count": 1,
   "id": "ab7215e8-3c6f-41e3-9b0a-3130fa6a3d02",
   "metadata": {
    "tags": []
   },
   "outputs": [],
   "source": [
    "import awkward as ak\n",
    "import numpy as np"
   ]
  },
  {
   "cell_type": "code",
   "execution_count": 2,
   "id": "2ec3b8b4-d115-4242-bf0f-9fc8f1efd87a",
   "metadata": {
    "tags": []
   },
   "outputs": [],
   "source": [
    "import vector\n",
    "\n",
    "vector.register_awkward()"
   ]
  },
  {
   "cell_type": "code",
   "execution_count": 3,
   "id": "966d12e8-b9df-4655-a3c8-e3abf6ac7b8c",
   "metadata": {
    "tags": []
   },
   "outputs": [],
   "source": [
    "events = ak.from_parquet(\"data/SMHiggsToZZTo4L.parquet\")"
   ]
  },
  {
   "cell_type": "code",
   "execution_count": 4,
   "id": "ef39c839-b531-4048-9224-3f505a1e170a",
   "metadata": {
    "tags": []
   },
   "outputs": [],
   "source": [
    "import matplotlib.pyplot as plt\n",
    "from mpl_toolkits.mplot3d import Axes3D"
   ]
  },
  {
   "cell_type": "code",
   "execution_count": 5,
   "id": "0a391e31-61f6-434c-9054-67a3ab6222df",
   "metadata": {
    "tags": []
   },
   "outputs": [
    {
     "data": {
      "application/vnd.jupyter.widget-view+json": {
       "model_id": "ede9e0883dbd4c2f9588fb5463aff5ec",
       "version_major": 2,
       "version_minor": 0
      },
      "image/png": "[encoded data removed]",
      "text/html": [
       "\n",
       "            <div style=\"display: inline-block;\">\n",
       "                <div class=\"jupyter-widgets widget-label\" style=\"text-align: center;\">\n",
       "                    Figure\n",
       "                </div>\n",
       "                <img src='data:image/png;base64,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' width=640.0/>\n",
       "            </div>\n",
       "        "
      ],
      "text/plain": [
       "Canvas(toolbar=Toolbar(toolitems=[('Home', 'Reset original view', 'home', 'home'), ('Back', 'Back to previous …"
      ]
     },
     "metadata": {},
     "output_type": "display_data"
    }
   ],
   "source": [
    "%matplotlib widget\n",
    "\n",
    "fig = plt.figure()"
   ]
  },
  {
   "cell_type": "code",
   "execution_count": 13,
   "id": "a2f5a2df-ffce-4144-b344-462e84a6fc42",
   "metadata": {
    "tags": []
   },
   "outputs": [],
   "source": [
    "def beam(ax):\n",
    "    ax.plot([0, 0], [0, 0], [-100, 100], c=\"black\", ls=\":\")\n",
    "\n",
    "\n",
    "def cms(ax):\n",
    "    z = np.linspace(-100, 100, 50)\n",
    "    theta = np.linspace(0, 2 * np.pi, 12)\n",
    "    theta_grid, z_grid = np.meshgrid(theta, z)\n",
    "    x_grid = 100 * np.cos(theta_grid)\n",
    "    y_grid = 100 * np.sin(theta_grid)\n",
    "    ax.plot_surface(x_grid, y_grid, z_grid, alpha=0.2, color=\"red\")"
   ]
  },
  {
   "cell_type": "code",
   "execution_count": 25,
   "id": "4f2b41c4-05f6-416e-bc5b-c9ef31330461",
   "metadata": {
    "tags": []
   },
   "outputs": [],
   "source": [
    "fig.clf()\n",
    "ax = fig.add_subplot(111, projection=\"3d\")\n",
    "\n",
    "for event in events[:3]:  # 6417 : 6417 + 1\n",
    "    for p in event.electron:\n",
    "        x0 = event.PV.x - p.dxy * np.cos(p.phi)\n",
    "        y0 = event.PV.y - p.dxy * np.sin(p.phi)\n",
    "        z0 = event.PV.z - p.dz\n",
    "        ax.plot([x0, x0 + p.px], [y0, y0 + p.py], [z0, z0 + p.pz], c=\"blue\")\n",
    "    for p in event.muon:\n",
    "        x0 = event.PV.x - p.dxy * np.cos(p.phi)\n",
    "        y0 = event.PV.y - p.dxy * np.sin(p.phi)\n",
    "        z0 = event.PV.z - p.dz\n",
    "        ax.plot([x0, x0 + p.px], [y0, y0 + p.py], [z0, z0 + p.pz], c=\"green\")\n",
    "\n",
    "beam(ax)\n",
    "cms(ax)\n",
    "\n",
    "ax.set_xlim(-100, 100)\n",
    "ax.set_ylim(-100, 100)\n",
    "ax.set_zlim(-100, 100)\n",
    "ax.set_xlabel(\"x\")\n",
    "ax.set_ylabel(\"y\")\n",
    "ax.set_zlabel(\"z\")\n",
    "None"
   ]
  },
  {
   "cell_type": "code",
   "execution_count": null,
   "id": "1cde3778-db1d-4431-8230-fb08a9d0cd86",
   "metadata": {},
   "outputs": [],
   "source": []
  }
 ],
 "metadata": {
  "kernelspec": {
   "display_name": "Python 3 (ipykernel)",
   "language": "python",
   "name": "python3"
  },
  "language_info": {
   "codemirror_mode": {
    "name": "ipython",
    "version": 3
   },
   "file_extension": ".py",
   "mimetype": "text/x-python",
   "name": "python",
   "nbconvert_exporter": "python",
   "pygments_lexer": "ipython3",
   "version": "3.9.15"
  }
 },
 "nbformat": 4,
 "nbformat_minor": 5
}
