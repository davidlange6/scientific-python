{
 "cells": [
  {
   "cell_type": "markdown",
   "id": "0b2dbda1-1a8d-445c-b450-7156ad029b79",
   "metadata": {
    "slideshow": {
     "slide_type": "slide"
    },
    "tags": []
   },
   "source": [
    "# Lesson 3: Array-oriented programming"
   ]
  },
  {
   "cell_type": "markdown",
   "id": "bfca2ab1-f3ab-41b0-b392-7da1abf01b69",
   "metadata": {
    "slideshow": {
     "slide_type": "slide"
    },
    "tags": []
   },
   "source": [
    "Our analysis of Higgs data with NumPy arrays didn't use many `if` or `for` statements at all.\n",
    "\n",
    "<br>"
   ]
  },
  {
   "cell_type": "markdown",
   "id": "dfe863b0-603a-4d4b-8dd7-d9842a22dfd0",
   "metadata": {
    "slideshow": {
     "slide_type": "fragment"
    },
    "tags": []
   },
   "source": [
    "The general pattern consists of a single Python extension call that operates on many data values (_similar to_ \"SIMD\": Single Instruction, Multiple Data).\n",
    "\n",
    "<br>"
   ]
  },
  {
   "cell_type": "markdown",
   "id": "e95ea70f-5e85-447c-8644-2b074d8c0e92",
   "metadata": {
    "slideshow": {
     "slide_type": "fragment"
    },
    "tags": []
   },
   "source": [
    "This pattern can be called a programming language paradigm, contrasted with \"imperative,\" \"functional,\" \"object-oriented,\" etc."
   ]
  },
  {
   "cell_type": "code",
   "execution_count": 1,
   "id": "e56f2ae8-7e6f-4c7c-8e0a-c44d0a6c8596",
   "metadata": {
    "slideshow": {
     "slide_type": "slide"
    },
    "tags": []
   },
   "outputs": [],
   "source": [
    "import numpy as np"
   ]
  },
  {
   "cell_type": "markdown",
   "id": "03e8fc51-dea1-442a-a502-9726b06c6638",
   "metadata": {
    "slideshow": {
     "slide_type": "fragment"
    },
    "tags": []
   },
   "source": [
    "<br>\n",
    "\n",
    "**Imperative programming:**"
   ]
  },
  {
   "cell_type": "code",
   "execution_count": 2,
   "id": "290cc0e8-e884-4658-b352-60ac315ef696",
   "metadata": {
    "tags": []
   },
   "outputs": [
    {
     "data": {
      "text/plain": [
       "array([ 1,  4,  9, 16, 25, 36, 49, 64, 81])"
      ]
     },
     "execution_count": 2,
     "metadata": {},
     "output_type": "execute_result"
    }
   ],
   "source": [
    "input_data = np.array([1, 2, 3, 4, 5, 6, 7, 8, 9])\n",
    "output_data = np.array([0, 0, 0, 0, 0, 0, 0, 0, 0])\n",
    "for i in range(len(input_data)):                                  # you say what happens to each element\n",
    "    output_data[i] = input_data[i]**2                             # in an exactly specified order (for loop)\n",
    "output_data"
   ]
  },
  {
   "cell_type": "markdown",
   "id": "9d00fc83-5890-402f-bea2-c4b4356c0021",
   "metadata": {
    "slideshow": {
     "slide_type": "fragment"
    },
    "tags": []
   },
   "source": [
    "<br>\n",
    "\n",
    "**Functional programming:**"
   ]
  },
  {
   "cell_type": "code",
   "execution_count": 3,
   "id": "6dcc52e7-85b7-494b-892c-b11a78f991c6",
   "metadata": {
    "tags": []
   },
   "outputs": [
    {
     "data": {
      "text/plain": [
       "array([ 1,  4,  9, 16, 25, 36, 49, 64, 81])"
      ]
     },
     "execution_count": 3,
     "metadata": {},
     "output_type": "execute_result"
    }
   ],
   "source": [
    "input_data = np.array([1, 2, 3, 4, 5, 6, 7, 8, 9])\n",
    "output_data = np.fromiter(map(lambda x: x**2, input_data), int)   # you provide a function to be applied to\n",
    "output_data                                                       # each element; may run in any order"
   ]
  },
  {
   "cell_type": "markdown",
   "id": "4b16b8a0-357a-4f61-9b45-016540762820",
   "metadata": {
    "slideshow": {
     "slide_type": "fragment"
    },
    "tags": []
   },
   "source": [
    "<br>\n",
    "\n",
    "**Array-oriented programming:**"
   ]
  },
  {
   "cell_type": "code",
   "execution_count": 4,
   "id": "8c4e911d-9151-4360-9a37-45e0826b3362",
   "metadata": {
    "tags": []
   },
   "outputs": [
    {
     "data": {
      "text/plain": [
       "array([ 1,  4,  9, 16, 25, 36, 49, 64, 81])"
      ]
     },
     "execution_count": 4,
     "metadata": {},
     "output_type": "execute_result"
    }
   ],
   "source": [
    "input_data = np.array([1, 2, 3, 4, 5, 6, 7, 8, 9])\n",
    "output_data = input_data**2                                       # implicit indexes, no reference to individual\n",
    "output_data                                                       # elements; function is hard-coded in C"
   ]
  },
  {
   "cell_type": "markdown",
   "id": "97b9ab20-a7d5-4b3a-8509-3912a17a8a84",
   "metadata": {
    "slideshow": {
     "slide_type": "slide"
    },
    "tags": []
   },
   "source": [
    "Most array-oriented programming languages have been interactive, intended for data analysis or simulation.\n",
    "\n",
    "(This is a list of _all_ array-oriented languages that I know about.)\n",
    "\n",
    "<br>"
   ]
  },
  {
   "cell_type": "markdown",
   "id": "a967ecee-a454-410b-ad3e-9cb890c8d72a",
   "metadata": {},
   "source": [
    "<center>\n",
    "<img src=\"img/apl-timeline.svg\" width=\"100%\">\n",
    "</center>"
   ]
  },
  {
   "cell_type": "markdown",
   "id": "27dcc4e7-7c64-48a5-9d0e-31bd505cfe83",
   "metadata": {
    "slideshow": {
     "slide_type": "slide"
    },
    "tags": []
   },
   "source": [
    "They have also tended to be concise (for quick typing, reduced screen clutter).\n",
    "\n",
    "<br>\n",
    "\n",
    "The original, APL, was way too concise! (Needed a special keyboard for all the math symbols.)\n",
    "\n",
    "<br>\n",
    "\n",
    "<center>\n",
    "<div style=\"display: inline-block\">\n",
    "\n",
    "| APL | <br> | Numpy |\n",
    "|:---:|:----:|:-----:|\n",
    "| <tt>ι4</tt> | <br> | <tt>np.arange(4)</tt> |\n",
    "| <tt>(3+ι4)</tt> | <br> | <tt>np.arange(4) + 3</tt> |\n",
    "| <tt>+/(3+ι4)</tt> | <br> | <tt>(np.arange(4) + 3).sum()</tt> |\n",
    "| <tt>m ← +/(3+ι4)</tt> | <br> | <tt>m = (np.arange(4) + 3).sum()</tt> |\n",
    "\n",
    "</div>\n",
    "\n",
    "<img src=\"img/apl-keyboard.jpg\" width=\"35%\" style=\"display: inline-block; margin-left: 5%\">\n",
    "\n",
    "</center>"
   ]
  },
  {
   "cell_type": "markdown",
   "id": "0c056493-cbf1-4643-91c1-22a7f9e42d2c",
   "metadata": {
    "slideshow": {
     "slide_type": "slide"
    },
    "tags": []
   },
   "source": [
    "Ordinary development/debugging interaction pattern: step through instructions on each _value_ in a debugger (breakpoints, etc.).\n",
    "\n",
    "<br>\n",
    "\n",
    "Data analysis interaction pattern: stop after key _operations_ and look at _distributions_ of all values.\n",
    "\n",
    "<br>"
   ]
  },
  {
   "cell_type": "markdown",
   "id": "3899e265-ccbc-4569-9b3b-b56d03213a0f",
   "metadata": {
    "slideshow": {
     "slide_type": "fragment"
    },
    "tags": []
   },
   "source": [
    "<br>\n",
    "\n",
    "Example: suppose you have a million data points."
   ]
  },
  {
   "cell_type": "code",
   "execution_count": 5,
   "id": "7df98470-1a1c-4bcb-b915-73085635a9d5",
   "metadata": {
    "tags": []
   },
   "outputs": [],
   "source": [
    "import matplotlib.pyplot as plt\n",
    "import hist"
   ]
  },
  {
   "cell_type": "markdown",
   "id": "4a8cd2b1-1bbd-418e-b4ad-9f29be60a190",
   "metadata": {},
   "source": [
    "<br>"
   ]
  },
  {
   "cell_type": "code",
   "execution_count": 6,
   "id": "b4ce0b4e-5ab9-4e52-861c-d75b66aa912f",
   "metadata": {
    "tags": []
   },
   "outputs": [
    {
     "data": {
      "text/plain": [
       "array([-0.5123395 , -0.22247055, -1.9868633 , ...,  0.06074622,\n",
       "       -0.06693654,  2.06519228])"
      ]
     },
     "execution_count": 6,
     "metadata": {},
     "output_type": "execute_result"
    }
   ],
   "source": [
    "dataset = np.random.normal(0, 1, 1000000)\n",
    "dataset"
   ]
  },
  {
   "cell_type": "markdown",
   "id": "5d9a45d8-8d5d-4792-b4e6-3b550a544032",
   "metadata": {
    "slideshow": {
     "slide_type": "fragment"
    },
    "tags": []
   },
   "source": [
    "<br>\n",
    "\n",
    "(Seeing 6 numerical values doesn't tell us about the other 999994.)"
   ]
  },
  {
   "cell_type": "markdown",
   "id": "21ea6a42-f822-4199-83c8-5d348292f44e",
   "metadata": {
    "slideshow": {
     "slide_type": "slide"
    },
    "tags": []
   },
   "source": [
    "\"What does the distribution look like?\"\n",
    "\n",
    "<br>"
   ]
  },
  {
   "cell_type": "code",
   "execution_count": 7,
   "id": "a15819b0-72ad-4a23-bc2c-a7fe1a86dc01",
   "metadata": {
    "tags": []
   },
   "outputs": [
    {
     "data": {
      "text/html": [
       "<html>\n",
       "<div style=\"display:flex; align-items:center;\">\n",
       "<div style=\"width:290px;\">\n",
       "<svg xmlns=\"http://www.w3.org/2000/svg\" viewBox=\"-10 -105 270 120\">\n",
       "<line x1=\"-5\" y1=\"0\" x2=\"255\" y2=\"0\" style=\"fill:none;stroke-width:2;stroke:currentColor\"/>\n",
       "<text text-anchor=\"middle\" x=\"0\" y=\"15\" style=\"fill:currentColor;\">\n",
       "-5\n",
       "</text>\n",
       "<text text-anchor=\"middle\" x=\"250\" y=\"15\" style=\"fill:currentColor;\">\n",
       "5\n",
       "</text>\n",
       "<text text-anchor=\"middle\" x=\"125.0\" y=\"15\" style=\"fill:currentColor;\">\n",
       " \n",
       "</text>\n",
       "<polyline points=\"  0,0   0,-0.00252 2.5,-0.00252 2.5,-0   5,-0   5,-0 7.5,-0 7.5,-0.00505  10,-0.00505  10,-0 12.5,-0 12.5,-0.00505  15,-0.00505  15,-0.0151 17.5,-0.0151 17.5,-0.00757  20,-0.00757  20,-0.0177 22.5,-0.0177 22.5,-0.0252  25,-0.0252  25,-0.0429 27.5,-0.0429 27.5,-0.0429  30,-0.0429  30,-0.104 32.5,-0.104 32.5,-0.174  35,-0.174  35,-0.197 37.5,-0.197 37.5,-0.24  40,-0.24  40,-0.278 42.5,-0.278 42.5,-0.566  45,-0.566  45,-0.763 47.5,-0.763 47.5,-0.947  50,-0.947  50,-1.32 52.5,-1.32 52.5,-1.75  55,-1.75  55,-2.3 57.5,-2.3 57.5,-3.02  60,-3.02  60,-3.95 62.5,-3.95 62.5,-5.05  65,-5.05  65,-6.46 67.5,-6.46 67.5,-7.94  70,-7.94  70,-10.2 72.5,-10.2 72.5,-12.1  75,-12.1  75,-15.3 77.5,-15.3 77.5,-18.6  80,-18.6  80,-22 82.5,-22 82.5,-26  85,-26  85,-30 87.5,-30 87.5,-35.1  90,-35.1  90,-40.4 92.5,-40.4 92.5,-45.7  95,-45.7  95,-51.6 97.5,-51.6 97.5,-58.4 100,-58.4 100,-64.5 102.5,-64.5 102.5,-70.2 105,-70.2 105,-76.3 107.5,-76.3 107.5,-82 110,-82 110,-86.4 112.5,-86.4 112.5,-90.9 115,-90.9 115,-94.1 117.5,-94.1 117.5,-98.9 120,-98.9 120,-99.6 122.5,-99.6 122.5,-100 125,-100 125,-99.7 127.5,-99.7 127.5,-99.1 130,-99.1 130,-97.9 132.5,-97.9 132.5,-94.6 135,-94.6 135,-91.1 137.5,-91.1 137.5,-86.5 140,-86.5 140,-81.5 142.5,-81.5 142.5,-75.3 145,-75.3 145,-69.6 147.5,-69.6 147.5,-63.7 150,-63.7 150,-58.1 152.5,-58.1 152.5,-52.2 155,-52.2 155,-46.1 157.5,-46.1 157.5,-41 160,-41 160,-35.5 162.5,-35.5 162.5,-30.5 165,-30.5 165,-25.6 167.5,-25.6 167.5,-22 170,-22 170,-18.5 172.5,-18.5 172.5,-14.9 175,-14.9 175,-12.2 177.5,-12.2 177.5,-10.3 180,-10.3 180,-8.04 182.5,-8.04 182.5,-6.56 185,-6.56 185,-5.23 187.5,-5.23 187.5,-3.92 190,-3.92 190,-3 192.5,-3 192.5,-2.27 195,-2.27 195,-1.69 197.5,-1.69 197.5,-1.34 200,-1.34 200,-0.972 202.5,-0.972 202.5,-0.752 205,-0.752 205,-0.515 207.5,-0.515 207.5,-0.338 210,-0.338 210,-0.29 212.5,-0.29 212.5,-0.162 215,-0.162 215,-0.144 217.5,-0.144 217.5,-0.0833 220,-0.0833 220,-0.0404 222.5,-0.0404 222.5,-0.0379 225,-0.0379 225,-0.0252 227.5,-0.0252 227.5,-0.0177 230,-0.0177 230,-0.00757 232.5,-0.00757 232.5,-0.00252 235,-0.00252 235,-0.00505 237.5,-0.00505 237.5,-0.00252 240,-0.00252 240,-0.00252 242.5,-0.00252 242.5,-0 245,-0 245,-0.00252 247.5,-0.00252 247.5,-0 250,-0 250,0\" style=\"fill:none; stroke:currentColor;\"/>\n",
       "</svg>\n",
       "</div>\n",
       "<div style=\"flex=grow:1;\">\n",
       "Regular(100, -5, 5, name=' ')<br/>\n",
       "<hr style=\"margin-top:.2em; margin-bottom:.2em;\"/>\n",
       "Double() Σ=999999.0 <em>(1000000.0 with flow)</em>\n",
       "\n",
       "</div>\n",
       "</div>\n",
       "</html>"
      ],
      "text/plain": [
       "Hist(Regular(100, -5, 5, name=' '), storage=Double()) # Sum: 999999.0 (1000000.0 with flow)"
      ]
     },
     "execution_count": 7,
     "metadata": {},
     "output_type": "execute_result"
    }
   ],
   "source": [
    "hist.Hist.new.Regular(100, -5, 5, name=\" \").Double().fill(dataset)"
   ]
  },
  {
   "cell_type": "markdown",
   "id": "05445129-8ffc-4e03-88b4-ccdb1a420155",
   "metadata": {
    "slideshow": {
     "slide_type": "fragment"
    },
    "tags": []
   },
   "source": [
    "<br>\n",
    "\n",
    "Of course, it's Gaussian/normal-distributed. (That's what we had asked for with `np.random.normal`.)"
   ]
  },
  {
   "cell_type": "markdown",
   "id": "6e1c928a-ab49-4883-86de-75419439f305",
   "metadata": {
    "slideshow": {
     "slide_type": "slide"
    },
    "tags": []
   },
   "source": [
    "\"What does its square look like?\""
   ]
  },
  {
   "cell_type": "code",
   "execution_count": 8,
   "id": "c8777421-f435-40ca-be55-c64fbf33f22d",
   "metadata": {
    "tags": []
   },
   "outputs": [],
   "source": [
    "dataset2 = dataset**2"
   ]
  },
  {
   "cell_type": "markdown",
   "id": "e0af9a80-ff4e-4945-a68a-535707b06feb",
   "metadata": {},
   "source": [
    "<br>"
   ]
  },
  {
   "cell_type": "code",
   "execution_count": 9,
   "id": "b6b7462b-fa23-4ad6-8cb4-c3e60b120a31",
   "metadata": {
    "tags": []
   },
   "outputs": [
    {
     "data": {
      "text/html": [
       "<html>\n",
       "<div style=\"display:flex; align-items:center;\">\n",
       "<div style=\"width:290px;\">\n",
       "<svg xmlns=\"http://www.w3.org/2000/svg\" viewBox=\"-10 -105 270 120\">\n",
       "<line x1=\"-5\" y1=\"0\" x2=\"255\" y2=\"0\" style=\"fill:none;stroke-width:2;stroke:currentColor\"/>\n",
       "<text text-anchor=\"middle\" x=\"0\" y=\"15\" style=\"fill:currentColor;\">\n",
       "-3\n",
       "</text>\n",
       "<text text-anchor=\"middle\" x=\"250\" y=\"15\" style=\"fill:currentColor;\">\n",
       "13\n",
       "</text>\n",
       "<text text-anchor=\"middle\" x=\"125.0\" y=\"15\" style=\"fill:currentColor;\">\n",
       " \n",
       "</text>\n",
       "<polyline points=\"  0,0   0,-0 2.5,-0 2.5,-0   5,-0   5,-0 7.5,-0 7.5,-0  10,-0  10,-0 12.5,-0 12.5,-0  15,-0  15,-0 17.5,-0 17.5,-0  20,-0  20,-0 22.5,-0 22.5,-0  25,-0  25,-0 27.5,-0 27.5,-0  30,-0  30,-0 32.5,-0 32.5,-0  35,-0  35,-0 37.5,-0 37.5,-0  40,-0  40,-0 42.5,-0 42.5,-0  45,-0  45,-84.3 47.5,-84.3 47.5,-100  50,-100  50,-56.7 52.5,-56.7 52.5,-41.6  55,-41.6  55,-32.6 57.5,-32.6 57.5,-26.7  60,-26.7  60,-22.5 62.5,-22.5 62.5,-19.1  65,-19.1  65,-16.5 67.5,-16.5 67.5,-14.3  70,-14.3  70,-12.5 72.5,-12.5 72.5,-11  75,-11  75,-9.74 77.5,-9.74 77.5,-8.72  80,-8.72  80,-7.61 82.5,-7.61 82.5,-6.8  85,-6.8  85,-6.12 87.5,-6.12 87.5,-5.46  90,-5.46  90,-4.84 92.5,-4.84 92.5,-4.44  95,-4.44  95,-4.01 97.5,-4.01 97.5,-3.59 100,-3.59 100,-3.29 102.5,-3.29 102.5,-2.93 105,-2.93 105,-2.59 107.5,-2.59 107.5,-2.39 110,-2.39 110,-2.12 112.5,-2.12 112.5,-1.91 115,-1.91 115,-1.8 117.5,-1.8 117.5,-1.62 120,-1.62 120,-1.49 122.5,-1.49 122.5,-1.28 125,-1.28 125,-1.2 127.5,-1.2 127.5,-1.1 130,-1.1 130,-1.03 132.5,-1.03 132.5,-0.886 135,-0.886 135,-0.851 137.5,-0.851 137.5,-0.763 140,-0.763 140,-0.684 142.5,-0.684 142.5,-0.624 145,-0.624 145,-0.58 147.5,-0.58 147.5,-0.517 150,-0.517 150,-0.46 152.5,-0.46 152.5,-0.434 155,-0.434 155,-0.392 157.5,-0.392 157.5,-0.341 160,-0.341 160,-0.315 162.5,-0.315 162.5,-0.29 165,-0.29 165,-0.282 167.5,-0.282 167.5,-0.261 170,-0.261 170,-0.216 172.5,-0.216 172.5,-0.203 175,-0.203 175,-0.174 177.5,-0.174 177.5,-0.193 180,-0.193 180,-0.151 182.5,-0.151 182.5,-0.146 185,-0.146 185,-0.135 187.5,-0.135 187.5,-0.108 190,-0.108 190,-0.11 192.5,-0.11 192.5,-0.117 195,-0.117 195,-0.0866 197.5,-0.0866 197.5,-0.0898 200,-0.0898 200,-0.0812 202.5,-0.0812 202.5,-0.0775 205,-0.0775 205,-0.0732 207.5,-0.0732 207.5,-0.062 210,-0.062 210,-0.0636 212.5,-0.0636 212.5,-0.0465 215,-0.0465 215,-0.0438 217.5,-0.0438 217.5,-0.0385 220,-0.0385 220,-0.0353 222.5,-0.0353 222.5,-0.0246 225,-0.0246 225,-0.0283 227.5,-0.0283 227.5,-0.0342 230,-0.0342 230,-0.0315 232.5,-0.0315 232.5,-0.0198 235,-0.0198 235,-0.0224 237.5,-0.0224 237.5,-0.0198 240,-0.0198 240,-0.0187 242.5,-0.0187 242.5,-0.0176 245,-0.0176 245,-0.015 247.5,-0.015 247.5,-0.015 250,-0.015 250,0\" style=\"fill:none; stroke:currentColor;\"/>\n",
       "</svg>\n",
       "</div>\n",
       "<div style=\"flex=grow:1;\">\n",
       "Regular(100, -3, 13, name=' ')<br/>\n",
       "<hr style=\"margin-top:.2em; margin-bottom:.2em;\"/>\n",
       "Double() Σ=999688.0 <em>(1000000.0 with flow)</em>\n",
       "\n",
       "</div>\n",
       "</div>\n",
       "</html>"
      ],
      "text/plain": [
       "Hist(Regular(100, -3, 13, name=' '), storage=Double()) # Sum: 999688.0 (1000000.0 with flow)"
      ]
     },
     "execution_count": 9,
     "metadata": {},
     "output_type": "execute_result"
    }
   ],
   "source": [
    "hist.Hist.new.Regular(100, -3, 13, name=\" \").Double().fill(dataset2)"
   ]
  },
  {
   "cell_type": "markdown",
   "id": "a2f0dbf8-e743-4a65-9b6a-e5c2be4c05fc",
   "metadata": {
    "slideshow": {
     "slide_type": "fragment"
    },
    "tags": []
   },
   "source": [
    "<br>\n",
    "\n",
    "\"Of course. It's always positive, peaks at 0, and falls off to 9, rather than 3.\""
   ]
  },
  {
   "cell_type": "markdown",
   "id": "b818351a-2182-4b95-8c86-0a23d5493ef2",
   "metadata": {
    "slideshow": {
     "slide_type": "slide"
    },
    "tags": []
   },
   "source": [
    "\"What does this crazy combination look like?\""
   ]
  },
  {
   "cell_type": "code",
   "execution_count": 10,
   "id": "14579bc5-71b4-462d-b4ea-b7d2f3453a7f",
   "metadata": {
    "tags": []
   },
   "outputs": [],
   "source": [
    "dataset3 = np.sin(1/dataset2)"
   ]
  },
  {
   "cell_type": "markdown",
   "id": "771816ec-2f2b-4d6f-a337-c85cc6e838a8",
   "metadata": {},
   "source": [
    "<br>"
   ]
  },
  {
   "cell_type": "code",
   "execution_count": 11,
   "id": "bf45f5ff-2172-404f-9b73-feb79895b6cf",
   "metadata": {
    "tags": []
   },
   "outputs": [
    {
     "data": {
      "text/html": [
       "<html>\n",
       "<div style=\"display:flex; align-items:center;\">\n",
       "<div style=\"width:290px;\">\n",
       "<svg xmlns=\"http://www.w3.org/2000/svg\" viewBox=\"-10 -105 270 120\">\n",
       "<line x1=\"-5\" y1=\"0\" x2=\"255\" y2=\"0\" style=\"fill:none;stroke-width:2;stroke:currentColor\"/>\n",
       "<text text-anchor=\"middle\" x=\"0\" y=\"15\" style=\"fill:currentColor;\">\n",
       "-1.2\n",
       "</text>\n",
       "<text text-anchor=\"middle\" x=\"250\" y=\"15\" style=\"fill:currentColor;\">\n",
       "1.2\n",
       "</text>\n",
       "<text text-anchor=\"middle\" x=\"125.0\" y=\"15\" style=\"fill:currentColor;\">\n",
       " \n",
       "</text>\n",
       "<polyline points=\"  0,0   0,-0 2.5,-0 2.5,-0   5,-0   5,-0 7.5,-0 7.5,-0  10,-0  10,-0 12.5,-0 12.5,-0  15,-0  15,-0 17.5,-0 17.5,-0  20,-0  20,-38.8 22.5,-38.8 22.5,-23.1  25,-23.1  25,-16.7 27.5,-16.7 27.5,-13.9  30,-13.9  30,-12 32.5,-12 32.5,-10.9  35,-10.9  35,-10.3 37.5,-10.3 37.5,-9.45  40,-9.45  40,-9.03 42.5,-9.03 42.5,-8.47  45,-8.47  45,-8.1 47.5,-8.1 47.5,-7.91  50,-7.91  50,-7.67 52.5,-7.67 52.5,-7.31  55,-7.31  55,-7.08 57.5,-7.08 57.5,-7.01  60,-7.01  60,-6.85 62.5,-6.85 62.5,-6.61  65,-6.61  65,-6.64 67.5,-6.64 67.5,-6.4  70,-6.4  70,-6.21 72.5,-6.21 72.5,-6.07  75,-6.07  75,-6.13 77.5,-6.13 77.5,-6.04  80,-6.04  80,-6.16 82.5,-6.16 82.5,-5.91  85,-5.91  85,-6.01 87.5,-6.01 87.5,-5.79  90,-5.79  90,-5.77 92.5,-5.77 92.5,-5.77  95,-5.77  95,-5.84 97.5,-5.84 97.5,-5.7 100,-5.7 100,-5.82 102.5,-5.82 102.5,-5.66 105,-5.66 105,-5.71 107.5,-5.71 107.5,-5.82 110,-5.82 110,-5.7 112.5,-5.7 112.5,-5.82 115,-5.82 115,-5.55 117.5,-5.55 117.5,-5.76 120,-5.76 120,-5.74 122.5,-5.74 122.5,-5.75 125,-5.75 125,-5.79 127.5,-5.79 127.5,-5.83 130,-5.83 130,-5.98 132.5,-5.98 132.5,-7.34 135,-7.34 135,-9.81 137.5,-9.81 137.5,-12.2 140,-12.2 140,-15 142.5,-15 142.5,-17.3 145,-17.3 145,-18.9 147.5,-18.9 147.5,-20.1 150,-20.1 150,-21 152.5,-21 152.5,-22 155,-22 155,-22.6 157.5,-22.6 157.5,-22.8 160,-22.8 160,-22.7 162.5,-22.7 162.5,-23.3 165,-23.3 165,-22.8 167.5,-22.8 167.5,-22.9 170,-22.9 170,-22.8 172.5,-22.8 172.5,-23 175,-23 175,-22.9 177.5,-22.9 177.5,-22.8 180,-22.8 180,-22.9 182.5,-22.9 182.5,-22.6 185,-22.6 185,-22.6 187.5,-22.6 187.5,-22.8 190,-22.8 190,-22.9 192.5,-22.9 192.5,-23 195,-23 195,-23.4 197.5,-23.4 197.5,-23.7 200,-23.7 200,-24.1 202.5,-24.1 202.5,-24.7 205,-24.7 205,-25.2 207.5,-25.2 207.5,-26 210,-26 210,-27.1 212.5,-27.1 212.5,-28.6 215,-28.6 215,-30.5 217.5,-30.5 217.5,-33.1 220,-33.1 220,-36.9 222.5,-36.9 222.5,-43.9 225,-43.9 225,-59.7 227.5,-59.7 227.5,-100 230,-100 230,-0 232.5,-0 232.5,-0 235,-0 235,-0 237.5,-0 237.5,-0 240,-0 240,-0 242.5,-0 242.5,-0 245,-0 245,-0 247.5,-0 247.5,-0 250,-0 250,0\" style=\"fill:none; stroke:currentColor;\"/>\n",
       "</svg>\n",
       "</div>\n",
       "<div style=\"flex=grow:1;\">\n",
       "Regular(100, -1.2, 1.2, name=' ')<br/>\n",
       "<hr style=\"margin-top:.2em; margin-bottom:.2em;\"/>\n",
       "Double() Σ=1000000.0\n",
       "\n",
       "</div>\n",
       "</div>\n",
       "</html>"
      ],
      "text/plain": [
       "Hist(Regular(100, -1.2, 1.2, name=' '), storage=Double()) # Sum: 1000000.0"
      ]
     },
     "execution_count": 11,
     "metadata": {},
     "output_type": "execute_result"
    }
   ],
   "source": [
    "hist.Hist.new.Regular(100, -1.2, 1.2, name=\" \").Double().fill(dataset3)"
   ]
  },
  {
   "cell_type": "markdown",
   "id": "2c4d8829-6833-4ea5-af58-d24e0e8ad535",
   "metadata": {
    "slideshow": {
     "slide_type": "fragment"
    },
    "tags": []
   },
   "source": [
    "<br>\n",
    "\n",
    "I couldn't have guessed that shape: having the computer do it revealed something non-trivial."
   ]
  },
  {
   "cell_type": "markdown",
   "id": "8f1c872f-a453-43fa-af49-2759e4e3df0b",
   "metadata": {
    "slideshow": {
     "slide_type": "slide"
    },
    "tags": []
   },
   "source": [
    "History of paradigm-related words in CHEP titles & abstracts (Computing in HEP conferences from 1985 through present).\n",
    "\n",
    "\"Arrays\" (originally, Fortran arrays) are making a comeback.\n",
    "\n",
    "<br>"
   ]
  },
  {
   "cell_type": "markdown",
   "id": "bdee882c-d47c-4710-984e-d417e51876d2",
   "metadata": {},
   "source": [
    "<center>\n",
    "<img src=\"img/chep-papers-paradigm.svg\" width=\"75%\">\n",
    "</center>"
   ]
  },
  {
   "cell_type": "markdown",
   "id": "a551e583-1933-417a-a7bb-e0d57b0715e3",
   "metadata": {
    "slideshow": {
     "slide_type": "slide"
    },
    "tags": []
   },
   "source": [
    "## Awkward Arrays"
   ]
  },
  {
   "cell_type": "markdown",
   "id": "42c1d98b-4d28-4fc6-836d-c15ba688c1ce",
   "metadata": {},
   "source": [
    "<br>\n",
    "\n",
    "In exercise-1, we saw that particle physics analyses rely heavily on combinatorics.\n",
    "\n",
    "<br>\n",
    "\n",
    "In exercise-2, we saw that NumPy arrays and operations don't provide enough structure (in the data or operations)."
   ]
  },
  {
   "cell_type": "markdown",
   "id": "afc75aad-420c-4be9-8d7d-e4ffa2dfe5cc",
   "metadata": {
    "slideshow": {
     "slide_type": "fragment"
    },
    "tags": []
   },
   "source": [
    "<br><br><br>\n",
    "\n",
    "The Awkward Array library was created to fill that gap."
   ]
  },
  {
   "cell_type": "markdown",
   "id": "e3ef9a78-dfc5-45b4-a009-43a1a6dac097",
   "metadata": {
    "slideshow": {
     "slide_type": "slide"
    },
    "tags": []
   },
   "source": [
    "Load Higgs data as an Awkward Array."
   ]
  },
  {
   "cell_type": "code",
   "execution_count": 12,
   "id": "a8a2e59b-ba3f-444b-9bb3-746b9d7ed6b0",
   "metadata": {
    "tags": []
   },
   "outputs": [],
   "source": [
    "import awkward as ak"
   ]
  },
  {
   "cell_type": "markdown",
   "id": "22010e24-a4f2-4732-9d83-ea4660f34988",
   "metadata": {},
   "source": [
    "<br>"
   ]
  },
  {
   "cell_type": "code",
   "execution_count": 13,
   "id": "cf839c7f-8330-44bd-8246-3646a00eee93",
   "metadata": {
    "tags": []
   },
   "outputs": [
    {
     "data": {
      "text/html": [
       "<pre>[{run: 1, luminosityBlock: 156, event: 46501, PV: {...}, electron: [], ...},\n",
       " {run: 1, luminosityBlock: 156, event: 46502, PV: {...}, electron: [...], ...},\n",
       " {run: 1, luminosityBlock: 156, event: 46503, PV: {...}, electron: [...], ...},\n",
       " {run: 1, luminosityBlock: 156, event: 46504, PV: {...}, electron: ..., ...},\n",
       " {run: 1, luminosityBlock: 156, event: 46505, PV: {...}, electron: [...], ...},\n",
       " {run: 1, luminosityBlock: 156, event: 46506, PV: {...}, electron: ..., ...},\n",
       " {run: 1, luminosityBlock: 156, event: 46507, PV: {...}, electron: ..., ...},\n",
       " {run: 1, luminosityBlock: 156, event: 46508, PV: {...}, electron: ..., ...},\n",
       " {run: 1, luminosityBlock: 156, event: 46509, PV: {...}, electron: [...], ...},\n",
       " {run: 1, luminosityBlock: 156, event: 46510, PV: {...}, electron: [], ...},\n",
       " ...,\n",
       " {run: 1, luminosityBlock: 996, event: 298792, PV: {...}, electron: [...], ...},\n",
       " {run: 1, luminosityBlock: 996, event: 298793, PV: {...}, electron: ..., ...},\n",
       " {run: 1, luminosityBlock: 996, event: 298794, PV: {...}, electron: [], ...},\n",
       " {run: 1, luminosityBlock: 996, event: 298795, PV: {...}, electron: [...], ...},\n",
       " {run: 1, luminosityBlock: 996, event: 298796, PV: {...}, electron: [], ...},\n",
       " {run: 1, luminosityBlock: 996, event: 298797, PV: {...}, electron: ..., ...},\n",
       " {run: 1, luminosityBlock: 996, event: 298798, PV: {...}, electron: [], ...},\n",
       " {run: 1, luminosityBlock: 996, event: 298799, PV: {...}, electron: [...], ...},\n",
       " {run: 1, luminosityBlock: 996, event: 298800, PV: {...}, electron: [...], ...}]\n",
       "--------------------------------------------------------------------------------\n",
       "type: 299973 * {\n",
       "    run: int32,\n",
       "    luminosityBlock: int64,\n",
       "    event: uint64,\n",
       "    PV: Vector3D[\n",
       "        x: float32,\n",
       "        y: float32,\n",
       "        z: float32\n",
       "    ],\n",
       "    electron: var * Momentum4D[\n",
       "        pt: float32,\n",
       "        eta: float32,\n",
       "        phi: float32,\n",
       "        mass: float32,\n",
       "        charge: int32,\n",
       "        pfRelIso03_all: float32,\n",
       "        dxy: float32,\n",
       "        dxyErr: float32,\n",
       "        dz: float32,\n",
       "        dzErr: float32\n",
       "    ],\n",
       "    muon: var * Momentum4D[\n",
       "        pt: float32,\n",
       "        eta: float32,\n",
       "        phi: float32,\n",
       "        mass: float32,\n",
       "        charge: int32,\n",
       "        pfRelIso03_all: float32,\n",
       "        pfRelIso04_all: float32,\n",
       "        dxy: float32,\n",
       "        dxyErr: float32,\n",
       "        dz: float32,\n",
       "        dzErr: float32\n",
       "    ],\n",
       "    MET: Momentum2D[\n",
       "        pt: float32,\n",
       "        phi: float32\n",
       "    ]\n",
       "}</pre>"
      ],
      "text/plain": [
       "<Array [{run: 1, ...}, ..., {run: 1, ...}] type='299973 * {run: int32, lumi...'>"
      ]
     },
     "execution_count": 13,
     "metadata": {},
     "output_type": "execute_result"
    }
   ],
   "source": [
    "events = ak.from_parquet(\"data/SMHiggsToZZTo4L.parquet\")\n",
    "events"
   ]
  },
  {
   "cell_type": "markdown",
   "id": "6062c7fa-43f5-4a37-9c32-189364bb3c83",
   "metadata": {
    "slideshow": {
     "slide_type": "slide"
    },
    "tags": []
   },
   "source": [
    "View the first event as Python lists and dicts (like JSON)."
   ]
  },
  {
   "cell_type": "code",
   "execution_count": 14,
   "id": "30661cff-00f8-4556-8a6e-b25642f13170",
   "metadata": {
    "tags": []
   },
   "outputs": [
    {
     "data": {
      "text/plain": [
       "{'run': 1,\n",
       " 'luminosityBlock': 156,\n",
       " 'event': 46501,\n",
       " 'PV': {'x': 0.24369880557060242,\n",
       "  'y': 0.3936990201473236,\n",
       "  'z': 1.451307773590088},\n",
       " 'electron': [],\n",
       " 'muon': [{'pt': 63.04386901855469,\n",
       "   'eta': -0.7186822295188904,\n",
       "   'phi': 2.968005895614624,\n",
       "   'mass': 0.10565836727619171,\n",
       "   'charge': 1,\n",
       "   'pfRelIso03_all': 0.0,\n",
       "   'pfRelIso04_all': 0.0,\n",
       "   'dxy': -0.004785160068422556,\n",
       "   'dxyErr': 0.0060764215886592865,\n",
       "   'dz': 0.09005985409021378,\n",
       "   'dzErr': 0.044572051614522934},\n",
       "  {'pt': 38.12034606933594,\n",
       "   'eta': -0.8794569969177246,\n",
       "   'phi': -1.0324749946594238,\n",
       "   'mass': 0.10565836727619171,\n",
       "   'charge': -1,\n",
       "   'pfRelIso03_all': 0.0,\n",
       "   'pfRelIso04_all': 0.0,\n",
       "   'dxy': 0.0005746808601543307,\n",
       "   'dxyErr': 0.0013040687190368772,\n",
       "   'dz': -0.0032290113158524036,\n",
       "   'dzErr': 0.003023269586265087},\n",
       "  {'pt': 4.04868745803833,\n",
       "   'eta': -0.320764422416687,\n",
       "   'phi': 1.0385035276412964,\n",
       "   'mass': 0.10565836727619171,\n",
       "   'charge': 1,\n",
       "   'pfRelIso03_all': 0.0,\n",
       "   'pfRelIso04_all': 0.17997965216636658,\n",
       "   'dxy': -0.00232272082939744,\n",
       "   'dxyErr': 0.004343290813267231,\n",
       "   'dz': -0.005162843037396669,\n",
       "   'dzErr': 0.004190043080598116}],\n",
       " 'MET': {'pt': 21.929929733276367, 'phi': -2.7301223278045654}}"
      ]
     },
     "execution_count": 14,
     "metadata": {},
     "output_type": "execute_result"
    }
   ],
   "source": [
    "events[0].to_list()"
   ]
  },
  {
   "cell_type": "markdown",
   "id": "025e8586-7cb8-41a8-af7b-dff38ab78174",
   "metadata": {
    "slideshow": {
     "slide_type": "slide"
    },
    "tags": []
   },
   "source": [
    "Get one numeric field (also known as \"column\")."
   ]
  },
  {
   "cell_type": "code",
   "execution_count": 15,
   "id": "68a0c07c-e7f3-4e98-a368-4c8899c833e2",
   "metadata": {
    "tags": []
   },
   "outputs": [
    {
     "data": {
      "text/html": [
       "<pre>[[],\n",
       " [21.9, 42.6, 78, 23.8],\n",
       " [11.6, 6.69],\n",
       " [10.4],\n",
       " [30.7, 29.2, 6.38, 6.24],\n",
       " [16.1],\n",
       " [5.32],\n",
       " [6.99],\n",
       " [41, 6.5, 13.1, 52.1],\n",
       " [],\n",
       " ...,\n",
       " [19.1, 9.69],\n",
       " [30.2],\n",
       " [],\n",
       " [37, 7.36, 48],\n",
       " [],\n",
       " [12.3],\n",
       " [],\n",
       " [17.9, 23.2],\n",
       " [48.1, 38.7]]\n",
       "----------------------------\n",
       "type: 299973 * var * float32</pre>"
      ],
      "text/plain": [
       "<Array [[], [21.9, ..., 23.8], ..., [48.1, 38.7]] type='299973 * var * float32'>"
      ]
     },
     "execution_count": 15,
     "metadata": {},
     "output_type": "execute_result"
    }
   ],
   "source": [
    "events.electron.pt"
   ]
  },
  {
   "cell_type": "markdown",
   "id": "e7006a4c-e4c1-496e-abeb-642136d227bd",
   "metadata": {
    "slideshow": {
     "slide_type": "slide"
    },
    "tags": []
   },
   "source": [
    "Compute something ($p_z = p_T \\sinh\\eta$)."
   ]
  },
  {
   "cell_type": "code",
   "execution_count": 16,
   "id": "b97c4bcf-58da-4e0a-a47d-c1c4ae1c9da8",
   "metadata": {
    "tags": []
   },
   "outputs": [
    {
     "data": {
      "text/html": [
       "<pre>[[],\n",
       " [-16.7, -48.8, -83.9, -43.5],\n",
       " [-11.1, 26],\n",
       " [-0.237],\n",
       " [-19.9, 47.5, -18, -15.1],\n",
       " [5.58],\n",
       " [-3.22],\n",
       " [3.88],\n",
       " [-8.92, -10.5, -23.8, -17.3],\n",
       " [],\n",
       " ...,\n",
       " [26.4, 19.1],\n",
       " [92.2],\n",
       " [],\n",
       " [-193, -2.78, -43.4],\n",
       " [],\n",
       " [-3.4],\n",
       " [],\n",
       " [80.1, 99.3],\n",
       " [26.8, 74]]\n",
       "------------------------------\n",
       "type: 299973 * var * float32</pre>"
      ],
      "text/plain": [
       "<Array [[], [-16.7, ..., -43.5], ..., [26.8, 74]] type='299973 * var * float32'>"
      ]
     },
     "execution_count": 16,
     "metadata": {},
     "output_type": "execute_result"
    }
   ],
   "source": [
    "events.electron.pt * np.sinh(events.electron.eta)"
   ]
  },
  {
   "cell_type": "markdown",
   "id": "1a970ef8-9da8-4aba-bcef-0551c84e3082",
   "metadata": {
    "slideshow": {
     "slide_type": "slide"
    },
    "tags": []
   },
   "source": [
    "To plot it, we need numbers without structure, so [ak.flatten](https://awkward-array.org/doc/main/reference/generated/ak.flatten.html) it."
   ]
  },
  {
   "cell_type": "code",
   "execution_count": 62,
   "id": "c24df813-578a-4f81-8934-46d657c11024",
   "metadata": {
    "tags": []
   },
   "outputs": [
    {
     "data": {
      "image/png": "[encoded data removed]",
      "text/plain": [
       "<Figure size 640x480 with 1 Axes>"
      ]
     },
     "metadata": {},
     "output_type": "display_data"
    }
   ],
   "source": [
    "hist.Hist.new.Regular(100, 0, 100, name=\" \").Double().fill(\n",
    "    ak.flatten(events.electron.pt)\n",
    ").plot();"
   ]
  },
  {
   "cell_type": "markdown",
   "id": "cad23444-c3cd-44ec-97aa-5574839fb1a3",
   "metadata": {
    "slideshow": {
     "slide_type": "slide"
    },
    "tags": []
   },
   "source": [
    "Each event has a different number of electrons and muons ([ak.num](https://awkward-array.org/doc/main/reference/generated/ak.num.html) to check)."
   ]
  },
  {
   "cell_type": "code",
   "execution_count": 18,
   "id": "bf7a2d4a-2386-4f6b-bde0-c563c162b5f0",
   "metadata": {
    "tags": []
   },
   "outputs": [
    {
     "data": {
      "text/plain": [
       "(<Array [0, 4, 2, 1, 4, 1, 1, 1, ..., 0, 3, 0, 1, 0, 2, 2] type='299973 * int64'>,\n",
       " <Array [3, 0, 0, 7, 0, 2, 1, 0, ..., 2, 0, 2, 2, 4, 0, 0] type='299973 * int64'>)"
      ]
     },
     "execution_count": 18,
     "metadata": {},
     "output_type": "execute_result"
    }
   ],
   "source": [
    "ak.num(events.electron), ak.num(events.muon)"
   ]
  },
  {
   "cell_type": "markdown",
   "id": "b92ddf40-e68f-4c2c-b11c-eef3db16bc4e",
   "metadata": {
    "slideshow": {
     "slide_type": "fragment"
    },
    "tags": []
   },
   "source": [
    "<br>\n",
    "\n",
    "So what happens if we try to compute something with the electrons' $p_T$ and the muons' $\\eta$?"
   ]
  },
  {
   "cell_type": "code",
   "execution_count": 19,
   "id": "6efa2427-2732-45af-928e-0d649b7f92c2",
   "metadata": {
    "tags": [
     "raises-exception"
    ]
   },
   "outputs": [
    {
     "ename": "ValueError",
     "evalue": "while calling\n\n    numpy.multiply.__call__(\n        <Array [[], [21.9, ...], ..., [48.1, 38.7]] type='299973 * var * fl...'>\n        <Array [[-0.782, -0.997, -0.326], ..., []] type='299973 * var * flo...'>\n    )\n\nError details: cannot broadcast nested list (in compiled code: https://github.com/scikit-hep/awkward/blob/awkward-cpp-7/awkward-cpp/src/cpu-kernels/awkward_ListArray_broadcast_tooffsets.cpp#L27)",
     "output_type": "error",
     "traceback": [
      "\u001b[0;31m---------------------------------------------------------------------------\u001b[0m",
      "\u001b[0;31mValueError\u001b[0m                                Traceback (most recent call last)",
      "Cell \u001b[0;32mIn[19], line 1\u001b[0m\n\u001b[0;32m----> 1\u001b[0m \u001b[43mevents\u001b[49m\u001b[38;5;241;43m.\u001b[39;49m\u001b[43melectron\u001b[49m\u001b[38;5;241;43m.\u001b[39;49m\u001b[43mpt\u001b[49m\u001b[43m \u001b[49m\u001b[38;5;241;43m*\u001b[39;49m\u001b[43m \u001b[49m\u001b[43mnp\u001b[49m\u001b[38;5;241;43m.\u001b[39;49m\u001b[43msinh\u001b[49m\u001b[43m(\u001b[49m\u001b[43mevents\u001b[49m\u001b[38;5;241;43m.\u001b[39;49m\u001b[43mmuon\u001b[49m\u001b[38;5;241;43m.\u001b[39;49m\u001b[43meta\u001b[49m\u001b[43m)\u001b[49m\n",
      "File \u001b[0;32m~/mambaforge/lib/python3.10/site-packages/numpy/lib/mixins.py:21\u001b[0m, in \u001b[0;36m_binary_method.<locals>.func\u001b[0;34m(self, other)\u001b[0m\n\u001b[1;32m     19\u001b[0m \u001b[38;5;28;01mif\u001b[39;00m _disables_array_ufunc(other):\n\u001b[1;32m     20\u001b[0m     \u001b[38;5;28;01mreturn\u001b[39;00m \u001b[38;5;28mNotImplemented\u001b[39m\n\u001b[0;32m---> 21\u001b[0m \u001b[38;5;28;01mreturn\u001b[39;00m \u001b[43mufunc\u001b[49m\u001b[43m(\u001b[49m\u001b[38;5;28;43mself\u001b[39;49m\u001b[43m,\u001b[49m\u001b[43m \u001b[49m\u001b[43mother\u001b[49m\u001b[43m)\u001b[49m\n",
      "File \u001b[0;32m~/irishep/awkward/src/awkward/highlevel.py:1386\u001b[0m, in \u001b[0;36mArray.__array_ufunc__\u001b[0;34m(self, ufunc, method, *inputs, **kwargs)\u001b[0m\n\u001b[1;32m   1384\u001b[0m arguments\u001b[38;5;241m.\u001b[39mupdate(kwargs)\n\u001b[1;32m   1385\u001b[0m \u001b[38;5;28;01mwith\u001b[39;00m ak\u001b[38;5;241m.\u001b[39m_errors\u001b[38;5;241m.\u001b[39mOperationErrorContext(name, arguments):\n\u001b[0;32m-> 1386\u001b[0m     \u001b[38;5;28;01mreturn\u001b[39;00m \u001b[43mak\u001b[49m\u001b[38;5;241;43m.\u001b[39;49m\u001b[43m_connect\u001b[49m\u001b[38;5;241;43m.\u001b[39;49m\u001b[43mnumpy\u001b[49m\u001b[38;5;241;43m.\u001b[39;49m\u001b[43marray_ufunc\u001b[49m\u001b[43m(\u001b[49m\u001b[43mufunc\u001b[49m\u001b[43m,\u001b[49m\u001b[43m \u001b[49m\u001b[43mmethod\u001b[49m\u001b[43m,\u001b[49m\u001b[43m \u001b[49m\u001b[43minputs\u001b[49m\u001b[43m,\u001b[49m\u001b[43m \u001b[49m\u001b[43mkwargs\u001b[49m\u001b[43m)\u001b[49m\n",
      "File \u001b[0;32m~/irishep/awkward/src/awkward/_connect/numpy.py:289\u001b[0m, in \u001b[0;36marray_ufunc\u001b[0;34m(ufunc, method, inputs, kwargs)\u001b[0m\n\u001b[1;32m    280\u001b[0m     out \u001b[38;5;241m=\u001b[39m ak\u001b[38;5;241m.\u001b[39m_do\u001b[38;5;241m.\u001b[39mrecursively_apply(\n\u001b[1;32m    281\u001b[0m         inputs[where],\n\u001b[1;32m    282\u001b[0m         unary_action,\n\u001b[0;32m   (...)\u001b[0m\n\u001b[1;32m    285\u001b[0m         allow_records\u001b[38;5;241m=\u001b[39m\u001b[38;5;28;01mFalse\u001b[39;00m,\n\u001b[1;32m    286\u001b[0m     )\n\u001b[1;32m    288\u001b[0m \u001b[38;5;28;01melse\u001b[39;00m:\n\u001b[0;32m--> 289\u001b[0m     out \u001b[38;5;241m=\u001b[39m \u001b[43mak\u001b[49m\u001b[38;5;241;43m.\u001b[39;49m\u001b[43m_broadcasting\u001b[49m\u001b[38;5;241;43m.\u001b[39;49m\u001b[43mbroadcast_and_apply\u001b[49m\u001b[43m(\u001b[49m\n\u001b[1;32m    290\u001b[0m \u001b[43m        \u001b[49m\u001b[43minputs\u001b[49m\u001b[43m,\u001b[49m\u001b[43m \u001b[49m\u001b[43maction\u001b[49m\u001b[43m,\u001b[49m\u001b[43m \u001b[49m\u001b[43mbehavior\u001b[49m\u001b[43m,\u001b[49m\u001b[43m \u001b[49m\u001b[43mallow_records\u001b[49m\u001b[38;5;241;43m=\u001b[39;49m\u001b[38;5;28;43;01mFalse\u001b[39;49;00m\u001b[43m,\u001b[49m\u001b[43m \u001b[49m\u001b[43mfunction_name\u001b[49m\u001b[38;5;241;43m=\u001b[39;49m\u001b[43mufunc\u001b[49m\u001b[38;5;241;43m.\u001b[39;49m\u001b[38;5;18;43m__name__\u001b[39;49m\n\u001b[1;32m    291\u001b[0m \u001b[43m    \u001b[49m\u001b[43m)\u001b[49m\n\u001b[1;32m    292\u001b[0m     \u001b[38;5;28;01massert\u001b[39;00m \u001b[38;5;28misinstance\u001b[39m(out, \u001b[38;5;28mtuple\u001b[39m) \u001b[38;5;129;01mand\u001b[39;00m \u001b[38;5;28mlen\u001b[39m(out) \u001b[38;5;241m==\u001b[39m \u001b[38;5;241m1\u001b[39m\n\u001b[1;32m    293\u001b[0m     out \u001b[38;5;241m=\u001b[39m out[\u001b[38;5;241m0\u001b[39m]\n",
      "File \u001b[0;32m~/irishep/awkward/src/awkward/_broadcasting.py:1041\u001b[0m, in \u001b[0;36mbroadcast_and_apply\u001b[0;34m(inputs, action, behavior, depth_context, lateral_context, allow_records, left_broadcast, right_broadcast, numpy_to_regular, regular_to_jagged, function_name, broadcast_parameters_rule)\u001b[0m\n\u001b[1;32m   1039\u001b[0m backend \u001b[38;5;241m=\u001b[39m ak\u001b[38;5;241m.\u001b[39m_backends\u001b[38;5;241m.\u001b[39mbackend_of(\u001b[38;5;241m*\u001b[39minputs)\n\u001b[1;32m   1040\u001b[0m isscalar \u001b[38;5;241m=\u001b[39m []\n\u001b[0;32m-> 1041\u001b[0m out \u001b[38;5;241m=\u001b[39m \u001b[43mapply_step\u001b[49m\u001b[43m(\u001b[49m\n\u001b[1;32m   1042\u001b[0m \u001b[43m    \u001b[49m\u001b[43mbackend\u001b[49m\u001b[43m,\u001b[49m\n\u001b[1;32m   1043\u001b[0m \u001b[43m    \u001b[49m\u001b[43mbroadcast_pack\u001b[49m\u001b[43m(\u001b[49m\u001b[43minputs\u001b[49m\u001b[43m,\u001b[49m\u001b[43m \u001b[49m\u001b[43misscalar\u001b[49m\u001b[43m)\u001b[49m\u001b[43m,\u001b[49m\n\u001b[1;32m   1044\u001b[0m \u001b[43m    \u001b[49m\u001b[43maction\u001b[49m\u001b[43m,\u001b[49m\n\u001b[1;32m   1045\u001b[0m \u001b[43m    \u001b[49m\u001b[38;5;241;43m0\u001b[39;49m\u001b[43m,\u001b[49m\n\u001b[1;32m   1046\u001b[0m \u001b[43m    \u001b[49m\u001b[43mdepth_context\u001b[49m\u001b[43m,\u001b[49m\n\u001b[1;32m   1047\u001b[0m \u001b[43m    \u001b[49m\u001b[43mlateral_context\u001b[49m\u001b[43m,\u001b[49m\n\u001b[1;32m   1048\u001b[0m \u001b[43m    \u001b[49m\u001b[43mbehavior\u001b[49m\u001b[43m,\u001b[49m\n\u001b[1;32m   1049\u001b[0m \u001b[43m    \u001b[49m\u001b[43m{\u001b[49m\n\u001b[1;32m   1050\u001b[0m \u001b[43m        \u001b[49m\u001b[38;5;124;43m\"\u001b[39;49m\u001b[38;5;124;43mallow_records\u001b[39;49m\u001b[38;5;124;43m\"\u001b[39;49m\u001b[43m:\u001b[49m\u001b[43m \u001b[49m\u001b[43mallow_records\u001b[49m\u001b[43m,\u001b[49m\n\u001b[1;32m   1051\u001b[0m \u001b[43m        \u001b[49m\u001b[38;5;124;43m\"\u001b[39;49m\u001b[38;5;124;43mleft_broadcast\u001b[39;49m\u001b[38;5;124;43m\"\u001b[39;49m\u001b[43m:\u001b[49m\u001b[43m \u001b[49m\u001b[43mleft_broadcast\u001b[49m\u001b[43m,\u001b[49m\n\u001b[1;32m   1052\u001b[0m \u001b[43m        \u001b[49m\u001b[38;5;124;43m\"\u001b[39;49m\u001b[38;5;124;43mright_broadcast\u001b[39;49m\u001b[38;5;124;43m\"\u001b[39;49m\u001b[43m:\u001b[49m\u001b[43m \u001b[49m\u001b[43mright_broadcast\u001b[49m\u001b[43m,\u001b[49m\n\u001b[1;32m   1053\u001b[0m \u001b[43m        \u001b[49m\u001b[38;5;124;43m\"\u001b[39;49m\u001b[38;5;124;43mnumpy_to_regular\u001b[39;49m\u001b[38;5;124;43m\"\u001b[39;49m\u001b[43m:\u001b[49m\u001b[43m \u001b[49m\u001b[43mnumpy_to_regular\u001b[49m\u001b[43m,\u001b[49m\n\u001b[1;32m   1054\u001b[0m \u001b[43m        \u001b[49m\u001b[38;5;124;43m\"\u001b[39;49m\u001b[38;5;124;43mregular_to_jagged\u001b[39;49m\u001b[38;5;124;43m\"\u001b[39;49m\u001b[43m:\u001b[49m\u001b[43m \u001b[49m\u001b[43mregular_to_jagged\u001b[49m\u001b[43m,\u001b[49m\n\u001b[1;32m   1055\u001b[0m \u001b[43m        \u001b[49m\u001b[38;5;124;43m\"\u001b[39;49m\u001b[38;5;124;43mfunction_name\u001b[39;49m\u001b[38;5;124;43m\"\u001b[39;49m\u001b[43m:\u001b[49m\u001b[43m \u001b[49m\u001b[43mfunction_name\u001b[49m\u001b[43m,\u001b[49m\n\u001b[1;32m   1056\u001b[0m \u001b[43m        \u001b[49m\u001b[38;5;124;43m\"\u001b[39;49m\u001b[38;5;124;43mbroadcast_parameters_rule\u001b[39;49m\u001b[38;5;124;43m\"\u001b[39;49m\u001b[43m:\u001b[49m\u001b[43m \u001b[49m\u001b[43mbroadcast_parameters_rule\u001b[49m\u001b[43m,\u001b[49m\n\u001b[1;32m   1057\u001b[0m \u001b[43m    \u001b[49m\u001b[43m}\u001b[49m\u001b[43m,\u001b[49m\n\u001b[1;32m   1058\u001b[0m \u001b[43m\u001b[49m\u001b[43m)\u001b[49m\n\u001b[1;32m   1059\u001b[0m \u001b[38;5;28;01massert\u001b[39;00m \u001b[38;5;28misinstance\u001b[39m(out, \u001b[38;5;28mtuple\u001b[39m)\n\u001b[1;32m   1060\u001b[0m \u001b[38;5;28;01mreturn\u001b[39;00m \u001b[38;5;28mtuple\u001b[39m(broadcast_unpack(x, isscalar, backend) \u001b[38;5;28;01mfor\u001b[39;00m x \u001b[38;5;129;01min\u001b[39;00m out)\n",
      "File \u001b[0;32m~/irishep/awkward/src/awkward/_broadcasting.py:1020\u001b[0m, in \u001b[0;36mapply_step\u001b[0;34m(backend, inputs, action, depth, depth_context, lateral_context, behavior, options)\u001b[0m\n\u001b[1;32m   1018\u001b[0m     \u001b[38;5;28;01mreturn\u001b[39;00m result\n\u001b[1;32m   1019\u001b[0m \u001b[38;5;28;01melif\u001b[39;00m result \u001b[38;5;129;01mis\u001b[39;00m \u001b[38;5;28;01mNone\u001b[39;00m:\n\u001b[0;32m-> 1020\u001b[0m     \u001b[38;5;28;01mreturn\u001b[39;00m \u001b[43mcontinuation\u001b[49m\u001b[43m(\u001b[49m\u001b[43m)\u001b[49m\n\u001b[1;32m   1021\u001b[0m \u001b[38;5;28;01melse\u001b[39;00m:\n\u001b[1;32m   1022\u001b[0m     \u001b[38;5;28;01mraise\u001b[39;00m ak\u001b[38;5;241m.\u001b[39m_errors\u001b[38;5;241m.\u001b[39mwrap_error(\u001b[38;5;167;01mAssertionError\u001b[39;00m(result))\n",
      "File \u001b[0;32m~/irishep/awkward/src/awkward/_broadcasting.py:739\u001b[0m, in \u001b[0;36mapply_step.<locals>.continuation\u001b[0;34m()\u001b[0m\n\u001b[1;32m    736\u001b[0m         \u001b[38;5;28;01melse\u001b[39;00m:\n\u001b[1;32m    737\u001b[0m             nextinputs\u001b[38;5;241m.\u001b[39mappend(x)\n\u001b[0;32m--> 739\u001b[0m outcontent \u001b[38;5;241m=\u001b[39m \u001b[43mapply_step\u001b[49m\u001b[43m(\u001b[49m\n\u001b[1;32m    740\u001b[0m \u001b[43m    \u001b[49m\u001b[43mbackend\u001b[49m\u001b[43m,\u001b[49m\n\u001b[1;32m    741\u001b[0m \u001b[43m    \u001b[49m\u001b[43mnextinputs\u001b[49m\u001b[43m,\u001b[49m\n\u001b[1;32m    742\u001b[0m \u001b[43m    \u001b[49m\u001b[43maction\u001b[49m\u001b[43m,\u001b[49m\n\u001b[1;32m    743\u001b[0m \u001b[43m    \u001b[49m\u001b[43mdepth\u001b[49m\u001b[43m \u001b[49m\u001b[38;5;241;43m+\u001b[39;49m\u001b[43m \u001b[49m\u001b[38;5;241;43m1\u001b[39;49m\u001b[43m,\u001b[49m\n\u001b[1;32m    744\u001b[0m \u001b[43m    \u001b[49m\u001b[43mcopy\u001b[49m\u001b[38;5;241;43m.\u001b[39;49m\u001b[43mcopy\u001b[49m\u001b[43m(\u001b[49m\u001b[43mdepth_context\u001b[49m\u001b[43m)\u001b[49m\u001b[43m,\u001b[49m\n\u001b[1;32m    745\u001b[0m \u001b[43m    \u001b[49m\u001b[43mlateral_context\u001b[49m\u001b[43m,\u001b[49m\n\u001b[1;32m    746\u001b[0m \u001b[43m    \u001b[49m\u001b[43mbehavior\u001b[49m\u001b[43m,\u001b[49m\n\u001b[1;32m    747\u001b[0m \u001b[43m    \u001b[49m\u001b[43moptions\u001b[49m\u001b[43m,\u001b[49m\n\u001b[1;32m    748\u001b[0m \u001b[43m\u001b[49m\u001b[43m)\u001b[49m\n\u001b[1;32m    749\u001b[0m \u001b[38;5;28;01massert\u001b[39;00m \u001b[38;5;28misinstance\u001b[39m(outcontent, \u001b[38;5;28mtuple\u001b[39m)\n\u001b[1;32m    750\u001b[0m parameters \u001b[38;5;241m=\u001b[39m parameters_factory(\u001b[38;5;28mlen\u001b[39m(outcontent))\n",
      "File \u001b[0;32m~/irishep/awkward/src/awkward/_broadcasting.py:1020\u001b[0m, in \u001b[0;36mapply_step\u001b[0;34m(backend, inputs, action, depth, depth_context, lateral_context, behavior, options)\u001b[0m\n\u001b[1;32m   1018\u001b[0m     \u001b[38;5;28;01mreturn\u001b[39;00m result\n\u001b[1;32m   1019\u001b[0m \u001b[38;5;28;01melif\u001b[39;00m result \u001b[38;5;129;01mis\u001b[39;00m \u001b[38;5;28;01mNone\u001b[39;00m:\n\u001b[0;32m-> 1020\u001b[0m     \u001b[38;5;28;01mreturn\u001b[39;00m \u001b[43mcontinuation\u001b[49m\u001b[43m(\u001b[49m\u001b[43m)\u001b[49m\n\u001b[1;32m   1021\u001b[0m \u001b[38;5;28;01melse\u001b[39;00m:\n\u001b[1;32m   1022\u001b[0m     \u001b[38;5;28;01mraise\u001b[39;00m ak\u001b[38;5;241m.\u001b[39m_errors\u001b[38;5;241m.\u001b[39mwrap_error(\u001b[38;5;167;01mAssertionError\u001b[39;00m(result))\n",
      "File \u001b[0;32m~/irishep/awkward/src/awkward/_broadcasting.py:902\u001b[0m, in \u001b[0;36mapply_step.<locals>.continuation\u001b[0;34m()\u001b[0m\n\u001b[1;32m    900\u001b[0m     nextinputs\u001b[38;5;241m.\u001b[39mappend(fcn(x, offsets))\n\u001b[1;32m    901\u001b[0m \u001b[38;5;28;01melif\u001b[39;00m \u001b[38;5;28misinstance\u001b[39m(x, listtypes):\n\u001b[0;32m--> 902\u001b[0m     nextinputs\u001b[38;5;241m.\u001b[39mappend(\u001b[43mx\u001b[49m\u001b[38;5;241;43m.\u001b[39;49m\u001b[43m_broadcast_tooffsets64\u001b[49m\u001b[43m(\u001b[49m\u001b[43moffsets\u001b[49m\u001b[43m)\u001b[49m\u001b[38;5;241m.\u001b[39mcontent)\n\u001b[1;32m    904\u001b[0m \u001b[38;5;66;03m# Handle implicit left-broadcasting (non-NumPy-like broadcasting).\u001b[39;00m\n\u001b[1;32m    905\u001b[0m \u001b[38;5;28;01melif\u001b[39;00m options[\u001b[38;5;124m\"\u001b[39m\u001b[38;5;124mleft_broadcast\u001b[39m\u001b[38;5;124m\"\u001b[39m] \u001b[38;5;129;01mand\u001b[39;00m \u001b[38;5;28misinstance\u001b[39m(x, Content):\n",
      "File \u001b[0;32m~/irishep/awkward/src/awkward/contents/listoffsetarray.py:324\u001b[0m, in \u001b[0;36mListOffsetArray._broadcast_tooffsets64\u001b[0;34m(self, offsets)\u001b[0m\n\u001b[1;32m    317\u001b[0m nextcarry \u001b[38;5;241m=\u001b[39m ak\u001b[38;5;241m.\u001b[39mindex\u001b[38;5;241m.\u001b[39mIndex64\u001b[38;5;241m.\u001b[39mempty(offsets[\u001b[38;5;241m-\u001b[39m\u001b[38;5;241m1\u001b[39m], \u001b[38;5;28mself\u001b[39m\u001b[38;5;241m.\u001b[39m_backend\u001b[38;5;241m.\u001b[39mindex_nplike)\n\u001b[1;32m    318\u001b[0m \u001b[38;5;28;01massert\u001b[39;00m (\n\u001b[1;32m    319\u001b[0m     nextcarry\u001b[38;5;241m.\u001b[39mnplike \u001b[38;5;129;01mis\u001b[39;00m \u001b[38;5;28mself\u001b[39m\u001b[38;5;241m.\u001b[39m_backend\u001b[38;5;241m.\u001b[39mindex_nplike\n\u001b[1;32m    320\u001b[0m     \u001b[38;5;129;01mand\u001b[39;00m offsets\u001b[38;5;241m.\u001b[39mnplike \u001b[38;5;129;01mis\u001b[39;00m \u001b[38;5;28mself\u001b[39m\u001b[38;5;241m.\u001b[39m_backend\u001b[38;5;241m.\u001b[39mindex_nplike\n\u001b[1;32m    321\u001b[0m     \u001b[38;5;129;01mand\u001b[39;00m starts\u001b[38;5;241m.\u001b[39mnplike \u001b[38;5;129;01mis\u001b[39;00m \u001b[38;5;28mself\u001b[39m\u001b[38;5;241m.\u001b[39m_backend\u001b[38;5;241m.\u001b[39mindex_nplike\n\u001b[1;32m    322\u001b[0m     \u001b[38;5;129;01mand\u001b[39;00m stops\u001b[38;5;241m.\u001b[39mnplike \u001b[38;5;129;01mis\u001b[39;00m \u001b[38;5;28mself\u001b[39m\u001b[38;5;241m.\u001b[39m_backend\u001b[38;5;241m.\u001b[39mindex_nplike\n\u001b[1;32m    323\u001b[0m )\n\u001b[0;32m--> 324\u001b[0m \u001b[38;5;28;43mself\u001b[39;49m\u001b[38;5;241;43m.\u001b[39;49m\u001b[43m_handle_error\u001b[49m\u001b[43m(\u001b[49m\n\u001b[1;32m    325\u001b[0m \u001b[43m    \u001b[49m\u001b[38;5;28;43mself\u001b[39;49m\u001b[38;5;241;43m.\u001b[39;49m\u001b[43m_backend\u001b[49m\u001b[43m[\u001b[49m\n\u001b[1;32m    326\u001b[0m \u001b[43m        \u001b[49m\u001b[38;5;124;43m\"\u001b[39;49m\u001b[38;5;124;43mawkward_ListArray_broadcast_tooffsets\u001b[39;49m\u001b[38;5;124;43m\"\u001b[39;49m\u001b[43m,\u001b[49m\n\u001b[1;32m    327\u001b[0m \u001b[43m        \u001b[49m\u001b[43mnextcarry\u001b[49m\u001b[38;5;241;43m.\u001b[39;49m\u001b[43mdtype\u001b[49m\u001b[38;5;241;43m.\u001b[39;49m\u001b[43mtype\u001b[49m\u001b[43m,\u001b[49m\n\u001b[1;32m    328\u001b[0m \u001b[43m        \u001b[49m\u001b[43moffsets\u001b[49m\u001b[38;5;241;43m.\u001b[39;49m\u001b[43mdtype\u001b[49m\u001b[38;5;241;43m.\u001b[39;49m\u001b[43mtype\u001b[49m\u001b[43m,\u001b[49m\n\u001b[1;32m    329\u001b[0m \u001b[43m        \u001b[49m\u001b[43mstarts\u001b[49m\u001b[38;5;241;43m.\u001b[39;49m\u001b[43mdtype\u001b[49m\u001b[38;5;241;43m.\u001b[39;49m\u001b[43mtype\u001b[49m\u001b[43m,\u001b[49m\n\u001b[1;32m    330\u001b[0m \u001b[43m        \u001b[49m\u001b[43mstops\u001b[49m\u001b[38;5;241;43m.\u001b[39;49m\u001b[43mdtype\u001b[49m\u001b[38;5;241;43m.\u001b[39;49m\u001b[43mtype\u001b[49m\u001b[43m,\u001b[49m\n\u001b[1;32m    331\u001b[0m \u001b[43m    \u001b[49m\u001b[43m]\u001b[49m\u001b[43m(\u001b[49m\n\u001b[1;32m    332\u001b[0m \u001b[43m        \u001b[49m\u001b[43mnextcarry\u001b[49m\u001b[38;5;241;43m.\u001b[39;49m\u001b[43mdata\u001b[49m\u001b[43m,\u001b[49m\n\u001b[1;32m    333\u001b[0m \u001b[43m        \u001b[49m\u001b[43moffsets\u001b[49m\u001b[38;5;241;43m.\u001b[39;49m\u001b[43mdata\u001b[49m\u001b[43m,\u001b[49m\n\u001b[1;32m    334\u001b[0m \u001b[43m        \u001b[49m\u001b[43moffsets\u001b[49m\u001b[38;5;241;43m.\u001b[39;49m\u001b[43mlength\u001b[49m\u001b[43m,\u001b[49m\n\u001b[1;32m    335\u001b[0m \u001b[43m        \u001b[49m\u001b[43mstarts\u001b[49m\u001b[38;5;241;43m.\u001b[39;49m\u001b[43mdata\u001b[49m\u001b[43m,\u001b[49m\n\u001b[1;32m    336\u001b[0m \u001b[43m        \u001b[49m\u001b[43mstops\u001b[49m\u001b[38;5;241;43m.\u001b[39;49m\u001b[43mdata\u001b[49m\u001b[43m,\u001b[49m\n\u001b[1;32m    337\u001b[0m \u001b[43m        \u001b[49m\u001b[38;5;28;43mself\u001b[39;49m\u001b[38;5;241;43m.\u001b[39;49m\u001b[43m_content\u001b[49m\u001b[38;5;241;43m.\u001b[39;49m\u001b[43mlength\u001b[49m\u001b[43m,\u001b[49m\n\u001b[1;32m    338\u001b[0m \u001b[43m    \u001b[49m\u001b[43m)\u001b[49m\n\u001b[1;32m    339\u001b[0m \u001b[43m\u001b[49m\u001b[43m)\u001b[49m\n\u001b[1;32m    341\u001b[0m nextcontent \u001b[38;5;241m=\u001b[39m \u001b[38;5;28mself\u001b[39m\u001b[38;5;241m.\u001b[39m_content\u001b[38;5;241m.\u001b[39m_carry(nextcarry, \u001b[38;5;28;01mTrue\u001b[39;00m)\n\u001b[1;32m    343\u001b[0m \u001b[38;5;28;01mreturn\u001b[39;00m ListOffsetArray(offsets, nextcontent, parameters\u001b[38;5;241m=\u001b[39m\u001b[38;5;28mself\u001b[39m\u001b[38;5;241m.\u001b[39m_parameters)\n",
      "File \u001b[0;32m~/irishep/awkward/src/awkward/contents/content.py:242\u001b[0m, in \u001b[0;36mContent._handle_error\u001b[0;34m(self, error, slicer)\u001b[0m\n\u001b[1;32m    239\u001b[0m message \u001b[38;5;241m+\u001b[39m\u001b[38;5;241m=\u001b[39m filename\n\u001b[1;32m    241\u001b[0m \u001b[38;5;28;01mif\u001b[39;00m slicer \u001b[38;5;129;01mis\u001b[39;00m \u001b[38;5;28;01mNone\u001b[39;00m:\n\u001b[0;32m--> 242\u001b[0m     \u001b[38;5;28;01mraise\u001b[39;00m ak\u001b[38;5;241m.\u001b[39m_errors\u001b[38;5;241m.\u001b[39mwrap_error(\u001b[38;5;167;01mValueError\u001b[39;00m(message))\n\u001b[1;32m    243\u001b[0m \u001b[38;5;28;01melse\u001b[39;00m:\n\u001b[1;32m    244\u001b[0m     \u001b[38;5;28;01mraise\u001b[39;00m ak\u001b[38;5;241m.\u001b[39m_errors\u001b[38;5;241m.\u001b[39mindex_error(\u001b[38;5;28mself\u001b[39m, slicer, message)\n",
      "\u001b[0;31mValueError\u001b[0m: while calling\n\n    numpy.multiply.__call__(\n        <Array [[], [21.9, ...], ..., [48.1, 38.7]] type='299973 * var * fl...'>\n        <Array [[-0.782, -0.997, -0.326], ..., []] type='299973 * var * flo...'>\n    )\n\nError details: cannot broadcast nested list (in compiled code: https://github.com/scikit-hep/awkward/blob/awkward-cpp-7/awkward-cpp/src/cpu-kernels/awkward_ListArray_broadcast_tooffsets.cpp#L27)"
     ]
    }
   ],
   "source": [
    "events.electron.pt * np.sinh(events.muon.eta)"
   ]
  },
  {
   "cell_type": "markdown",
   "id": "2180e4af-f85a-4f97-913e-47c0793e8ad8",
   "metadata": {
    "slideshow": {
     "slide_type": "slide"
    },
    "tags": []
   },
   "source": [
    "This is data structure-aware, array-oriented programming."
   ]
  },
  {
   "cell_type": "markdown",
   "id": "c0077e5e-136b-4916-b90e-5f62e74161f3",
   "metadata": {
    "slideshow": {
     "slide_type": "slide"
    },
    "tags": []
   },
   "source": [
    "Before moving on, I should point out that we can get these data from ROOT files:"
   ]
  },
  {
   "cell_type": "code",
   "execution_count": 20,
   "id": "e7e4d6c7-c38c-429b-a491-4d26f645da15",
   "metadata": {
    "tags": []
   },
   "outputs": [],
   "source": [
    "import uproot"
   ]
  },
  {
   "cell_type": "markdown",
   "id": "d569b377-e02a-48fe-8c95-a43068b8017b",
   "metadata": {},
   "source": [
    "<br>"
   ]
  },
  {
   "cell_type": "code",
   "execution_count": 21,
   "id": "91fc47b8-aa69-4685-89e7-c8637d3b9f77",
   "metadata": {
    "tags": []
   },
   "outputs": [
    {
     "data": {
      "text/plain": [
       "<ReadOnlyDirectory '/' at 0x000129b63070>"
      ]
     },
     "execution_count": 21,
     "metadata": {},
     "output_type": "execute_result"
    }
   ],
   "source": [
    "file = uproot.open(\"data/SMHiggsToZZTo4L.root\")\n",
    "file"
   ]
  },
  {
   "cell_type": "markdown",
   "id": "aaa94bdd-b9f0-4476-ad56-955b96d6852b",
   "metadata": {},
   "source": [
    "<br>"
   ]
  },
  {
   "cell_type": "code",
   "execution_count": 22,
   "id": "1ed18345-0074-48e9-861b-217cc7140500",
   "metadata": {
    "tags": []
   },
   "outputs": [
    {
     "data": {
      "text/plain": [
       "<TTree 'Events' (32 branches) at 0x000105667d00>"
      ]
     },
     "execution_count": 22,
     "metadata": {},
     "output_type": "execute_result"
    }
   ],
   "source": [
    "tree = file[\"Events\"]\n",
    "tree"
   ]
  },
  {
   "cell_type": "markdown",
   "id": "00190a1e-a590-4d2d-9256-031c9d067a94",
   "metadata": {
    "slideshow": {
     "slide_type": "fragment"
    },
    "tags": []
   },
   "source": [
    "<br>\n",
    "\n",
    "Uproot has several methods to read arrays (NumPy/Awkward/Pandas), but [uproot.TTree.arrays](https://uproot.readthedocs.io/en/latest/uproot.behaviors.TTree.TTree.html#arrays) is a general one."
   ]
  },
  {
   "cell_type": "code",
   "execution_count": 23,
   "id": "97b05e9a-2a1e-4d2a-a7bc-b6c93c822bcf",
   "metadata": {
    "tags": []
   },
   "outputs": [
    {
     "data": {
      "text/html": [
       "<pre>[{Electron_pt: [], Electron_eta: [], Electron_phi: [], Electron_mass: [], ...},\n",
       " {Electron_pt: [21.9, 42.6, 78, 23.8], Electron_eta: [...], ...},\n",
       " {Electron_pt: [11.6, 6.69], Electron_eta: [-0.849, ...], ...},\n",
       " {Electron_pt: [10.4], Electron_eta: [-0.0228], Electron_phi: [-0.643], ...},\n",
       " {Electron_pt: [30.7, 29.2, 6.38, 6.24], Electron_eta: [...], ...},\n",
       " {Electron_pt: [16.1], Electron_eta: [0.34], Electron_phi: [-0.497], ...},\n",
       " {Electron_pt: [5.32], Electron_eta: [-0.574], Electron_phi: [-1.47], ...},\n",
       " {Electron_pt: [6.99], Electron_eta: [0.53], Electron_phi: [-0.633], ...},\n",
       " {Electron_pt: [41, 6.5, 13.1, 52.1], Electron_eta: [...], ...},\n",
       " {Electron_pt: [], Electron_eta: [], Electron_phi: [], Electron_mass: [], ...},\n",
       " ...,\n",
       " {Electron_pt: [19.1, 9.69], Electron_eta: [1.13, ...], Electron_phi: ..., ...},\n",
       " {Electron_pt: [30.2], Electron_eta: [1.84], Electron_phi: [1.94], ...},\n",
       " {Electron_pt: [], Electron_eta: [], Electron_phi: [], Electron_mass: [], ...},\n",
       " {Electron_pt: [37, 7.36, 48], Electron_eta: [-2.35, ...], ...},\n",
       " {Electron_pt: [], Electron_eta: [], Electron_phi: [], Electron_mass: [], ...},\n",
       " {Electron_pt: [12.3], Electron_eta: [-0.273], Electron_phi: [-3.11], ...},\n",
       " {Electron_pt: [], Electron_eta: [], Electron_phi: [], Electron_mass: [], ...},\n",
       " {Electron_pt: [17.9, 23.2], Electron_eta: [2.2, ...], Electron_phi: ..., ...},\n",
       " {Electron_pt: [48.1, 38.7], Electron_eta: [0.532, ...], ...}]\n",
       "--------------------------------------------------------------------------------\n",
       "type: 299973 * {\n",
       "    Electron_pt: var * float32,\n",
       "    Electron_eta: var * float32,\n",
       "    Electron_phi: var * float32,\n",
       "    Electron_mass: var * float32,\n",
       "    Electron_charge: var * int32,\n",
       "    Electron_pfRelIso03_all: var * float32,\n",
       "    Electron_dxy: var * float32,\n",
       "    Electron_dxyErr: var * float32,\n",
       "    Electron_dz: var * float32,\n",
       "    Electron_dzErr: var * float32\n",
       "}</pre>"
      ],
      "text/plain": [
       "<Array [{Electron_pt: [], ...}, ..., {...}] type='299973 * {Electron_pt: va...'>"
      ]
     },
     "execution_count": 23,
     "metadata": {},
     "output_type": "execute_result"
    }
   ],
   "source": [
    "tree.arrays(filter_name=\"Electron_*\")"
   ]
  },
  {
   "cell_type": "markdown",
   "id": "6c92a9c5-3755-4109-b586-5afb7f678d7b",
   "metadata": {
    "slideshow": {
     "slide_type": "slide"
    },
    "tags": []
   },
   "source": [
    "## Basic operations of Awkward Array"
   ]
  },
  {
   "cell_type": "markdown",
   "id": "ad83e40f-021c-4d77-98a8-48f7fba49347",
   "metadata": {
    "slideshow": {
     "slide_type": "slide"
    },
    "tags": []
   },
   "source": [
    "Illustrated with a small array."
   ]
  },
  {
   "cell_type": "code",
   "execution_count": 24,
   "id": "b19ac077-3a78-43e1-881e-2dcb67f2514d",
   "metadata": {
    "tags": []
   },
   "outputs": [
    {
     "data": {
      "text/html": [
       "<pre>[[{x: 1.1, y: [1]}, {x: 2.2, y: [1, 2]}],\n",
       " [],\n",
       " [{x: 3.3, y: [1, 2, 3]}]]\n",
       "-----------------------------------------\n",
       "type: 3 * var * {\n",
       "    x: float64,\n",
       "    y: var * int64\n",
       "}</pre>"
      ],
      "text/plain": [
       "<Array [[{x: 1.1, y: [1]}, {...}], ...] type='3 * var * {x: float64, y: var...'>"
      ]
     },
     "execution_count": 24,
     "metadata": {},
     "output_type": "execute_result"
    }
   ],
   "source": [
    "array = ak.from_iter([[{\"x\": 1.1, \"y\": [1]}, {\"x\": 2.2, \"y\": [1, 2]}], [], [{\"x\": 3.3, \"y\": [1, 2, 3]}]])\n",
    "array"
   ]
  },
  {
   "cell_type": "markdown",
   "id": "1973759c-9179-4997-98eb-95791b1ed58e",
   "metadata": {
    "slideshow": {
     "slide_type": "fragment"
    },
    "tags": []
   },
   "source": [
    "<br>\n",
    "\n",
    "We've seen some selections (single item, by field name), but here they are for the small array:"
   ]
  },
  {
   "cell_type": "code",
   "execution_count": 25,
   "id": "05fe2268-76c6-4726-bf4c-388d9cbcbfa5",
   "metadata": {
    "tags": []
   },
   "outputs": [
    {
     "data": {
      "text/html": [
       "<pre>[{x: 1.1, y: [1]},\n",
       " {x: 2.2, y: [1, 2]}]\n",
       "---------------------\n",
       "type: 2 * {\n",
       "    x: float64,\n",
       "    y: var * int64\n",
       "}</pre>"
      ],
      "text/plain": [
       "<Array [{x: 1.1, y: [1]}, {x: 2.2, ...}] type='2 * {x: float64, y: var * in...'>"
      ]
     },
     "execution_count": 25,
     "metadata": {},
     "output_type": "execute_result"
    }
   ],
   "source": [
    "array[0]"
   ]
  },
  {
   "cell_type": "markdown",
   "id": "bc57fac2-ee63-451c-9cad-962bc69dc017",
   "metadata": {},
   "source": [
    "<br>"
   ]
  },
  {
   "cell_type": "code",
   "execution_count": 26,
   "id": "d5d92112-2d38-46bd-a1bb-dc6d3c5d7eee",
   "metadata": {
    "tags": []
   },
   "outputs": [
    {
     "data": {
      "text/html": [
       "<pre>[1,\n",
       " 2]\n",
       "---------------\n",
       "type: 2 * int64</pre>"
      ],
      "text/plain": [
       "<Array [1, 2] type='2 * int64'>"
      ]
     },
     "execution_count": 26,
     "metadata": {},
     "output_type": "execute_result"
    }
   ],
   "source": [
    "array[0, \"y\", -1]"
   ]
  },
  {
   "cell_type": "markdown",
   "id": "e5b51a9b-b90e-4535-84a9-841fe467fb2b",
   "metadata": {
    "slideshow": {
     "slide_type": "slide"
    },
    "tags": []
   },
   "source": [
    "We've seen mapped operations (NumPy ufuncs):"
   ]
  },
  {
   "cell_type": "code",
   "execution_count": 27,
   "id": "d086c9a3-2404-45c3-b478-924d4c0ccf3f",
   "metadata": {
    "tags": []
   },
   "outputs": [
    {
     "data": {
      "text/html": [
       "<pre>[[1.21, 4.84],\n",
       " [],\n",
       " [10.9]]\n",
       "-----------------------\n",
       "type: 3 * var * float64</pre>"
      ],
      "text/plain": [
       "<Array [[1.21, 4.84], [], [10.9]] type='3 * var * float64'>"
      ]
     },
     "execution_count": 27,
     "metadata": {},
     "output_type": "execute_result"
    }
   ],
   "source": [
    "np.square(array[\"x\"])"
   ]
  },
  {
   "cell_type": "markdown",
   "id": "151373d0-4e2a-47fe-b98f-3660cc720f8a",
   "metadata": {
    "tags": []
   },
   "source": [
    "<br>"
   ]
  },
  {
   "cell_type": "code",
   "execution_count": 28,
   "id": "276d8b92-11b7-4d3d-86b6-b03b07f48de3",
   "metadata": {
    "tags": []
   },
   "outputs": [
    {
     "data": {
      "text/html": [
       "<pre>[[[1], [1, 1.41]],\n",
       " [],\n",
       " [[1, 1.41, 1.73]]]\n",
       "-----------------------------\n",
       "type: 3 * var * var * float64</pre>"
      ],
      "text/plain": [
       "<Array [[[1], [1, 1.41]], ..., [[1, ..., 1.73]]] type='3 * var * var * float64'>"
      ]
     },
     "execution_count": 28,
     "metadata": {},
     "output_type": "execute_result"
    }
   ],
   "source": [
    "np.sqrt(array[\"y\"])"
   ]
  },
  {
   "cell_type": "markdown",
   "id": "cb9d3dfb-1b45-4e52-8be7-ff70a8420769",
   "metadata": {
    "slideshow": {
     "slide_type": "slide"
    },
    "tags": []
   },
   "source": [
    "Reducers ([ak.sum](https://awkward-array.org/doc/main/reference/generated/ak.sum.html), [ak.min](https://awkward-array.org/doc/main/reference/generated/ak.min.html), [ak.max](https://awkward-array.org/doc/main/reference/generated/ak.max.html), [ak.any](https://awkward-array.org/doc/main/reference/generated/ak.any.html), [ak.all](https://awkward-array.org/doc/main/reference/generated/ak.all.html), etc.) apply to lists of variable length, including zero length."
   ]
  },
  {
   "cell_type": "code",
   "execution_count": 29,
   "id": "26756259-9918-4686-aa19-ed51a429b4e6",
   "metadata": {
    "tags": []
   },
   "outputs": [
    {
     "data": {
      "text/plain": [
       "6.6"
      ]
     },
     "execution_count": 29,
     "metadata": {},
     "output_type": "execute_result"
    }
   ],
   "source": [
    "ak.sum(array[\"x\"])"
   ]
  },
  {
   "cell_type": "markdown",
   "id": "c3c5409e-f9ae-44d0-a22a-48051e83c304",
   "metadata": {},
   "source": [
    "<br>"
   ]
  },
  {
   "cell_type": "code",
   "execution_count": 30,
   "id": "3a0227eb-795e-43cb-b119-38a618705331",
   "metadata": {
    "tags": []
   },
   "outputs": [
    {
     "data": {
      "text/html": [
       "<pre>[[1, 3],\n",
       " [],\n",
       " [6]]\n",
       "---------------------\n",
       "type: 3 * var * int64</pre>"
      ],
      "text/plain": [
       "<Array [[1, 3], [], [6]] type='3 * var * int64'>"
      ]
     },
     "execution_count": 30,
     "metadata": {},
     "output_type": "execute_result"
    }
   ],
   "source": [
    "ak.sum(array[\"y\"], axis=-1)"
   ]
  },
  {
   "cell_type": "markdown",
   "id": "03589116-afa7-4e02-8286-01f048fd8b8f",
   "metadata": {
    "slideshow": {
     "slide_type": "slide"
    },
    "tags": []
   },
   "source": [
    "The `axis` parameter has the same meaning as in NumPy, but extended to allow for non-rectilinear data."
   ]
  },
  {
   "cell_type": "code",
   "execution_count": 64,
   "id": "78023b6a-060d-44de-92f4-4337d9c456c8",
   "metadata": {
    "tags": []
   },
   "outputs": [],
   "source": [
    "array2 = ak.from_iter([[   1,    2,    4],\n",
    "                       [                ],\n",
    "                       [None,    8      ],\n",
    "                       [  16            ]])"
   ]
  },
  {
   "cell_type": "markdown",
   "id": "c113adef-66b9-4b84-903f-96dd52f7cff2",
   "metadata": {},
   "source": [
    "<br>"
   ]
  },
  {
   "cell_type": "code",
   "execution_count": 32,
   "id": "9e962fdc-5f5a-45a2-9334-57da441cd605",
   "metadata": {
    "tags": []
   },
   "outputs": [
    {
     "data": {
      "text/html": [
       "<pre>[17,\n",
       " 10,\n",
       " 4]\n",
       "---------------\n",
       "type: 3 * int64</pre>"
      ],
      "text/plain": [
       "<Array [17, 10, 4] type='3 * int64'>"
      ]
     },
     "execution_count": 32,
     "metadata": {},
     "output_type": "execute_result"
    }
   ],
   "source": [
    "ak.sum(array2, axis=0)"
   ]
  },
  {
   "cell_type": "markdown",
   "id": "a1712f5a-0a1b-4ca8-9cde-e3b385e6ace9",
   "metadata": {},
   "source": [
    "<br>"
   ]
  },
  {
   "cell_type": "code",
   "execution_count": 33,
   "id": "e482352d-2b68-4c09-b881-6dd95c65a221",
   "metadata": {
    "tags": []
   },
   "outputs": [
    {
     "data": {
      "text/html": [
       "<pre>[7,\n",
       " 0,\n",
       " 8,\n",
       " 16]\n",
       "---------------\n",
       "type: 4 * int64</pre>"
      ],
      "text/plain": [
       "<Array [7, 0, 8, 16] type='4 * int64'>"
      ]
     },
     "execution_count": 33,
     "metadata": {},
     "output_type": "execute_result"
    }
   ],
   "source": [
    "ak.sum(array2, axis=1)"
   ]
  },
  {
   "cell_type": "markdown",
   "id": "67e6dbf9-e66e-4775-82d1-60894fe58b80",
   "metadata": {
    "slideshow": {
     "slide_type": "slide"
    },
    "tags": []
   },
   "source": [
    "Slicing with boolean or integer arrays."
   ]
  },
  {
   "cell_type": "code",
   "execution_count": 34,
   "id": "7f9df890-c9c9-4d55-ac25-7323ad60b43d",
   "metadata": {
    "tags": []
   },
   "outputs": [
    {
     "data": {
      "text/html": [
       "<pre>[[{x: 1.1, y: [1]}, {x: 2.2, y: [1, 2]}],\n",
       " [],\n",
       " [{x: 3.3, y: [1, 2, 3]}]]\n",
       "-----------------------------------------\n",
       "type: 3 * var * {\n",
       "    x: float64,\n",
       "    y: var * int64\n",
       "}</pre>"
      ],
      "text/plain": [
       "<Array [[{x: 1.1, y: [1]}, {...}], ...] type='3 * var * {x: float64, y: var...'>"
      ]
     },
     "execution_count": 34,
     "metadata": {},
     "output_type": "execute_result"
    }
   ],
   "source": [
    "array"
   ]
  },
  {
   "cell_type": "markdown",
   "id": "4e73d27d-be2f-4f0e-b561-f48e5125e164",
   "metadata": {},
   "source": [
    "<br>"
   ]
  },
  {
   "cell_type": "code",
   "execution_count": 35,
   "id": "9bcc9eae-9fd2-415e-9698-db889db47f36",
   "metadata": {
    "tags": []
   },
   "outputs": [
    {
     "data": {
      "text/html": [
       "<pre>[[{x: 3.3, y: [1, 2, 3]}]]\n",
       "--------------------------\n",
       "type: 1 * var * {\n",
       "    x: float64,\n",
       "    y: var * int64\n",
       "}</pre>"
      ],
      "text/plain": [
       "<Array [[{x: 3.3, y: [1, ...]}]] type='1 * var * {x: float64, y: var * int64}'>"
      ]
     },
     "execution_count": 35,
     "metadata": {},
     "output_type": "execute_result"
    }
   ],
   "source": [
    "array[[False, False, True]]"
   ]
  },
  {
   "cell_type": "markdown",
   "id": "d6af9b2a-b2ef-4afb-8d3f-194b86e116de",
   "metadata": {},
   "source": [
    "<br>"
   ]
  },
  {
   "cell_type": "code",
   "execution_count": 36,
   "id": "39259442-153d-4247-bc84-c6e101b46dd8",
   "metadata": {
    "tags": []
   },
   "outputs": [
    {
     "data": {
      "text/html": [
       "<pre>[[],\n",
       " [],\n",
       " [],\n",
       " [{x: 3.3, y: [1, 2, 3]}]]\n",
       "--------------------------\n",
       "type: 4 * var * {\n",
       "    x: float64,\n",
       "    y: var * int64\n",
       "}</pre>"
      ],
      "text/plain": [
       "<Array [[], [], [], [{x: 3.3, y: [...]}]] type='4 * var * {x: float64, y: v...'>"
      ]
     },
     "execution_count": 36,
     "metadata": {},
     "output_type": "execute_result"
    }
   ],
   "source": [
    "array[[1, 1, 1, 2]]"
   ]
  },
  {
   "cell_type": "markdown",
   "id": "2cd9f17b-0236-446c-b317-92931f87e58e",
   "metadata": {
    "slideshow": {
     "slide_type": "slide"
    },
    "tags": []
   },
   "source": [
    "Slicing with arrays of _lists_ of booleans or integers."
   ]
  },
  {
   "cell_type": "code",
   "execution_count": 37,
   "id": "7a14187b-dfbc-4493-a2db-5015534a19d0",
   "metadata": {
    "tags": []
   },
   "outputs": [
    {
     "data": {
      "text/html": [
       "<pre>[[[1], [1, 2]],\n",
       " [],\n",
       " [[1, 2, 3]]]\n",
       "---------------------------\n",
       "type: 3 * var * var * int64</pre>"
      ],
      "text/plain": [
       "<Array [[[1], [1, 2]], [], [[1, 2, 3]]] type='3 * var * var * int64'>"
      ]
     },
     "execution_count": 37,
     "metadata": {},
     "output_type": "execute_result"
    }
   ],
   "source": [
    "array.y"
   ]
  },
  {
   "cell_type": "markdown",
   "id": "11d0fbf7-d9c4-4c73-8ef8-462aee9da210",
   "metadata": {},
   "source": [
    "<br>"
   ]
  },
  {
   "cell_type": "code",
   "execution_count": 38,
   "id": "97da14d2-91d7-429a-bd15-77aec8c968ab",
   "metadata": {
    "tags": []
   },
   "outputs": [
    {
     "data": {
      "text/html": [
       "<pre>[[[1], [2]],\n",
       " [],\n",
       " [[2]]]\n",
       "---------------------------\n",
       "type: 3 * var * var * int64</pre>"
      ],
      "text/plain": [
       "<Array [[[1], [2]], [], [[2]]] type='3 * var * var * int64'>"
      ]
     },
     "execution_count": 38,
     "metadata": {},
     "output_type": "execute_result"
    }
   ],
   "source": [
    "array.y[[[[True], [False, True]], [], [[False, True, False]]]]"
   ]
  },
  {
   "cell_type": "markdown",
   "id": "e0f1482b-d45b-4dd2-bff1-b011ff264107",
   "metadata": {},
   "source": [
    "<br>"
   ]
  },
  {
   "cell_type": "code",
   "execution_count": 39,
   "id": "c2322909-57d3-497c-9126-73b89d050da7",
   "metadata": {
    "tags": []
   },
   "outputs": [
    {
     "data": {
      "text/html": [
       "<pre>[[[], [2, 2, 2]],\n",
       " [],\n",
       " [[1, 2, 2, 2, 2, 2, 3]]]\n",
       "---------------------------\n",
       "type: 3 * var * var * int64</pre>"
      ],
      "text/plain": [
       "<Array [[[], [2, 2, 2]], ..., [[1, 2, ..., 2, 3]]] type='3 * var * var * int64'>"
      ]
     },
     "execution_count": 39,
     "metadata": {},
     "output_type": "execute_result"
    }
   ],
   "source": [
    "array.y[[[[], [-1, -1, -1]], [], [[0, 1, 1, 1, 1, 1, 2]]]]"
   ]
  },
  {
   "cell_type": "markdown",
   "id": "6cbb32f7-a29e-488a-ba49-91da99c0da27",
   "metadata": {
    "slideshow": {
     "slide_type": "slide"
    },
    "tags": []
   },
   "source": [
    "**Application:** Filtering events with an array of booleans."
   ]
  },
  {
   "cell_type": "code",
   "execution_count": 40,
   "id": "837028eb-b6e2-4e4c-9ce2-25dcc9a322d1",
   "metadata": {
    "tags": []
   },
   "outputs": [
    {
     "data": {
      "text/plain": [
       "(<Array [21.9, 17, 19.1, 30.9, ..., 17.7, 24, 12.9] type='299973 * float32'>,\n",
       " <Array [True, False, False, True, ..., False, True, False] type='299973 * bool'>)"
      ]
     },
     "execution_count": 40,
     "metadata": {},
     "output_type": "execute_result"
    }
   ],
   "source": [
    "events.MET.pt, events.MET.pt > 20"
   ]
  },
  {
   "cell_type": "markdown",
   "id": "a7d64da3-105b-492b-b845-5f6792f87b59",
   "metadata": {},
   "source": [
    "<br>"
   ]
  },
  {
   "cell_type": "code",
   "execution_count": 41,
   "id": "90b15e78-2d2d-493e-b000-99bfbac8a2e5",
   "metadata": {
    "tags": []
   },
   "outputs": [
    {
     "data": {
      "text/plain": [
       "(299973, 163222)"
      ]
     },
     "execution_count": 41,
     "metadata": {},
     "output_type": "execute_result"
    }
   ],
   "source": [
    "len(events), len(events[events.MET.pt > 20])"
   ]
  },
  {
   "cell_type": "markdown",
   "id": "5540b1a3-c45c-48b8-92d9-8469da16abd3",
   "metadata": {
    "slideshow": {
     "slide_type": "fragment"
    },
    "tags": []
   },
   "source": [
    "<br>\n",
    "\n",
    "**Application:** Filtering particles with an array of lists of booleans."
   ]
  },
  {
   "cell_type": "code",
   "execution_count": 42,
   "id": "de479efd-67a9-405a-949b-8bc581911fe5",
   "metadata": {
    "tags": []
   },
   "outputs": [
    {
     "data": {
      "text/plain": [
       "(<Array [[], [21.9, ..., 23.8], ..., [48.1, 38.7]] type='299973 * var * float32'>,\n",
       " <Array [[], [False, ..., False], ..., [True, True]] type='299973 * var * bool'>)"
      ]
     },
     "execution_count": 42,
     "metadata": {},
     "output_type": "execute_result"
    }
   ],
   "source": [
    "events.electron.pt, events.electron.pt > 30"
   ]
  },
  {
   "cell_type": "markdown",
   "id": "e23b75d4-34cb-42e7-aed1-3cee1d7d7011",
   "metadata": {},
   "source": [
    "<br>"
   ]
  },
  {
   "cell_type": "code",
   "execution_count": 43,
   "id": "d57a84d2-7420-47fb-937c-54fbd963a215",
   "metadata": {
    "tags": []
   },
   "outputs": [
    {
     "data": {
      "text/plain": [
       "(<Array [0, 4, 2, 1, 4, 1, 1, 1, ..., 0, 3, 0, 1, 0, 2, 2] type='299973 * int64'>,\n",
       " <Array [0, 2, 0, 0, 1, 0, 0, 0, ..., 0, 2, 0, 0, 0, 0, 2] type='299973 * int64'>)"
      ]
     },
     "execution_count": 43,
     "metadata": {},
     "output_type": "execute_result"
    }
   ],
   "source": [
    "ak.num(events.electron), ak.num(events.electron[events.electron.pt > 30])"
   ]
  },
  {
   "cell_type": "markdown",
   "id": "be848f09-620d-46a0-8b3d-b99ff2cf174b",
   "metadata": {
    "slideshow": {
     "slide_type": "slide"
    },
    "tags": []
   },
   "source": [
    "**Quizlet:** Using the reducer [ak.any](https://awkward-array.org/doc/main/reference/generated/ak.any.html), how would we select _events_ in which any electron has $p_T > 30$ GeV/c$^2$?"
   ]
  },
  {
   "cell_type": "code",
   "execution_count": 44,
   "id": "56994092-b588-43bb-98fa-913b61a001d3",
   "metadata": {
    "tags": []
   },
   "outputs": [
    {
     "data": {
      "text/html": [
       "<pre>[[],\n",
       " [{pt: 42.6, eta: -0.98, phi: -1.86, mass: 0.00867, charge: 1, ...}, ...],\n",
       " [],\n",
       " [],\n",
       " [{pt: 30.7, eta: -0.61, phi: 1.01, mass: 0.0117, charge: -1, ...}],\n",
       " [],\n",
       " [],\n",
       " [],\n",
       " [{pt: 41, eta: -0.216, phi: 2.79, mass: -0.0128, charge: -1, ...}, {...}],\n",
       " [],\n",
       " ...,\n",
       " [],\n",
       " [{pt: 30.2, eta: 1.84, phi: 1.94, mass: -0.00882, charge: 1, ...}],\n",
       " [],\n",
       " [{pt: 37, eta: -2.35, phi: 0.903, mass: -0.0594, charge: 1, ...}, {...}],\n",
       " [],\n",
       " [],\n",
       " [],\n",
       " [],\n",
       " [{pt: 48.1, eta: 0.532, phi: -1.61, mass: 0.0127, charge: -1, ...}, ...]]\n",
       "---------------------------------------------------------------------------\n",
       "type: 299973 * var * Momentum4D[\n",
       "    pt: float32,\n",
       "    eta: float32,\n",
       "    phi: float32,\n",
       "    mass: float32,\n",
       "    charge: int32,\n",
       "    pfRelIso03_all: float32,\n",
       "    dxy: float32,\n",
       "    dxyErr: float32,\n",
       "    dz: float32,\n",
       "    dzErr: float32\n",
       "]</pre>"
      ],
      "text/plain": [
       "<Array [[], ..., [{pt: 48.1, ...}, {...}]] type='299973 * var * Momentum4D[...'>"
      ]
     },
     "execution_count": 44,
     "metadata": {},
     "output_type": "execute_result"
    }
   ],
   "source": [
    "events.electron[events.electron.pt > 30]"
   ]
  },
  {
   "cell_type": "code",
   "execution_count": null,
   "id": "e07cea8c-f45a-4fa5-8f0f-4c50438a2b8e",
   "metadata": {},
   "outputs": [],
   "source": []
  },
  {
   "cell_type": "markdown",
   "id": "fd1c4818-492e-4e06-836b-0eed95c8561b",
   "metadata": {
    "slideshow": {
     "slide_type": "fragment"
    },
    "tags": []
   },
   "source": [
    "**Bonus:** How would you do it with [ak.min](https://awkward-array.org/doc/main/reference/generated/ak.min.html)?"
   ]
  },
  {
   "cell_type": "markdown",
   "id": "30c383eb-4f13-4f71-a1a3-5dd6f966750d",
   "metadata": {
    "slideshow": {
     "slide_type": "slide"
    },
    "tags": []
   },
   "source": [
    "Awkward Array has two combinatorial primitives:"
   ]
  },
  {
   "cell_type": "markdown",
   "id": "e9a0460c-7857-4478-8549-06a4c3c64f3f",
   "metadata": {
    "tags": []
   },
   "source": [
    "<table style=\"width: 50%\">\n",
    "    <tr style=\"background: white\"><td style=\"font-size: 1.75em; font-weight: bold; text-align: center\"><a href=\"https://awkward-array.org/doc/main/reference/generated/ak.cartesian.html\">ak.cartesian</a></td><td style=\"font-size: 1.75em; font-weight: bold; text-align: center\"><a href=\"https://awkward-array.org/doc/main/reference/generated/ak.combinations.html\">ak.combinations</a></td></tr>\n",
    "    <tr style=\"background: white\"><td><img src=\"img/cartoon-cartesian.svg\" width=\"100%\"></td><td><img src=\"img/cartoon-combinations.svg\" width=\"100%\"></td></tr>\n",
    "</table>"
   ]
  },
  {
   "cell_type": "markdown",
   "id": "750d99a1-2982-411b-868f-92561e8a958d",
   "metadata": {},
   "source": [
    "[ak.cartesian](https://awkward-array.org/doc/main/reference/generated/ak.cartesian.html) takes a [Cartesian product](https://en.wikipedia.org/wiki/Cartesian_product) of lists from $N$ different arrays, producing an array of lists of $N$-tuples.\n",
    "\n",
    "[ak.combinations](https://awkward-array.org/doc/main/reference/generated/ak.combinations.html) takes $N$ [samples without replacement](http://prob140.org/sp18/textbook/notebooks-md/5_04_Sampling_Without_Replacement.html) of lists from a single array, producing an array of lists of $N$-tuples."
   ]
  },
  {
   "cell_type": "code",
   "execution_count": 45,
   "id": "ad5ebb21-903a-48e1-9a39-7470899e2707",
   "metadata": {
    "slideshow": {
     "slide_type": "slide"
    },
    "tags": []
   },
   "outputs": [],
   "source": [
    "numbers = ak.Array([[1, 2, 3], [], [4]])\n",
    "letters = ak.Array([[\"a\", \"b\"], [\"c\"], [\"d\", \"e\"]])"
   ]
  },
  {
   "cell_type": "markdown",
   "id": "be2b98f5-0789-4ffb-9de2-9fe9f2f5e4c6",
   "metadata": {},
   "source": [
    "<br>"
   ]
  },
  {
   "cell_type": "code",
   "execution_count": 46,
   "id": "bc34ead4-dac5-443e-b310-b70d5cc3f576",
   "metadata": {
    "tags": []
   },
   "outputs": [
    {
     "data": {
      "text/html": [
       "<pre>[[(1, &#x27;a&#x27;), (1, &#x27;b&#x27;), (2, &#x27;a&#x27;), (2, &#x27;b&#x27;), (3, &#x27;a&#x27;), (3, &#x27;b&#x27;)],\n",
       " [],\n",
       " [(4, &#x27;d&#x27;), (4, &#x27;e&#x27;)]]\n",
       "--------------------------------------------------------------\n",
       "type: 3 * var * (\n",
       "    int64,\n",
       "    string\n",
       ")</pre>"
      ],
      "text/plain": [
       "<Array [[(1, 'a'), (...), ..., (3, 'b')], ...] type='3 * var * (int64, string)'>"
      ]
     },
     "execution_count": 46,
     "metadata": {},
     "output_type": "execute_result"
    }
   ],
   "source": [
    "ak.cartesian([numbers, letters])"
   ]
  },
  {
   "cell_type": "markdown",
   "id": "7f53e5c4-e926-41ee-b238-2c546ebb495c",
   "metadata": {},
   "source": [
    "<br>"
   ]
  },
  {
   "cell_type": "code",
   "execution_count": 47,
   "id": "5acee077-bc03-42b5-b1ff-e7ada2c316fc",
   "metadata": {
    "slideshow": {
     "slide_type": "fragment"
    },
    "tags": []
   },
   "outputs": [],
   "source": [
    "values = ak.Array([[1.1, 2.2, 3.3, 4.4], [], [5.5, 6.6]])"
   ]
  },
  {
   "cell_type": "markdown",
   "id": "ca610acd-931e-4eef-b234-7d09ffafa5e8",
   "metadata": {},
   "source": [
    "<br>"
   ]
  },
  {
   "cell_type": "code",
   "execution_count": 48,
   "id": "f951369c-504c-460a-9b14-88cd4c5f580c",
   "metadata": {
    "tags": []
   },
   "outputs": [
    {
     "data": {
      "text/html": [
       "<pre>[[(1.1, 2.2), (1.1, 3.3), (1.1, 4.4), (2.2, ...), (2.2, 4.4), (3.3, 4.4)],\n",
       " [],\n",
       " [(5.5, 6.6)]]\n",
       "--------------------------------------------------------------------------\n",
       "type: 3 * var * (\n",
       "    float64,\n",
       "    float64\n",
       ")</pre>"
      ],
      "text/plain": [
       "<Array [[(1.1, 2.2), ..., (3.3, ...)], ...] type='3 * var * (float64, float64)'>"
      ]
     },
     "execution_count": 48,
     "metadata": {},
     "output_type": "execute_result"
    }
   ],
   "source": [
    "ak.combinations(values, 2)"
   ]
  },
  {
   "cell_type": "markdown",
   "id": "eaf6f185-59d6-4fd9-a6e1-0e5c8da05eec",
   "metadata": {
    "slideshow": {
     "slide_type": "slide"
    },
    "tags": []
   },
   "source": [
    "Often, it's useful to separate the separate the left-hand sides and right-hand sides of these pairs with [ak.unzip](https://awkward-array.org/doc/main/reference/generated/ak.unzip.html), so they can be used in mathematical expressions.\n",
    "\n",
    "<br>"
   ]
  },
  {
   "cell_type": "code",
   "execution_count": 49,
   "id": "3af21260-9664-4273-9366-b180248a4d52",
   "metadata": {
    "tags": []
   },
   "outputs": [],
   "source": [
    "electron_muon_pairs = ak.cartesian([events.electron, events.muon])\n",
    "# electron_muon_pairs.type.show()"
   ]
  },
  {
   "cell_type": "markdown",
   "id": "538d443d-189c-4ddc-a6c1-76252ce69028",
   "metadata": {},
   "source": [
    "<br>"
   ]
  },
  {
   "cell_type": "code",
   "execution_count": 50,
   "id": "64aec3d8-6f83-4ad1-94e8-baecdf1cd00a",
   "metadata": {
    "tags": []
   },
   "outputs": [],
   "source": [
    "electron_in_pair, muon_in_pair = ak.unzip(electron_muon_pairs)\n",
    "# electron_in_pair.type.show()"
   ]
  },
  {
   "cell_type": "markdown",
   "id": "6c03762b-2d91-44ab-814a-84917cb55d2f",
   "metadata": {},
   "source": [
    "<br>"
   ]
  },
  {
   "cell_type": "code",
   "execution_count": 51,
   "id": "17f939bd-c112-4313-9760-edb3a3f473c1",
   "metadata": {
    "slideshow": {
     "slide_type": "fragment"
    },
    "tags": []
   },
   "outputs": [
    {
     "data": {
      "text/plain": [
       "(<Array [[], [], [], [10.4, ...], ..., [], [], []] type='299973 * var * float32'>,\n",
       " <Array [[], [], [], [54.3, ...], ..., [], [], []] type='299973 * var * float32'>)"
      ]
     },
     "execution_count": 51,
     "metadata": {},
     "output_type": "execute_result"
    }
   ],
   "source": [
    "electron_in_pair.pt, muon_in_pair.pt"
   ]
  },
  {
   "cell_type": "markdown",
   "id": "6c881058-c738-4df3-b08a-18b9a59d2390",
   "metadata": {},
   "source": [
    "<br>"
   ]
  },
  {
   "cell_type": "code",
   "execution_count": 52,
   "id": "663f0f1a-685b-498d-ba2a-bbd90aaf1142",
   "metadata": {
    "slideshow": {
     "slide_type": "fragment"
    },
    "tags": []
   },
   "outputs": [
    {
     "data": {
      "text/plain": [
       "(<Array [0, 0, 0, 7, 0, 2, 1, 0, ..., 0, 0, 0, 2, 0, 0, 0] type='299973 * int64'>,\n",
       " <Array [0, 0, 0, 7, 0, 2, 1, 0, ..., 0, 0, 0, 2, 0, 0, 0] type='299973 * int64'>)"
      ]
     },
     "execution_count": 52,
     "metadata": {},
     "output_type": "execute_result"
    }
   ],
   "source": [
    "ak.num(electron_in_pair), ak.num(muon_in_pair)"
   ]
  },
  {
   "cell_type": "markdown",
   "id": "fa9b7961-984b-4330-9359-31b80b6173e7",
   "metadata": {
    "slideshow": {
     "slide_type": "slide"
    },
    "tags": []
   },
   "source": [
    "The Vector library [can be applied to Awkward Arrays](https://vector.readthedocs.io/en/latest/usage/intro.html#Awkward-Arrays-of-vectors), and the easiest way to do that is by calling `register_awkward` after importing it.\n",
    "\n",
    "<br>"
   ]
  },
  {
   "cell_type": "code",
   "execution_count": 53,
   "id": "b51b4149-09da-4f1c-b412-8c3d7399fea0",
   "metadata": {
    "tags": []
   },
   "outputs": [],
   "source": [
    "import vector\n",
    "vector.register_awkward()"
   ]
  },
  {
   "cell_type": "markdown",
   "id": "f8729873-26e4-4fd8-907c-2e0a1b971b9b",
   "metadata": {},
   "source": [
    "<br>\n",
    "\n",
    "Now all Awkward data structures named \"`Momentum4D`\" can compute `px`, `py`, `pz`, etc. from `pt`, `phi`, `eta`, etc."
   ]
  },
  {
   "cell_type": "code",
   "execution_count": 54,
   "id": "1510a0b1-6af7-4b9e-8c52-a46b797f5771",
   "metadata": {
    "tags": []
   },
   "outputs": [
    {
     "data": {
      "text/plain": [
       "(<Array [[], [21.7, ...], ..., [-1.77, 21.8]] type='299973 * var * float32'>,\n",
       " <Array [[], [2.93, ..., -13.9], ..., [-48, 32]] type='299973 * var * float32'>,\n",
       " <Array [[], [-16.7, ..., -43.5], ..., [26.8, 74]] type='299973 * var * float32'>)"
      ]
     },
     "execution_count": 54,
     "metadata": {},
     "output_type": "execute_result"
    }
   ],
   "source": [
    "events.electron.px, events.electron.py, events.electron.pz"
   ]
  },
  {
   "cell_type": "markdown",
   "id": "07cb0c32-08d9-41d4-965e-c9b6bab2fc78",
   "metadata": {
    "slideshow": {
     "slide_type": "slide"
    },
    "tags": []
   },
   "source": [
    "Other useful functions, like $\\Delta R = \\sqrt{\\Delta\\phi^2 + \\Delta\\eta^2}$, can be applied to combinations of particles."
   ]
  },
  {
   "cell_type": "code",
   "execution_count": 55,
   "id": "823f9955-e376-412e-94ba-6eb07bbd2c6e",
   "metadata": {
    "tags": []
   },
   "outputs": [],
   "source": [
    "electron_in_pair, muon_in_pair = ak.unzip(ak.cartesian([events.electron, events.muon]))"
   ]
  },
  {
   "cell_type": "markdown",
   "id": "3e9dd29b-57c9-4ca9-8f9b-992304deb25a",
   "metadata": {},
   "source": [
    "<br>"
   ]
  },
  {
   "cell_type": "code",
   "execution_count": 56,
   "id": "285f7f5f-8a94-4d5d-b273-35e1dd2bb24a",
   "metadata": {
    "tags": []
   },
   "outputs": [
    {
     "data": {
      "text/html": [
       "<pre>[[],\n",
       " [],\n",
       " [],\n",
       " [1.07, 0.405, 1.97, 2.78, 1.01, 0.906, 2.79],\n",
       " [],\n",
       " [2.55, 0.8],\n",
       " [2.63],\n",
       " [],\n",
       " [],\n",
       " [],\n",
       " ...,\n",
       " [0.44, 3.16, 3.01, 1.05],\n",
       " [3.06, 1.52],\n",
       " [],\n",
       " [],\n",
       " [],\n",
       " [2.54, 0.912],\n",
       " [],\n",
       " [],\n",
       " []]\n",
       "----------------------------------------------\n",
       "type: 299973 * var * float32</pre>"
      ],
      "text/plain": [
       "<Array [[], [], [], [1.07, ...], ..., [], [], []] type='299973 * var * float32'>"
      ]
     },
     "execution_count": 56,
     "metadata": {},
     "output_type": "execute_result"
    }
   ],
   "source": [
    "electron_in_pair.deltaR(muon_in_pair)"
   ]
  },
  {
   "cell_type": "code",
   "execution_count": 57,
   "id": "88ab29c7-6dd9-4b9e-a98c-da9e6d2790c2",
   "metadata": {
    "slideshow": {
     "slide_type": "slide"
    },
    "tags": []
   },
   "outputs": [],
   "source": [
    "first_electron_in_pair, second_electron_in_pair = ak.unzip(ak.combinations(events.electron, 2))"
   ]
  },
  {
   "cell_type": "markdown",
   "id": "6bae19fe-6506-4d68-b8fd-8a14539fdcdb",
   "metadata": {},
   "source": [
    "<br>"
   ]
  },
  {
   "cell_type": "code",
   "execution_count": 58,
   "id": "5998a553-9593-497a-8dfd-58f108509f9b",
   "metadata": {
    "tags": []
   },
   "outputs": [
    {
     "data": {
      "text/html": [
       "<pre>[[],\n",
       " [2.02, 2.35, 1, 0.347, 1.3, 1.64],\n",
       " [2.96],\n",
       " [],\n",
       " [3.31, 1.23, 2.39, 3.8, 3.19, 2.61],\n",
       " [],\n",
       " [],\n",
       " [],\n",
       " [1.18, 2.05, 2.98, 2.26, 2.59, 1.9],\n",
       " [],\n",
       " ...,\n",
       " [2.87],\n",
       " [],\n",
       " [],\n",
       " [2.05, 2.92, 3.02],\n",
       " [],\n",
       " [],\n",
       " [],\n",
       " [2.96],\n",
       " [2.72]]\n",
       "-------------------------------------\n",
       "type: 299973 * var * float32</pre>"
      ],
      "text/plain": [
       "<Array [[], [2.02, 2.35, ..., 1.64], ..., [2.72]] type='299973 * var * float32'>"
      ]
     },
     "execution_count": 58,
     "metadata": {},
     "output_type": "execute_result"
    }
   ],
   "source": [
    "first_electron_in_pair.deltaR(second_electron_in_pair)"
   ]
  },
  {
   "cell_type": "markdown",
   "id": "8e6fa96d-cea4-4a0e-bb50-0f47ff33f417",
   "metadata": {
    "slideshow": {
     "slide_type": "slide"
    },
    "tags": []
   },
   "source": [
    "<br>\n",
    "\n",
    "**Quizlet:** What's this?"
   ]
  },
  {
   "cell_type": "code",
   "execution_count": 59,
   "id": "6e7854fe-18ae-4fd5-a69c-fcb57d5b5818",
   "metadata": {
    "tags": []
   },
   "outputs": [
    {
     "data": {
      "text/html": [
       "<pre>[[],\n",
       " [52.1, 76.8, 22.8, 19.9, 39.1, 64.2],\n",
       " [36],\n",
       " [],\n",
       " [87.3, 18.1, 28.5, 63.9, 56.5, 12.2],\n",
       " [],\n",
       " [],\n",
       " [],\n",
       " [19.8, 44.7, 92.2, 16.7, 38.7, 46.9],\n",
       " [],\n",
       " ...,\n",
       " [27.3],\n",
       " [],\n",
       " [],\n",
       " [39.2, 107, 38.4],\n",
       " [],\n",
       " [],\n",
       " [],\n",
       " [40.6],\n",
       " [91.5]]\n",
       "--------------------------------------\n",
       "type: 299973 * var * float32</pre>"
      ],
      "text/plain": [
       "<Array [[], [52.1, 76.8, ..., 64.2], ..., [91.5]] type='299973 * var * float32'>"
      ]
     },
     "execution_count": 59,
     "metadata": {},
     "output_type": "execute_result"
    }
   ],
   "source": [
    "(first_electron_in_pair + second_electron_in_pair).mass"
   ]
  },
  {
   "cell_type": "markdown",
   "id": "b0feed59-fe9d-4676-a8ce-60985d66ad95",
   "metadata": {
    "slideshow": {
     "slide_type": "slide"
    },
    "tags": []
   },
   "source": [
    "The next exercise contains solutions because it's not an easy problem, especially if you're new to array programming on structures.\n",
    "\n",
    "<br>\n",
    "\n",
    "Go to [solved-exercise-3.ipynb](solved-exercise-3.ipynb) now."
   ]
  }
 ],
 "metadata": {
  "kernelspec": {
   "display_name": "Python 3 (ipykernel)",
   "language": "python",
   "name": "python3"
  },
  "language_info": {
   "codemirror_mode": {
    "name": "ipython",
    "version": 3
   },
   "file_extension": ".py",
   "mimetype": "text/x-python",
   "name": "python",
   "nbconvert_exporter": "python",
   "pygments_lexer": "ipython3",
   "version": "3.10.8"
  }
 },
 "nbformat": 4,
 "nbformat_minor": 5
}
