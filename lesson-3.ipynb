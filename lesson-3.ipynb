{
 "cells": [
  {
   "cell_type": "markdown",
   "id": "0b2dbda1-1a8d-445c-b450-7156ad029b79",
   "metadata": {
    "slideshow": {
     "slide_type": "slide"
    },
    "tags": []
   },
   "source": [
    "# Lesson 3: Array-oriented programming"
   ]
  },
  {
   "cell_type": "markdown",
   "id": "bfca2ab1-f3ab-41b0-b392-7da1abf01b69",
   "metadata": {
    "slideshow": {
     "slide_type": "slide"
    },
    "tags": []
   },
   "source": [
    "Our analysis of Higgs data with NumPy arrays didn't use may `if` or `for` statements at all.\n",
    "\n",
    "<br>"
   ]
  },
  {
   "cell_type": "markdown",
   "id": "dfe863b0-603a-4d4b-8dd7-d9842a22dfd0",
   "metadata": {
    "slideshow": {
     "slide_type": "fragment"
    },
    "tags": []
   },
   "source": [
    "The general pattern consists of a single Python extension call that operates on many data values (_similar to_ \"SIMD\": Single Instruction, Multiple Data).\n",
    "\n",
    "<br>"
   ]
  },
  {
   "cell_type": "markdown",
   "id": "e95ea70f-5e85-447c-8644-2b074d8c0e92",
   "metadata": {
    "slideshow": {
     "slide_type": "fragment"
    },
    "tags": []
   },
   "source": [
    "This pattern can be called a programming language paradigm, contrasted with \"imperative,\" \"functional,\" \"object-oriented,\" etc."
   ]
  },
  {
   "cell_type": "code",
   "execution_count": 1,
   "id": "e56f2ae8-7e6f-4c7c-8e0a-c44d0a6c8596",
   "metadata": {
    "slideshow": {
     "slide_type": "slide"
    },
    "tags": []
   },
   "outputs": [],
   "source": [
    "import numpy as np"
   ]
  },
  {
   "cell_type": "markdown",
   "id": "03e8fc51-dea1-442a-a502-9726b06c6638",
   "metadata": {
    "tags": []
   },
   "source": [
    "<br>\n",
    "\n",
    "**Imperative programming:**"
   ]
  },
  {
   "cell_type": "code",
   "execution_count": 2,
   "id": "290cc0e8-e884-4658-b352-60ac315ef696",
   "metadata": {
    "tags": []
   },
   "outputs": [
    {
     "data": {
      "text/plain": [
       "array([ 1,  4,  9, 16, 25, 36, 49, 64, 81])"
      ]
     },
     "execution_count": 2,
     "metadata": {},
     "output_type": "execute_result"
    }
   ],
   "source": [
    "input_data = np.array([1, 2, 3, 4, 5, 6, 7, 8, 9])\n",
    "output_data = np.array([0, 0, 0, 0, 0, 0, 0, 0, 0])\n",
    "for i in range(len(input_data)):                                  # you say what happens to each element\n",
    "    output_data[i] = input_data[i]**2                             # in an exactly specified order (for loop)\n",
    "output_data"
   ]
  },
  {
   "cell_type": "markdown",
   "id": "9d00fc83-5890-402f-bea2-c4b4356c0021",
   "metadata": {
    "slideshow": {
     "slide_type": "fragment"
    },
    "tags": []
   },
   "source": [
    "<br>\n",
    "\n",
    "**Functional programming:**"
   ]
  },
  {
   "cell_type": "code",
   "execution_count": 3,
   "id": "6dcc52e7-85b7-494b-892c-b11a78f991c6",
   "metadata": {
    "tags": []
   },
   "outputs": [
    {
     "data": {
      "text/plain": [
       "array([ 1,  4,  9, 16, 25, 36, 49, 64, 81])"
      ]
     },
     "execution_count": 3,
     "metadata": {},
     "output_type": "execute_result"
    }
   ],
   "source": [
    "input_data = np.array([1, 2, 3, 4, 5, 6, 7, 8, 9])\n",
    "output_data = np.fromiter(map(lambda x: x**2, input_data), int)   # you provide a function to be applied to\n",
    "output_data                                                       # each element; may run in any order"
   ]
  },
  {
   "cell_type": "markdown",
   "id": "4b16b8a0-357a-4f61-9b45-016540762820",
   "metadata": {
    "slideshow": {
     "slide_type": "fragment"
    },
    "tags": []
   },
   "source": [
    "<br>\n",
    "\n",
    "**Array-oriented programming:**"
   ]
  },
  {
   "cell_type": "code",
   "execution_count": 4,
   "id": "8c4e911d-9151-4360-9a37-45e0826b3362",
   "metadata": {
    "tags": []
   },
   "outputs": [
    {
     "data": {
      "text/plain": [
       "array([ 1,  4,  9, 16, 25, 36, 49, 64, 81])"
      ]
     },
     "execution_count": 4,
     "metadata": {},
     "output_type": "execute_result"
    }
   ],
   "source": [
    "input_data = np.array([1, 2, 3, 4, 5, 6, 7, 8, 9])\n",
    "output_data = input_data**2                                       # implicit indexes, no reference to individual\n",
    "output_data                                                       # elements; function is hard-coded in C"
   ]
  },
  {
   "cell_type": "markdown",
   "id": "97b9ab20-a7d5-4b3a-8509-3912a17a8a84",
   "metadata": {
    "slideshow": {
     "slide_type": "slide"
    },
    "tags": []
   },
   "source": [
    "Most array-oriented programming languages have been interactive, intended for data analysis or simulation.\n",
    "\n",
    "(This is a list of _all_ array-oriented languages that I know about.)\n",
    "\n",
    "<br>"
   ]
  },
  {
   "cell_type": "markdown",
   "id": "a967ecee-a454-410b-ad3e-9cb890c8d72a",
   "metadata": {},
   "source": [
    "<center>\n",
    "<img src=\"img/apl-timeline.svg\" width=\"75%\">\n",
    "</center>"
   ]
  },
  {
   "cell_type": "markdown",
   "id": "27dcc4e7-7c64-48a5-9d0e-31bd505cfe83",
   "metadata": {
    "slideshow": {
     "slide_type": "slide"
    },
    "tags": []
   },
   "source": [
    "They have also tended to be concise (for quick typing, reduced screen clutter).\n",
    "\n",
    "<br>\n",
    "\n",
    "The original, APL, was way too concise! (Needed a special keyboard for all the math symbols.)\n",
    "\n",
    "<br>\n",
    "\n",
    "<center>\n",
    "<div style=\"display: inline-block\">\n",
    "\n",
    "| APL | <br> | Numpy |\n",
    "|:---:|:----:|:-----:|\n",
    "| <tt>ι4</tt> | <br> | <tt>np.arange(4)</tt> |\n",
    "| <tt>(3+ι4)</tt> | <br> | <tt>np.arange(4) + 3</tt> |\n",
    "| <tt>+/(3+ι4)</tt> | <br> | <tt>(np.arange(4) + 3).sum()</tt> |\n",
    "| <tt>m ← +/(3+ι4)</tt> | <br> | <tt>m = (np.arange(4) + 3).sum()</tt> |\n",
    "\n",
    "</div>\n",
    "\n",
    "<img src=\"img/apl-keyboard.jpg\" width=\"25%\" style=\"display: inline-block; margin-left: 10%\">\n",
    "\n",
    "</center>"
   ]
  },
  {
   "cell_type": "markdown",
   "id": "0c056493-cbf1-4643-91c1-22a7f9e42d2c",
   "metadata": {
    "slideshow": {
     "slide_type": "slide"
    },
    "tags": []
   },
   "source": [
    "Development/debuggin interaction pattern in oridinary programming: step through instructions on each _value_ in a debugger (breakpoints, etc.)\n",
    "\n",
    "<br>\n",
    "\n",
    "Data analysis interaction pattern: stop after key _operations_ and look at _distributions_ of all values."
   ]
  },
  {
   "cell_type": "markdown",
   "id": "3899e265-ccbc-4569-9b3b-b56d03213a0f",
   "metadata": {
    "slideshow": {
     "slide_type": "fragment"
    },
    "tags": []
   },
   "source": [
    "<br>\n",
    "\n",
    "Example: suppose you have a million data points."
   ]
  },
  {
   "cell_type": "code",
   "execution_count": 5,
   "id": "7df98470-1a1c-4bcb-b915-73085635a9d5",
   "metadata": {
    "tags": []
   },
   "outputs": [],
   "source": [
    "import matplotlib.pyplot as plt"
   ]
  },
  {
   "cell_type": "markdown",
   "id": "4a8cd2b1-1bbd-418e-b4ad-9f29be60a190",
   "metadata": {},
   "source": [
    "<br>"
   ]
  },
  {
   "cell_type": "code",
   "execution_count": 6,
   "id": "b4ce0b4e-5ab9-4e52-861c-d75b66aa912f",
   "metadata": {
    "tags": []
   },
   "outputs": [
    {
     "data": {
      "text/plain": [
       "array([ 0.91514266,  0.92395022,  0.59067835, ..., -0.38605771,\n",
       "        0.77751723,  0.14181228])"
      ]
     },
     "execution_count": 6,
     "metadata": {},
     "output_type": "execute_result"
    }
   ],
   "source": [
    "dataset = np.random.normal(0, 1, 1000000)\n",
    "dataset"
   ]
  },
  {
   "cell_type": "markdown",
   "id": "5d9a45d8-8d5d-4792-b4e6-3b550a544032",
   "metadata": {
    "slideshow": {
     "slide_type": "fragment"
    },
    "tags": []
   },
   "source": [
    "<br>\n",
    "\n",
    "(Seeing 6 numerical values doesn't tell us about the other 999994.)"
   ]
  },
  {
   "cell_type": "markdown",
   "id": "21ea6a42-f822-4199-83c8-5d348292f44e",
   "metadata": {
    "slideshow": {
     "slide_type": "slide"
    },
    "tags": []
   },
   "source": [
    "\"What does the distribution look like?\"\n",
    "\n",
    "<br>"
   ]
  },
  {
   "cell_type": "code",
   "execution_count": 7,
   "id": "a15819b0-72ad-4a23-bc2c-a7fe1a86dc01",
   "metadata": {
    "tags": []
   },
   "outputs": [
    {
     "data": {
      "image/png": "[encoded data removed]",
      "text/plain": [
       "<Figure size 640x480 with 1 Axes>"
      ]
     },
     "metadata": {},
     "output_type": "display_data"
    }
   ],
   "source": [
    "plt.hist(dataset, bins=100);"
   ]
  },
  {
   "cell_type": "markdown",
   "id": "05445129-8ffc-4e03-88b4-ccdb1a420155",
   "metadata": {
    "slideshow": {
     "slide_type": "fragment"
    },
    "tags": []
   },
   "source": [
    "<br>\n",
    "\n",
    "Of course, it's Gaussian/normal-distributed. (That's what we had asked for with `np.random.normal`.)"
   ]
  },
  {
   "cell_type": "markdown",
   "id": "6e1c928a-ab49-4883-86de-75419439f305",
   "metadata": {
    "slideshow": {
     "slide_type": "slide"
    },
    "tags": []
   },
   "source": [
    "\"What does its square look like?\""
   ]
  },
  {
   "cell_type": "code",
   "execution_count": 8,
   "id": "c8777421-f435-40ca-be55-c64fbf33f22d",
   "metadata": {
    "tags": []
   },
   "outputs": [],
   "source": [
    "dataset2 = dataset**2"
   ]
  },
  {
   "cell_type": "markdown",
   "id": "e0af9a80-ff4e-4945-a68a-535707b06feb",
   "metadata": {},
   "source": [
    "<br>"
   ]
  },
  {
   "cell_type": "code",
   "execution_count": 9,
   "id": "b6b7462b-fa23-4ad6-8cb4-c3e60b120a31",
   "metadata": {
    "tags": []
   },
   "outputs": [
    {
     "data": {
      "image/png": "[encoded data removed]",
      "text/plain": [
       "<Figure size 640x480 with 1 Axes>"
      ]
     },
     "metadata": {},
     "output_type": "display_data"
    }
   ],
   "source": [
    "plt.hist(dataset2, bins=100);"
   ]
  },
  {
   "cell_type": "markdown",
   "id": "a2f0dbf8-e743-4a65-9b6a-e5c2be4c05fc",
   "metadata": {
    "slideshow": {
     "slide_type": "fragment"
    },
    "tags": []
   },
   "source": [
    "<br>\n",
    "\n",
    "\"Of course. It's always positive, peaks at 0, and falls off to 9, rather than 3.\""
   ]
  },
  {
   "cell_type": "markdown",
   "id": "b818351a-2182-4b95-8c86-0a23d5493ef2",
   "metadata": {
    "slideshow": {
     "slide_type": "slide"
    },
    "tags": []
   },
   "source": [
    "\"What does this crazy combination look like?\""
   ]
  },
  {
   "cell_type": "code",
   "execution_count": 10,
   "id": "14579bc5-71b4-462d-b4ea-b7d2f3453a7f",
   "metadata": {
    "tags": []
   },
   "outputs": [],
   "source": [
    "dataset3 = np.sin(1/dataset2)"
   ]
  },
  {
   "cell_type": "markdown",
   "id": "771816ec-2f2b-4d6f-a337-c85cc6e838a8",
   "metadata": {},
   "source": [
    "<br>"
   ]
  },
  {
   "cell_type": "code",
   "execution_count": 11,
   "id": "bf45f5ff-2172-404f-9b73-feb79895b6cf",
   "metadata": {
    "tags": []
   },
   "outputs": [
    {
     "data": {
      "image/png": "[encoded data removed]",
      "text/plain": [
       "<Figure size 640x480 with 1 Axes>"
      ]
     },
     "metadata": {},
     "output_type": "display_data"
    }
   ],
   "source": [
    "plt.hist(dataset3, bins=100);"
   ]
  },
  {
   "cell_type": "markdown",
   "id": "2c4d8829-6833-4ea5-af58-d24e0e8ad535",
   "metadata": {
    "slideshow": {
     "slide_type": "fragment"
    },
    "tags": []
   },
   "source": [
    "<br>\n",
    "\n",
    "I couldn't have guessed that shape: having the computer do it revealed something non-trivial."
   ]
  },
  {
   "cell_type": "markdown",
   "id": "8f1c872f-a453-43fa-af49-2759e4e3df0b",
   "metadata": {
    "slideshow": {
     "slide_type": "slide"
    },
    "tags": []
   },
   "source": [
    "History of paradigm-related words in CHEP titles & abstracts (Computing in HEP conferences from 1985 through present).\n",
    "\n",
    "\"Arrays\" (originally, Fortran arrays) are making a comeback.\n",
    "\n",
    "<br>"
   ]
  },
  {
   "cell_type": "markdown",
   "id": "bdee882c-d47c-4710-984e-d417e51876d2",
   "metadata": {},
   "source": [
    "<center>\n",
    "<img src=\"img/chep-papers-paradigm.svg\" width=\"75%\">\n",
    "</center>"
   ]
  }
 ],
 "metadata": {
  "kernelspec": {
   "display_name": "Python 3 (ipykernel)",
   "language": "python",
   "name": "python3"
  },
  "language_info": {
   "codemirror_mode": {
    "name": "ipython",
    "version": 3
   },
   "file_extension": ".py",
   "mimetype": "text/x-python",
   "name": "python",
   "nbconvert_exporter": "python",
   "pygments_lexer": "ipython3",
   "version": "3.9.15"
  }
 },
 "nbformat": 4,
 "nbformat_minor": 5
}
